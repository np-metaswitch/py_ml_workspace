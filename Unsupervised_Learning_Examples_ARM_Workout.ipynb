{
 "cells": [
  {
   "cell_type": "code",
   "execution_count": 2,
   "id": "0382df00",
   "metadata": {},
   "outputs": [],
   "source": [
    "import pandas as pd\n",
    "from sklearn.cluster import KMeans\n",
    "import matplotlib.pyplot as plt\n",
    "from tabulate import tabulate"
   ]
  },
  {
   "cell_type": "code",
   "execution_count": 3,
   "id": "37adeed3",
   "metadata": {},
   "outputs": [],
   "source": [
    "from mlxtend.preprocessing import TransactionEncoder\n",
    "from mlxtend.frequent_patterns import apriori, association_rules"
   ]
  },
  {
   "cell_type": "code",
   "execution_count": 4,
   "id": "c8a28078",
   "metadata": {},
   "outputs": [],
   "source": [
    "transactions = [\n",
    "    ['bread', 'milk', 'eggs'],\n",
    "    ['bread', 'butter', 'jam'],\n",
    "    ['milk', 'butter', 'bread', 'jam'],\n",
    "    ['bread', 'milk'],\n",
    "    ['eggs', 'butter']\n",
    "]"
   ]
  },
  {
   "cell_type": "code",
   "execution_count": 5,
   "id": "afc1c7e5",
   "metadata": {},
   "outputs": [
    {
     "name": "stdout",
     "output_type": "stream",
     "text": [
      "+----+---------+----------+--------+-------+--------+\n",
      "|    |   bread |   butter |   eggs |   jam |   milk |\n",
      "|----+---------+----------+--------+-------+--------|\n",
      "|  0 |       1 |        0 |      1 |     0 |      1 |\n",
      "|  1 |       1 |        1 |      0 |     1 |      0 |\n",
      "|  2 |       1 |        1 |      0 |     1 |      1 |\n",
      "|  3 |       1 |        0 |      0 |     0 |      1 |\n",
      "|  4 |       0 |        1 |      1 |     0 |      0 |\n",
      "+----+---------+----------+--------+-------+--------+\n"
     ]
    }
   ],
   "source": [
    "# Convert the transaction data into a one-hot encoded format\n",
    "te = TransactionEncoder()\n",
    "te_ary = te.fit(transactions).transform(transactions)\n",
    "df = pd.DataFrame(te_ary, columns=te.columns_)\n",
    "# Display the DataFrame\n",
    "\n",
    "print(tabulate(df, headers='keys', tablefmt='psql'))"
   ]
  },
  {
   "cell_type": "code",
   "execution_count": 6,
   "id": "11234661",
   "metadata": {},
   "outputs": [
    {
     "name": "stdout",
     "output_type": "stream",
     "text": [
      "count_bread_milk:3\n",
      "total_transactions:5\n",
      "Support for bread and milk: 0.60\n"
     ]
    }
   ],
   "source": [
    "#Support: The algorithm works based on the concept of support. \n",
    "#Support is a measure of how frequently an itemset (a combination of items) appears in the dataset.\n",
    "\n",
    "#Frequent Itemsets: Apriori identifies frequent itemsets, which are sets of items that \n",
    "#have support greater than a specified minimum support threshold.\n",
    "\n",
    "\n",
    "#Calculate Support:\n",
    "\n",
    "#Count the occurrences of each candidate itemset in the dataset.\n",
    "#Discard itemsets with support below the minimum threshold.\n",
    "\n",
    "#Support formula\n",
    "#\n",
    "#Support(X) = No.of transactions containing X / Total no.of transactions.\n",
    "#\n",
    "\n",
    "# Count occurrences of itemset {bread, milk}\n",
    "count_bread_milk = sum(['bread' in transaction and 'milk' in transaction for transaction in transactions])\n",
    "\n",
    "print('count_bread_milk:' + str(count_bread_milk))\n",
    "\n",
    "# Total number of transactions\n",
    "total_transactions = len(transactions)\n",
    "\n",
    "print('total_transactions:'+str(total_transactions))\n",
    "\n",
    "\n",
    "# Calculate support for itemset {bread, milk}\n",
    "support_bread_milk = count_bread_milk / total_transactions\n",
    "\n",
    "print(\"Support for bread and milk: {:.2f}\".format(support_bread_milk))\n",
    "\n",
    "\n"
   ]
  },
  {
   "cell_type": "code",
   "execution_count": 7,
   "id": "3d6a77dc",
   "metadata": {},
   "outputs": [
    {
     "name": "stdout",
     "output_type": "stream",
     "text": [
      "Frequent Itemsets:\n",
      "+----+-----------+-----------------------------------------------+\n",
      "|    |   support | itemsets                                      |\n",
      "|----+-----------+-----------------------------------------------|\n",
      "|  0 |       0.8 | frozenset({'bread'})                          |\n",
      "|  1 |       0.6 | frozenset({'butter'})                         |\n",
      "|  2 |       0.4 | frozenset({'eggs'})                           |\n",
      "|  3 |       0.4 | frozenset({'jam'})                            |\n",
      "|  4 |       0.6 | frozenset({'milk'})                           |\n",
      "|  5 |       0.4 | frozenset({'butter', 'bread'})                |\n",
      "|  6 |       0.2 | frozenset({'eggs', 'bread'})                  |\n",
      "|  7 |       0.4 | frozenset({'bread', 'jam'})                   |\n",
      "|  8 |       0.6 | frozenset({'milk', 'bread'})                  |\n",
      "|  9 |       0.2 | frozenset({'butter', 'eggs'})                 |\n",
      "| 10 |       0.4 | frozenset({'butter', 'jam'})                  |\n",
      "| 11 |       0.2 | frozenset({'butter', 'milk'})                 |\n",
      "| 12 |       0.2 | frozenset({'eggs', 'milk'})                   |\n",
      "| 13 |       0.2 | frozenset({'milk', 'jam'})                    |\n",
      "| 14 |       0.4 | frozenset({'butter', 'bread', 'jam'})         |\n",
      "| 15 |       0.2 | frozenset({'butter', 'milk', 'bread'})        |\n",
      "| 16 |       0.2 | frozenset({'eggs', 'milk', 'bread'})          |\n",
      "| 17 |       0.2 | frozenset({'milk', 'bread', 'jam'})           |\n",
      "| 18 |       0.2 | frozenset({'butter', 'milk', 'jam'})          |\n",
      "| 19 |       0.2 | frozenset({'butter', 'milk', 'bread', 'jam'}) |\n",
      "+----+-----------+-----------------------------------------------+\n"
     ]
    }
   ],
   "source": [
    "# Apply Apriori algorithm to find frequent itemsets\n",
    "\n",
    "frequent_itemsets = apriori(df, min_support=0.2, use_colnames=True)\n",
    "# Display the discovered association rules\n",
    "print(\"Frequent Itemsets:\")\n",
    "print(tabulate(frequent_itemsets, headers='keys', tablefmt='psql'))"
   ]
  },
  {
   "cell_type": "code",
   "execution_count": 8,
   "id": "8fee47c2",
   "metadata": {},
   "outputs": [
    {
     "name": "stdout",
     "output_type": "stream",
     "text": [
      "\n",
      "Association Rules:\n",
      "+----+----------------------------------------+----------------------------------------+----------------------+----------------------+-----------+--------------+----------+------------+--------------+-----------------+\n",
      "|    | antecedents                            | consequents                            |   antecedent support |   consequent support |   support |   confidence |     lift |   leverage |   conviction |   zhangs_metric |\n",
      "|----+----------------------------------------+----------------------------------------+----------------------+----------------------+-----------+--------------+----------+------------+--------------+-----------------|\n",
      "|  0 | frozenset({'butter'})                  | frozenset({'bread'})                   |                  0.6 |                  0.8 |       0.4 |     0.666667 | 0.833333 |      -0.08 |      0.6     |       -0.333333 |\n",
      "|  1 | frozenset({'bread'})                   | frozenset({'butter'})                  |                  0.8 |                  0.6 |       0.4 |     0.5      | 0.833333 |      -0.08 |      0.8     |       -0.5      |\n",
      "|  2 | frozenset({'eggs'})                    | frozenset({'bread'})                   |                  0.4 |                  0.8 |       0.2 |     0.5      | 0.625    |      -0.12 |      0.4     |       -0.5      |\n",
      "|  3 | frozenset({'bread'})                   | frozenset({'eggs'})                    |                  0.8 |                  0.4 |       0.2 |     0.25     | 0.625    |      -0.12 |      0.8     |       -0.75     |\n",
      "|  4 | frozenset({'bread'})                   | frozenset({'jam'})                     |                  0.8 |                  0.4 |       0.4 |     0.5      | 1.25     |       0.08 |      1.2     |        1        |\n",
      "|  5 | frozenset({'jam'})                     | frozenset({'bread'})                   |                  0.4 |                  0.8 |       0.4 |     1        | 1.25     |       0.08 |    inf       |        0.333333 |\n",
      "|  6 | frozenset({'milk'})                    | frozenset({'bread'})                   |                  0.6 |                  0.8 |       0.6 |     1        | 1.25     |       0.12 |    inf       |        0.5      |\n",
      "|  7 | frozenset({'bread'})                   | frozenset({'milk'})                    |                  0.8 |                  0.6 |       0.6 |     0.75     | 1.25     |       0.12 |      1.6     |        1        |\n",
      "|  8 | frozenset({'butter'})                  | frozenset({'eggs'})                    |                  0.6 |                  0.4 |       0.2 |     0.333333 | 0.833333 |      -0.04 |      0.9     |       -0.333333 |\n",
      "|  9 | frozenset({'eggs'})                    | frozenset({'butter'})                  |                  0.4 |                  0.6 |       0.2 |     0.5      | 0.833333 |      -0.04 |      0.8     |       -0.25     |\n",
      "| 10 | frozenset({'butter'})                  | frozenset({'jam'})                     |                  0.6 |                  0.4 |       0.4 |     0.666667 | 1.66667  |       0.16 |      1.8     |        1        |\n",
      "| 11 | frozenset({'jam'})                     | frozenset({'butter'})                  |                  0.4 |                  0.6 |       0.4 |     1        | 1.66667  |       0.16 |    inf       |        0.666667 |\n",
      "| 12 | frozenset({'butter'})                  | frozenset({'milk'})                    |                  0.6 |                  0.6 |       0.2 |     0.333333 | 0.555556 |      -0.16 |      0.6     |       -0.666667 |\n",
      "| 13 | frozenset({'milk'})                    | frozenset({'butter'})                  |                  0.6 |                  0.6 |       0.2 |     0.333333 | 0.555556 |      -0.16 |      0.6     |       -0.666667 |\n",
      "| 14 | frozenset({'eggs'})                    | frozenset({'milk'})                    |                  0.4 |                  0.6 |       0.2 |     0.5      | 0.833333 |      -0.04 |      0.8     |       -0.25     |\n",
      "| 15 | frozenset({'milk'})                    | frozenset({'eggs'})                    |                  0.6 |                  0.4 |       0.2 |     0.333333 | 0.833333 |      -0.04 |      0.9     |       -0.333333 |\n",
      "| 16 | frozenset({'milk'})                    | frozenset({'jam'})                     |                  0.6 |                  0.4 |       0.2 |     0.333333 | 0.833333 |      -0.04 |      0.9     |       -0.333333 |\n",
      "| 17 | frozenset({'jam'})                     | frozenset({'milk'})                    |                  0.4 |                  0.6 |       0.2 |     0.5      | 0.833333 |      -0.04 |      0.8     |       -0.25     |\n",
      "| 18 | frozenset({'butter', 'bread'})         | frozenset({'jam'})                     |                  0.4 |                  0.4 |       0.4 |     1        | 2.5      |       0.24 |    inf       |        1        |\n",
      "| 19 | frozenset({'butter', 'jam'})           | frozenset({'bread'})                   |                  0.4 |                  0.8 |       0.4 |     1        | 1.25     |       0.08 |    inf       |        0.333333 |\n",
      "| 20 | frozenset({'bread', 'jam'})            | frozenset({'butter'})                  |                  0.4 |                  0.6 |       0.4 |     1        | 1.66667  |       0.16 |    inf       |        0.666667 |\n",
      "| 21 | frozenset({'butter'})                  | frozenset({'bread', 'jam'})            |                  0.6 |                  0.4 |       0.4 |     0.666667 | 1.66667  |       0.16 |      1.8     |        1        |\n",
      "| 22 | frozenset({'bread'})                   | frozenset({'butter', 'jam'})           |                  0.8 |                  0.4 |       0.4 |     0.5      | 1.25     |       0.08 |      1.2     |        1        |\n",
      "| 23 | frozenset({'jam'})                     | frozenset({'butter', 'bread'})         |                  0.4 |                  0.4 |       0.4 |     1        | 2.5      |       0.24 |    inf       |        1        |\n",
      "| 24 | frozenset({'butter', 'milk'})          | frozenset({'bread'})                   |                  0.2 |                  0.8 |       0.2 |     1        | 1.25     |       0.04 |    inf       |        0.25     |\n",
      "| 25 | frozenset({'butter', 'bread'})         | frozenset({'milk'})                    |                  0.4 |                  0.6 |       0.2 |     0.5      | 0.833333 |      -0.04 |      0.8     |       -0.25     |\n",
      "| 26 | frozenset({'milk', 'bread'})           | frozenset({'butter'})                  |                  0.6 |                  0.6 |       0.2 |     0.333333 | 0.555556 |      -0.16 |      0.6     |       -0.666667 |\n",
      "| 27 | frozenset({'butter'})                  | frozenset({'milk', 'bread'})           |                  0.6 |                  0.6 |       0.2 |     0.333333 | 0.555556 |      -0.16 |      0.6     |       -0.666667 |\n",
      "| 28 | frozenset({'milk'})                    | frozenset({'butter', 'bread'})         |                  0.6 |                  0.4 |       0.2 |     0.333333 | 0.833333 |      -0.04 |      0.9     |       -0.333333 |\n",
      "| 29 | frozenset({'bread'})                   | frozenset({'butter', 'milk'})          |                  0.8 |                  0.2 |       0.2 |     0.25     | 1.25     |       0.04 |      1.06667 |        1        |\n",
      "| 30 | frozenset({'eggs', 'milk'})            | frozenset({'bread'})                   |                  0.2 |                  0.8 |       0.2 |     1        | 1.25     |       0.04 |    inf       |        0.25     |\n",
      "| 31 | frozenset({'eggs', 'bread'})           | frozenset({'milk'})                    |                  0.2 |                  0.6 |       0.2 |     1        | 1.66667  |       0.08 |    inf       |        0.5      |\n",
      "| 32 | frozenset({'milk', 'bread'})           | frozenset({'eggs'})                    |                  0.6 |                  0.4 |       0.2 |     0.333333 | 0.833333 |      -0.04 |      0.9     |       -0.333333 |\n",
      "| 33 | frozenset({'eggs'})                    | frozenset({'milk', 'bread'})           |                  0.4 |                  0.6 |       0.2 |     0.5      | 0.833333 |      -0.04 |      0.8     |       -0.25     |\n",
      "| 34 | frozenset({'milk'})                    | frozenset({'eggs', 'bread'})           |                  0.6 |                  0.2 |       0.2 |     0.333333 | 1.66667  |       0.08 |      1.2     |        1        |\n",
      "| 35 | frozenset({'bread'})                   | frozenset({'eggs', 'milk'})            |                  0.8 |                  0.2 |       0.2 |     0.25     | 1.25     |       0.04 |      1.06667 |        1        |\n",
      "| 36 | frozenset({'milk', 'bread'})           | frozenset({'jam'})                     |                  0.6 |                  0.4 |       0.2 |     0.333333 | 0.833333 |      -0.04 |      0.9     |       -0.333333 |\n",
      "| 37 | frozenset({'milk', 'jam'})             | frozenset({'bread'})                   |                  0.2 |                  0.8 |       0.2 |     1        | 1.25     |       0.04 |    inf       |        0.25     |\n",
      "| 38 | frozenset({'bread', 'jam'})            | frozenset({'milk'})                    |                  0.4 |                  0.6 |       0.2 |     0.5      | 0.833333 |      -0.04 |      0.8     |       -0.25     |\n",
      "| 39 | frozenset({'milk'})                    | frozenset({'bread', 'jam'})            |                  0.6 |                  0.4 |       0.2 |     0.333333 | 0.833333 |      -0.04 |      0.9     |       -0.333333 |\n",
      "| 40 | frozenset({'bread'})                   | frozenset({'milk', 'jam'})             |                  0.8 |                  0.2 |       0.2 |     0.25     | 1.25     |       0.04 |      1.06667 |        1        |\n",
      "| 41 | frozenset({'jam'})                     | frozenset({'milk', 'bread'})           |                  0.4 |                  0.6 |       0.2 |     0.5      | 0.833333 |      -0.04 |      0.8     |       -0.25     |\n",
      "| 42 | frozenset({'butter', 'milk'})          | frozenset({'jam'})                     |                  0.2 |                  0.4 |       0.2 |     1        | 2.5      |       0.12 |    inf       |        0.75     |\n",
      "| 43 | frozenset({'butter', 'jam'})           | frozenset({'milk'})                    |                  0.4 |                  0.6 |       0.2 |     0.5      | 0.833333 |      -0.04 |      0.8     |       -0.25     |\n",
      "| 44 | frozenset({'milk', 'jam'})             | frozenset({'butter'})                  |                  0.2 |                  0.6 |       0.2 |     1        | 1.66667  |       0.08 |    inf       |        0.5      |\n",
      "| 45 | frozenset({'butter'})                  | frozenset({'milk', 'jam'})             |                  0.6 |                  0.2 |       0.2 |     0.333333 | 1.66667  |       0.08 |      1.2     |        1        |\n",
      "| 46 | frozenset({'milk'})                    | frozenset({'butter', 'jam'})           |                  0.6 |                  0.4 |       0.2 |     0.333333 | 0.833333 |      -0.04 |      0.9     |       -0.333333 |\n",
      "| 47 | frozenset({'jam'})                     | frozenset({'butter', 'milk'})          |                  0.4 |                  0.2 |       0.2 |     0.5      | 2.5      |       0.12 |      1.6     |        1        |\n",
      "| 48 | frozenset({'butter', 'milk', 'bread'}) | frozenset({'jam'})                     |                  0.2 |                  0.4 |       0.2 |     1        | 2.5      |       0.12 |    inf       |        0.75     |\n",
      "| 49 | frozenset({'butter', 'milk', 'jam'})   | frozenset({'bread'})                   |                  0.2 |                  0.8 |       0.2 |     1        | 1.25     |       0.04 |    inf       |        0.25     |\n",
      "| 50 | frozenset({'butter', 'bread', 'jam'})  | frozenset({'milk'})                    |                  0.4 |                  0.6 |       0.2 |     0.5      | 0.833333 |      -0.04 |      0.8     |       -0.25     |\n",
      "| 51 | frozenset({'milk', 'bread', 'jam'})    | frozenset({'butter'})                  |                  0.2 |                  0.6 |       0.2 |     1        | 1.66667  |       0.08 |    inf       |        0.5      |\n",
      "| 52 | frozenset({'butter', 'milk'})          | frozenset({'bread', 'jam'})            |                  0.2 |                  0.4 |       0.2 |     1        | 2.5      |       0.12 |    inf       |        0.75     |\n",
      "| 53 | frozenset({'butter', 'bread'})         | frozenset({'milk', 'jam'})             |                  0.4 |                  0.2 |       0.2 |     0.5      | 2.5      |       0.12 |      1.6     |        1        |\n",
      "| 54 | frozenset({'butter', 'jam'})           | frozenset({'milk', 'bread'})           |                  0.4 |                  0.6 |       0.2 |     0.5      | 0.833333 |      -0.04 |      0.8     |       -0.25     |\n",
      "| 55 | frozenset({'milk', 'bread'})           | frozenset({'butter', 'jam'})           |                  0.6 |                  0.4 |       0.2 |     0.333333 | 0.833333 |      -0.04 |      0.9     |       -0.333333 |\n",
      "| 56 | frozenset({'milk', 'jam'})             | frozenset({'butter', 'bread'})         |                  0.2 |                  0.4 |       0.2 |     1        | 2.5      |       0.12 |    inf       |        0.75     |\n",
      "| 57 | frozenset({'bread', 'jam'})            | frozenset({'butter', 'milk'})          |                  0.4 |                  0.2 |       0.2 |     0.5      | 2.5      |       0.12 |      1.6     |        1        |\n",
      "| 58 | frozenset({'butter'})                  | frozenset({'milk', 'bread', 'jam'})    |                  0.6 |                  0.2 |       0.2 |     0.333333 | 1.66667  |       0.08 |      1.2     |        1        |\n",
      "| 59 | frozenset({'milk'})                    | frozenset({'butter', 'bread', 'jam'})  |                  0.6 |                  0.4 |       0.2 |     0.333333 | 0.833333 |      -0.04 |      0.9     |       -0.333333 |\n",
      "| 60 | frozenset({'bread'})                   | frozenset({'butter', 'milk', 'jam'})   |                  0.8 |                  0.2 |       0.2 |     0.25     | 1.25     |       0.04 |      1.06667 |        1        |\n",
      "| 61 | frozenset({'jam'})                     | frozenset({'butter', 'milk', 'bread'}) |                  0.4 |                  0.2 |       0.2 |     0.5      | 2.5      |       0.12 |      1.6     |        1        |\n",
      "+----+----------------------------------------+----------------------------------------+----------------------+----------------------+-----------+--------------+----------+------------+--------------+-----------------+\n"
     ]
    }
   ],
   "source": [
    "\n",
    "# Generate association rules based on frequent itemsets\n",
    "rules = association_rules(frequent_itemsets, metric=\"confidence\", min_threshold=0.2)\n",
    "\n",
    "print(\"\\nAssociation Rules:\")\n",
    "print(tabulate(rules, headers='keys', tablefmt='psql'))\n"
   ]
  },
  {
   "cell_type": "code",
   "execution_count": 9,
   "id": "19f27f5a",
   "metadata": {},
   "outputs": [
    {
     "name": "stdout",
     "output_type": "stream",
     "text": [
      "Rule: {'butter'} -> {'bread'}\n",
      "Rule: {'bread'} -> {'butter'}\n",
      "Rule: {'eggs'} -> {'bread'}\n",
      "Rule: {'bread'} -> {'eggs'}\n",
      "Rule: {'bread'} -> {'jam'}\n",
      "Rule: {'jam'} -> {'bread'}\n",
      "Rule: {'milk'} -> {'bread'}\n",
      "Rule: {'bread'} -> {'milk'}\n",
      "Rule: {'butter'} -> {'eggs'}\n",
      "Rule: {'eggs'} -> {'butter'}\n",
      "Rule: {'butter'} -> {'jam'}\n",
      "Rule: {'jam'} -> {'butter'}\n",
      "Rule: {'butter'} -> {'milk'}\n",
      "Rule: {'milk'} -> {'butter'}\n",
      "Rule: {'eggs'} -> {'milk'}\n",
      "Rule: {'milk'} -> {'eggs'}\n",
      "Rule: {'milk'} -> {'jam'}\n",
      "Rule: {'jam'} -> {'milk'}\n",
      "Rule: {'butter', 'bread'} -> {'jam'}\n",
      "Rule: {'butter', 'jam'} -> {'bread'}\n",
      "Rule: {'bread', 'jam'} -> {'butter'}\n",
      "Rule: {'butter'} -> {'bread', 'jam'}\n",
      "Rule: {'bread'} -> {'butter', 'jam'}\n",
      "Rule: {'jam'} -> {'butter', 'bread'}\n",
      "Rule: {'butter', 'milk'} -> {'bread'}\n",
      "Rule: {'butter', 'bread'} -> {'milk'}\n",
      "Rule: {'milk', 'bread'} -> {'butter'}\n",
      "Rule: {'butter'} -> {'milk', 'bread'}\n",
      "Rule: {'milk'} -> {'butter', 'bread'}\n",
      "Rule: {'bread'} -> {'butter', 'milk'}\n",
      "Rule: {'eggs', 'milk'} -> {'bread'}\n",
      "Rule: {'eggs', 'bread'} -> {'milk'}\n",
      "Rule: {'milk', 'bread'} -> {'eggs'}\n",
      "Rule: {'eggs'} -> {'milk', 'bread'}\n",
      "Rule: {'milk'} -> {'eggs', 'bread'}\n",
      "Rule: {'bread'} -> {'eggs', 'milk'}\n",
      "Rule: {'milk', 'bread'} -> {'jam'}\n",
      "Rule: {'milk', 'jam'} -> {'bread'}\n",
      "Rule: {'bread', 'jam'} -> {'milk'}\n",
      "Rule: {'milk'} -> {'bread', 'jam'}\n",
      "Rule: {'bread'} -> {'milk', 'jam'}\n",
      "Rule: {'jam'} -> {'milk', 'bread'}\n",
      "Rule: {'butter', 'milk'} -> {'jam'}\n",
      "Rule: {'butter', 'jam'} -> {'milk'}\n",
      "Rule: {'milk', 'jam'} -> {'butter'}\n",
      "Rule: {'butter'} -> {'milk', 'jam'}\n",
      "Rule: {'milk'} -> {'butter', 'jam'}\n",
      "Rule: {'jam'} -> {'butter', 'milk'}\n",
      "Rule: {'butter', 'milk', 'bread'} -> {'jam'}\n",
      "Rule: {'butter', 'milk', 'jam'} -> {'bread'}\n",
      "Rule: {'butter', 'bread', 'jam'} -> {'milk'}\n",
      "Rule: {'milk', 'bread', 'jam'} -> {'butter'}\n",
      "Rule: {'butter', 'milk'} -> {'bread', 'jam'}\n",
      "Rule: {'butter', 'bread'} -> {'milk', 'jam'}\n",
      "Rule: {'butter', 'jam'} -> {'milk', 'bread'}\n",
      "Rule: {'milk', 'bread'} -> {'butter', 'jam'}\n",
      "Rule: {'milk', 'jam'} -> {'butter', 'bread'}\n",
      "Rule: {'bread', 'jam'} -> {'butter', 'milk'}\n",
      "Rule: {'butter'} -> {'milk', 'bread', 'jam'}\n",
      "Rule: {'milk'} -> {'butter', 'bread', 'jam'}\n",
      "Rule: {'bread'} -> {'butter', 'milk', 'jam'}\n",
      "Rule: {'jam'} -> {'butter', 'milk', 'bread'}\n"
     ]
    }
   ],
   "source": [
    "'''\n",
    "In the context of association rule mining and the Apriori algorithm, the terms \"antecedents\" and \"consequents\" refer to the two parts of an association rule. Let's break down their meanings:\n",
    "\n",
    "Antecedents:\n",
    "\n",
    "The antecedent is the part of the rule that appears before the arrow (->). It represents the items or conditions that are present in the data and are used to predict the occurrence of the consequent.\n",
    "In simpler terms, the antecedent is the \"if\" part of the rule.\n",
    "Consequents:\n",
    "\n",
    "The consequent is the part of the rule that appears after the arrow (->). It represents the item or condition that is predicted or implied based on the presence of the antecedent.\n",
    "In simpler terms, the consequent is the \"then\" part of the rule.\n",
    "Let's illustrate this with an example:\n",
    "\n",
    "Suppose we have an association rule:\n",
    "\n",
    "Antecedents\n",
    "→\n",
    "Consequents\n",
    "Antecedents→Consequents\n",
    "\n",
    "If we have a rule like:\n",
    "\n",
    "{\n",
    "Bread\n",
    ",\n",
    "Milk\n",
    "}\n",
    "→\n",
    "{\n",
    "Eggs\n",
    "}\n",
    "{Bread,Milk}→{Eggs}\n",
    "\n",
    "Antecedents: {Bread, Milk}\n",
    "Consequents: {Eggs}\n",
    "This rule suggests that if a customer buys Bread and Milk (the antecedents), they are likely to also buy Eggs (the consequent).\n",
    "\n",
    "'''\n",
    "for index, row in rules.iterrows():\n",
    "    antecedent = set(row['antecedents'])\n",
    "    consequent = set(row['consequents'])\n",
    "    print(f\"Rule: {antecedent} -> {consequent}\")\n",
    "    \n",
    "    \n",
    "    "
   ]
  },
  {
   "cell_type": "code",
   "execution_count": 10,
   "id": "7d158b04",
   "metadata": {},
   "outputs": [
    {
     "data": {
      "text/plain": [
       "'https://chat.openai.com/share/39e88ea4-7bb6-4bfb-8257-8ae12b06c809'"
      ]
     },
     "execution_count": 10,
     "metadata": {},
     "output_type": "execute_result"
    }
   ],
   "source": [
    "'''https://chat.openai.com/share/39e88ea4-7bb6-4bfb-8257-8ae12b06c809'''"
   ]
  }
 ],
 "metadata": {
  "kernelspec": {
   "display_name": "Python 3 (ipykernel)",
   "language": "python",
   "name": "python3"
  },
  "language_info": {
   "codemirror_mode": {
    "name": "ipython",
    "version": 3
   },
   "file_extension": ".py",
   "mimetype": "text/x-python",
   "name": "python",
   "nbconvert_exporter": "python",
   "pygments_lexer": "ipython3",
   "version": "3.11.5"
  }
 },
 "nbformat": 4,
 "nbformat_minor": 5
}
