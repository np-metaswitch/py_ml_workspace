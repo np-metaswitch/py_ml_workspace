{
 "cells": [
  {
   "cell_type": "code",
   "execution_count": 27,
   "id": "1d887e73",
   "metadata": {},
   "outputs": [],
   "source": [
    "import numpy as np\n",
    "import pandas as pd\n",
    "import matplotlib.pyplot as plt\n",
    "import seaborn as sn\n",
    "from tabulate import tabulate\n",
    "import csv"
   ]
  },
  {
   "cell_type": "code",
   "execution_count": 28,
   "id": "32077dd3",
   "metadata": {},
   "outputs": [],
   "source": [
    "data_link_path = 'https://media.githubusercontent.com/media/npedamalla/sample-csv-files/main/files/customers/customers-100.csv'"
   ]
  },
  {
   "cell_type": "code",
   "execution_count": 29,
   "id": "2c8b0469",
   "metadata": {},
   "outputs": [],
   "source": [
    "df = pd.read_csv(data_link_path, delimiter=',', quoting=csv.QUOTE_MINIMAL)\n",
    "\n",
    "# Now you can work with the DataFrame 'df'\n",
    "#print(tabulate(df, headers='keys', tablefmt='psql'))"
   ]
  },
  {
   "cell_type": "code",
   "execution_count": 31,
   "id": "f3b218c6",
   "metadata": {},
   "outputs": [],
   "source": [
    "#print(tabulate(df.tail(), headers='keys', tablefmt='psql'))"
   ]
  },
  {
   "cell_type": "code",
   "execution_count": 34,
   "id": "f16ec279",
   "metadata": {},
   "outputs": [
    {
     "name": "stdout",
     "output_type": "stream",
     "text": [
      "<class 'pandas.core.frame.DataFrame'>\n",
      "RangeIndex: 100 entries, 0 to 99\n",
      "Data columns (total 12 columns):\n",
      " #   Column             Non-Null Count  Dtype \n",
      "---  ------             --------------  ----- \n",
      " 0   Index              100 non-null    int64 \n",
      " 1   Customer Id        100 non-null    object\n",
      " 2   First Name         100 non-null    object\n",
      " 3   Last Name          100 non-null    object\n",
      " 4   Company            100 non-null    object\n",
      " 5   City               100 non-null    object\n",
      " 6   Country            100 non-null    object\n",
      " 7   Phone 1            100 non-null    object\n",
      " 8   Phone 2            100 non-null    object\n",
      " 9   Email              100 non-null    object\n",
      " 10  Subscription Date  100 non-null    object\n",
      " 11  Website            100 non-null    object\n",
      "dtypes: int64(1), object(11)\n",
      "memory usage: 9.5+ KB\n",
      "\n"
     ]
    }
   ],
   "source": [
    "print(tabulate(df.info(), headers='keys', tablefmt='psql'))"
   ]
  },
  {
   "cell_type": "code",
   "execution_count": 94,
   "id": "2a2f5915",
   "metadata": {},
   "outputs": [],
   "source": [
    "import os\n",
    "import warnings\n",
    "import numpy as np\n",
    "import pandas as pd\n",
    "import plotly.express as px\n",
    "import plotly.graph_objects as go\n",
    "from sklearn.cluster import KMeans\n",
    "from sklearn.datasets import make_blobs\n",
    "from tabulate import tabulate\n",
    "\n",
    "\n"
   ]
  },
  {
   "cell_type": "code",
   "execution_count": 103,
   "id": "acc67706",
   "metadata": {},
   "outputs": [],
   "source": [
    "# Set the environment variable OMP_NUM_THREADS to 1\n",
    "os.environ[\"OMP_NUM_THREADS\"] = \"1\"\n",
    "\n",
    "# Suppress UserWarning related to KMeans memory leak\n",
    "warnings.filterwarnings(\"ignore\", category=UserWarning)\n",
    "\n",
    "# Generate a sample dataset with six features and three clusters\n",
    "data, _ = make_blobs(n_samples=300, n_features=6, centers=3, random_state=42)\n",
    "\n",
    "# Ensure all values are positive\n",
    "data[data < 0] = 0\n",
    "\n",
    "# Set the desired range for positive whole numbers\n",
    "low_range = 5\n",
    "high_range = 99\n",
    "data = np.random.randint(low_range, high_range + 1, size=data.shape)\n"
   ]
  },
  {
   "cell_type": "code",
   "execution_count": 115,
   "id": "8d6e25c6",
   "metadata": {},
   "outputs": [
    {
     "name": "stdout",
     "output_type": "stream",
     "text": [
      "+----+-------------+-------------+-------------+-------------+-------------+-------------+\n",
      "|    |   Feature_1 |   Feature_2 |   Feature_3 |   Feature_4 |   Feature_5 |   Feature_6 |\n",
      "|----+-------------+-------------+-------------+-------------+-------------+-------------|\n",
      "|  0 |     30.9423 |     55.2308 |     62.8654 |     43.0288 |     72.5481 |     45.5769 |\n",
      "|  1 |     58.4688 |     55.5833 |     35.5313 |     53.2812 |     40.3021 |     27.3021 |\n",
      "|  2 |     62.33   |     43.95   |     51.31   |     51.66   |     42.5    |     78.11   |\n",
      "+----+-------------+-------------+-------------+-------------+-------------+-------------+\n",
      "+-----+-------------+-------------+-------------+-------------+-------------+-------------+-----------+\n",
      "|     |   Feature_1 |   Feature_2 |   Feature_3 |   Feature_4 |   Feature_5 |   Feature_6 |   Cluster |\n",
      "|-----+-------------+-------------+-------------+-------------+-------------+-------------+-----------|\n",
      "| 149 |          24 |          20 |          89 |          17 |          77 |          28 |         0 |\n",
      "| 131 |          16 |          78 |          87 |           7 |          80 |          62 |         0 |\n",
      "| 137 |           5 |          58 |          93 |          58 |          44 |          96 |         0 |\n",
      "| 141 |          41 |           6 |          50 |          36 |          63 |          55 |         0 |\n",
      "| 143 |          45 |          28 |          96 |          41 |          98 |           5 |         0 |\n",
      "+-----+-------------+-------------+-------------+-------------+-------------+-------------+-----------+\n"
     ]
    }
   ],
   "source": [
    "# Apply KMeans clustering with k=3 (number of centers)\n",
    "kmeans = KMeans(n_clusters=3, n_init=10, random_state=42)\n",
    "kmeans.fit(data)\n",
    "\n",
    "centroids = kmeans.cluster_centers_\n",
    "\n",
    "# Add cluster labels to the original dataset\n",
    "data_with_labels = np.column_stack((data, kmeans.labels_))\n",
    "\n",
    "# Create a DataFrame for Plotly\n",
    "column_names = [f'Feature_{i}' for i in range(1, 7)] + ['Cluster']\n",
    "df = pd.DataFrame(data_with_labels, columns=column_names)\n",
    "\n",
    "# Create a DataFrame for centroids\n",
    "centroids_df = pd.DataFrame(centroids, columns=column_names[:-1])\n",
    "\n",
    "df_sorted = df.sort_values(by='Cluster')\n",
    "\n",
    "\n",
    "print(tabulate(centroids_df, headers='keys', tablefmt='psql'))\n",
    "\n",
    "print(tabulate(df_sorted.head(), headers='keys', tablefmt='psql'))"
   ]
  },
  {
   "cell_type": "code",
   "execution_count": 109,
   "id": "e1740c0f",
   "metadata": {},
   "outputs": [
    {
     "data": {
      "application/vnd.plotly.v1+json": {
       "config": {
        "plotlyServerURL": "https://plot.ly"
       },
       "data": [
        {
         "hovertemplate": "Feature_1=%{x}<br>Feature_2=%{y}<br>Feature_3=%{z}<br>Cluster=%{marker.color}<extra></extra>",
         "legendgroup": "",
         "marker": {
          "color": [
           2,
           0,
           1,
           2,
           2,
           2,
           1,
           1,
           2,
           1,
           1,
           1,
           1,
           2,
           0,
           2,
           0,
           0,
           2,
           1,
           2,
           0,
           2,
           0,
           0,
           2,
           0,
           2,
           2,
           2,
           1,
           1,
           2,
           0,
           0,
           1,
           0,
           2,
           0,
           2,
           1,
           1,
           1,
           2,
           2,
           0,
           1,
           0,
           0,
           2,
           1,
           0,
           1,
           1,
           0,
           2,
           0,
           0,
           1,
           1,
           1,
           1,
           2,
           1,
           2,
           0,
           0,
           1,
           1,
           2,
           1,
           1,
           2,
           1,
           2,
           2,
           1,
           2,
           0,
           0,
           0,
           0,
           0,
           1,
           2,
           1,
           1,
           0,
           2,
           1,
           1,
           2,
           2,
           0,
           1,
           0,
           0,
           2,
           1,
           1,
           2,
           0,
           2,
           1,
           0,
           0,
           2,
           0,
           1,
           0,
           0,
           0,
           2,
           0,
           0,
           2,
           2,
           0,
           2,
           0,
           0,
           0,
           1,
           1,
           1,
           2,
           0,
           2,
           2,
           2,
           0,
           0,
           2,
           2,
           1,
           2,
           1,
           0,
           1,
           1,
           2,
           0,
           1,
           0,
           2,
           1,
           0,
           0,
           2,
           0,
           0,
           0,
           2,
           2,
           2,
           1,
           0,
           2,
           0,
           2,
           2,
           2,
           1,
           1,
           2,
           2,
           0,
           1,
           0,
           1,
           0,
           2,
           0,
           1,
           2,
           0,
           1,
           1,
           1,
           2,
           2,
           0,
           0,
           2,
           1,
           2,
           0,
           2,
           0,
           0,
           2,
           0,
           0,
           1,
           0,
           1,
           2,
           1,
           0,
           1,
           0,
           2,
           0,
           2,
           1,
           2,
           0,
           0,
           1,
           2,
           2,
           1,
           2,
           1,
           2,
           1,
           1,
           0,
           2,
           2,
           0,
           1,
           2,
           1,
           2,
           0,
           1,
           1,
           0,
           0,
           0,
           0,
           1,
           1,
           1,
           1,
           0,
           0,
           2,
           2,
           2,
           2,
           1,
           1,
           2,
           0,
           2,
           1,
           0,
           2,
           1,
           0,
           2,
           0,
           2,
           1,
           2,
           2,
           0,
           0,
           0,
           1,
           0,
           0,
           0,
           1,
           0,
           2,
           2,
           0,
           1,
           0,
           1,
           1,
           1,
           1,
           2,
           1,
           0,
           2,
           0,
           2,
           2,
           1,
           2,
           1,
           0,
           0,
           1,
           1,
           0,
           2,
           2,
           0,
           2,
           0,
           1,
           1,
           1,
           0
          ],
          "coloraxis": "coloraxis",
          "opacity": 0.8,
          "symbol": "circle"
         },
         "mode": "markers",
         "name": "",
         "scene": "scene",
         "showlegend": false,
         "type": "scatter3d",
         "x": [
          19,
          22,
          98,
          54,
          38,
          93,
          83,
          80,
          93,
          16,
          58,
          80,
          77,
          50,
          11,
          7,
          39,
          76,
          78,
          99,
          62,
          17,
          78,
          64,
          30,
          93,
          55,
          45,
          98,
          80,
          93,
          97,
          59,
          6,
          38,
          87,
          34,
          49,
          21,
          88,
          52,
          76,
          75,
          90,
          96,
          32,
          81,
          24,
          5,
          74,
          33,
          20,
          83,
          56,
          25,
          88,
          36,
          16,
          59,
          55,
          66,
          62,
          30,
          78,
          44,
          72,
          24,
          77,
          8,
          45,
          92,
          89,
          73,
          28,
          12,
          96,
          56,
          97,
          9,
          10,
          21,
          6,
          31,
          54,
          26,
          7,
          15,
          31,
          25,
          19,
          73,
          55,
          59,
          21,
          72,
          46,
          16,
          91,
          12,
          39,
          50,
          43,
          66,
          82,
          45,
          27,
          81,
          52,
          53,
          60,
          66,
          10,
          90,
          52,
          41,
          50,
          80,
          80,
          33,
          29,
          52,
          22,
          79,
          37,
          48,
          70,
          18,
          30,
          17,
          87,
          13,
          16,
          69,
          71,
          10,
          88,
          19,
          5,
          64,
          24,
          75,
          41,
          63,
          45,
          57,
          69,
          5,
          14,
          97,
          24,
          8,
          24,
          65,
          32,
          81,
          67,
          9,
          50,
          11,
          57,
          79,
          44,
          72,
          47,
          68,
          21,
          24,
          39,
          14,
          60,
          14,
          77,
          44,
          92,
          68,
          20,
          79,
          67,
          89,
          41,
          38,
          27,
          54,
          78,
          22,
          39,
          17,
          83,
          57,
          39,
          77,
          36,
          38,
          97,
          7,
          95,
          11,
          96,
          12,
          58,
          15,
          94,
          19,
          88,
          28,
          93,
          82,
          39,
          58,
          46,
          39,
          31,
          58,
          68,
          93,
          75,
          61,
          35,
          91,
          91,
          37,
          15,
          50,
          38,
          74,
          98,
          16,
          48,
          67,
          55,
          43,
          29,
          92,
          57,
          48,
          28,
          15,
          11,
          95,
          52,
          39,
          43,
          52,
          49,
          50,
          9,
          8,
          46,
          19,
          82,
          17,
          8,
          57,
          35,
          86,
          79,
          79,
          61,
          48,
          16,
          46,
          47,
          49,
          51,
          9,
          64,
          59,
          46,
          63,
          63,
          46,
          30,
          45,
          58,
          91,
          30,
          92,
          10,
          14,
          22,
          10,
          28,
          52,
          58,
          69,
          87,
          16,
          16,
          70,
          98,
          28,
          52,
          47,
          30,
          88,
          19,
          33,
          65,
          92,
          25
         ],
         "y": [
          38,
          21,
          77,
          82,
          63,
          49,
          57,
          66,
          61,
          75,
          89,
          46,
          42,
          10,
          82,
          47,
          31,
          48,
          57,
          40,
          21,
          90,
          22,
          35,
          89,
          44,
          36,
          83,
          43,
          84,
          12,
          29,
          7,
          49,
          86,
          80,
          9,
          11,
          64,
          54,
          62,
          68,
          18,
          60,
          53,
          76,
          58,
          40,
          12,
          18,
          27,
          15,
          72,
          32,
          8,
          42,
          44,
          20,
          83,
          60,
          96,
          82,
          73,
          99,
          17,
          17,
          38,
          54,
          11,
          24,
          10,
          15,
          40,
          56,
          59,
          62,
          67,
          68,
          99,
          77,
          62,
          61,
          54,
          57,
          20,
          53,
          5,
          90,
          62,
          46,
          58,
          60,
          44,
          32,
          78,
          6,
          41,
          7,
          35,
          34,
          40,
          63,
          30,
          64,
          76,
          89,
          43,
          95,
          49,
          62,
          97,
          82,
          12,
          52,
          89,
          76,
          6,
          67,
          23,
          68,
          11,
          54,
          75,
          23,
          84,
          8,
          42,
          29,
          63,
          22,
          68,
          78,
          26,
          75,
          91,
          73,
          59,
          58,
          21,
          6,
          84,
          6,
          61,
          28,
          16,
          82,
          54,
          33,
          35,
          20,
          48,
          81,
          11,
          65,
          49,
          99,
          80,
          81,
          94,
          57,
          69,
          9,
          57,
          57,
          19,
          23,
          78,
          49,
          64,
          45,
          17,
          9,
          45,
          48,
          17,
          49,
          28,
          89,
          23,
          22,
          94,
          51,
          31,
          48,
          30,
          42,
          81,
          26,
          91,
          70,
          76,
          99,
          82,
          59,
          95,
          65,
          39,
          10,
          34,
          9,
          82,
          10,
          5,
          27,
          48,
          24,
          75,
          91,
          32,
          38,
          26,
          77,
          18,
          85,
          88,
          86,
          71,
          65,
          7,
          96,
          69,
          16,
          64,
          66,
          61,
          27,
          94,
          52,
          93,
          96,
          33,
          56,
          69,
          71,
          45,
          62,
          42,
          69,
          69,
          76,
          57,
          37,
          64,
          17,
          12,
          85,
          96,
          74,
          93,
          20,
          66,
          55,
          78,
          91,
          43,
          34,
          56,
          21,
          32,
          38,
          45,
          40,
          10,
          27,
          95,
          93,
          16,
          79,
          52,
          59,
          25,
          75,
          52,
          39,
          90,
          67,
          21,
          86,
          65,
          51,
          21,
          8,
          21,
          76,
          73,
          99,
          35,
          51,
          16,
          74,
          42,
          38,
          30,
          14,
          96,
          70,
          98,
          37,
          83,
          8
         ],
         "z": [
          71,
          19,
          28,
          19,
          23,
          88,
          63,
          49,
          87,
          15,
          25,
          85,
          42,
          19,
          98,
          10,
          73,
          64,
          20,
          48,
          26,
          63,
          88,
          82,
          75,
          23,
          53,
          68,
          85,
          62,
          21,
          65,
          60,
          62,
          83,
          25,
          34,
          82,
          73,
          22,
          17,
          26,
          18,
          25,
          57,
          27,
          8,
          91,
          44,
          45,
          8,
          71,
          77,
          19,
          19,
          32,
          90,
          82,
          39,
          63,
          21,
          5,
          64,
          47,
          22,
          81,
          48,
          21,
          30,
          25,
          33,
          38,
          6,
          17,
          22,
          64,
          88,
          65,
          60,
          33,
          50,
          61,
          66,
          51,
          20,
          38,
          11,
          61,
          41,
          38,
          23,
          71,
          90,
          9,
          36,
          69,
          56,
          99,
          38,
          7,
          65,
          28,
          67,
          25,
          47,
          58,
          38,
          55,
          47,
          95,
          90,
          33,
          82,
          26,
          67,
          78,
          93,
          88,
          36,
          80,
          72,
          90,
          47,
          30,
          39,
          39,
          97,
          31,
          56,
          98,
          49,
          87,
          40,
          8,
          12,
          10,
          52,
          93,
          14,
          19,
          27,
          50,
          5,
          96,
          66,
          24,
          60,
          16,
          94,
          89,
          93,
          60,
          98,
          11,
          35,
          52,
          86,
          18,
          37,
          33,
          50,
          28,
          82,
          13,
          81,
          76,
          69,
          75,
          35,
          48,
          96,
          20,
          96,
          24,
          94,
          61,
          20,
          7,
          26,
          71,
          48,
          79,
          59,
          15,
          75,
          20,
          52,
          86,
          42,
          85,
          25,
          56,
          86,
          33,
          39,
          19,
          43,
          43,
          95,
          58,
          75,
          71,
          52,
          76,
          38,
          36,
          50,
          92,
          26,
          59,
          91,
          33,
          81,
          59,
          91,
          83,
          7,
          45,
          18,
          66,
          97,
          22,
          14,
          40,
          70,
          85,
          25,
          23,
          57,
          24,
          63,
          55,
          68,
          64,
          22,
          46,
          41,
          95,
          78,
          43,
          57,
          54,
          18,
          7,
          74,
          76,
          31,
          78,
          25,
          17,
          18,
          88,
          63,
          84,
          12,
          21,
          79,
          12,
          85,
          53,
          94,
          8,
          46,
          67,
          16,
          33,
          66,
          73,
          56,
          74,
          47,
          59,
          40,
          19,
          61,
          44,
          27,
          6,
          97,
          80,
          88,
          49,
          84,
          11,
          55,
          41,
          63,
          17,
          8,
          61,
          35,
          33,
          73,
          26,
          27,
          12,
          51,
          80,
          31,
          47
         ]
        },
        {
         "marker": {
          "color": "red",
          "size": 10,
          "symbol": "diamond"
         },
         "mode": "markers",
         "name": "Centroids",
         "type": "scatter3d",
         "x": [
          30.942307692307672,
          58.46875,
          62.329999999999984
         ],
         "y": [
          55.23076923076923,
          55.58333333333333,
          43.94999999999999
         ],
         "z": [
          62.86538461538463,
          35.531250000000014,
          51.31
         ]
        }
       ],
       "layout": {
        "coloraxis": {
         "colorbar": {
          "title": {
           "text": "Cluster"
          }
         },
         "colorscale": [
          [
           0,
           "#0d0887"
          ],
          [
           0.1111111111111111,
           "#46039f"
          ],
          [
           0.2222222222222222,
           "#7201a8"
          ],
          [
           0.3333333333333333,
           "#9c179e"
          ],
          [
           0.4444444444444444,
           "#bd3786"
          ],
          [
           0.5555555555555556,
           "#d8576b"
          ],
          [
           0.6666666666666666,
           "#ed7953"
          ],
          [
           0.7777777777777778,
           "#fb9f3a"
          ],
          [
           0.8888888888888888,
           "#fdca26"
          ],
          [
           1,
           "#f0f921"
          ]
         ]
        },
        "legend": {
         "tracegroupgap": 0
        },
        "scene": {
         "domain": {
          "x": [
           0,
           1
          ],
          "y": [
           0,
           1
          ]
         },
         "xaxis": {
          "title": {
           "text": "Feature_1"
          }
         },
         "yaxis": {
          "title": {
           "text": "Feature_2"
          }
         },
         "zaxis": {
          "title": {
           "text": "Feature_3"
          }
         }
        },
        "template": {
         "data": {
          "bar": [
           {
            "error_x": {
             "color": "#2a3f5f"
            },
            "error_y": {
             "color": "#2a3f5f"
            },
            "marker": {
             "line": {
              "color": "#E5ECF6",
              "width": 0.5
             },
             "pattern": {
              "fillmode": "overlay",
              "size": 10,
              "solidity": 0.2
             }
            },
            "type": "bar"
           }
          ],
          "barpolar": [
           {
            "marker": {
             "line": {
              "color": "#E5ECF6",
              "width": 0.5
             },
             "pattern": {
              "fillmode": "overlay",
              "size": 10,
              "solidity": 0.2
             }
            },
            "type": "barpolar"
           }
          ],
          "carpet": [
           {
            "aaxis": {
             "endlinecolor": "#2a3f5f",
             "gridcolor": "white",
             "linecolor": "white",
             "minorgridcolor": "white",
             "startlinecolor": "#2a3f5f"
            },
            "baxis": {
             "endlinecolor": "#2a3f5f",
             "gridcolor": "white",
             "linecolor": "white",
             "minorgridcolor": "white",
             "startlinecolor": "#2a3f5f"
            },
            "type": "carpet"
           }
          ],
          "choropleth": [
           {
            "colorbar": {
             "outlinewidth": 0,
             "ticks": ""
            },
            "type": "choropleth"
           }
          ],
          "contour": [
           {
            "colorbar": {
             "outlinewidth": 0,
             "ticks": ""
            },
            "colorscale": [
             [
              0,
              "#0d0887"
             ],
             [
              0.1111111111111111,
              "#46039f"
             ],
             [
              0.2222222222222222,
              "#7201a8"
             ],
             [
              0.3333333333333333,
              "#9c179e"
             ],
             [
              0.4444444444444444,
              "#bd3786"
             ],
             [
              0.5555555555555556,
              "#d8576b"
             ],
             [
              0.6666666666666666,
              "#ed7953"
             ],
             [
              0.7777777777777778,
              "#fb9f3a"
             ],
             [
              0.8888888888888888,
              "#fdca26"
             ],
             [
              1,
              "#f0f921"
             ]
            ],
            "type": "contour"
           }
          ],
          "contourcarpet": [
           {
            "colorbar": {
             "outlinewidth": 0,
             "ticks": ""
            },
            "type": "contourcarpet"
           }
          ],
          "heatmap": [
           {
            "colorbar": {
             "outlinewidth": 0,
             "ticks": ""
            },
            "colorscale": [
             [
              0,
              "#0d0887"
             ],
             [
              0.1111111111111111,
              "#46039f"
             ],
             [
              0.2222222222222222,
              "#7201a8"
             ],
             [
              0.3333333333333333,
              "#9c179e"
             ],
             [
              0.4444444444444444,
              "#bd3786"
             ],
             [
              0.5555555555555556,
              "#d8576b"
             ],
             [
              0.6666666666666666,
              "#ed7953"
             ],
             [
              0.7777777777777778,
              "#fb9f3a"
             ],
             [
              0.8888888888888888,
              "#fdca26"
             ],
             [
              1,
              "#f0f921"
             ]
            ],
            "type": "heatmap"
           }
          ],
          "heatmapgl": [
           {
            "colorbar": {
             "outlinewidth": 0,
             "ticks": ""
            },
            "colorscale": [
             [
              0,
              "#0d0887"
             ],
             [
              0.1111111111111111,
              "#46039f"
             ],
             [
              0.2222222222222222,
              "#7201a8"
             ],
             [
              0.3333333333333333,
              "#9c179e"
             ],
             [
              0.4444444444444444,
              "#bd3786"
             ],
             [
              0.5555555555555556,
              "#d8576b"
             ],
             [
              0.6666666666666666,
              "#ed7953"
             ],
             [
              0.7777777777777778,
              "#fb9f3a"
             ],
             [
              0.8888888888888888,
              "#fdca26"
             ],
             [
              1,
              "#f0f921"
             ]
            ],
            "type": "heatmapgl"
           }
          ],
          "histogram": [
           {
            "marker": {
             "pattern": {
              "fillmode": "overlay",
              "size": 10,
              "solidity": 0.2
             }
            },
            "type": "histogram"
           }
          ],
          "histogram2d": [
           {
            "colorbar": {
             "outlinewidth": 0,
             "ticks": ""
            },
            "colorscale": [
             [
              0,
              "#0d0887"
             ],
             [
              0.1111111111111111,
              "#46039f"
             ],
             [
              0.2222222222222222,
              "#7201a8"
             ],
             [
              0.3333333333333333,
              "#9c179e"
             ],
             [
              0.4444444444444444,
              "#bd3786"
             ],
             [
              0.5555555555555556,
              "#d8576b"
             ],
             [
              0.6666666666666666,
              "#ed7953"
             ],
             [
              0.7777777777777778,
              "#fb9f3a"
             ],
             [
              0.8888888888888888,
              "#fdca26"
             ],
             [
              1,
              "#f0f921"
             ]
            ],
            "type": "histogram2d"
           }
          ],
          "histogram2dcontour": [
           {
            "colorbar": {
             "outlinewidth": 0,
             "ticks": ""
            },
            "colorscale": [
             [
              0,
              "#0d0887"
             ],
             [
              0.1111111111111111,
              "#46039f"
             ],
             [
              0.2222222222222222,
              "#7201a8"
             ],
             [
              0.3333333333333333,
              "#9c179e"
             ],
             [
              0.4444444444444444,
              "#bd3786"
             ],
             [
              0.5555555555555556,
              "#d8576b"
             ],
             [
              0.6666666666666666,
              "#ed7953"
             ],
             [
              0.7777777777777778,
              "#fb9f3a"
             ],
             [
              0.8888888888888888,
              "#fdca26"
             ],
             [
              1,
              "#f0f921"
             ]
            ],
            "type": "histogram2dcontour"
           }
          ],
          "mesh3d": [
           {
            "colorbar": {
             "outlinewidth": 0,
             "ticks": ""
            },
            "type": "mesh3d"
           }
          ],
          "parcoords": [
           {
            "line": {
             "colorbar": {
              "outlinewidth": 0,
              "ticks": ""
             }
            },
            "type": "parcoords"
           }
          ],
          "pie": [
           {
            "automargin": true,
            "type": "pie"
           }
          ],
          "scatter": [
           {
            "fillpattern": {
             "fillmode": "overlay",
             "size": 10,
             "solidity": 0.2
            },
            "type": "scatter"
           }
          ],
          "scatter3d": [
           {
            "line": {
             "colorbar": {
              "outlinewidth": 0,
              "ticks": ""
             }
            },
            "marker": {
             "colorbar": {
              "outlinewidth": 0,
              "ticks": ""
             }
            },
            "type": "scatter3d"
           }
          ],
          "scattercarpet": [
           {
            "marker": {
             "colorbar": {
              "outlinewidth": 0,
              "ticks": ""
             }
            },
            "type": "scattercarpet"
           }
          ],
          "scattergeo": [
           {
            "marker": {
             "colorbar": {
              "outlinewidth": 0,
              "ticks": ""
             }
            },
            "type": "scattergeo"
           }
          ],
          "scattergl": [
           {
            "marker": {
             "colorbar": {
              "outlinewidth": 0,
              "ticks": ""
             }
            },
            "type": "scattergl"
           }
          ],
          "scattermapbox": [
           {
            "marker": {
             "colorbar": {
              "outlinewidth": 0,
              "ticks": ""
             }
            },
            "type": "scattermapbox"
           }
          ],
          "scatterpolar": [
           {
            "marker": {
             "colorbar": {
              "outlinewidth": 0,
              "ticks": ""
             }
            },
            "type": "scatterpolar"
           }
          ],
          "scatterpolargl": [
           {
            "marker": {
             "colorbar": {
              "outlinewidth": 0,
              "ticks": ""
             }
            },
            "type": "scatterpolargl"
           }
          ],
          "scatterternary": [
           {
            "marker": {
             "colorbar": {
              "outlinewidth": 0,
              "ticks": ""
             }
            },
            "type": "scatterternary"
           }
          ],
          "surface": [
           {
            "colorbar": {
             "outlinewidth": 0,
             "ticks": ""
            },
            "colorscale": [
             [
              0,
              "#0d0887"
             ],
             [
              0.1111111111111111,
              "#46039f"
             ],
             [
              0.2222222222222222,
              "#7201a8"
             ],
             [
              0.3333333333333333,
              "#9c179e"
             ],
             [
              0.4444444444444444,
              "#bd3786"
             ],
             [
              0.5555555555555556,
              "#d8576b"
             ],
             [
              0.6666666666666666,
              "#ed7953"
             ],
             [
              0.7777777777777778,
              "#fb9f3a"
             ],
             [
              0.8888888888888888,
              "#fdca26"
             ],
             [
              1,
              "#f0f921"
             ]
            ],
            "type": "surface"
           }
          ],
          "table": [
           {
            "cells": {
             "fill": {
              "color": "#EBF0F8"
             },
             "line": {
              "color": "white"
             }
            },
            "header": {
             "fill": {
              "color": "#C8D4E3"
             },
             "line": {
              "color": "white"
             }
            },
            "type": "table"
           }
          ]
         },
         "layout": {
          "annotationdefaults": {
           "arrowcolor": "#2a3f5f",
           "arrowhead": 0,
           "arrowwidth": 1
          },
          "autotypenumbers": "strict",
          "coloraxis": {
           "colorbar": {
            "outlinewidth": 0,
            "ticks": ""
           }
          },
          "colorscale": {
           "diverging": [
            [
             0,
             "#8e0152"
            ],
            [
             0.1,
             "#c51b7d"
            ],
            [
             0.2,
             "#de77ae"
            ],
            [
             0.3,
             "#f1b6da"
            ],
            [
             0.4,
             "#fde0ef"
            ],
            [
             0.5,
             "#f7f7f7"
            ],
            [
             0.6,
             "#e6f5d0"
            ],
            [
             0.7,
             "#b8e186"
            ],
            [
             0.8,
             "#7fbc41"
            ],
            [
             0.9,
             "#4d9221"
            ],
            [
             1,
             "#276419"
            ]
           ],
           "sequential": [
            [
             0,
             "#0d0887"
            ],
            [
             0.1111111111111111,
             "#46039f"
            ],
            [
             0.2222222222222222,
             "#7201a8"
            ],
            [
             0.3333333333333333,
             "#9c179e"
            ],
            [
             0.4444444444444444,
             "#bd3786"
            ],
            [
             0.5555555555555556,
             "#d8576b"
            ],
            [
             0.6666666666666666,
             "#ed7953"
            ],
            [
             0.7777777777777778,
             "#fb9f3a"
            ],
            [
             0.8888888888888888,
             "#fdca26"
            ],
            [
             1,
             "#f0f921"
            ]
           ],
           "sequentialminus": [
            [
             0,
             "#0d0887"
            ],
            [
             0.1111111111111111,
             "#46039f"
            ],
            [
             0.2222222222222222,
             "#7201a8"
            ],
            [
             0.3333333333333333,
             "#9c179e"
            ],
            [
             0.4444444444444444,
             "#bd3786"
            ],
            [
             0.5555555555555556,
             "#d8576b"
            ],
            [
             0.6666666666666666,
             "#ed7953"
            ],
            [
             0.7777777777777778,
             "#fb9f3a"
            ],
            [
             0.8888888888888888,
             "#fdca26"
            ],
            [
             1,
             "#f0f921"
            ]
           ]
          },
          "colorway": [
           "#636efa",
           "#EF553B",
           "#00cc96",
           "#ab63fa",
           "#FFA15A",
           "#19d3f3",
           "#FF6692",
           "#B6E880",
           "#FF97FF",
           "#FECB52"
          ],
          "font": {
           "color": "#2a3f5f"
          },
          "geo": {
           "bgcolor": "white",
           "lakecolor": "white",
           "landcolor": "#E5ECF6",
           "showlakes": true,
           "showland": true,
           "subunitcolor": "white"
          },
          "hoverlabel": {
           "align": "left"
          },
          "hovermode": "closest",
          "mapbox": {
           "style": "light"
          },
          "paper_bgcolor": "white",
          "plot_bgcolor": "#E5ECF6",
          "polar": {
           "angularaxis": {
            "gridcolor": "white",
            "linecolor": "white",
            "ticks": ""
           },
           "bgcolor": "#E5ECF6",
           "radialaxis": {
            "gridcolor": "white",
            "linecolor": "white",
            "ticks": ""
           }
          },
          "scene": {
           "xaxis": {
            "backgroundcolor": "#E5ECF6",
            "gridcolor": "white",
            "gridwidth": 2,
            "linecolor": "white",
            "showbackground": true,
            "ticks": "",
            "zerolinecolor": "white"
           },
           "yaxis": {
            "backgroundcolor": "#E5ECF6",
            "gridcolor": "white",
            "gridwidth": 2,
            "linecolor": "white",
            "showbackground": true,
            "ticks": "",
            "zerolinecolor": "white"
           },
           "zaxis": {
            "backgroundcolor": "#E5ECF6",
            "gridcolor": "white",
            "gridwidth": 2,
            "linecolor": "white",
            "showbackground": true,
            "ticks": "",
            "zerolinecolor": "white"
           }
          },
          "shapedefaults": {
           "line": {
            "color": "#2a3f5f"
           }
          },
          "ternary": {
           "aaxis": {
            "gridcolor": "white",
            "linecolor": "white",
            "ticks": ""
           },
           "baxis": {
            "gridcolor": "white",
            "linecolor": "white",
            "ticks": ""
           },
           "bgcolor": "#E5ECF6",
           "caxis": {
            "gridcolor": "white",
            "linecolor": "white",
            "ticks": ""
           }
          },
          "title": {
           "x": 0.05
          },
          "xaxis": {
           "automargin": true,
           "gridcolor": "white",
           "linecolor": "white",
           "ticks": "",
           "title": {
            "standoff": 15
           },
           "zerolinecolor": "white",
           "zerolinewidth": 2
          },
          "yaxis": {
           "automargin": true,
           "gridcolor": "white",
           "linecolor": "white",
           "ticks": "",
           "title": {
            "standoff": 15
           },
           "zerolinecolor": "white",
           "zerolinewidth": 2
          }
         }
        },
        "title": {
         "text": "K-Means Clustering (3D)"
        }
       }
      },
      "text/html": [
       "<div>                            <div id=\"f7f6b082-b063-4c98-899b-287c9757b0aa\" class=\"plotly-graph-div\" style=\"height:525px; width:100%;\"></div>            <script type=\"text/javascript\">                require([\"plotly\"], function(Plotly) {                    window.PLOTLYENV=window.PLOTLYENV || {};                                    if (document.getElementById(\"f7f6b082-b063-4c98-899b-287c9757b0aa\")) {                    Plotly.newPlot(                        \"f7f6b082-b063-4c98-899b-287c9757b0aa\",                        [{\"hovertemplate\":\"Feature_1=%{x}<br>Feature_2=%{y}<br>Feature_3=%{z}<br>Cluster=%{marker.color}<extra></extra>\",\"legendgroup\":\"\",\"marker\":{\"color\":[2,0,1,2,2,2,1,1,2,1,1,1,1,2,0,2,0,0,2,1,2,0,2,0,0,2,0,2,2,2,1,1,2,0,0,1,0,2,0,2,1,1,1,2,2,0,1,0,0,2,1,0,1,1,0,2,0,0,1,1,1,1,2,1,2,0,0,1,1,2,1,1,2,1,2,2,1,2,0,0,0,0,0,1,2,1,1,0,2,1,1,2,2,0,1,0,0,2,1,1,2,0,2,1,0,0,2,0,1,0,0,0,2,0,0,2,2,0,2,0,0,0,1,1,1,2,0,2,2,2,0,0,2,2,1,2,1,0,1,1,2,0,1,0,2,1,0,0,2,0,0,0,2,2,2,1,0,2,0,2,2,2,1,1,2,2,0,1,0,1,0,2,0,1,2,0,1,1,1,2,2,0,0,2,1,2,0,2,0,0,2,0,0,1,0,1,2,1,0,1,0,2,0,2,1,2,0,0,1,2,2,1,2,1,2,1,1,0,2,2,0,1,2,1,2,0,1,1,0,0,0,0,1,1,1,1,0,0,2,2,2,2,1,1,2,0,2,1,0,2,1,0,2,0,2,1,2,2,0,0,0,1,0,0,0,1,0,2,2,0,1,0,1,1,1,1,2,1,0,2,0,2,2,1,2,1,0,0,1,1,0,2,2,0,2,0,1,1,1,0],\"coloraxis\":\"coloraxis\",\"opacity\":0.8,\"symbol\":\"circle\"},\"mode\":\"markers\",\"name\":\"\",\"scene\":\"scene\",\"showlegend\":false,\"x\":[19,22,98,54,38,93,83,80,93,16,58,80,77,50,11,7,39,76,78,99,62,17,78,64,30,93,55,45,98,80,93,97,59,6,38,87,34,49,21,88,52,76,75,90,96,32,81,24,5,74,33,20,83,56,25,88,36,16,59,55,66,62,30,78,44,72,24,77,8,45,92,89,73,28,12,96,56,97,9,10,21,6,31,54,26,7,15,31,25,19,73,55,59,21,72,46,16,91,12,39,50,43,66,82,45,27,81,52,53,60,66,10,90,52,41,50,80,80,33,29,52,22,79,37,48,70,18,30,17,87,13,16,69,71,10,88,19,5,64,24,75,41,63,45,57,69,5,14,97,24,8,24,65,32,81,67,9,50,11,57,79,44,72,47,68,21,24,39,14,60,14,77,44,92,68,20,79,67,89,41,38,27,54,78,22,39,17,83,57,39,77,36,38,97,7,95,11,96,12,58,15,94,19,88,28,93,82,39,58,46,39,31,58,68,93,75,61,35,91,91,37,15,50,38,74,98,16,48,67,55,43,29,92,57,48,28,15,11,95,52,39,43,52,49,50,9,8,46,19,82,17,8,57,35,86,79,79,61,48,16,46,47,49,51,9,64,59,46,63,63,46,30,45,58,91,30,92,10,14,22,10,28,52,58,69,87,16,16,70,98,28,52,47,30,88,19,33,65,92,25],\"y\":[38,21,77,82,63,49,57,66,61,75,89,46,42,10,82,47,31,48,57,40,21,90,22,35,89,44,36,83,43,84,12,29,7,49,86,80,9,11,64,54,62,68,18,60,53,76,58,40,12,18,27,15,72,32,8,42,44,20,83,60,96,82,73,99,17,17,38,54,11,24,10,15,40,56,59,62,67,68,99,77,62,61,54,57,20,53,5,90,62,46,58,60,44,32,78,6,41,7,35,34,40,63,30,64,76,89,43,95,49,62,97,82,12,52,89,76,6,67,23,68,11,54,75,23,84,8,42,29,63,22,68,78,26,75,91,73,59,58,21,6,84,6,61,28,16,82,54,33,35,20,48,81,11,65,49,99,80,81,94,57,69,9,57,57,19,23,78,49,64,45,17,9,45,48,17,49,28,89,23,22,94,51,31,48,30,42,81,26,91,70,76,99,82,59,95,65,39,10,34,9,82,10,5,27,48,24,75,91,32,38,26,77,18,85,88,86,71,65,7,96,69,16,64,66,61,27,94,52,93,96,33,56,69,71,45,62,42,69,69,76,57,37,64,17,12,85,96,74,93,20,66,55,78,91,43,34,56,21,32,38,45,40,10,27,95,93,16,79,52,59,25,75,52,39,90,67,21,86,65,51,21,8,21,76,73,99,35,51,16,74,42,38,30,14,96,70,98,37,83,8],\"z\":[71,19,28,19,23,88,63,49,87,15,25,85,42,19,98,10,73,64,20,48,26,63,88,82,75,23,53,68,85,62,21,65,60,62,83,25,34,82,73,22,17,26,18,25,57,27,8,91,44,45,8,71,77,19,19,32,90,82,39,63,21,5,64,47,22,81,48,21,30,25,33,38,6,17,22,64,88,65,60,33,50,61,66,51,20,38,11,61,41,38,23,71,90,9,36,69,56,99,38,7,65,28,67,25,47,58,38,55,47,95,90,33,82,26,67,78,93,88,36,80,72,90,47,30,39,39,97,31,56,98,49,87,40,8,12,10,52,93,14,19,27,50,5,96,66,24,60,16,94,89,93,60,98,11,35,52,86,18,37,33,50,28,82,13,81,76,69,75,35,48,96,20,96,24,94,61,20,7,26,71,48,79,59,15,75,20,52,86,42,85,25,56,86,33,39,19,43,43,95,58,75,71,52,76,38,36,50,92,26,59,91,33,81,59,91,83,7,45,18,66,97,22,14,40,70,85,25,23,57,24,63,55,68,64,22,46,41,95,78,43,57,54,18,7,74,76,31,78,25,17,18,88,63,84,12,21,79,12,85,53,94,8,46,67,16,33,66,73,56,74,47,59,40,19,61,44,27,6,97,80,88,49,84,11,55,41,63,17,8,61,35,33,73,26,27,12,51,80,31,47],\"type\":\"scatter3d\"},{\"marker\":{\"color\":\"red\",\"size\":10,\"symbol\":\"diamond\"},\"mode\":\"markers\",\"name\":\"Centroids\",\"x\":[30.942307692307672,58.46875,62.329999999999984],\"y\":[55.23076923076923,55.58333333333333,43.94999999999999],\"z\":[62.86538461538463,35.531250000000014,51.31],\"type\":\"scatter3d\"}],                        {\"template\":{\"data\":{\"histogram2dcontour\":[{\"type\":\"histogram2dcontour\",\"colorbar\":{\"outlinewidth\":0,\"ticks\":\"\"},\"colorscale\":[[0.0,\"#0d0887\"],[0.1111111111111111,\"#46039f\"],[0.2222222222222222,\"#7201a8\"],[0.3333333333333333,\"#9c179e\"],[0.4444444444444444,\"#bd3786\"],[0.5555555555555556,\"#d8576b\"],[0.6666666666666666,\"#ed7953\"],[0.7777777777777778,\"#fb9f3a\"],[0.8888888888888888,\"#fdca26\"],[1.0,\"#f0f921\"]]}],\"choropleth\":[{\"type\":\"choropleth\",\"colorbar\":{\"outlinewidth\":0,\"ticks\":\"\"}}],\"histogram2d\":[{\"type\":\"histogram2d\",\"colorbar\":{\"outlinewidth\":0,\"ticks\":\"\"},\"colorscale\":[[0.0,\"#0d0887\"],[0.1111111111111111,\"#46039f\"],[0.2222222222222222,\"#7201a8\"],[0.3333333333333333,\"#9c179e\"],[0.4444444444444444,\"#bd3786\"],[0.5555555555555556,\"#d8576b\"],[0.6666666666666666,\"#ed7953\"],[0.7777777777777778,\"#fb9f3a\"],[0.8888888888888888,\"#fdca26\"],[1.0,\"#f0f921\"]]}],\"heatmap\":[{\"type\":\"heatmap\",\"colorbar\":{\"outlinewidth\":0,\"ticks\":\"\"},\"colorscale\":[[0.0,\"#0d0887\"],[0.1111111111111111,\"#46039f\"],[0.2222222222222222,\"#7201a8\"],[0.3333333333333333,\"#9c179e\"],[0.4444444444444444,\"#bd3786\"],[0.5555555555555556,\"#d8576b\"],[0.6666666666666666,\"#ed7953\"],[0.7777777777777778,\"#fb9f3a\"],[0.8888888888888888,\"#fdca26\"],[1.0,\"#f0f921\"]]}],\"heatmapgl\":[{\"type\":\"heatmapgl\",\"colorbar\":{\"outlinewidth\":0,\"ticks\":\"\"},\"colorscale\":[[0.0,\"#0d0887\"],[0.1111111111111111,\"#46039f\"],[0.2222222222222222,\"#7201a8\"],[0.3333333333333333,\"#9c179e\"],[0.4444444444444444,\"#bd3786\"],[0.5555555555555556,\"#d8576b\"],[0.6666666666666666,\"#ed7953\"],[0.7777777777777778,\"#fb9f3a\"],[0.8888888888888888,\"#fdca26\"],[1.0,\"#f0f921\"]]}],\"contourcarpet\":[{\"type\":\"contourcarpet\",\"colorbar\":{\"outlinewidth\":0,\"ticks\":\"\"}}],\"contour\":[{\"type\":\"contour\",\"colorbar\":{\"outlinewidth\":0,\"ticks\":\"\"},\"colorscale\":[[0.0,\"#0d0887\"],[0.1111111111111111,\"#46039f\"],[0.2222222222222222,\"#7201a8\"],[0.3333333333333333,\"#9c179e\"],[0.4444444444444444,\"#bd3786\"],[0.5555555555555556,\"#d8576b\"],[0.6666666666666666,\"#ed7953\"],[0.7777777777777778,\"#fb9f3a\"],[0.8888888888888888,\"#fdca26\"],[1.0,\"#f0f921\"]]}],\"surface\":[{\"type\":\"surface\",\"colorbar\":{\"outlinewidth\":0,\"ticks\":\"\"},\"colorscale\":[[0.0,\"#0d0887\"],[0.1111111111111111,\"#46039f\"],[0.2222222222222222,\"#7201a8\"],[0.3333333333333333,\"#9c179e\"],[0.4444444444444444,\"#bd3786\"],[0.5555555555555556,\"#d8576b\"],[0.6666666666666666,\"#ed7953\"],[0.7777777777777778,\"#fb9f3a\"],[0.8888888888888888,\"#fdca26\"],[1.0,\"#f0f921\"]]}],\"mesh3d\":[{\"type\":\"mesh3d\",\"colorbar\":{\"outlinewidth\":0,\"ticks\":\"\"}}],\"scatter\":[{\"fillpattern\":{\"fillmode\":\"overlay\",\"size\":10,\"solidity\":0.2},\"type\":\"scatter\"}],\"parcoords\":[{\"type\":\"parcoords\",\"line\":{\"colorbar\":{\"outlinewidth\":0,\"ticks\":\"\"}}}],\"scatterpolargl\":[{\"type\":\"scatterpolargl\",\"marker\":{\"colorbar\":{\"outlinewidth\":0,\"ticks\":\"\"}}}],\"bar\":[{\"error_x\":{\"color\":\"#2a3f5f\"},\"error_y\":{\"color\":\"#2a3f5f\"},\"marker\":{\"line\":{\"color\":\"#E5ECF6\",\"width\":0.5},\"pattern\":{\"fillmode\":\"overlay\",\"size\":10,\"solidity\":0.2}},\"type\":\"bar\"}],\"scattergeo\":[{\"type\":\"scattergeo\",\"marker\":{\"colorbar\":{\"outlinewidth\":0,\"ticks\":\"\"}}}],\"scatterpolar\":[{\"type\":\"scatterpolar\",\"marker\":{\"colorbar\":{\"outlinewidth\":0,\"ticks\":\"\"}}}],\"histogram\":[{\"marker\":{\"pattern\":{\"fillmode\":\"overlay\",\"size\":10,\"solidity\":0.2}},\"type\":\"histogram\"}],\"scattergl\":[{\"type\":\"scattergl\",\"marker\":{\"colorbar\":{\"outlinewidth\":0,\"ticks\":\"\"}}}],\"scatter3d\":[{\"type\":\"scatter3d\",\"line\":{\"colorbar\":{\"outlinewidth\":0,\"ticks\":\"\"}},\"marker\":{\"colorbar\":{\"outlinewidth\":0,\"ticks\":\"\"}}}],\"scattermapbox\":[{\"type\":\"scattermapbox\",\"marker\":{\"colorbar\":{\"outlinewidth\":0,\"ticks\":\"\"}}}],\"scatterternary\":[{\"type\":\"scatterternary\",\"marker\":{\"colorbar\":{\"outlinewidth\":0,\"ticks\":\"\"}}}],\"scattercarpet\":[{\"type\":\"scattercarpet\",\"marker\":{\"colorbar\":{\"outlinewidth\":0,\"ticks\":\"\"}}}],\"carpet\":[{\"aaxis\":{\"endlinecolor\":\"#2a3f5f\",\"gridcolor\":\"white\",\"linecolor\":\"white\",\"minorgridcolor\":\"white\",\"startlinecolor\":\"#2a3f5f\"},\"baxis\":{\"endlinecolor\":\"#2a3f5f\",\"gridcolor\":\"white\",\"linecolor\":\"white\",\"minorgridcolor\":\"white\",\"startlinecolor\":\"#2a3f5f\"},\"type\":\"carpet\"}],\"table\":[{\"cells\":{\"fill\":{\"color\":\"#EBF0F8\"},\"line\":{\"color\":\"white\"}},\"header\":{\"fill\":{\"color\":\"#C8D4E3\"},\"line\":{\"color\":\"white\"}},\"type\":\"table\"}],\"barpolar\":[{\"marker\":{\"line\":{\"color\":\"#E5ECF6\",\"width\":0.5},\"pattern\":{\"fillmode\":\"overlay\",\"size\":10,\"solidity\":0.2}},\"type\":\"barpolar\"}],\"pie\":[{\"automargin\":true,\"type\":\"pie\"}]},\"layout\":{\"autotypenumbers\":\"strict\",\"colorway\":[\"#636efa\",\"#EF553B\",\"#00cc96\",\"#ab63fa\",\"#FFA15A\",\"#19d3f3\",\"#FF6692\",\"#B6E880\",\"#FF97FF\",\"#FECB52\"],\"font\":{\"color\":\"#2a3f5f\"},\"hovermode\":\"closest\",\"hoverlabel\":{\"align\":\"left\"},\"paper_bgcolor\":\"white\",\"plot_bgcolor\":\"#E5ECF6\",\"polar\":{\"bgcolor\":\"#E5ECF6\",\"angularaxis\":{\"gridcolor\":\"white\",\"linecolor\":\"white\",\"ticks\":\"\"},\"radialaxis\":{\"gridcolor\":\"white\",\"linecolor\":\"white\",\"ticks\":\"\"}},\"ternary\":{\"bgcolor\":\"#E5ECF6\",\"aaxis\":{\"gridcolor\":\"white\",\"linecolor\":\"white\",\"ticks\":\"\"},\"baxis\":{\"gridcolor\":\"white\",\"linecolor\":\"white\",\"ticks\":\"\"},\"caxis\":{\"gridcolor\":\"white\",\"linecolor\":\"white\",\"ticks\":\"\"}},\"coloraxis\":{\"colorbar\":{\"outlinewidth\":0,\"ticks\":\"\"}},\"colorscale\":{\"sequential\":[[0.0,\"#0d0887\"],[0.1111111111111111,\"#46039f\"],[0.2222222222222222,\"#7201a8\"],[0.3333333333333333,\"#9c179e\"],[0.4444444444444444,\"#bd3786\"],[0.5555555555555556,\"#d8576b\"],[0.6666666666666666,\"#ed7953\"],[0.7777777777777778,\"#fb9f3a\"],[0.8888888888888888,\"#fdca26\"],[1.0,\"#f0f921\"]],\"sequentialminus\":[[0.0,\"#0d0887\"],[0.1111111111111111,\"#46039f\"],[0.2222222222222222,\"#7201a8\"],[0.3333333333333333,\"#9c179e\"],[0.4444444444444444,\"#bd3786\"],[0.5555555555555556,\"#d8576b\"],[0.6666666666666666,\"#ed7953\"],[0.7777777777777778,\"#fb9f3a\"],[0.8888888888888888,\"#fdca26\"],[1.0,\"#f0f921\"]],\"diverging\":[[0,\"#8e0152\"],[0.1,\"#c51b7d\"],[0.2,\"#de77ae\"],[0.3,\"#f1b6da\"],[0.4,\"#fde0ef\"],[0.5,\"#f7f7f7\"],[0.6,\"#e6f5d0\"],[0.7,\"#b8e186\"],[0.8,\"#7fbc41\"],[0.9,\"#4d9221\"],[1,\"#276419\"]]},\"xaxis\":{\"gridcolor\":\"white\",\"linecolor\":\"white\",\"ticks\":\"\",\"title\":{\"standoff\":15},\"zerolinecolor\":\"white\",\"automargin\":true,\"zerolinewidth\":2},\"yaxis\":{\"gridcolor\":\"white\",\"linecolor\":\"white\",\"ticks\":\"\",\"title\":{\"standoff\":15},\"zerolinecolor\":\"white\",\"automargin\":true,\"zerolinewidth\":2},\"scene\":{\"xaxis\":{\"backgroundcolor\":\"#E5ECF6\",\"gridcolor\":\"white\",\"linecolor\":\"white\",\"showbackground\":true,\"ticks\":\"\",\"zerolinecolor\":\"white\",\"gridwidth\":2},\"yaxis\":{\"backgroundcolor\":\"#E5ECF6\",\"gridcolor\":\"white\",\"linecolor\":\"white\",\"showbackground\":true,\"ticks\":\"\",\"zerolinecolor\":\"white\",\"gridwidth\":2},\"zaxis\":{\"backgroundcolor\":\"#E5ECF6\",\"gridcolor\":\"white\",\"linecolor\":\"white\",\"showbackground\":true,\"ticks\":\"\",\"zerolinecolor\":\"white\",\"gridwidth\":2}},\"shapedefaults\":{\"line\":{\"color\":\"#2a3f5f\"}},\"annotationdefaults\":{\"arrowcolor\":\"#2a3f5f\",\"arrowhead\":0,\"arrowwidth\":1},\"geo\":{\"bgcolor\":\"white\",\"landcolor\":\"#E5ECF6\",\"subunitcolor\":\"white\",\"showland\":true,\"showlakes\":true,\"lakecolor\":\"white\"},\"title\":{\"x\":0.05},\"mapbox\":{\"style\":\"light\"}}},\"scene\":{\"domain\":{\"x\":[0.0,1.0],\"y\":[0.0,1.0]},\"xaxis\":{\"title\":{\"text\":\"Feature_1\"}},\"yaxis\":{\"title\":{\"text\":\"Feature_2\"}},\"zaxis\":{\"title\":{\"text\":\"Feature_3\"}}},\"coloraxis\":{\"colorbar\":{\"title\":{\"text\":\"Cluster\"}},\"colorscale\":[[0.0,\"#0d0887\"],[0.1111111111111111,\"#46039f\"],[0.2222222222222222,\"#7201a8\"],[0.3333333333333333,\"#9c179e\"],[0.4444444444444444,\"#bd3786\"],[0.5555555555555556,\"#d8576b\"],[0.6666666666666666,\"#ed7953\"],[0.7777777777777778,\"#fb9f3a\"],[0.8888888888888888,\"#fdca26\"],[1.0,\"#f0f921\"]]},\"legend\":{\"tracegroupgap\":0},\"title\":{\"text\":\"K-Means Clustering (3D)\"}},                        {\"responsive\": true}                    ).then(function(){\n",
       "                            \n",
       "var gd = document.getElementById('f7f6b082-b063-4c98-899b-287c9757b0aa');\n",
       "var x = new MutationObserver(function (mutations, observer) {{\n",
       "        var display = window.getComputedStyle(gd).display;\n",
       "        if (!display || display === 'none') {{\n",
       "            console.log([gd, 'removed!']);\n",
       "            Plotly.purge(gd);\n",
       "            observer.disconnect();\n",
       "        }}\n",
       "}});\n",
       "\n",
       "// Listen for the removal of the full notebook cells\n",
       "var notebookContainer = gd.closest('#notebook-container');\n",
       "if (notebookContainer) {{\n",
       "    x.observe(notebookContainer, {childList: true});\n",
       "}}\n",
       "\n",
       "// Listen for the clearing of the current output cell\n",
       "var outputEl = gd.closest('.output');\n",
       "if (outputEl) {{\n",
       "    x.observe(outputEl, {childList: true});\n",
       "}}\n",
       "\n",
       "                        })                };                });            </script>        </div>"
      ]
     },
     "metadata": {},
     "output_type": "display_data"
    }
   ],
   "source": [
    "# Plot the 3D scatter plot with centroids\n",
    "fig_3d = px.scatter_3d(df, x='Feature_1', y='Feature_2', z='Feature_3',\n",
    "                       color='Cluster', opacity=0.8,\n",
    "                       title='K-Means Clustering (3D)', size_max=10)\n",
    "\n",
    "# Set the symbol for all data points to 'circle'\n",
    "fig_3d.update_traces(marker=dict(symbol='circle'))\n",
    "\n",
    "# Add centroids to the 3D scatter plot\n",
    "fig_3d.add_trace(go.Scatter3d(\n",
    "    x=centroids_df['Feature_1'],\n",
    "    y=centroids_df['Feature_2'],\n",
    "    z=centroids_df['Feature_3'],\n",
    "    mode='markers',\n",
    "    marker=dict(color='red', symbol='diamond', size=10),\n",
    "    name='Centroids'\n",
    "))\n",
    "\n",
    "# Show the 3D plot\n",
    "fig_3d.show()"
   ]
  },
  {
   "cell_type": "code",
   "execution_count": 110,
   "id": "e4515ac4",
   "metadata": {},
   "outputs": [
    {
     "data": {
      "application/vnd.plotly.v1+json": {
       "config": {
        "plotlyServerURL": "https://plot.ly"
       },
       "data": [
        {
         "hovertemplate": "Feature_1=%{x}<br>Feature_2=%{y}<br>Cluster=%{marker.color}<extra></extra>",
         "legendgroup": "",
         "marker": {
          "color": [
           2,
           0,
           1,
           2,
           2,
           2,
           1,
           1,
           2,
           1,
           1,
           1,
           1,
           2,
           0,
           2,
           0,
           0,
           2,
           1,
           2,
           0,
           2,
           0,
           0,
           2,
           0,
           2,
           2,
           2,
           1,
           1,
           2,
           0,
           0,
           1,
           0,
           2,
           0,
           2,
           1,
           1,
           1,
           2,
           2,
           0,
           1,
           0,
           0,
           2,
           1,
           0,
           1,
           1,
           0,
           2,
           0,
           0,
           1,
           1,
           1,
           1,
           2,
           1,
           2,
           0,
           0,
           1,
           1,
           2,
           1,
           1,
           2,
           1,
           2,
           2,
           1,
           2,
           0,
           0,
           0,
           0,
           0,
           1,
           2,
           1,
           1,
           0,
           2,
           1,
           1,
           2,
           2,
           0,
           1,
           0,
           0,
           2,
           1,
           1,
           2,
           0,
           2,
           1,
           0,
           0,
           2,
           0,
           1,
           0,
           0,
           0,
           2,
           0,
           0,
           2,
           2,
           0,
           2,
           0,
           0,
           0,
           1,
           1,
           1,
           2,
           0,
           2,
           2,
           2,
           0,
           0,
           2,
           2,
           1,
           2,
           1,
           0,
           1,
           1,
           2,
           0,
           1,
           0,
           2,
           1,
           0,
           0,
           2,
           0,
           0,
           0,
           2,
           2,
           2,
           1,
           0,
           2,
           0,
           2,
           2,
           2,
           1,
           1,
           2,
           2,
           0,
           1,
           0,
           1,
           0,
           2,
           0,
           1,
           2,
           0,
           1,
           1,
           1,
           2,
           2,
           0,
           0,
           2,
           1,
           2,
           0,
           2,
           0,
           0,
           2,
           0,
           0,
           1,
           0,
           1,
           2,
           1,
           0,
           1,
           0,
           2,
           0,
           2,
           1,
           2,
           0,
           0,
           1,
           2,
           2,
           1,
           2,
           1,
           2,
           1,
           1,
           0,
           2,
           2,
           0,
           1,
           2,
           1,
           2,
           0,
           1,
           1,
           0,
           0,
           0,
           0,
           1,
           1,
           1,
           1,
           0,
           0,
           2,
           2,
           2,
           2,
           1,
           1,
           2,
           0,
           2,
           1,
           0,
           2,
           1,
           0,
           2,
           0,
           2,
           1,
           2,
           2,
           0,
           0,
           0,
           1,
           0,
           0,
           0,
           1,
           0,
           2,
           2,
           0,
           1,
           0,
           1,
           1,
           1,
           1,
           2,
           1,
           0,
           2,
           0,
           2,
           2,
           1,
           2,
           1,
           0,
           0,
           1,
           1,
           0,
           2,
           2,
           0,
           2,
           0,
           1,
           1,
           1,
           0
          ],
          "coloraxis": "coloraxis",
          "opacity": 0.8,
          "symbol": "circle"
         },
         "mode": "markers",
         "name": "",
         "orientation": "v",
         "showlegend": false,
         "type": "scatter",
         "x": [
          19,
          22,
          98,
          54,
          38,
          93,
          83,
          80,
          93,
          16,
          58,
          80,
          77,
          50,
          11,
          7,
          39,
          76,
          78,
          99,
          62,
          17,
          78,
          64,
          30,
          93,
          55,
          45,
          98,
          80,
          93,
          97,
          59,
          6,
          38,
          87,
          34,
          49,
          21,
          88,
          52,
          76,
          75,
          90,
          96,
          32,
          81,
          24,
          5,
          74,
          33,
          20,
          83,
          56,
          25,
          88,
          36,
          16,
          59,
          55,
          66,
          62,
          30,
          78,
          44,
          72,
          24,
          77,
          8,
          45,
          92,
          89,
          73,
          28,
          12,
          96,
          56,
          97,
          9,
          10,
          21,
          6,
          31,
          54,
          26,
          7,
          15,
          31,
          25,
          19,
          73,
          55,
          59,
          21,
          72,
          46,
          16,
          91,
          12,
          39,
          50,
          43,
          66,
          82,
          45,
          27,
          81,
          52,
          53,
          60,
          66,
          10,
          90,
          52,
          41,
          50,
          80,
          80,
          33,
          29,
          52,
          22,
          79,
          37,
          48,
          70,
          18,
          30,
          17,
          87,
          13,
          16,
          69,
          71,
          10,
          88,
          19,
          5,
          64,
          24,
          75,
          41,
          63,
          45,
          57,
          69,
          5,
          14,
          97,
          24,
          8,
          24,
          65,
          32,
          81,
          67,
          9,
          50,
          11,
          57,
          79,
          44,
          72,
          47,
          68,
          21,
          24,
          39,
          14,
          60,
          14,
          77,
          44,
          92,
          68,
          20,
          79,
          67,
          89,
          41,
          38,
          27,
          54,
          78,
          22,
          39,
          17,
          83,
          57,
          39,
          77,
          36,
          38,
          97,
          7,
          95,
          11,
          96,
          12,
          58,
          15,
          94,
          19,
          88,
          28,
          93,
          82,
          39,
          58,
          46,
          39,
          31,
          58,
          68,
          93,
          75,
          61,
          35,
          91,
          91,
          37,
          15,
          50,
          38,
          74,
          98,
          16,
          48,
          67,
          55,
          43,
          29,
          92,
          57,
          48,
          28,
          15,
          11,
          95,
          52,
          39,
          43,
          52,
          49,
          50,
          9,
          8,
          46,
          19,
          82,
          17,
          8,
          57,
          35,
          86,
          79,
          79,
          61,
          48,
          16,
          46,
          47,
          49,
          51,
          9,
          64,
          59,
          46,
          63,
          63,
          46,
          30,
          45,
          58,
          91,
          30,
          92,
          10,
          14,
          22,
          10,
          28,
          52,
          58,
          69,
          87,
          16,
          16,
          70,
          98,
          28,
          52,
          47,
          30,
          88,
          19,
          33,
          65,
          92,
          25
         ],
         "xaxis": "x",
         "y": [
          38,
          21,
          77,
          82,
          63,
          49,
          57,
          66,
          61,
          75,
          89,
          46,
          42,
          10,
          82,
          47,
          31,
          48,
          57,
          40,
          21,
          90,
          22,
          35,
          89,
          44,
          36,
          83,
          43,
          84,
          12,
          29,
          7,
          49,
          86,
          80,
          9,
          11,
          64,
          54,
          62,
          68,
          18,
          60,
          53,
          76,
          58,
          40,
          12,
          18,
          27,
          15,
          72,
          32,
          8,
          42,
          44,
          20,
          83,
          60,
          96,
          82,
          73,
          99,
          17,
          17,
          38,
          54,
          11,
          24,
          10,
          15,
          40,
          56,
          59,
          62,
          67,
          68,
          99,
          77,
          62,
          61,
          54,
          57,
          20,
          53,
          5,
          90,
          62,
          46,
          58,
          60,
          44,
          32,
          78,
          6,
          41,
          7,
          35,
          34,
          40,
          63,
          30,
          64,
          76,
          89,
          43,
          95,
          49,
          62,
          97,
          82,
          12,
          52,
          89,
          76,
          6,
          67,
          23,
          68,
          11,
          54,
          75,
          23,
          84,
          8,
          42,
          29,
          63,
          22,
          68,
          78,
          26,
          75,
          91,
          73,
          59,
          58,
          21,
          6,
          84,
          6,
          61,
          28,
          16,
          82,
          54,
          33,
          35,
          20,
          48,
          81,
          11,
          65,
          49,
          99,
          80,
          81,
          94,
          57,
          69,
          9,
          57,
          57,
          19,
          23,
          78,
          49,
          64,
          45,
          17,
          9,
          45,
          48,
          17,
          49,
          28,
          89,
          23,
          22,
          94,
          51,
          31,
          48,
          30,
          42,
          81,
          26,
          91,
          70,
          76,
          99,
          82,
          59,
          95,
          65,
          39,
          10,
          34,
          9,
          82,
          10,
          5,
          27,
          48,
          24,
          75,
          91,
          32,
          38,
          26,
          77,
          18,
          85,
          88,
          86,
          71,
          65,
          7,
          96,
          69,
          16,
          64,
          66,
          61,
          27,
          94,
          52,
          93,
          96,
          33,
          56,
          69,
          71,
          45,
          62,
          42,
          69,
          69,
          76,
          57,
          37,
          64,
          17,
          12,
          85,
          96,
          74,
          93,
          20,
          66,
          55,
          78,
          91,
          43,
          34,
          56,
          21,
          32,
          38,
          45,
          40,
          10,
          27,
          95,
          93,
          16,
          79,
          52,
          59,
          25,
          75,
          52,
          39,
          90,
          67,
          21,
          86,
          65,
          51,
          21,
          8,
          21,
          76,
          73,
          99,
          35,
          51,
          16,
          74,
          42,
          38,
          30,
          14,
          96,
          70,
          98,
          37,
          83,
          8
         ],
         "yaxis": "y"
        },
        {
         "marker": {
          "color": "red",
          "size": 10,
          "symbol": "diamond"
         },
         "mode": "markers",
         "name": "Centroids",
         "type": "scatter",
         "x": [
          30.942307692307672,
          58.46875,
          62.329999999999984
         ],
         "y": [
          55.23076923076923,
          55.58333333333333,
          43.94999999999999
         ]
        }
       ],
       "layout": {
        "coloraxis": {
         "colorbar": {
          "title": {
           "text": "Cluster"
          }
         },
         "colorscale": [
          [
           0,
           "#0d0887"
          ],
          [
           0.1111111111111111,
           "#46039f"
          ],
          [
           0.2222222222222222,
           "#7201a8"
          ],
          [
           0.3333333333333333,
           "#9c179e"
          ],
          [
           0.4444444444444444,
           "#bd3786"
          ],
          [
           0.5555555555555556,
           "#d8576b"
          ],
          [
           0.6666666666666666,
           "#ed7953"
          ],
          [
           0.7777777777777778,
           "#fb9f3a"
          ],
          [
           0.8888888888888888,
           "#fdca26"
          ],
          [
           1,
           "#f0f921"
          ]
         ]
        },
        "legend": {
         "tracegroupgap": 0
        },
        "template": {
         "data": {
          "bar": [
           {
            "error_x": {
             "color": "#2a3f5f"
            },
            "error_y": {
             "color": "#2a3f5f"
            },
            "marker": {
             "line": {
              "color": "#E5ECF6",
              "width": 0.5
             },
             "pattern": {
              "fillmode": "overlay",
              "size": 10,
              "solidity": 0.2
             }
            },
            "type": "bar"
           }
          ],
          "barpolar": [
           {
            "marker": {
             "line": {
              "color": "#E5ECF6",
              "width": 0.5
             },
             "pattern": {
              "fillmode": "overlay",
              "size": 10,
              "solidity": 0.2
             }
            },
            "type": "barpolar"
           }
          ],
          "carpet": [
           {
            "aaxis": {
             "endlinecolor": "#2a3f5f",
             "gridcolor": "white",
             "linecolor": "white",
             "minorgridcolor": "white",
             "startlinecolor": "#2a3f5f"
            },
            "baxis": {
             "endlinecolor": "#2a3f5f",
             "gridcolor": "white",
             "linecolor": "white",
             "minorgridcolor": "white",
             "startlinecolor": "#2a3f5f"
            },
            "type": "carpet"
           }
          ],
          "choropleth": [
           {
            "colorbar": {
             "outlinewidth": 0,
             "ticks": ""
            },
            "type": "choropleth"
           }
          ],
          "contour": [
           {
            "colorbar": {
             "outlinewidth": 0,
             "ticks": ""
            },
            "colorscale": [
             [
              0,
              "#0d0887"
             ],
             [
              0.1111111111111111,
              "#46039f"
             ],
             [
              0.2222222222222222,
              "#7201a8"
             ],
             [
              0.3333333333333333,
              "#9c179e"
             ],
             [
              0.4444444444444444,
              "#bd3786"
             ],
             [
              0.5555555555555556,
              "#d8576b"
             ],
             [
              0.6666666666666666,
              "#ed7953"
             ],
             [
              0.7777777777777778,
              "#fb9f3a"
             ],
             [
              0.8888888888888888,
              "#fdca26"
             ],
             [
              1,
              "#f0f921"
             ]
            ],
            "type": "contour"
           }
          ],
          "contourcarpet": [
           {
            "colorbar": {
             "outlinewidth": 0,
             "ticks": ""
            },
            "type": "contourcarpet"
           }
          ],
          "heatmap": [
           {
            "colorbar": {
             "outlinewidth": 0,
             "ticks": ""
            },
            "colorscale": [
             [
              0,
              "#0d0887"
             ],
             [
              0.1111111111111111,
              "#46039f"
             ],
             [
              0.2222222222222222,
              "#7201a8"
             ],
             [
              0.3333333333333333,
              "#9c179e"
             ],
             [
              0.4444444444444444,
              "#bd3786"
             ],
             [
              0.5555555555555556,
              "#d8576b"
             ],
             [
              0.6666666666666666,
              "#ed7953"
             ],
             [
              0.7777777777777778,
              "#fb9f3a"
             ],
             [
              0.8888888888888888,
              "#fdca26"
             ],
             [
              1,
              "#f0f921"
             ]
            ],
            "type": "heatmap"
           }
          ],
          "heatmapgl": [
           {
            "colorbar": {
             "outlinewidth": 0,
             "ticks": ""
            },
            "colorscale": [
             [
              0,
              "#0d0887"
             ],
             [
              0.1111111111111111,
              "#46039f"
             ],
             [
              0.2222222222222222,
              "#7201a8"
             ],
             [
              0.3333333333333333,
              "#9c179e"
             ],
             [
              0.4444444444444444,
              "#bd3786"
             ],
             [
              0.5555555555555556,
              "#d8576b"
             ],
             [
              0.6666666666666666,
              "#ed7953"
             ],
             [
              0.7777777777777778,
              "#fb9f3a"
             ],
             [
              0.8888888888888888,
              "#fdca26"
             ],
             [
              1,
              "#f0f921"
             ]
            ],
            "type": "heatmapgl"
           }
          ],
          "histogram": [
           {
            "marker": {
             "pattern": {
              "fillmode": "overlay",
              "size": 10,
              "solidity": 0.2
             }
            },
            "type": "histogram"
           }
          ],
          "histogram2d": [
           {
            "colorbar": {
             "outlinewidth": 0,
             "ticks": ""
            },
            "colorscale": [
             [
              0,
              "#0d0887"
             ],
             [
              0.1111111111111111,
              "#46039f"
             ],
             [
              0.2222222222222222,
              "#7201a8"
             ],
             [
              0.3333333333333333,
              "#9c179e"
             ],
             [
              0.4444444444444444,
              "#bd3786"
             ],
             [
              0.5555555555555556,
              "#d8576b"
             ],
             [
              0.6666666666666666,
              "#ed7953"
             ],
             [
              0.7777777777777778,
              "#fb9f3a"
             ],
             [
              0.8888888888888888,
              "#fdca26"
             ],
             [
              1,
              "#f0f921"
             ]
            ],
            "type": "histogram2d"
           }
          ],
          "histogram2dcontour": [
           {
            "colorbar": {
             "outlinewidth": 0,
             "ticks": ""
            },
            "colorscale": [
             [
              0,
              "#0d0887"
             ],
             [
              0.1111111111111111,
              "#46039f"
             ],
             [
              0.2222222222222222,
              "#7201a8"
             ],
             [
              0.3333333333333333,
              "#9c179e"
             ],
             [
              0.4444444444444444,
              "#bd3786"
             ],
             [
              0.5555555555555556,
              "#d8576b"
             ],
             [
              0.6666666666666666,
              "#ed7953"
             ],
             [
              0.7777777777777778,
              "#fb9f3a"
             ],
             [
              0.8888888888888888,
              "#fdca26"
             ],
             [
              1,
              "#f0f921"
             ]
            ],
            "type": "histogram2dcontour"
           }
          ],
          "mesh3d": [
           {
            "colorbar": {
             "outlinewidth": 0,
             "ticks": ""
            },
            "type": "mesh3d"
           }
          ],
          "parcoords": [
           {
            "line": {
             "colorbar": {
              "outlinewidth": 0,
              "ticks": ""
             }
            },
            "type": "parcoords"
           }
          ],
          "pie": [
           {
            "automargin": true,
            "type": "pie"
           }
          ],
          "scatter": [
           {
            "fillpattern": {
             "fillmode": "overlay",
             "size": 10,
             "solidity": 0.2
            },
            "type": "scatter"
           }
          ],
          "scatter3d": [
           {
            "line": {
             "colorbar": {
              "outlinewidth": 0,
              "ticks": ""
             }
            },
            "marker": {
             "colorbar": {
              "outlinewidth": 0,
              "ticks": ""
             }
            },
            "type": "scatter3d"
           }
          ],
          "scattercarpet": [
           {
            "marker": {
             "colorbar": {
              "outlinewidth": 0,
              "ticks": ""
             }
            },
            "type": "scattercarpet"
           }
          ],
          "scattergeo": [
           {
            "marker": {
             "colorbar": {
              "outlinewidth": 0,
              "ticks": ""
             }
            },
            "type": "scattergeo"
           }
          ],
          "scattergl": [
           {
            "marker": {
             "colorbar": {
              "outlinewidth": 0,
              "ticks": ""
             }
            },
            "type": "scattergl"
           }
          ],
          "scattermapbox": [
           {
            "marker": {
             "colorbar": {
              "outlinewidth": 0,
              "ticks": ""
             }
            },
            "type": "scattermapbox"
           }
          ],
          "scatterpolar": [
           {
            "marker": {
             "colorbar": {
              "outlinewidth": 0,
              "ticks": ""
             }
            },
            "type": "scatterpolar"
           }
          ],
          "scatterpolargl": [
           {
            "marker": {
             "colorbar": {
              "outlinewidth": 0,
              "ticks": ""
             }
            },
            "type": "scatterpolargl"
           }
          ],
          "scatterternary": [
           {
            "marker": {
             "colorbar": {
              "outlinewidth": 0,
              "ticks": ""
             }
            },
            "type": "scatterternary"
           }
          ],
          "surface": [
           {
            "colorbar": {
             "outlinewidth": 0,
             "ticks": ""
            },
            "colorscale": [
             [
              0,
              "#0d0887"
             ],
             [
              0.1111111111111111,
              "#46039f"
             ],
             [
              0.2222222222222222,
              "#7201a8"
             ],
             [
              0.3333333333333333,
              "#9c179e"
             ],
             [
              0.4444444444444444,
              "#bd3786"
             ],
             [
              0.5555555555555556,
              "#d8576b"
             ],
             [
              0.6666666666666666,
              "#ed7953"
             ],
             [
              0.7777777777777778,
              "#fb9f3a"
             ],
             [
              0.8888888888888888,
              "#fdca26"
             ],
             [
              1,
              "#f0f921"
             ]
            ],
            "type": "surface"
           }
          ],
          "table": [
           {
            "cells": {
             "fill": {
              "color": "#EBF0F8"
             },
             "line": {
              "color": "white"
             }
            },
            "header": {
             "fill": {
              "color": "#C8D4E3"
             },
             "line": {
              "color": "white"
             }
            },
            "type": "table"
           }
          ]
         },
         "layout": {
          "annotationdefaults": {
           "arrowcolor": "#2a3f5f",
           "arrowhead": 0,
           "arrowwidth": 1
          },
          "autotypenumbers": "strict",
          "coloraxis": {
           "colorbar": {
            "outlinewidth": 0,
            "ticks": ""
           }
          },
          "colorscale": {
           "diverging": [
            [
             0,
             "#8e0152"
            ],
            [
             0.1,
             "#c51b7d"
            ],
            [
             0.2,
             "#de77ae"
            ],
            [
             0.3,
             "#f1b6da"
            ],
            [
             0.4,
             "#fde0ef"
            ],
            [
             0.5,
             "#f7f7f7"
            ],
            [
             0.6,
             "#e6f5d0"
            ],
            [
             0.7,
             "#b8e186"
            ],
            [
             0.8,
             "#7fbc41"
            ],
            [
             0.9,
             "#4d9221"
            ],
            [
             1,
             "#276419"
            ]
           ],
           "sequential": [
            [
             0,
             "#0d0887"
            ],
            [
             0.1111111111111111,
             "#46039f"
            ],
            [
             0.2222222222222222,
             "#7201a8"
            ],
            [
             0.3333333333333333,
             "#9c179e"
            ],
            [
             0.4444444444444444,
             "#bd3786"
            ],
            [
             0.5555555555555556,
             "#d8576b"
            ],
            [
             0.6666666666666666,
             "#ed7953"
            ],
            [
             0.7777777777777778,
             "#fb9f3a"
            ],
            [
             0.8888888888888888,
             "#fdca26"
            ],
            [
             1,
             "#f0f921"
            ]
           ],
           "sequentialminus": [
            [
             0,
             "#0d0887"
            ],
            [
             0.1111111111111111,
             "#46039f"
            ],
            [
             0.2222222222222222,
             "#7201a8"
            ],
            [
             0.3333333333333333,
             "#9c179e"
            ],
            [
             0.4444444444444444,
             "#bd3786"
            ],
            [
             0.5555555555555556,
             "#d8576b"
            ],
            [
             0.6666666666666666,
             "#ed7953"
            ],
            [
             0.7777777777777778,
             "#fb9f3a"
            ],
            [
             0.8888888888888888,
             "#fdca26"
            ],
            [
             1,
             "#f0f921"
            ]
           ]
          },
          "colorway": [
           "#636efa",
           "#EF553B",
           "#00cc96",
           "#ab63fa",
           "#FFA15A",
           "#19d3f3",
           "#FF6692",
           "#B6E880",
           "#FF97FF",
           "#FECB52"
          ],
          "font": {
           "color": "#2a3f5f"
          },
          "geo": {
           "bgcolor": "white",
           "lakecolor": "white",
           "landcolor": "#E5ECF6",
           "showlakes": true,
           "showland": true,
           "subunitcolor": "white"
          },
          "hoverlabel": {
           "align": "left"
          },
          "hovermode": "closest",
          "mapbox": {
           "style": "light"
          },
          "paper_bgcolor": "white",
          "plot_bgcolor": "#E5ECF6",
          "polar": {
           "angularaxis": {
            "gridcolor": "white",
            "linecolor": "white",
            "ticks": ""
           },
           "bgcolor": "#E5ECF6",
           "radialaxis": {
            "gridcolor": "white",
            "linecolor": "white",
            "ticks": ""
           }
          },
          "scene": {
           "xaxis": {
            "backgroundcolor": "#E5ECF6",
            "gridcolor": "white",
            "gridwidth": 2,
            "linecolor": "white",
            "showbackground": true,
            "ticks": "",
            "zerolinecolor": "white"
           },
           "yaxis": {
            "backgroundcolor": "#E5ECF6",
            "gridcolor": "white",
            "gridwidth": 2,
            "linecolor": "white",
            "showbackground": true,
            "ticks": "",
            "zerolinecolor": "white"
           },
           "zaxis": {
            "backgroundcolor": "#E5ECF6",
            "gridcolor": "white",
            "gridwidth": 2,
            "linecolor": "white",
            "showbackground": true,
            "ticks": "",
            "zerolinecolor": "white"
           }
          },
          "shapedefaults": {
           "line": {
            "color": "#2a3f5f"
           }
          },
          "ternary": {
           "aaxis": {
            "gridcolor": "white",
            "linecolor": "white",
            "ticks": ""
           },
           "baxis": {
            "gridcolor": "white",
            "linecolor": "white",
            "ticks": ""
           },
           "bgcolor": "#E5ECF6",
           "caxis": {
            "gridcolor": "white",
            "linecolor": "white",
            "ticks": ""
           }
          },
          "title": {
           "x": 0.05
          },
          "xaxis": {
           "automargin": true,
           "gridcolor": "white",
           "linecolor": "white",
           "ticks": "",
           "title": {
            "standoff": 15
           },
           "zerolinecolor": "white",
           "zerolinewidth": 2
          },
          "yaxis": {
           "automargin": true,
           "gridcolor": "white",
           "linecolor": "white",
           "ticks": "",
           "title": {
            "standoff": 15
           },
           "zerolinecolor": "white",
           "zerolinewidth": 2
          }
         }
        },
        "title": {
         "text": "K-Means Clustering (2D)"
        },
        "xaxis": {
         "anchor": "y",
         "domain": [
          0,
          1
         ],
         "title": {
          "text": "Feature_1"
         }
        },
        "yaxis": {
         "anchor": "x",
         "domain": [
          0,
          1
         ],
         "title": {
          "text": "Feature_2"
         }
        }
       }
      },
      "text/html": [
       "<div>                            <div id=\"fc8bd3b4-7be2-4b4e-8d3f-edc2684a61f3\" class=\"plotly-graph-div\" style=\"height:525px; width:100%;\"></div>            <script type=\"text/javascript\">                require([\"plotly\"], function(Plotly) {                    window.PLOTLYENV=window.PLOTLYENV || {};                                    if (document.getElementById(\"fc8bd3b4-7be2-4b4e-8d3f-edc2684a61f3\")) {                    Plotly.newPlot(                        \"fc8bd3b4-7be2-4b4e-8d3f-edc2684a61f3\",                        [{\"hovertemplate\":\"Feature_1=%{x}<br>Feature_2=%{y}<br>Cluster=%{marker.color}<extra></extra>\",\"legendgroup\":\"\",\"marker\":{\"color\":[2,0,1,2,2,2,1,1,2,1,1,1,1,2,0,2,0,0,2,1,2,0,2,0,0,2,0,2,2,2,1,1,2,0,0,1,0,2,0,2,1,1,1,2,2,0,1,0,0,2,1,0,1,1,0,2,0,0,1,1,1,1,2,1,2,0,0,1,1,2,1,1,2,1,2,2,1,2,0,0,0,0,0,1,2,1,1,0,2,1,1,2,2,0,1,0,0,2,1,1,2,0,2,1,0,0,2,0,1,0,0,0,2,0,0,2,2,0,2,0,0,0,1,1,1,2,0,2,2,2,0,0,2,2,1,2,1,0,1,1,2,0,1,0,2,1,0,0,2,0,0,0,2,2,2,1,0,2,0,2,2,2,1,1,2,2,0,1,0,1,0,2,0,1,2,0,1,1,1,2,2,0,0,2,1,2,0,2,0,0,2,0,0,1,0,1,2,1,0,1,0,2,0,2,1,2,0,0,1,2,2,1,2,1,2,1,1,0,2,2,0,1,2,1,2,0,1,1,0,0,0,0,1,1,1,1,0,0,2,2,2,2,1,1,2,0,2,1,0,2,1,0,2,0,2,1,2,2,0,0,0,1,0,0,0,1,0,2,2,0,1,0,1,1,1,1,2,1,0,2,0,2,2,1,2,1,0,0,1,1,0,2,2,0,2,0,1,1,1,0],\"coloraxis\":\"coloraxis\",\"opacity\":0.8,\"symbol\":\"circle\"},\"mode\":\"markers\",\"name\":\"\",\"orientation\":\"v\",\"showlegend\":false,\"x\":[19,22,98,54,38,93,83,80,93,16,58,80,77,50,11,7,39,76,78,99,62,17,78,64,30,93,55,45,98,80,93,97,59,6,38,87,34,49,21,88,52,76,75,90,96,32,81,24,5,74,33,20,83,56,25,88,36,16,59,55,66,62,30,78,44,72,24,77,8,45,92,89,73,28,12,96,56,97,9,10,21,6,31,54,26,7,15,31,25,19,73,55,59,21,72,46,16,91,12,39,50,43,66,82,45,27,81,52,53,60,66,10,90,52,41,50,80,80,33,29,52,22,79,37,48,70,18,30,17,87,13,16,69,71,10,88,19,5,64,24,75,41,63,45,57,69,5,14,97,24,8,24,65,32,81,67,9,50,11,57,79,44,72,47,68,21,24,39,14,60,14,77,44,92,68,20,79,67,89,41,38,27,54,78,22,39,17,83,57,39,77,36,38,97,7,95,11,96,12,58,15,94,19,88,28,93,82,39,58,46,39,31,58,68,93,75,61,35,91,91,37,15,50,38,74,98,16,48,67,55,43,29,92,57,48,28,15,11,95,52,39,43,52,49,50,9,8,46,19,82,17,8,57,35,86,79,79,61,48,16,46,47,49,51,9,64,59,46,63,63,46,30,45,58,91,30,92,10,14,22,10,28,52,58,69,87,16,16,70,98,28,52,47,30,88,19,33,65,92,25],\"xaxis\":\"x\",\"y\":[38,21,77,82,63,49,57,66,61,75,89,46,42,10,82,47,31,48,57,40,21,90,22,35,89,44,36,83,43,84,12,29,7,49,86,80,9,11,64,54,62,68,18,60,53,76,58,40,12,18,27,15,72,32,8,42,44,20,83,60,96,82,73,99,17,17,38,54,11,24,10,15,40,56,59,62,67,68,99,77,62,61,54,57,20,53,5,90,62,46,58,60,44,32,78,6,41,7,35,34,40,63,30,64,76,89,43,95,49,62,97,82,12,52,89,76,6,67,23,68,11,54,75,23,84,8,42,29,63,22,68,78,26,75,91,73,59,58,21,6,84,6,61,28,16,82,54,33,35,20,48,81,11,65,49,99,80,81,94,57,69,9,57,57,19,23,78,49,64,45,17,9,45,48,17,49,28,89,23,22,94,51,31,48,30,42,81,26,91,70,76,99,82,59,95,65,39,10,34,9,82,10,5,27,48,24,75,91,32,38,26,77,18,85,88,86,71,65,7,96,69,16,64,66,61,27,94,52,93,96,33,56,69,71,45,62,42,69,69,76,57,37,64,17,12,85,96,74,93,20,66,55,78,91,43,34,56,21,32,38,45,40,10,27,95,93,16,79,52,59,25,75,52,39,90,67,21,86,65,51,21,8,21,76,73,99,35,51,16,74,42,38,30,14,96,70,98,37,83,8],\"yaxis\":\"y\",\"type\":\"scatter\"},{\"marker\":{\"color\":\"red\",\"size\":10,\"symbol\":\"diamond\"},\"mode\":\"markers\",\"name\":\"Centroids\",\"x\":[30.942307692307672,58.46875,62.329999999999984],\"y\":[55.23076923076923,55.58333333333333,43.94999999999999],\"type\":\"scatter\"}],                        {\"template\":{\"data\":{\"histogram2dcontour\":[{\"type\":\"histogram2dcontour\",\"colorbar\":{\"outlinewidth\":0,\"ticks\":\"\"},\"colorscale\":[[0.0,\"#0d0887\"],[0.1111111111111111,\"#46039f\"],[0.2222222222222222,\"#7201a8\"],[0.3333333333333333,\"#9c179e\"],[0.4444444444444444,\"#bd3786\"],[0.5555555555555556,\"#d8576b\"],[0.6666666666666666,\"#ed7953\"],[0.7777777777777778,\"#fb9f3a\"],[0.8888888888888888,\"#fdca26\"],[1.0,\"#f0f921\"]]}],\"choropleth\":[{\"type\":\"choropleth\",\"colorbar\":{\"outlinewidth\":0,\"ticks\":\"\"}}],\"histogram2d\":[{\"type\":\"histogram2d\",\"colorbar\":{\"outlinewidth\":0,\"ticks\":\"\"},\"colorscale\":[[0.0,\"#0d0887\"],[0.1111111111111111,\"#46039f\"],[0.2222222222222222,\"#7201a8\"],[0.3333333333333333,\"#9c179e\"],[0.4444444444444444,\"#bd3786\"],[0.5555555555555556,\"#d8576b\"],[0.6666666666666666,\"#ed7953\"],[0.7777777777777778,\"#fb9f3a\"],[0.8888888888888888,\"#fdca26\"],[1.0,\"#f0f921\"]]}],\"heatmap\":[{\"type\":\"heatmap\",\"colorbar\":{\"outlinewidth\":0,\"ticks\":\"\"},\"colorscale\":[[0.0,\"#0d0887\"],[0.1111111111111111,\"#46039f\"],[0.2222222222222222,\"#7201a8\"],[0.3333333333333333,\"#9c179e\"],[0.4444444444444444,\"#bd3786\"],[0.5555555555555556,\"#d8576b\"],[0.6666666666666666,\"#ed7953\"],[0.7777777777777778,\"#fb9f3a\"],[0.8888888888888888,\"#fdca26\"],[1.0,\"#f0f921\"]]}],\"heatmapgl\":[{\"type\":\"heatmapgl\",\"colorbar\":{\"outlinewidth\":0,\"ticks\":\"\"},\"colorscale\":[[0.0,\"#0d0887\"],[0.1111111111111111,\"#46039f\"],[0.2222222222222222,\"#7201a8\"],[0.3333333333333333,\"#9c179e\"],[0.4444444444444444,\"#bd3786\"],[0.5555555555555556,\"#d8576b\"],[0.6666666666666666,\"#ed7953\"],[0.7777777777777778,\"#fb9f3a\"],[0.8888888888888888,\"#fdca26\"],[1.0,\"#f0f921\"]]}],\"contourcarpet\":[{\"type\":\"contourcarpet\",\"colorbar\":{\"outlinewidth\":0,\"ticks\":\"\"}}],\"contour\":[{\"type\":\"contour\",\"colorbar\":{\"outlinewidth\":0,\"ticks\":\"\"},\"colorscale\":[[0.0,\"#0d0887\"],[0.1111111111111111,\"#46039f\"],[0.2222222222222222,\"#7201a8\"],[0.3333333333333333,\"#9c179e\"],[0.4444444444444444,\"#bd3786\"],[0.5555555555555556,\"#d8576b\"],[0.6666666666666666,\"#ed7953\"],[0.7777777777777778,\"#fb9f3a\"],[0.8888888888888888,\"#fdca26\"],[1.0,\"#f0f921\"]]}],\"surface\":[{\"type\":\"surface\",\"colorbar\":{\"outlinewidth\":0,\"ticks\":\"\"},\"colorscale\":[[0.0,\"#0d0887\"],[0.1111111111111111,\"#46039f\"],[0.2222222222222222,\"#7201a8\"],[0.3333333333333333,\"#9c179e\"],[0.4444444444444444,\"#bd3786\"],[0.5555555555555556,\"#d8576b\"],[0.6666666666666666,\"#ed7953\"],[0.7777777777777778,\"#fb9f3a\"],[0.8888888888888888,\"#fdca26\"],[1.0,\"#f0f921\"]]}],\"mesh3d\":[{\"type\":\"mesh3d\",\"colorbar\":{\"outlinewidth\":0,\"ticks\":\"\"}}],\"scatter\":[{\"fillpattern\":{\"fillmode\":\"overlay\",\"size\":10,\"solidity\":0.2},\"type\":\"scatter\"}],\"parcoords\":[{\"type\":\"parcoords\",\"line\":{\"colorbar\":{\"outlinewidth\":0,\"ticks\":\"\"}}}],\"scatterpolargl\":[{\"type\":\"scatterpolargl\",\"marker\":{\"colorbar\":{\"outlinewidth\":0,\"ticks\":\"\"}}}],\"bar\":[{\"error_x\":{\"color\":\"#2a3f5f\"},\"error_y\":{\"color\":\"#2a3f5f\"},\"marker\":{\"line\":{\"color\":\"#E5ECF6\",\"width\":0.5},\"pattern\":{\"fillmode\":\"overlay\",\"size\":10,\"solidity\":0.2}},\"type\":\"bar\"}],\"scattergeo\":[{\"type\":\"scattergeo\",\"marker\":{\"colorbar\":{\"outlinewidth\":0,\"ticks\":\"\"}}}],\"scatterpolar\":[{\"type\":\"scatterpolar\",\"marker\":{\"colorbar\":{\"outlinewidth\":0,\"ticks\":\"\"}}}],\"histogram\":[{\"marker\":{\"pattern\":{\"fillmode\":\"overlay\",\"size\":10,\"solidity\":0.2}},\"type\":\"histogram\"}],\"scattergl\":[{\"type\":\"scattergl\",\"marker\":{\"colorbar\":{\"outlinewidth\":0,\"ticks\":\"\"}}}],\"scatter3d\":[{\"type\":\"scatter3d\",\"line\":{\"colorbar\":{\"outlinewidth\":0,\"ticks\":\"\"}},\"marker\":{\"colorbar\":{\"outlinewidth\":0,\"ticks\":\"\"}}}],\"scattermapbox\":[{\"type\":\"scattermapbox\",\"marker\":{\"colorbar\":{\"outlinewidth\":0,\"ticks\":\"\"}}}],\"scatterternary\":[{\"type\":\"scatterternary\",\"marker\":{\"colorbar\":{\"outlinewidth\":0,\"ticks\":\"\"}}}],\"scattercarpet\":[{\"type\":\"scattercarpet\",\"marker\":{\"colorbar\":{\"outlinewidth\":0,\"ticks\":\"\"}}}],\"carpet\":[{\"aaxis\":{\"endlinecolor\":\"#2a3f5f\",\"gridcolor\":\"white\",\"linecolor\":\"white\",\"minorgridcolor\":\"white\",\"startlinecolor\":\"#2a3f5f\"},\"baxis\":{\"endlinecolor\":\"#2a3f5f\",\"gridcolor\":\"white\",\"linecolor\":\"white\",\"minorgridcolor\":\"white\",\"startlinecolor\":\"#2a3f5f\"},\"type\":\"carpet\"}],\"table\":[{\"cells\":{\"fill\":{\"color\":\"#EBF0F8\"},\"line\":{\"color\":\"white\"}},\"header\":{\"fill\":{\"color\":\"#C8D4E3\"},\"line\":{\"color\":\"white\"}},\"type\":\"table\"}],\"barpolar\":[{\"marker\":{\"line\":{\"color\":\"#E5ECF6\",\"width\":0.5},\"pattern\":{\"fillmode\":\"overlay\",\"size\":10,\"solidity\":0.2}},\"type\":\"barpolar\"}],\"pie\":[{\"automargin\":true,\"type\":\"pie\"}]},\"layout\":{\"autotypenumbers\":\"strict\",\"colorway\":[\"#636efa\",\"#EF553B\",\"#00cc96\",\"#ab63fa\",\"#FFA15A\",\"#19d3f3\",\"#FF6692\",\"#B6E880\",\"#FF97FF\",\"#FECB52\"],\"font\":{\"color\":\"#2a3f5f\"},\"hovermode\":\"closest\",\"hoverlabel\":{\"align\":\"left\"},\"paper_bgcolor\":\"white\",\"plot_bgcolor\":\"#E5ECF6\",\"polar\":{\"bgcolor\":\"#E5ECF6\",\"angularaxis\":{\"gridcolor\":\"white\",\"linecolor\":\"white\",\"ticks\":\"\"},\"radialaxis\":{\"gridcolor\":\"white\",\"linecolor\":\"white\",\"ticks\":\"\"}},\"ternary\":{\"bgcolor\":\"#E5ECF6\",\"aaxis\":{\"gridcolor\":\"white\",\"linecolor\":\"white\",\"ticks\":\"\"},\"baxis\":{\"gridcolor\":\"white\",\"linecolor\":\"white\",\"ticks\":\"\"},\"caxis\":{\"gridcolor\":\"white\",\"linecolor\":\"white\",\"ticks\":\"\"}},\"coloraxis\":{\"colorbar\":{\"outlinewidth\":0,\"ticks\":\"\"}},\"colorscale\":{\"sequential\":[[0.0,\"#0d0887\"],[0.1111111111111111,\"#46039f\"],[0.2222222222222222,\"#7201a8\"],[0.3333333333333333,\"#9c179e\"],[0.4444444444444444,\"#bd3786\"],[0.5555555555555556,\"#d8576b\"],[0.6666666666666666,\"#ed7953\"],[0.7777777777777778,\"#fb9f3a\"],[0.8888888888888888,\"#fdca26\"],[1.0,\"#f0f921\"]],\"sequentialminus\":[[0.0,\"#0d0887\"],[0.1111111111111111,\"#46039f\"],[0.2222222222222222,\"#7201a8\"],[0.3333333333333333,\"#9c179e\"],[0.4444444444444444,\"#bd3786\"],[0.5555555555555556,\"#d8576b\"],[0.6666666666666666,\"#ed7953\"],[0.7777777777777778,\"#fb9f3a\"],[0.8888888888888888,\"#fdca26\"],[1.0,\"#f0f921\"]],\"diverging\":[[0,\"#8e0152\"],[0.1,\"#c51b7d\"],[0.2,\"#de77ae\"],[0.3,\"#f1b6da\"],[0.4,\"#fde0ef\"],[0.5,\"#f7f7f7\"],[0.6,\"#e6f5d0\"],[0.7,\"#b8e186\"],[0.8,\"#7fbc41\"],[0.9,\"#4d9221\"],[1,\"#276419\"]]},\"xaxis\":{\"gridcolor\":\"white\",\"linecolor\":\"white\",\"ticks\":\"\",\"title\":{\"standoff\":15},\"zerolinecolor\":\"white\",\"automargin\":true,\"zerolinewidth\":2},\"yaxis\":{\"gridcolor\":\"white\",\"linecolor\":\"white\",\"ticks\":\"\",\"title\":{\"standoff\":15},\"zerolinecolor\":\"white\",\"automargin\":true,\"zerolinewidth\":2},\"scene\":{\"xaxis\":{\"backgroundcolor\":\"#E5ECF6\",\"gridcolor\":\"white\",\"linecolor\":\"white\",\"showbackground\":true,\"ticks\":\"\",\"zerolinecolor\":\"white\",\"gridwidth\":2},\"yaxis\":{\"backgroundcolor\":\"#E5ECF6\",\"gridcolor\":\"white\",\"linecolor\":\"white\",\"showbackground\":true,\"ticks\":\"\",\"zerolinecolor\":\"white\",\"gridwidth\":2},\"zaxis\":{\"backgroundcolor\":\"#E5ECF6\",\"gridcolor\":\"white\",\"linecolor\":\"white\",\"showbackground\":true,\"ticks\":\"\",\"zerolinecolor\":\"white\",\"gridwidth\":2}},\"shapedefaults\":{\"line\":{\"color\":\"#2a3f5f\"}},\"annotationdefaults\":{\"arrowcolor\":\"#2a3f5f\",\"arrowhead\":0,\"arrowwidth\":1},\"geo\":{\"bgcolor\":\"white\",\"landcolor\":\"#E5ECF6\",\"subunitcolor\":\"white\",\"showland\":true,\"showlakes\":true,\"lakecolor\":\"white\"},\"title\":{\"x\":0.05},\"mapbox\":{\"style\":\"light\"}}},\"xaxis\":{\"anchor\":\"y\",\"domain\":[0.0,1.0],\"title\":{\"text\":\"Feature_1\"}},\"yaxis\":{\"anchor\":\"x\",\"domain\":[0.0,1.0],\"title\":{\"text\":\"Feature_2\"}},\"coloraxis\":{\"colorbar\":{\"title\":{\"text\":\"Cluster\"}},\"colorscale\":[[0.0,\"#0d0887\"],[0.1111111111111111,\"#46039f\"],[0.2222222222222222,\"#7201a8\"],[0.3333333333333333,\"#9c179e\"],[0.4444444444444444,\"#bd3786\"],[0.5555555555555556,\"#d8576b\"],[0.6666666666666666,\"#ed7953\"],[0.7777777777777778,\"#fb9f3a\"],[0.8888888888888888,\"#fdca26\"],[1.0,\"#f0f921\"]]},\"legend\":{\"tracegroupgap\":0},\"title\":{\"text\":\"K-Means Clustering (2D)\"}},                        {\"responsive\": true}                    ).then(function(){\n",
       "                            \n",
       "var gd = document.getElementById('fc8bd3b4-7be2-4b4e-8d3f-edc2684a61f3');\n",
       "var x = new MutationObserver(function (mutations, observer) {{\n",
       "        var display = window.getComputedStyle(gd).display;\n",
       "        if (!display || display === 'none') {{\n",
       "            console.log([gd, 'removed!']);\n",
       "            Plotly.purge(gd);\n",
       "            observer.disconnect();\n",
       "        }}\n",
       "}});\n",
       "\n",
       "// Listen for the removal of the full notebook cells\n",
       "var notebookContainer = gd.closest('#notebook-container');\n",
       "if (notebookContainer) {{\n",
       "    x.observe(notebookContainer, {childList: true});\n",
       "}}\n",
       "\n",
       "// Listen for the clearing of the current output cell\n",
       "var outputEl = gd.closest('.output');\n",
       "if (outputEl) {{\n",
       "    x.observe(outputEl, {childList: true});\n",
       "}}\n",
       "\n",
       "                        })                };                });            </script>        </div>"
      ]
     },
     "metadata": {},
     "output_type": "display_data"
    }
   ],
   "source": [
    "# Plot the 2D scatter plot with centroids\n",
    "fig_2d = px.scatter(df, x='Feature_1', y='Feature_2',\n",
    "                    color='Cluster', opacity=0.8,\n",
    "                    title='K-Means Clustering (2D)', size_max=10)\n",
    "\n",
    "# Set the symbol for all data points to 'circle'\n",
    "fig_2d.update_traces(marker=dict(symbol='circle'))\n",
    "\n",
    "# Add centroids to the 2D scatter plot\n",
    "fig_2d.add_trace(go.Scatter(\n",
    "    x=centroids_df['Feature_1'],\n",
    "    y=centroids_df['Feature_2'],\n",
    "    mode='markers',\n",
    "    marker=dict(color='red', symbol='diamond', size=10),\n",
    "    name='Centroids'\n",
    "))\n",
    "\n",
    "# Show the 2D plot\n",
    "fig_2d.show()"
   ]
  },
  {
   "cell_type": "code",
   "execution_count": 111,
   "id": "74503076",
   "metadata": {},
   "outputs": [
    {
     "data": {
      "application/vnd.plotly.v1+json": {
       "config": {
        "plotlyServerURL": "https://plot.ly"
       },
       "data": [
        {
         "marker": {
          "size": 5
         },
         "mode": "markers",
         "name": "Cluster 2",
         "type": "scatter3d",
         "x": [
          19,
          54,
          38,
          93,
          93,
          50,
          7,
          78,
          62,
          78,
          93,
          45,
          98,
          80,
          59,
          49,
          88,
          90,
          96,
          74,
          88,
          30,
          44,
          45,
          73,
          12,
          96,
          97,
          26,
          25,
          55,
          59,
          91,
          50,
          66,
          81,
          90,
          50,
          80,
          33,
          70,
          30,
          17,
          87,
          69,
          71,
          88,
          75,
          57,
          97,
          65,
          32,
          81,
          50,
          57,
          79,
          44,
          68,
          21,
          77,
          68,
          41,
          38,
          78,
          39,
          83,
          77,
          11,
          94,
          88,
          93,
          46,
          39,
          58,
          93,
          91,
          91,
          50,
          74,
          95,
          52,
          39,
          43,
          50,
          8,
          82,
          57,
          86,
          79,
          61,
          46,
          63,
          92,
          22,
          28,
          52,
          69,
          52,
          47,
          88
         ],
         "y": [
          38,
          82,
          63,
          49,
          61,
          10,
          47,
          57,
          21,
          22,
          44,
          83,
          43,
          84,
          7,
          11,
          54,
          60,
          53,
          18,
          42,
          73,
          17,
          24,
          40,
          59,
          62,
          68,
          20,
          62,
          60,
          44,
          7,
          40,
          30,
          43,
          12,
          76,
          6,
          23,
          8,
          29,
          63,
          22,
          26,
          75,
          73,
          84,
          16,
          35,
          11,
          65,
          49,
          81,
          57,
          69,
          9,
          19,
          23,
          9,
          17,
          22,
          94,
          48,
          42,
          26,
          76,
          39,
          10,
          27,
          24,
          38,
          26,
          18,
          88,
          7,
          96,
          64,
          61,
          69,
          76,
          57,
          37,
          12,
          96,
          20,
          78,
          43,
          56,
          21,
          79,
          52,
          21,
          51,
          8,
          21,
          73,
          38,
          30,
          96
         ],
         "z": [
          71,
          19,
          23,
          88,
          87,
          19,
          10,
          20,
          26,
          88,
          23,
          68,
          85,
          62,
          60,
          82,
          22,
          25,
          57,
          45,
          32,
          64,
          22,
          25,
          6,
          22,
          64,
          65,
          20,
          41,
          71,
          90,
          99,
          65,
          67,
          38,
          82,
          78,
          93,
          36,
          39,
          31,
          56,
          98,
          40,
          8,
          10,
          27,
          66,
          94,
          98,
          11,
          35,
          18,
          33,
          50,
          28,
          81,
          76,
          20,
          94,
          71,
          48,
          15,
          20,
          86,
          25,
          43,
          71,
          76,
          36,
          59,
          91,
          81,
          91,
          18,
          66,
          14,
          70,
          78,
          43,
          57,
          54,
          74,
          31,
          17,
          63,
          12,
          79,
          12,
          73,
          56,
          27,
          80,
          49,
          84,
          55,
          33,
          73,
          27
         ]
        },
        {
         "marker": {
          "size": 5
         },
         "mode": "markers",
         "name": "Cluster 0",
         "type": "scatter3d",
         "x": [
          22,
          11,
          39,
          76,
          17,
          64,
          30,
          55,
          6,
          38,
          34,
          21,
          32,
          24,
          5,
          20,
          25,
          36,
          16,
          72,
          24,
          9,
          10,
          21,
          6,
          31,
          31,
          21,
          46,
          16,
          43,
          45,
          27,
          52,
          60,
          66,
          10,
          52,
          41,
          80,
          29,
          52,
          22,
          18,
          13,
          16,
          5,
          41,
          45,
          5,
          14,
          24,
          8,
          24,
          9,
          11,
          24,
          14,
          14,
          44,
          20,
          27,
          54,
          17,
          57,
          39,
          36,
          38,
          7,
          12,
          15,
          19,
          82,
          39,
          35,
          37,
          98,
          67,
          55,
          43,
          29,
          15,
          11,
          9,
          19,
          8,
          35,
          48,
          16,
          46,
          49,
          51,
          9,
          59,
          63,
          30,
          14,
          10,
          16,
          16,
          28,
          30,
          19,
          25
         ],
         "y": [
          21,
          82,
          31,
          48,
          90,
          35,
          89,
          36,
          49,
          86,
          9,
          64,
          76,
          40,
          12,
          15,
          8,
          44,
          20,
          17,
          38,
          99,
          77,
          62,
          61,
          54,
          90,
          32,
          6,
          41,
          63,
          76,
          89,
          95,
          62,
          97,
          82,
          52,
          89,
          67,
          68,
          11,
          54,
          42,
          68,
          78,
          58,
          6,
          28,
          54,
          33,
          20,
          48,
          81,
          80,
          94,
          78,
          64,
          17,
          45,
          49,
          51,
          31,
          81,
          91,
          70,
          99,
          82,
          95,
          34,
          82,
          5,
          75,
          91,
          65,
          69,
          27,
          93,
          96,
          33,
          56,
          42,
          69,
          85,
          93,
          55,
          91,
          32,
          38,
          45,
          10,
          27,
          95,
          16,
          59,
          75,
          65,
          21,
          35,
          51,
          42,
          14,
          70,
          8
         ],
         "z": [
          19,
          98,
          73,
          64,
          63,
          82,
          75,
          53,
          62,
          83,
          34,
          73,
          27,
          91,
          44,
          71,
          19,
          90,
          82,
          81,
          48,
          60,
          33,
          50,
          61,
          66,
          61,
          9,
          69,
          56,
          28,
          47,
          58,
          55,
          95,
          90,
          33,
          26,
          67,
          88,
          80,
          72,
          90,
          97,
          49,
          87,
          93,
          50,
          96,
          60,
          16,
          89,
          93,
          60,
          86,
          37,
          69,
          35,
          96,
          96,
          61,
          79,
          59,
          52,
          42,
          85,
          56,
          86,
          39,
          95,
          75,
          52,
          50,
          92,
          45,
          97,
          85,
          57,
          24,
          63,
          55,
          41,
          95,
          76,
          25,
          88,
          84,
          85,
          53,
          94,
          46,
          67,
          16,
          66,
          74,
          59,
          97,
          88,
          63,
          17,
          35,
          26,
          12,
          47
         ]
        },
        {
         "marker": {
          "size": 5
         },
         "mode": "markers",
         "name": "Cluster 1",
         "type": "scatter3d",
         "x": [
          98,
          83,
          80,
          16,
          58,
          80,
          77,
          99,
          93,
          97,
          87,
          52,
          76,
          75,
          81,
          33,
          83,
          56,
          59,
          55,
          66,
          62,
          78,
          77,
          8,
          92,
          89,
          28,
          56,
          54,
          7,
          15,
          19,
          73,
          72,
          12,
          39,
          82,
          53,
          79,
          37,
          48,
          10,
          19,
          64,
          24,
          63,
          69,
          67,
          72,
          47,
          39,
          60,
          92,
          79,
          67,
          89,
          22,
          97,
          95,
          96,
          58,
          28,
          58,
          31,
          68,
          75,
          61,
          15,
          38,
          16,
          48,
          92,
          57,
          48,
          28,
          52,
          49,
          46,
          17,
          79,
          47,
          64,
          46,
          45,
          58,
          91,
          30,
          10,
          58,
          87,
          70,
          98,
          33,
          65,
          92
         ],
         "y": [
          77,
          57,
          66,
          75,
          89,
          46,
          42,
          40,
          12,
          29,
          80,
          62,
          68,
          18,
          58,
          27,
          72,
          32,
          83,
          60,
          96,
          82,
          99,
          54,
          11,
          10,
          15,
          56,
          67,
          57,
          53,
          5,
          46,
          58,
          78,
          35,
          34,
          64,
          49,
          75,
          23,
          84,
          91,
          59,
          21,
          6,
          61,
          82,
          99,
          57,
          57,
          49,
          45,
          48,
          28,
          89,
          23,
          30,
          59,
          65,
          10,
          9,
          48,
          32,
          77,
          85,
          86,
          71,
          16,
          66,
          94,
          52,
          69,
          71,
          45,
          62,
          64,
          17,
          74,
          66,
          34,
          40,
          93,
          25,
          52,
          39,
          90,
          67,
          86,
          76,
          99,
          16,
          74,
          98,
          37,
          83
         ],
         "z": [
          28,
          63,
          49,
          15,
          25,
          85,
          42,
          48,
          21,
          65,
          25,
          17,
          26,
          18,
          8,
          8,
          77,
          19,
          39,
          63,
          21,
          5,
          47,
          21,
          30,
          33,
          38,
          17,
          88,
          51,
          38,
          11,
          38,
          23,
          36,
          38,
          7,
          25,
          47,
          47,
          30,
          39,
          12,
          52,
          14,
          19,
          5,
          24,
          52,
          82,
          13,
          75,
          48,
          24,
          20,
          7,
          26,
          75,
          33,
          19,
          43,
          58,
          38,
          26,
          33,
          59,
          83,
          7,
          22,
          40,
          25,
          23,
          68,
          64,
          22,
          46,
          18,
          7,
          78,
          18,
          21,
          8,
          33,
          47,
          40,
          19,
          61,
          44,
          6,
          11,
          41,
          8,
          61,
          51,
          80,
          31
         ]
        }
       ],
       "layout": {
        "scene": {
         "xaxis": {
          "title": {
           "text": "Feature 1"
          }
         },
         "yaxis": {
          "title": {
           "text": "Feature 2"
          }
         },
         "zaxis": {
          "title": {
           "text": "Feature 3"
          }
         }
        },
        "template": {
         "data": {
          "bar": [
           {
            "error_x": {
             "color": "#2a3f5f"
            },
            "error_y": {
             "color": "#2a3f5f"
            },
            "marker": {
             "line": {
              "color": "#E5ECF6",
              "width": 0.5
             },
             "pattern": {
              "fillmode": "overlay",
              "size": 10,
              "solidity": 0.2
             }
            },
            "type": "bar"
           }
          ],
          "barpolar": [
           {
            "marker": {
             "line": {
              "color": "#E5ECF6",
              "width": 0.5
             },
             "pattern": {
              "fillmode": "overlay",
              "size": 10,
              "solidity": 0.2
             }
            },
            "type": "barpolar"
           }
          ],
          "carpet": [
           {
            "aaxis": {
             "endlinecolor": "#2a3f5f",
             "gridcolor": "white",
             "linecolor": "white",
             "minorgridcolor": "white",
             "startlinecolor": "#2a3f5f"
            },
            "baxis": {
             "endlinecolor": "#2a3f5f",
             "gridcolor": "white",
             "linecolor": "white",
             "minorgridcolor": "white",
             "startlinecolor": "#2a3f5f"
            },
            "type": "carpet"
           }
          ],
          "choropleth": [
           {
            "colorbar": {
             "outlinewidth": 0,
             "ticks": ""
            },
            "type": "choropleth"
           }
          ],
          "contour": [
           {
            "colorbar": {
             "outlinewidth": 0,
             "ticks": ""
            },
            "colorscale": [
             [
              0,
              "#0d0887"
             ],
             [
              0.1111111111111111,
              "#46039f"
             ],
             [
              0.2222222222222222,
              "#7201a8"
             ],
             [
              0.3333333333333333,
              "#9c179e"
             ],
             [
              0.4444444444444444,
              "#bd3786"
             ],
             [
              0.5555555555555556,
              "#d8576b"
             ],
             [
              0.6666666666666666,
              "#ed7953"
             ],
             [
              0.7777777777777778,
              "#fb9f3a"
             ],
             [
              0.8888888888888888,
              "#fdca26"
             ],
             [
              1,
              "#f0f921"
             ]
            ],
            "type": "contour"
           }
          ],
          "contourcarpet": [
           {
            "colorbar": {
             "outlinewidth": 0,
             "ticks": ""
            },
            "type": "contourcarpet"
           }
          ],
          "heatmap": [
           {
            "colorbar": {
             "outlinewidth": 0,
             "ticks": ""
            },
            "colorscale": [
             [
              0,
              "#0d0887"
             ],
             [
              0.1111111111111111,
              "#46039f"
             ],
             [
              0.2222222222222222,
              "#7201a8"
             ],
             [
              0.3333333333333333,
              "#9c179e"
             ],
             [
              0.4444444444444444,
              "#bd3786"
             ],
             [
              0.5555555555555556,
              "#d8576b"
             ],
             [
              0.6666666666666666,
              "#ed7953"
             ],
             [
              0.7777777777777778,
              "#fb9f3a"
             ],
             [
              0.8888888888888888,
              "#fdca26"
             ],
             [
              1,
              "#f0f921"
             ]
            ],
            "type": "heatmap"
           }
          ],
          "heatmapgl": [
           {
            "colorbar": {
             "outlinewidth": 0,
             "ticks": ""
            },
            "colorscale": [
             [
              0,
              "#0d0887"
             ],
             [
              0.1111111111111111,
              "#46039f"
             ],
             [
              0.2222222222222222,
              "#7201a8"
             ],
             [
              0.3333333333333333,
              "#9c179e"
             ],
             [
              0.4444444444444444,
              "#bd3786"
             ],
             [
              0.5555555555555556,
              "#d8576b"
             ],
             [
              0.6666666666666666,
              "#ed7953"
             ],
             [
              0.7777777777777778,
              "#fb9f3a"
             ],
             [
              0.8888888888888888,
              "#fdca26"
             ],
             [
              1,
              "#f0f921"
             ]
            ],
            "type": "heatmapgl"
           }
          ],
          "histogram": [
           {
            "marker": {
             "pattern": {
              "fillmode": "overlay",
              "size": 10,
              "solidity": 0.2
             }
            },
            "type": "histogram"
           }
          ],
          "histogram2d": [
           {
            "colorbar": {
             "outlinewidth": 0,
             "ticks": ""
            },
            "colorscale": [
             [
              0,
              "#0d0887"
             ],
             [
              0.1111111111111111,
              "#46039f"
             ],
             [
              0.2222222222222222,
              "#7201a8"
             ],
             [
              0.3333333333333333,
              "#9c179e"
             ],
             [
              0.4444444444444444,
              "#bd3786"
             ],
             [
              0.5555555555555556,
              "#d8576b"
             ],
             [
              0.6666666666666666,
              "#ed7953"
             ],
             [
              0.7777777777777778,
              "#fb9f3a"
             ],
             [
              0.8888888888888888,
              "#fdca26"
             ],
             [
              1,
              "#f0f921"
             ]
            ],
            "type": "histogram2d"
           }
          ],
          "histogram2dcontour": [
           {
            "colorbar": {
             "outlinewidth": 0,
             "ticks": ""
            },
            "colorscale": [
             [
              0,
              "#0d0887"
             ],
             [
              0.1111111111111111,
              "#46039f"
             ],
             [
              0.2222222222222222,
              "#7201a8"
             ],
             [
              0.3333333333333333,
              "#9c179e"
             ],
             [
              0.4444444444444444,
              "#bd3786"
             ],
             [
              0.5555555555555556,
              "#d8576b"
             ],
             [
              0.6666666666666666,
              "#ed7953"
             ],
             [
              0.7777777777777778,
              "#fb9f3a"
             ],
             [
              0.8888888888888888,
              "#fdca26"
             ],
             [
              1,
              "#f0f921"
             ]
            ],
            "type": "histogram2dcontour"
           }
          ],
          "mesh3d": [
           {
            "colorbar": {
             "outlinewidth": 0,
             "ticks": ""
            },
            "type": "mesh3d"
           }
          ],
          "parcoords": [
           {
            "line": {
             "colorbar": {
              "outlinewidth": 0,
              "ticks": ""
             }
            },
            "type": "parcoords"
           }
          ],
          "pie": [
           {
            "automargin": true,
            "type": "pie"
           }
          ],
          "scatter": [
           {
            "fillpattern": {
             "fillmode": "overlay",
             "size": 10,
             "solidity": 0.2
            },
            "type": "scatter"
           }
          ],
          "scatter3d": [
           {
            "line": {
             "colorbar": {
              "outlinewidth": 0,
              "ticks": ""
             }
            },
            "marker": {
             "colorbar": {
              "outlinewidth": 0,
              "ticks": ""
             }
            },
            "type": "scatter3d"
           }
          ],
          "scattercarpet": [
           {
            "marker": {
             "colorbar": {
              "outlinewidth": 0,
              "ticks": ""
             }
            },
            "type": "scattercarpet"
           }
          ],
          "scattergeo": [
           {
            "marker": {
             "colorbar": {
              "outlinewidth": 0,
              "ticks": ""
             }
            },
            "type": "scattergeo"
           }
          ],
          "scattergl": [
           {
            "marker": {
             "colorbar": {
              "outlinewidth": 0,
              "ticks": ""
             }
            },
            "type": "scattergl"
           }
          ],
          "scattermapbox": [
           {
            "marker": {
             "colorbar": {
              "outlinewidth": 0,
              "ticks": ""
             }
            },
            "type": "scattermapbox"
           }
          ],
          "scatterpolar": [
           {
            "marker": {
             "colorbar": {
              "outlinewidth": 0,
              "ticks": ""
             }
            },
            "type": "scatterpolar"
           }
          ],
          "scatterpolargl": [
           {
            "marker": {
             "colorbar": {
              "outlinewidth": 0,
              "ticks": ""
             }
            },
            "type": "scatterpolargl"
           }
          ],
          "scatterternary": [
           {
            "marker": {
             "colorbar": {
              "outlinewidth": 0,
              "ticks": ""
             }
            },
            "type": "scatterternary"
           }
          ],
          "surface": [
           {
            "colorbar": {
             "outlinewidth": 0,
             "ticks": ""
            },
            "colorscale": [
             [
              0,
              "#0d0887"
             ],
             [
              0.1111111111111111,
              "#46039f"
             ],
             [
              0.2222222222222222,
              "#7201a8"
             ],
             [
              0.3333333333333333,
              "#9c179e"
             ],
             [
              0.4444444444444444,
              "#bd3786"
             ],
             [
              0.5555555555555556,
              "#d8576b"
             ],
             [
              0.6666666666666666,
              "#ed7953"
             ],
             [
              0.7777777777777778,
              "#fb9f3a"
             ],
             [
              0.8888888888888888,
              "#fdca26"
             ],
             [
              1,
              "#f0f921"
             ]
            ],
            "type": "surface"
           }
          ],
          "table": [
           {
            "cells": {
             "fill": {
              "color": "#EBF0F8"
             },
             "line": {
              "color": "white"
             }
            },
            "header": {
             "fill": {
              "color": "#C8D4E3"
             },
             "line": {
              "color": "white"
             }
            },
            "type": "table"
           }
          ]
         },
         "layout": {
          "annotationdefaults": {
           "arrowcolor": "#2a3f5f",
           "arrowhead": 0,
           "arrowwidth": 1
          },
          "autotypenumbers": "strict",
          "coloraxis": {
           "colorbar": {
            "outlinewidth": 0,
            "ticks": ""
           }
          },
          "colorscale": {
           "diverging": [
            [
             0,
             "#8e0152"
            ],
            [
             0.1,
             "#c51b7d"
            ],
            [
             0.2,
             "#de77ae"
            ],
            [
             0.3,
             "#f1b6da"
            ],
            [
             0.4,
             "#fde0ef"
            ],
            [
             0.5,
             "#f7f7f7"
            ],
            [
             0.6,
             "#e6f5d0"
            ],
            [
             0.7,
             "#b8e186"
            ],
            [
             0.8,
             "#7fbc41"
            ],
            [
             0.9,
             "#4d9221"
            ],
            [
             1,
             "#276419"
            ]
           ],
           "sequential": [
            [
             0,
             "#0d0887"
            ],
            [
             0.1111111111111111,
             "#46039f"
            ],
            [
             0.2222222222222222,
             "#7201a8"
            ],
            [
             0.3333333333333333,
             "#9c179e"
            ],
            [
             0.4444444444444444,
             "#bd3786"
            ],
            [
             0.5555555555555556,
             "#d8576b"
            ],
            [
             0.6666666666666666,
             "#ed7953"
            ],
            [
             0.7777777777777778,
             "#fb9f3a"
            ],
            [
             0.8888888888888888,
             "#fdca26"
            ],
            [
             1,
             "#f0f921"
            ]
           ],
           "sequentialminus": [
            [
             0,
             "#0d0887"
            ],
            [
             0.1111111111111111,
             "#46039f"
            ],
            [
             0.2222222222222222,
             "#7201a8"
            ],
            [
             0.3333333333333333,
             "#9c179e"
            ],
            [
             0.4444444444444444,
             "#bd3786"
            ],
            [
             0.5555555555555556,
             "#d8576b"
            ],
            [
             0.6666666666666666,
             "#ed7953"
            ],
            [
             0.7777777777777778,
             "#fb9f3a"
            ],
            [
             0.8888888888888888,
             "#fdca26"
            ],
            [
             1,
             "#f0f921"
            ]
           ]
          },
          "colorway": [
           "#636efa",
           "#EF553B",
           "#00cc96",
           "#ab63fa",
           "#FFA15A",
           "#19d3f3",
           "#FF6692",
           "#B6E880",
           "#FF97FF",
           "#FECB52"
          ],
          "font": {
           "color": "#2a3f5f"
          },
          "geo": {
           "bgcolor": "white",
           "lakecolor": "white",
           "landcolor": "#E5ECF6",
           "showlakes": true,
           "showland": true,
           "subunitcolor": "white"
          },
          "hoverlabel": {
           "align": "left"
          },
          "hovermode": "closest",
          "mapbox": {
           "style": "light"
          },
          "paper_bgcolor": "white",
          "plot_bgcolor": "#E5ECF6",
          "polar": {
           "angularaxis": {
            "gridcolor": "white",
            "linecolor": "white",
            "ticks": ""
           },
           "bgcolor": "#E5ECF6",
           "radialaxis": {
            "gridcolor": "white",
            "linecolor": "white",
            "ticks": ""
           }
          },
          "scene": {
           "xaxis": {
            "backgroundcolor": "#E5ECF6",
            "gridcolor": "white",
            "gridwidth": 2,
            "linecolor": "white",
            "showbackground": true,
            "ticks": "",
            "zerolinecolor": "white"
           },
           "yaxis": {
            "backgroundcolor": "#E5ECF6",
            "gridcolor": "white",
            "gridwidth": 2,
            "linecolor": "white",
            "showbackground": true,
            "ticks": "",
            "zerolinecolor": "white"
           },
           "zaxis": {
            "backgroundcolor": "#E5ECF6",
            "gridcolor": "white",
            "gridwidth": 2,
            "linecolor": "white",
            "showbackground": true,
            "ticks": "",
            "zerolinecolor": "white"
           }
          },
          "shapedefaults": {
           "line": {
            "color": "#2a3f5f"
           }
          },
          "ternary": {
           "aaxis": {
            "gridcolor": "white",
            "linecolor": "white",
            "ticks": ""
           },
           "baxis": {
            "gridcolor": "white",
            "linecolor": "white",
            "ticks": ""
           },
           "bgcolor": "#E5ECF6",
           "caxis": {
            "gridcolor": "white",
            "linecolor": "white",
            "ticks": ""
           }
          },
          "title": {
           "x": 0.05
          },
          "xaxis": {
           "automargin": true,
           "gridcolor": "white",
           "linecolor": "white",
           "ticks": "",
           "title": {
            "standoff": 15
           },
           "zerolinecolor": "white",
           "zerolinewidth": 2
          },
          "yaxis": {
           "automargin": true,
           "gridcolor": "white",
           "linecolor": "white",
           "ticks": "",
           "title": {
            "standoff": 15
           },
           "zerolinecolor": "white",
           "zerolinewidth": 2
          }
         }
        },
        "title": {
         "text": "K-Means Clustering (3D)"
        }
       }
      },
      "text/html": [
       "<div>                            <div id=\"47751826-3df5-454c-9905-46da7551189b\" class=\"plotly-graph-div\" style=\"height:525px; width:100%;\"></div>            <script type=\"text/javascript\">                require([\"plotly\"], function(Plotly) {                    window.PLOTLYENV=window.PLOTLYENV || {};                                    if (document.getElementById(\"47751826-3df5-454c-9905-46da7551189b\")) {                    Plotly.newPlot(                        \"47751826-3df5-454c-9905-46da7551189b\",                        [{\"marker\":{\"size\":5},\"mode\":\"markers\",\"name\":\"Cluster 2\",\"x\":[19,54,38,93,93,50,7,78,62,78,93,45,98,80,59,49,88,90,96,74,88,30,44,45,73,12,96,97,26,25,55,59,91,50,66,81,90,50,80,33,70,30,17,87,69,71,88,75,57,97,65,32,81,50,57,79,44,68,21,77,68,41,38,78,39,83,77,11,94,88,93,46,39,58,93,91,91,50,74,95,52,39,43,50,8,82,57,86,79,61,46,63,92,22,28,52,69,52,47,88],\"y\":[38,82,63,49,61,10,47,57,21,22,44,83,43,84,7,11,54,60,53,18,42,73,17,24,40,59,62,68,20,62,60,44,7,40,30,43,12,76,6,23,8,29,63,22,26,75,73,84,16,35,11,65,49,81,57,69,9,19,23,9,17,22,94,48,42,26,76,39,10,27,24,38,26,18,88,7,96,64,61,69,76,57,37,12,96,20,78,43,56,21,79,52,21,51,8,21,73,38,30,96],\"z\":[71,19,23,88,87,19,10,20,26,88,23,68,85,62,60,82,22,25,57,45,32,64,22,25,6,22,64,65,20,41,71,90,99,65,67,38,82,78,93,36,39,31,56,98,40,8,10,27,66,94,98,11,35,18,33,50,28,81,76,20,94,71,48,15,20,86,25,43,71,76,36,59,91,81,91,18,66,14,70,78,43,57,54,74,31,17,63,12,79,12,73,56,27,80,49,84,55,33,73,27],\"type\":\"scatter3d\"},{\"marker\":{\"size\":5},\"mode\":\"markers\",\"name\":\"Cluster 0\",\"x\":[22,11,39,76,17,64,30,55,6,38,34,21,32,24,5,20,25,36,16,72,24,9,10,21,6,31,31,21,46,16,43,45,27,52,60,66,10,52,41,80,29,52,22,18,13,16,5,41,45,5,14,24,8,24,9,11,24,14,14,44,20,27,54,17,57,39,36,38,7,12,15,19,82,39,35,37,98,67,55,43,29,15,11,9,19,8,35,48,16,46,49,51,9,59,63,30,14,10,16,16,28,30,19,25],\"y\":[21,82,31,48,90,35,89,36,49,86,9,64,76,40,12,15,8,44,20,17,38,99,77,62,61,54,90,32,6,41,63,76,89,95,62,97,82,52,89,67,68,11,54,42,68,78,58,6,28,54,33,20,48,81,80,94,78,64,17,45,49,51,31,81,91,70,99,82,95,34,82,5,75,91,65,69,27,93,96,33,56,42,69,85,93,55,91,32,38,45,10,27,95,16,59,75,65,21,35,51,42,14,70,8],\"z\":[19,98,73,64,63,82,75,53,62,83,34,73,27,91,44,71,19,90,82,81,48,60,33,50,61,66,61,9,69,56,28,47,58,55,95,90,33,26,67,88,80,72,90,97,49,87,93,50,96,60,16,89,93,60,86,37,69,35,96,96,61,79,59,52,42,85,56,86,39,95,75,52,50,92,45,97,85,57,24,63,55,41,95,76,25,88,84,85,53,94,46,67,16,66,74,59,97,88,63,17,35,26,12,47],\"type\":\"scatter3d\"},{\"marker\":{\"size\":5},\"mode\":\"markers\",\"name\":\"Cluster 1\",\"x\":[98,83,80,16,58,80,77,99,93,97,87,52,76,75,81,33,83,56,59,55,66,62,78,77,8,92,89,28,56,54,7,15,19,73,72,12,39,82,53,79,37,48,10,19,64,24,63,69,67,72,47,39,60,92,79,67,89,22,97,95,96,58,28,58,31,68,75,61,15,38,16,48,92,57,48,28,52,49,46,17,79,47,64,46,45,58,91,30,10,58,87,70,98,33,65,92],\"y\":[77,57,66,75,89,46,42,40,12,29,80,62,68,18,58,27,72,32,83,60,96,82,99,54,11,10,15,56,67,57,53,5,46,58,78,35,34,64,49,75,23,84,91,59,21,6,61,82,99,57,57,49,45,48,28,89,23,30,59,65,10,9,48,32,77,85,86,71,16,66,94,52,69,71,45,62,64,17,74,66,34,40,93,25,52,39,90,67,86,76,99,16,74,98,37,83],\"z\":[28,63,49,15,25,85,42,48,21,65,25,17,26,18,8,8,77,19,39,63,21,5,47,21,30,33,38,17,88,51,38,11,38,23,36,38,7,25,47,47,30,39,12,52,14,19,5,24,52,82,13,75,48,24,20,7,26,75,33,19,43,58,38,26,33,59,83,7,22,40,25,23,68,64,22,46,18,7,78,18,21,8,33,47,40,19,61,44,6,11,41,8,61,51,80,31],\"type\":\"scatter3d\"}],                        {\"template\":{\"data\":{\"histogram2dcontour\":[{\"type\":\"histogram2dcontour\",\"colorbar\":{\"outlinewidth\":0,\"ticks\":\"\"},\"colorscale\":[[0.0,\"#0d0887\"],[0.1111111111111111,\"#46039f\"],[0.2222222222222222,\"#7201a8\"],[0.3333333333333333,\"#9c179e\"],[0.4444444444444444,\"#bd3786\"],[0.5555555555555556,\"#d8576b\"],[0.6666666666666666,\"#ed7953\"],[0.7777777777777778,\"#fb9f3a\"],[0.8888888888888888,\"#fdca26\"],[1.0,\"#f0f921\"]]}],\"choropleth\":[{\"type\":\"choropleth\",\"colorbar\":{\"outlinewidth\":0,\"ticks\":\"\"}}],\"histogram2d\":[{\"type\":\"histogram2d\",\"colorbar\":{\"outlinewidth\":0,\"ticks\":\"\"},\"colorscale\":[[0.0,\"#0d0887\"],[0.1111111111111111,\"#46039f\"],[0.2222222222222222,\"#7201a8\"],[0.3333333333333333,\"#9c179e\"],[0.4444444444444444,\"#bd3786\"],[0.5555555555555556,\"#d8576b\"],[0.6666666666666666,\"#ed7953\"],[0.7777777777777778,\"#fb9f3a\"],[0.8888888888888888,\"#fdca26\"],[1.0,\"#f0f921\"]]}],\"heatmap\":[{\"type\":\"heatmap\",\"colorbar\":{\"outlinewidth\":0,\"ticks\":\"\"},\"colorscale\":[[0.0,\"#0d0887\"],[0.1111111111111111,\"#46039f\"],[0.2222222222222222,\"#7201a8\"],[0.3333333333333333,\"#9c179e\"],[0.4444444444444444,\"#bd3786\"],[0.5555555555555556,\"#d8576b\"],[0.6666666666666666,\"#ed7953\"],[0.7777777777777778,\"#fb9f3a\"],[0.8888888888888888,\"#fdca26\"],[1.0,\"#f0f921\"]]}],\"heatmapgl\":[{\"type\":\"heatmapgl\",\"colorbar\":{\"outlinewidth\":0,\"ticks\":\"\"},\"colorscale\":[[0.0,\"#0d0887\"],[0.1111111111111111,\"#46039f\"],[0.2222222222222222,\"#7201a8\"],[0.3333333333333333,\"#9c179e\"],[0.4444444444444444,\"#bd3786\"],[0.5555555555555556,\"#d8576b\"],[0.6666666666666666,\"#ed7953\"],[0.7777777777777778,\"#fb9f3a\"],[0.8888888888888888,\"#fdca26\"],[1.0,\"#f0f921\"]]}],\"contourcarpet\":[{\"type\":\"contourcarpet\",\"colorbar\":{\"outlinewidth\":0,\"ticks\":\"\"}}],\"contour\":[{\"type\":\"contour\",\"colorbar\":{\"outlinewidth\":0,\"ticks\":\"\"},\"colorscale\":[[0.0,\"#0d0887\"],[0.1111111111111111,\"#46039f\"],[0.2222222222222222,\"#7201a8\"],[0.3333333333333333,\"#9c179e\"],[0.4444444444444444,\"#bd3786\"],[0.5555555555555556,\"#d8576b\"],[0.6666666666666666,\"#ed7953\"],[0.7777777777777778,\"#fb9f3a\"],[0.8888888888888888,\"#fdca26\"],[1.0,\"#f0f921\"]]}],\"surface\":[{\"type\":\"surface\",\"colorbar\":{\"outlinewidth\":0,\"ticks\":\"\"},\"colorscale\":[[0.0,\"#0d0887\"],[0.1111111111111111,\"#46039f\"],[0.2222222222222222,\"#7201a8\"],[0.3333333333333333,\"#9c179e\"],[0.4444444444444444,\"#bd3786\"],[0.5555555555555556,\"#d8576b\"],[0.6666666666666666,\"#ed7953\"],[0.7777777777777778,\"#fb9f3a\"],[0.8888888888888888,\"#fdca26\"],[1.0,\"#f0f921\"]]}],\"mesh3d\":[{\"type\":\"mesh3d\",\"colorbar\":{\"outlinewidth\":0,\"ticks\":\"\"}}],\"scatter\":[{\"fillpattern\":{\"fillmode\":\"overlay\",\"size\":10,\"solidity\":0.2},\"type\":\"scatter\"}],\"parcoords\":[{\"type\":\"parcoords\",\"line\":{\"colorbar\":{\"outlinewidth\":0,\"ticks\":\"\"}}}],\"scatterpolargl\":[{\"type\":\"scatterpolargl\",\"marker\":{\"colorbar\":{\"outlinewidth\":0,\"ticks\":\"\"}}}],\"bar\":[{\"error_x\":{\"color\":\"#2a3f5f\"},\"error_y\":{\"color\":\"#2a3f5f\"},\"marker\":{\"line\":{\"color\":\"#E5ECF6\",\"width\":0.5},\"pattern\":{\"fillmode\":\"overlay\",\"size\":10,\"solidity\":0.2}},\"type\":\"bar\"}],\"scattergeo\":[{\"type\":\"scattergeo\",\"marker\":{\"colorbar\":{\"outlinewidth\":0,\"ticks\":\"\"}}}],\"scatterpolar\":[{\"type\":\"scatterpolar\",\"marker\":{\"colorbar\":{\"outlinewidth\":0,\"ticks\":\"\"}}}],\"histogram\":[{\"marker\":{\"pattern\":{\"fillmode\":\"overlay\",\"size\":10,\"solidity\":0.2}},\"type\":\"histogram\"}],\"scattergl\":[{\"type\":\"scattergl\",\"marker\":{\"colorbar\":{\"outlinewidth\":0,\"ticks\":\"\"}}}],\"scatter3d\":[{\"type\":\"scatter3d\",\"line\":{\"colorbar\":{\"outlinewidth\":0,\"ticks\":\"\"}},\"marker\":{\"colorbar\":{\"outlinewidth\":0,\"ticks\":\"\"}}}],\"scattermapbox\":[{\"type\":\"scattermapbox\",\"marker\":{\"colorbar\":{\"outlinewidth\":0,\"ticks\":\"\"}}}],\"scatterternary\":[{\"type\":\"scatterternary\",\"marker\":{\"colorbar\":{\"outlinewidth\":0,\"ticks\":\"\"}}}],\"scattercarpet\":[{\"type\":\"scattercarpet\",\"marker\":{\"colorbar\":{\"outlinewidth\":0,\"ticks\":\"\"}}}],\"carpet\":[{\"aaxis\":{\"endlinecolor\":\"#2a3f5f\",\"gridcolor\":\"white\",\"linecolor\":\"white\",\"minorgridcolor\":\"white\",\"startlinecolor\":\"#2a3f5f\"},\"baxis\":{\"endlinecolor\":\"#2a3f5f\",\"gridcolor\":\"white\",\"linecolor\":\"white\",\"minorgridcolor\":\"white\",\"startlinecolor\":\"#2a3f5f\"},\"type\":\"carpet\"}],\"table\":[{\"cells\":{\"fill\":{\"color\":\"#EBF0F8\"},\"line\":{\"color\":\"white\"}},\"header\":{\"fill\":{\"color\":\"#C8D4E3\"},\"line\":{\"color\":\"white\"}},\"type\":\"table\"}],\"barpolar\":[{\"marker\":{\"line\":{\"color\":\"#E5ECF6\",\"width\":0.5},\"pattern\":{\"fillmode\":\"overlay\",\"size\":10,\"solidity\":0.2}},\"type\":\"barpolar\"}],\"pie\":[{\"automargin\":true,\"type\":\"pie\"}]},\"layout\":{\"autotypenumbers\":\"strict\",\"colorway\":[\"#636efa\",\"#EF553B\",\"#00cc96\",\"#ab63fa\",\"#FFA15A\",\"#19d3f3\",\"#FF6692\",\"#B6E880\",\"#FF97FF\",\"#FECB52\"],\"font\":{\"color\":\"#2a3f5f\"},\"hovermode\":\"closest\",\"hoverlabel\":{\"align\":\"left\"},\"paper_bgcolor\":\"white\",\"plot_bgcolor\":\"#E5ECF6\",\"polar\":{\"bgcolor\":\"#E5ECF6\",\"angularaxis\":{\"gridcolor\":\"white\",\"linecolor\":\"white\",\"ticks\":\"\"},\"radialaxis\":{\"gridcolor\":\"white\",\"linecolor\":\"white\",\"ticks\":\"\"}},\"ternary\":{\"bgcolor\":\"#E5ECF6\",\"aaxis\":{\"gridcolor\":\"white\",\"linecolor\":\"white\",\"ticks\":\"\"},\"baxis\":{\"gridcolor\":\"white\",\"linecolor\":\"white\",\"ticks\":\"\"},\"caxis\":{\"gridcolor\":\"white\",\"linecolor\":\"white\",\"ticks\":\"\"}},\"coloraxis\":{\"colorbar\":{\"outlinewidth\":0,\"ticks\":\"\"}},\"colorscale\":{\"sequential\":[[0.0,\"#0d0887\"],[0.1111111111111111,\"#46039f\"],[0.2222222222222222,\"#7201a8\"],[0.3333333333333333,\"#9c179e\"],[0.4444444444444444,\"#bd3786\"],[0.5555555555555556,\"#d8576b\"],[0.6666666666666666,\"#ed7953\"],[0.7777777777777778,\"#fb9f3a\"],[0.8888888888888888,\"#fdca26\"],[1.0,\"#f0f921\"]],\"sequentialminus\":[[0.0,\"#0d0887\"],[0.1111111111111111,\"#46039f\"],[0.2222222222222222,\"#7201a8\"],[0.3333333333333333,\"#9c179e\"],[0.4444444444444444,\"#bd3786\"],[0.5555555555555556,\"#d8576b\"],[0.6666666666666666,\"#ed7953\"],[0.7777777777777778,\"#fb9f3a\"],[0.8888888888888888,\"#fdca26\"],[1.0,\"#f0f921\"]],\"diverging\":[[0,\"#8e0152\"],[0.1,\"#c51b7d\"],[0.2,\"#de77ae\"],[0.3,\"#f1b6da\"],[0.4,\"#fde0ef\"],[0.5,\"#f7f7f7\"],[0.6,\"#e6f5d0\"],[0.7,\"#b8e186\"],[0.8,\"#7fbc41\"],[0.9,\"#4d9221\"],[1,\"#276419\"]]},\"xaxis\":{\"gridcolor\":\"white\",\"linecolor\":\"white\",\"ticks\":\"\",\"title\":{\"standoff\":15},\"zerolinecolor\":\"white\",\"automargin\":true,\"zerolinewidth\":2},\"yaxis\":{\"gridcolor\":\"white\",\"linecolor\":\"white\",\"ticks\":\"\",\"title\":{\"standoff\":15},\"zerolinecolor\":\"white\",\"automargin\":true,\"zerolinewidth\":2},\"scene\":{\"xaxis\":{\"backgroundcolor\":\"#E5ECF6\",\"gridcolor\":\"white\",\"linecolor\":\"white\",\"showbackground\":true,\"ticks\":\"\",\"zerolinecolor\":\"white\",\"gridwidth\":2},\"yaxis\":{\"backgroundcolor\":\"#E5ECF6\",\"gridcolor\":\"white\",\"linecolor\":\"white\",\"showbackground\":true,\"ticks\":\"\",\"zerolinecolor\":\"white\",\"gridwidth\":2},\"zaxis\":{\"backgroundcolor\":\"#E5ECF6\",\"gridcolor\":\"white\",\"linecolor\":\"white\",\"showbackground\":true,\"ticks\":\"\",\"zerolinecolor\":\"white\",\"gridwidth\":2}},\"shapedefaults\":{\"line\":{\"color\":\"#2a3f5f\"}},\"annotationdefaults\":{\"arrowcolor\":\"#2a3f5f\",\"arrowhead\":0,\"arrowwidth\":1},\"geo\":{\"bgcolor\":\"white\",\"landcolor\":\"#E5ECF6\",\"subunitcolor\":\"white\",\"showland\":true,\"showlakes\":true,\"lakecolor\":\"white\"},\"title\":{\"x\":0.05},\"mapbox\":{\"style\":\"light\"}}},\"title\":{\"text\":\"K-Means Clustering (3D)\"},\"scene\":{\"xaxis\":{\"title\":{\"text\":\"Feature 1\"}},\"yaxis\":{\"title\":{\"text\":\"Feature 2\"}},\"zaxis\":{\"title\":{\"text\":\"Feature 3\"}}}},                        {\"responsive\": true}                    ).then(function(){\n",
       "                            \n",
       "var gd = document.getElementById('47751826-3df5-454c-9905-46da7551189b');\n",
       "var x = new MutationObserver(function (mutations, observer) {{\n",
       "        var display = window.getComputedStyle(gd).display;\n",
       "        if (!display || display === 'none') {{\n",
       "            console.log([gd, 'removed!']);\n",
       "            Plotly.purge(gd);\n",
       "            observer.disconnect();\n",
       "        }}\n",
       "}});\n",
       "\n",
       "// Listen for the removal of the full notebook cells\n",
       "var notebookContainer = gd.closest('#notebook-container');\n",
       "if (notebookContainer) {{\n",
       "    x.observe(notebookContainer, {childList: true});\n",
       "}}\n",
       "\n",
       "// Listen for the clearing of the current output cell\n",
       "var outputEl = gd.closest('.output');\n",
       "if (outputEl) {{\n",
       "    x.observe(outputEl, {childList: true});\n",
       "}}\n",
       "\n",
       "                        })                };                });            </script>        </div>"
      ]
     },
     "metadata": {},
     "output_type": "display_data"
    }
   ],
   "source": [
    "# Create a 3D scatter plot with only dots\n",
    "fig = go.Figure()\n",
    "\n",
    "for cluster in df['Cluster'].unique():\n",
    "    cluster_data = df[df['Cluster'] == cluster]\n",
    "    fig.add_trace(go.Scatter3d(\n",
    "        x=cluster_data['Feature_1'],\n",
    "        y=cluster_data['Feature_2'],\n",
    "        z=cluster_data['Feature_3'],\n",
    "        mode='markers',\n",
    "        marker=dict(size=5),\n",
    "        name=f'Cluster {cluster}'\n",
    "    ))\n",
    "\n",
    "# Set layout and show the plot\n",
    "fig.update_layout(title='K-Means Clustering (3D)',\n",
    "                  scene=dict(xaxis_title='Feature 1', yaxis_title='Feature 2', zaxis_title='Feature 3'))\n",
    "#fig.show()"
   ]
  },
  {
   "cell_type": "code",
   "execution_count": 114,
   "id": "89524ebc",
   "metadata": {},
   "outputs": [
    {
     "data": {
      "application/vnd.plotly.v1+json": {
       "config": {
        "plotlyServerURL": "https://plot.ly"
       },
       "data": [
        {
         "hovertemplate": "Feature_1=%{x}<br>Feature_2=%{y}<br>Cluster=%{marker.color}<extra></extra>",
         "legendgroup": "",
         "marker": {
          "color": [
           2,
           0,
           1,
           2,
           2,
           2,
           1,
           1,
           2,
           1,
           1,
           1,
           1,
           2,
           0,
           2,
           0,
           0,
           2,
           1,
           2,
           0,
           2,
           0,
           0,
           2,
           0,
           2,
           2,
           2,
           1,
           1,
           2,
           0,
           0,
           1,
           0,
           2,
           0,
           2,
           1,
           1,
           1,
           2,
           2,
           0,
           1,
           0,
           0,
           2,
           1,
           0,
           1,
           1,
           0,
           2,
           0,
           0,
           1,
           1,
           1,
           1,
           2,
           1,
           2,
           0,
           0,
           1,
           1,
           2,
           1,
           1,
           2,
           1,
           2,
           2,
           1,
           2,
           0,
           0,
           0,
           0,
           0,
           1,
           2,
           1,
           1,
           0,
           2,
           1,
           1,
           2,
           2,
           0,
           1,
           0,
           0,
           2,
           1,
           1,
           2,
           0,
           2,
           1,
           0,
           0,
           2,
           0,
           1,
           0,
           0,
           0,
           2,
           0,
           0,
           2,
           2,
           0,
           2,
           0,
           0,
           0,
           1,
           1,
           1,
           2,
           0,
           2,
           2,
           2,
           0,
           0,
           2,
           2,
           1,
           2,
           1,
           0,
           1,
           1,
           2,
           0,
           1,
           0,
           2,
           1,
           0,
           0,
           2,
           0,
           0,
           0,
           2,
           2,
           2,
           1,
           0,
           2,
           0,
           2,
           2,
           2,
           1,
           1,
           2,
           2,
           0,
           1,
           0,
           1,
           0,
           2,
           0,
           1,
           2,
           0,
           1,
           1,
           1,
           2,
           2,
           0,
           0,
           2,
           1,
           2,
           0,
           2,
           0,
           0,
           2,
           0,
           0,
           1,
           0,
           1,
           2,
           1,
           0,
           1,
           0,
           2,
           0,
           2,
           1,
           2,
           0,
           0,
           1,
           2,
           2,
           1,
           2,
           1,
           2,
           1,
           1,
           0,
           2,
           2,
           0,
           1,
           2,
           1,
           2,
           0,
           1,
           1,
           0,
           0,
           0,
           0,
           1,
           1,
           1,
           1,
           0,
           0,
           2,
           2,
           2,
           2,
           1,
           1,
           2,
           0,
           2,
           1,
           0,
           2,
           1,
           0,
           2,
           0,
           2,
           1,
           2,
           2,
           0,
           0,
           0,
           1,
           0,
           0,
           0,
           1,
           0,
           2,
           2,
           0,
           1,
           0,
           1,
           1,
           1,
           1,
           2,
           1,
           0,
           2,
           0,
           2,
           2,
           1,
           2,
           1,
           0,
           0,
           1,
           1,
           0,
           2,
           2,
           0,
           2,
           0,
           1,
           1,
           1,
           0
          ],
          "coloraxis": "coloraxis",
          "opacity": 0.8,
          "symbol": "circle"
         },
         "mode": "markers",
         "name": "",
         "orientation": "v",
         "showlegend": false,
         "type": "scatter",
         "x": [
          19,
          22,
          98,
          54,
          38,
          93,
          83,
          80,
          93,
          16,
          58,
          80,
          77,
          50,
          11,
          7,
          39,
          76,
          78,
          99,
          62,
          17,
          78,
          64,
          30,
          93,
          55,
          45,
          98,
          80,
          93,
          97,
          59,
          6,
          38,
          87,
          34,
          49,
          21,
          88,
          52,
          76,
          75,
          90,
          96,
          32,
          81,
          24,
          5,
          74,
          33,
          20,
          83,
          56,
          25,
          88,
          36,
          16,
          59,
          55,
          66,
          62,
          30,
          78,
          44,
          72,
          24,
          77,
          8,
          45,
          92,
          89,
          73,
          28,
          12,
          96,
          56,
          97,
          9,
          10,
          21,
          6,
          31,
          54,
          26,
          7,
          15,
          31,
          25,
          19,
          73,
          55,
          59,
          21,
          72,
          46,
          16,
          91,
          12,
          39,
          50,
          43,
          66,
          82,
          45,
          27,
          81,
          52,
          53,
          60,
          66,
          10,
          90,
          52,
          41,
          50,
          80,
          80,
          33,
          29,
          52,
          22,
          79,
          37,
          48,
          70,
          18,
          30,
          17,
          87,
          13,
          16,
          69,
          71,
          10,
          88,
          19,
          5,
          64,
          24,
          75,
          41,
          63,
          45,
          57,
          69,
          5,
          14,
          97,
          24,
          8,
          24,
          65,
          32,
          81,
          67,
          9,
          50,
          11,
          57,
          79,
          44,
          72,
          47,
          68,
          21,
          24,
          39,
          14,
          60,
          14,
          77,
          44,
          92,
          68,
          20,
          79,
          67,
          89,
          41,
          38,
          27,
          54,
          78,
          22,
          39,
          17,
          83,
          57,
          39,
          77,
          36,
          38,
          97,
          7,
          95,
          11,
          96,
          12,
          58,
          15,
          94,
          19,
          88,
          28,
          93,
          82,
          39,
          58,
          46,
          39,
          31,
          58,
          68,
          93,
          75,
          61,
          35,
          91,
          91,
          37,
          15,
          50,
          38,
          74,
          98,
          16,
          48,
          67,
          55,
          43,
          29,
          92,
          57,
          48,
          28,
          15,
          11,
          95,
          52,
          39,
          43,
          52,
          49,
          50,
          9,
          8,
          46,
          19,
          82,
          17,
          8,
          57,
          35,
          86,
          79,
          79,
          61,
          48,
          16,
          46,
          47,
          49,
          51,
          9,
          64,
          59,
          46,
          63,
          63,
          46,
          30,
          45,
          58,
          91,
          30,
          92,
          10,
          14,
          22,
          10,
          28,
          52,
          58,
          69,
          87,
          16,
          16,
          70,
          98,
          28,
          52,
          47,
          30,
          88,
          19,
          33,
          65,
          92,
          25
         ],
         "xaxis": "x",
         "y": [
          38,
          21,
          77,
          82,
          63,
          49,
          57,
          66,
          61,
          75,
          89,
          46,
          42,
          10,
          82,
          47,
          31,
          48,
          57,
          40,
          21,
          90,
          22,
          35,
          89,
          44,
          36,
          83,
          43,
          84,
          12,
          29,
          7,
          49,
          86,
          80,
          9,
          11,
          64,
          54,
          62,
          68,
          18,
          60,
          53,
          76,
          58,
          40,
          12,
          18,
          27,
          15,
          72,
          32,
          8,
          42,
          44,
          20,
          83,
          60,
          96,
          82,
          73,
          99,
          17,
          17,
          38,
          54,
          11,
          24,
          10,
          15,
          40,
          56,
          59,
          62,
          67,
          68,
          99,
          77,
          62,
          61,
          54,
          57,
          20,
          53,
          5,
          90,
          62,
          46,
          58,
          60,
          44,
          32,
          78,
          6,
          41,
          7,
          35,
          34,
          40,
          63,
          30,
          64,
          76,
          89,
          43,
          95,
          49,
          62,
          97,
          82,
          12,
          52,
          89,
          76,
          6,
          67,
          23,
          68,
          11,
          54,
          75,
          23,
          84,
          8,
          42,
          29,
          63,
          22,
          68,
          78,
          26,
          75,
          91,
          73,
          59,
          58,
          21,
          6,
          84,
          6,
          61,
          28,
          16,
          82,
          54,
          33,
          35,
          20,
          48,
          81,
          11,
          65,
          49,
          99,
          80,
          81,
          94,
          57,
          69,
          9,
          57,
          57,
          19,
          23,
          78,
          49,
          64,
          45,
          17,
          9,
          45,
          48,
          17,
          49,
          28,
          89,
          23,
          22,
          94,
          51,
          31,
          48,
          30,
          42,
          81,
          26,
          91,
          70,
          76,
          99,
          82,
          59,
          95,
          65,
          39,
          10,
          34,
          9,
          82,
          10,
          5,
          27,
          48,
          24,
          75,
          91,
          32,
          38,
          26,
          77,
          18,
          85,
          88,
          86,
          71,
          65,
          7,
          96,
          69,
          16,
          64,
          66,
          61,
          27,
          94,
          52,
          93,
          96,
          33,
          56,
          69,
          71,
          45,
          62,
          42,
          69,
          69,
          76,
          57,
          37,
          64,
          17,
          12,
          85,
          96,
          74,
          93,
          20,
          66,
          55,
          78,
          91,
          43,
          34,
          56,
          21,
          32,
          38,
          45,
          40,
          10,
          27,
          95,
          93,
          16,
          79,
          52,
          59,
          25,
          75,
          52,
          39,
          90,
          67,
          21,
          86,
          65,
          51,
          21,
          8,
          21,
          76,
          73,
          99,
          35,
          51,
          16,
          74,
          42,
          38,
          30,
          14,
          96,
          70,
          98,
          37,
          83,
          8
         ],
         "yaxis": "y"
        },
        {
         "marker": {
          "color": "red",
          "size": 10,
          "symbol": "diamond"
         },
         "mode": "markers",
         "name": "Centroids",
         "type": "scatter",
         "x": [
          30.942307692307672,
          58.46875,
          62.329999999999984
         ],
         "y": [
          55.23076923076923,
          55.58333333333333,
          43.94999999999999
         ]
        }
       ],
       "layout": {
        "coloraxis": {
         "colorbar": {
          "title": {
           "text": "Cluster"
          }
         },
         "colorscale": [
          [
           0,
           "#0d0887"
          ],
          [
           0.1111111111111111,
           "#46039f"
          ],
          [
           0.2222222222222222,
           "#7201a8"
          ],
          [
           0.3333333333333333,
           "#9c179e"
          ],
          [
           0.4444444444444444,
           "#bd3786"
          ],
          [
           0.5555555555555556,
           "#d8576b"
          ],
          [
           0.6666666666666666,
           "#ed7953"
          ],
          [
           0.7777777777777778,
           "#fb9f3a"
          ],
          [
           0.8888888888888888,
           "#fdca26"
          ],
          [
           1,
           "#f0f921"
          ]
         ]
        },
        "legend": {
         "tracegroupgap": 0
        },
        "template": {
         "data": {
          "bar": [
           {
            "error_x": {
             "color": "#2a3f5f"
            },
            "error_y": {
             "color": "#2a3f5f"
            },
            "marker": {
             "line": {
              "color": "#E5ECF6",
              "width": 0.5
             },
             "pattern": {
              "fillmode": "overlay",
              "size": 10,
              "solidity": 0.2
             }
            },
            "type": "bar"
           }
          ],
          "barpolar": [
           {
            "marker": {
             "line": {
              "color": "#E5ECF6",
              "width": 0.5
             },
             "pattern": {
              "fillmode": "overlay",
              "size": 10,
              "solidity": 0.2
             }
            },
            "type": "barpolar"
           }
          ],
          "carpet": [
           {
            "aaxis": {
             "endlinecolor": "#2a3f5f",
             "gridcolor": "white",
             "linecolor": "white",
             "minorgridcolor": "white",
             "startlinecolor": "#2a3f5f"
            },
            "baxis": {
             "endlinecolor": "#2a3f5f",
             "gridcolor": "white",
             "linecolor": "white",
             "minorgridcolor": "white",
             "startlinecolor": "#2a3f5f"
            },
            "type": "carpet"
           }
          ],
          "choropleth": [
           {
            "colorbar": {
             "outlinewidth": 0,
             "ticks": ""
            },
            "type": "choropleth"
           }
          ],
          "contour": [
           {
            "colorbar": {
             "outlinewidth": 0,
             "ticks": ""
            },
            "colorscale": [
             [
              0,
              "#0d0887"
             ],
             [
              0.1111111111111111,
              "#46039f"
             ],
             [
              0.2222222222222222,
              "#7201a8"
             ],
             [
              0.3333333333333333,
              "#9c179e"
             ],
             [
              0.4444444444444444,
              "#bd3786"
             ],
             [
              0.5555555555555556,
              "#d8576b"
             ],
             [
              0.6666666666666666,
              "#ed7953"
             ],
             [
              0.7777777777777778,
              "#fb9f3a"
             ],
             [
              0.8888888888888888,
              "#fdca26"
             ],
             [
              1,
              "#f0f921"
             ]
            ],
            "type": "contour"
           }
          ],
          "contourcarpet": [
           {
            "colorbar": {
             "outlinewidth": 0,
             "ticks": ""
            },
            "type": "contourcarpet"
           }
          ],
          "heatmap": [
           {
            "colorbar": {
             "outlinewidth": 0,
             "ticks": ""
            },
            "colorscale": [
             [
              0,
              "#0d0887"
             ],
             [
              0.1111111111111111,
              "#46039f"
             ],
             [
              0.2222222222222222,
              "#7201a8"
             ],
             [
              0.3333333333333333,
              "#9c179e"
             ],
             [
              0.4444444444444444,
              "#bd3786"
             ],
             [
              0.5555555555555556,
              "#d8576b"
             ],
             [
              0.6666666666666666,
              "#ed7953"
             ],
             [
              0.7777777777777778,
              "#fb9f3a"
             ],
             [
              0.8888888888888888,
              "#fdca26"
             ],
             [
              1,
              "#f0f921"
             ]
            ],
            "type": "heatmap"
           }
          ],
          "heatmapgl": [
           {
            "colorbar": {
             "outlinewidth": 0,
             "ticks": ""
            },
            "colorscale": [
             [
              0,
              "#0d0887"
             ],
             [
              0.1111111111111111,
              "#46039f"
             ],
             [
              0.2222222222222222,
              "#7201a8"
             ],
             [
              0.3333333333333333,
              "#9c179e"
             ],
             [
              0.4444444444444444,
              "#bd3786"
             ],
             [
              0.5555555555555556,
              "#d8576b"
             ],
             [
              0.6666666666666666,
              "#ed7953"
             ],
             [
              0.7777777777777778,
              "#fb9f3a"
             ],
             [
              0.8888888888888888,
              "#fdca26"
             ],
             [
              1,
              "#f0f921"
             ]
            ],
            "type": "heatmapgl"
           }
          ],
          "histogram": [
           {
            "marker": {
             "pattern": {
              "fillmode": "overlay",
              "size": 10,
              "solidity": 0.2
             }
            },
            "type": "histogram"
           }
          ],
          "histogram2d": [
           {
            "colorbar": {
             "outlinewidth": 0,
             "ticks": ""
            },
            "colorscale": [
             [
              0,
              "#0d0887"
             ],
             [
              0.1111111111111111,
              "#46039f"
             ],
             [
              0.2222222222222222,
              "#7201a8"
             ],
             [
              0.3333333333333333,
              "#9c179e"
             ],
             [
              0.4444444444444444,
              "#bd3786"
             ],
             [
              0.5555555555555556,
              "#d8576b"
             ],
             [
              0.6666666666666666,
              "#ed7953"
             ],
             [
              0.7777777777777778,
              "#fb9f3a"
             ],
             [
              0.8888888888888888,
              "#fdca26"
             ],
             [
              1,
              "#f0f921"
             ]
            ],
            "type": "histogram2d"
           }
          ],
          "histogram2dcontour": [
           {
            "colorbar": {
             "outlinewidth": 0,
             "ticks": ""
            },
            "colorscale": [
             [
              0,
              "#0d0887"
             ],
             [
              0.1111111111111111,
              "#46039f"
             ],
             [
              0.2222222222222222,
              "#7201a8"
             ],
             [
              0.3333333333333333,
              "#9c179e"
             ],
             [
              0.4444444444444444,
              "#bd3786"
             ],
             [
              0.5555555555555556,
              "#d8576b"
             ],
             [
              0.6666666666666666,
              "#ed7953"
             ],
             [
              0.7777777777777778,
              "#fb9f3a"
             ],
             [
              0.8888888888888888,
              "#fdca26"
             ],
             [
              1,
              "#f0f921"
             ]
            ],
            "type": "histogram2dcontour"
           }
          ],
          "mesh3d": [
           {
            "colorbar": {
             "outlinewidth": 0,
             "ticks": ""
            },
            "type": "mesh3d"
           }
          ],
          "parcoords": [
           {
            "line": {
             "colorbar": {
              "outlinewidth": 0,
              "ticks": ""
             }
            },
            "type": "parcoords"
           }
          ],
          "pie": [
           {
            "automargin": true,
            "type": "pie"
           }
          ],
          "scatter": [
           {
            "fillpattern": {
             "fillmode": "overlay",
             "size": 10,
             "solidity": 0.2
            },
            "type": "scatter"
           }
          ],
          "scatter3d": [
           {
            "line": {
             "colorbar": {
              "outlinewidth": 0,
              "ticks": ""
             }
            },
            "marker": {
             "colorbar": {
              "outlinewidth": 0,
              "ticks": ""
             }
            },
            "type": "scatter3d"
           }
          ],
          "scattercarpet": [
           {
            "marker": {
             "colorbar": {
              "outlinewidth": 0,
              "ticks": ""
             }
            },
            "type": "scattercarpet"
           }
          ],
          "scattergeo": [
           {
            "marker": {
             "colorbar": {
              "outlinewidth": 0,
              "ticks": ""
             }
            },
            "type": "scattergeo"
           }
          ],
          "scattergl": [
           {
            "marker": {
             "colorbar": {
              "outlinewidth": 0,
              "ticks": ""
             }
            },
            "type": "scattergl"
           }
          ],
          "scattermapbox": [
           {
            "marker": {
             "colorbar": {
              "outlinewidth": 0,
              "ticks": ""
             }
            },
            "type": "scattermapbox"
           }
          ],
          "scatterpolar": [
           {
            "marker": {
             "colorbar": {
              "outlinewidth": 0,
              "ticks": ""
             }
            },
            "type": "scatterpolar"
           }
          ],
          "scatterpolargl": [
           {
            "marker": {
             "colorbar": {
              "outlinewidth": 0,
              "ticks": ""
             }
            },
            "type": "scatterpolargl"
           }
          ],
          "scatterternary": [
           {
            "marker": {
             "colorbar": {
              "outlinewidth": 0,
              "ticks": ""
             }
            },
            "type": "scatterternary"
           }
          ],
          "surface": [
           {
            "colorbar": {
             "outlinewidth": 0,
             "ticks": ""
            },
            "colorscale": [
             [
              0,
              "#0d0887"
             ],
             [
              0.1111111111111111,
              "#46039f"
             ],
             [
              0.2222222222222222,
              "#7201a8"
             ],
             [
              0.3333333333333333,
              "#9c179e"
             ],
             [
              0.4444444444444444,
              "#bd3786"
             ],
             [
              0.5555555555555556,
              "#d8576b"
             ],
             [
              0.6666666666666666,
              "#ed7953"
             ],
             [
              0.7777777777777778,
              "#fb9f3a"
             ],
             [
              0.8888888888888888,
              "#fdca26"
             ],
             [
              1,
              "#f0f921"
             ]
            ],
            "type": "surface"
           }
          ],
          "table": [
           {
            "cells": {
             "fill": {
              "color": "#EBF0F8"
             },
             "line": {
              "color": "white"
             }
            },
            "header": {
             "fill": {
              "color": "#C8D4E3"
             },
             "line": {
              "color": "white"
             }
            },
            "type": "table"
           }
          ]
         },
         "layout": {
          "annotationdefaults": {
           "arrowcolor": "#2a3f5f",
           "arrowhead": 0,
           "arrowwidth": 1
          },
          "autotypenumbers": "strict",
          "coloraxis": {
           "colorbar": {
            "outlinewidth": 0,
            "ticks": ""
           }
          },
          "colorscale": {
           "diverging": [
            [
             0,
             "#8e0152"
            ],
            [
             0.1,
             "#c51b7d"
            ],
            [
             0.2,
             "#de77ae"
            ],
            [
             0.3,
             "#f1b6da"
            ],
            [
             0.4,
             "#fde0ef"
            ],
            [
             0.5,
             "#f7f7f7"
            ],
            [
             0.6,
             "#e6f5d0"
            ],
            [
             0.7,
             "#b8e186"
            ],
            [
             0.8,
             "#7fbc41"
            ],
            [
             0.9,
             "#4d9221"
            ],
            [
             1,
             "#276419"
            ]
           ],
           "sequential": [
            [
             0,
             "#0d0887"
            ],
            [
             0.1111111111111111,
             "#46039f"
            ],
            [
             0.2222222222222222,
             "#7201a8"
            ],
            [
             0.3333333333333333,
             "#9c179e"
            ],
            [
             0.4444444444444444,
             "#bd3786"
            ],
            [
             0.5555555555555556,
             "#d8576b"
            ],
            [
             0.6666666666666666,
             "#ed7953"
            ],
            [
             0.7777777777777778,
             "#fb9f3a"
            ],
            [
             0.8888888888888888,
             "#fdca26"
            ],
            [
             1,
             "#f0f921"
            ]
           ],
           "sequentialminus": [
            [
             0,
             "#0d0887"
            ],
            [
             0.1111111111111111,
             "#46039f"
            ],
            [
             0.2222222222222222,
             "#7201a8"
            ],
            [
             0.3333333333333333,
             "#9c179e"
            ],
            [
             0.4444444444444444,
             "#bd3786"
            ],
            [
             0.5555555555555556,
             "#d8576b"
            ],
            [
             0.6666666666666666,
             "#ed7953"
            ],
            [
             0.7777777777777778,
             "#fb9f3a"
            ],
            [
             0.8888888888888888,
             "#fdca26"
            ],
            [
             1,
             "#f0f921"
            ]
           ]
          },
          "colorway": [
           "#636efa",
           "#EF553B",
           "#00cc96",
           "#ab63fa",
           "#FFA15A",
           "#19d3f3",
           "#FF6692",
           "#B6E880",
           "#FF97FF",
           "#FECB52"
          ],
          "font": {
           "color": "#2a3f5f"
          },
          "geo": {
           "bgcolor": "white",
           "lakecolor": "white",
           "landcolor": "#E5ECF6",
           "showlakes": true,
           "showland": true,
           "subunitcolor": "white"
          },
          "hoverlabel": {
           "align": "left"
          },
          "hovermode": "closest",
          "mapbox": {
           "style": "light"
          },
          "paper_bgcolor": "white",
          "plot_bgcolor": "#E5ECF6",
          "polar": {
           "angularaxis": {
            "gridcolor": "white",
            "linecolor": "white",
            "ticks": ""
           },
           "bgcolor": "#E5ECF6",
           "radialaxis": {
            "gridcolor": "white",
            "linecolor": "white",
            "ticks": ""
           }
          },
          "scene": {
           "xaxis": {
            "backgroundcolor": "#E5ECF6",
            "gridcolor": "white",
            "gridwidth": 2,
            "linecolor": "white",
            "showbackground": true,
            "ticks": "",
            "zerolinecolor": "white"
           },
           "yaxis": {
            "backgroundcolor": "#E5ECF6",
            "gridcolor": "white",
            "gridwidth": 2,
            "linecolor": "white",
            "showbackground": true,
            "ticks": "",
            "zerolinecolor": "white"
           },
           "zaxis": {
            "backgroundcolor": "#E5ECF6",
            "gridcolor": "white",
            "gridwidth": 2,
            "linecolor": "white",
            "showbackground": true,
            "ticks": "",
            "zerolinecolor": "white"
           }
          },
          "shapedefaults": {
           "line": {
            "color": "#2a3f5f"
           }
          },
          "ternary": {
           "aaxis": {
            "gridcolor": "white",
            "linecolor": "white",
            "ticks": ""
           },
           "baxis": {
            "gridcolor": "white",
            "linecolor": "white",
            "ticks": ""
           },
           "bgcolor": "#E5ECF6",
           "caxis": {
            "gridcolor": "white",
            "linecolor": "white",
            "ticks": ""
           }
          },
          "title": {
           "x": 0.05
          },
          "xaxis": {
           "automargin": true,
           "gridcolor": "white",
           "linecolor": "white",
           "ticks": "",
           "title": {
            "standoff": 15
           },
           "zerolinecolor": "white",
           "zerolinewidth": 2
          },
          "yaxis": {
           "automargin": true,
           "gridcolor": "white",
           "linecolor": "white",
           "ticks": "",
           "title": {
            "standoff": 15
           },
           "zerolinecolor": "white",
           "zerolinewidth": 2
          }
         }
        },
        "title": {
         "text": "K-Means Clustering (2D)"
        },
        "xaxis": {
         "anchor": "y",
         "domain": [
          0,
          1
         ],
         "title": {
          "text": "Feature_1"
         }
        },
        "yaxis": {
         "anchor": "x",
         "domain": [
          0,
          1
         ],
         "title": {
          "text": "Feature_2"
         }
        }
       }
      },
      "text/html": [
       "<div>                            <div id=\"9cff30d3-7c63-461f-9e24-7fe1202e65ec\" class=\"plotly-graph-div\" style=\"height:525px; width:100%;\"></div>            <script type=\"text/javascript\">                require([\"plotly\"], function(Plotly) {                    window.PLOTLYENV=window.PLOTLYENV || {};                                    if (document.getElementById(\"9cff30d3-7c63-461f-9e24-7fe1202e65ec\")) {                    Plotly.newPlot(                        \"9cff30d3-7c63-461f-9e24-7fe1202e65ec\",                        [{\"hovertemplate\":\"Feature_1=%{x}<br>Feature_2=%{y}<br>Cluster=%{marker.color}<extra></extra>\",\"legendgroup\":\"\",\"marker\":{\"color\":[2,0,1,2,2,2,1,1,2,1,1,1,1,2,0,2,0,0,2,1,2,0,2,0,0,2,0,2,2,2,1,1,2,0,0,1,0,2,0,2,1,1,1,2,2,0,1,0,0,2,1,0,1,1,0,2,0,0,1,1,1,1,2,1,2,0,0,1,1,2,1,1,2,1,2,2,1,2,0,0,0,0,0,1,2,1,1,0,2,1,1,2,2,0,1,0,0,2,1,1,2,0,2,1,0,0,2,0,1,0,0,0,2,0,0,2,2,0,2,0,0,0,1,1,1,2,0,2,2,2,0,0,2,2,1,2,1,0,1,1,2,0,1,0,2,1,0,0,2,0,0,0,2,2,2,1,0,2,0,2,2,2,1,1,2,2,0,1,0,1,0,2,0,1,2,0,1,1,1,2,2,0,0,2,1,2,0,2,0,0,2,0,0,1,0,1,2,1,0,1,0,2,0,2,1,2,0,0,1,2,2,1,2,1,2,1,1,0,2,2,0,1,2,1,2,0,1,1,0,0,0,0,1,1,1,1,0,0,2,2,2,2,1,1,2,0,2,1,0,2,1,0,2,0,2,1,2,2,0,0,0,1,0,0,0,1,0,2,2,0,1,0,1,1,1,1,2,1,0,2,0,2,2,1,2,1,0,0,1,1,0,2,2,0,2,0,1,1,1,0],\"coloraxis\":\"coloraxis\",\"opacity\":0.8,\"symbol\":\"circle\"},\"mode\":\"markers\",\"name\":\"\",\"orientation\":\"v\",\"showlegend\":false,\"x\":[19,22,98,54,38,93,83,80,93,16,58,80,77,50,11,7,39,76,78,99,62,17,78,64,30,93,55,45,98,80,93,97,59,6,38,87,34,49,21,88,52,76,75,90,96,32,81,24,5,74,33,20,83,56,25,88,36,16,59,55,66,62,30,78,44,72,24,77,8,45,92,89,73,28,12,96,56,97,9,10,21,6,31,54,26,7,15,31,25,19,73,55,59,21,72,46,16,91,12,39,50,43,66,82,45,27,81,52,53,60,66,10,90,52,41,50,80,80,33,29,52,22,79,37,48,70,18,30,17,87,13,16,69,71,10,88,19,5,64,24,75,41,63,45,57,69,5,14,97,24,8,24,65,32,81,67,9,50,11,57,79,44,72,47,68,21,24,39,14,60,14,77,44,92,68,20,79,67,89,41,38,27,54,78,22,39,17,83,57,39,77,36,38,97,7,95,11,96,12,58,15,94,19,88,28,93,82,39,58,46,39,31,58,68,93,75,61,35,91,91,37,15,50,38,74,98,16,48,67,55,43,29,92,57,48,28,15,11,95,52,39,43,52,49,50,9,8,46,19,82,17,8,57,35,86,79,79,61,48,16,46,47,49,51,9,64,59,46,63,63,46,30,45,58,91,30,92,10,14,22,10,28,52,58,69,87,16,16,70,98,28,52,47,30,88,19,33,65,92,25],\"xaxis\":\"x\",\"y\":[38,21,77,82,63,49,57,66,61,75,89,46,42,10,82,47,31,48,57,40,21,90,22,35,89,44,36,83,43,84,12,29,7,49,86,80,9,11,64,54,62,68,18,60,53,76,58,40,12,18,27,15,72,32,8,42,44,20,83,60,96,82,73,99,17,17,38,54,11,24,10,15,40,56,59,62,67,68,99,77,62,61,54,57,20,53,5,90,62,46,58,60,44,32,78,6,41,7,35,34,40,63,30,64,76,89,43,95,49,62,97,82,12,52,89,76,6,67,23,68,11,54,75,23,84,8,42,29,63,22,68,78,26,75,91,73,59,58,21,6,84,6,61,28,16,82,54,33,35,20,48,81,11,65,49,99,80,81,94,57,69,9,57,57,19,23,78,49,64,45,17,9,45,48,17,49,28,89,23,22,94,51,31,48,30,42,81,26,91,70,76,99,82,59,95,65,39,10,34,9,82,10,5,27,48,24,75,91,32,38,26,77,18,85,88,86,71,65,7,96,69,16,64,66,61,27,94,52,93,96,33,56,69,71,45,62,42,69,69,76,57,37,64,17,12,85,96,74,93,20,66,55,78,91,43,34,56,21,32,38,45,40,10,27,95,93,16,79,52,59,25,75,52,39,90,67,21,86,65,51,21,8,21,76,73,99,35,51,16,74,42,38,30,14,96,70,98,37,83,8],\"yaxis\":\"y\",\"type\":\"scatter\"},{\"marker\":{\"color\":\"red\",\"size\":10,\"symbol\":\"diamond\"},\"mode\":\"markers\",\"name\":\"Centroids\",\"x\":[30.942307692307672,58.46875,62.329999999999984],\"y\":[55.23076923076923,55.58333333333333,43.94999999999999],\"type\":\"scatter\"}],                        {\"template\":{\"data\":{\"histogram2dcontour\":[{\"type\":\"histogram2dcontour\",\"colorbar\":{\"outlinewidth\":0,\"ticks\":\"\"},\"colorscale\":[[0.0,\"#0d0887\"],[0.1111111111111111,\"#46039f\"],[0.2222222222222222,\"#7201a8\"],[0.3333333333333333,\"#9c179e\"],[0.4444444444444444,\"#bd3786\"],[0.5555555555555556,\"#d8576b\"],[0.6666666666666666,\"#ed7953\"],[0.7777777777777778,\"#fb9f3a\"],[0.8888888888888888,\"#fdca26\"],[1.0,\"#f0f921\"]]}],\"choropleth\":[{\"type\":\"choropleth\",\"colorbar\":{\"outlinewidth\":0,\"ticks\":\"\"}}],\"histogram2d\":[{\"type\":\"histogram2d\",\"colorbar\":{\"outlinewidth\":0,\"ticks\":\"\"},\"colorscale\":[[0.0,\"#0d0887\"],[0.1111111111111111,\"#46039f\"],[0.2222222222222222,\"#7201a8\"],[0.3333333333333333,\"#9c179e\"],[0.4444444444444444,\"#bd3786\"],[0.5555555555555556,\"#d8576b\"],[0.6666666666666666,\"#ed7953\"],[0.7777777777777778,\"#fb9f3a\"],[0.8888888888888888,\"#fdca26\"],[1.0,\"#f0f921\"]]}],\"heatmap\":[{\"type\":\"heatmap\",\"colorbar\":{\"outlinewidth\":0,\"ticks\":\"\"},\"colorscale\":[[0.0,\"#0d0887\"],[0.1111111111111111,\"#46039f\"],[0.2222222222222222,\"#7201a8\"],[0.3333333333333333,\"#9c179e\"],[0.4444444444444444,\"#bd3786\"],[0.5555555555555556,\"#d8576b\"],[0.6666666666666666,\"#ed7953\"],[0.7777777777777778,\"#fb9f3a\"],[0.8888888888888888,\"#fdca26\"],[1.0,\"#f0f921\"]]}],\"heatmapgl\":[{\"type\":\"heatmapgl\",\"colorbar\":{\"outlinewidth\":0,\"ticks\":\"\"},\"colorscale\":[[0.0,\"#0d0887\"],[0.1111111111111111,\"#46039f\"],[0.2222222222222222,\"#7201a8\"],[0.3333333333333333,\"#9c179e\"],[0.4444444444444444,\"#bd3786\"],[0.5555555555555556,\"#d8576b\"],[0.6666666666666666,\"#ed7953\"],[0.7777777777777778,\"#fb9f3a\"],[0.8888888888888888,\"#fdca26\"],[1.0,\"#f0f921\"]]}],\"contourcarpet\":[{\"type\":\"contourcarpet\",\"colorbar\":{\"outlinewidth\":0,\"ticks\":\"\"}}],\"contour\":[{\"type\":\"contour\",\"colorbar\":{\"outlinewidth\":0,\"ticks\":\"\"},\"colorscale\":[[0.0,\"#0d0887\"],[0.1111111111111111,\"#46039f\"],[0.2222222222222222,\"#7201a8\"],[0.3333333333333333,\"#9c179e\"],[0.4444444444444444,\"#bd3786\"],[0.5555555555555556,\"#d8576b\"],[0.6666666666666666,\"#ed7953\"],[0.7777777777777778,\"#fb9f3a\"],[0.8888888888888888,\"#fdca26\"],[1.0,\"#f0f921\"]]}],\"surface\":[{\"type\":\"surface\",\"colorbar\":{\"outlinewidth\":0,\"ticks\":\"\"},\"colorscale\":[[0.0,\"#0d0887\"],[0.1111111111111111,\"#46039f\"],[0.2222222222222222,\"#7201a8\"],[0.3333333333333333,\"#9c179e\"],[0.4444444444444444,\"#bd3786\"],[0.5555555555555556,\"#d8576b\"],[0.6666666666666666,\"#ed7953\"],[0.7777777777777778,\"#fb9f3a\"],[0.8888888888888888,\"#fdca26\"],[1.0,\"#f0f921\"]]}],\"mesh3d\":[{\"type\":\"mesh3d\",\"colorbar\":{\"outlinewidth\":0,\"ticks\":\"\"}}],\"scatter\":[{\"fillpattern\":{\"fillmode\":\"overlay\",\"size\":10,\"solidity\":0.2},\"type\":\"scatter\"}],\"parcoords\":[{\"type\":\"parcoords\",\"line\":{\"colorbar\":{\"outlinewidth\":0,\"ticks\":\"\"}}}],\"scatterpolargl\":[{\"type\":\"scatterpolargl\",\"marker\":{\"colorbar\":{\"outlinewidth\":0,\"ticks\":\"\"}}}],\"bar\":[{\"error_x\":{\"color\":\"#2a3f5f\"},\"error_y\":{\"color\":\"#2a3f5f\"},\"marker\":{\"line\":{\"color\":\"#E5ECF6\",\"width\":0.5},\"pattern\":{\"fillmode\":\"overlay\",\"size\":10,\"solidity\":0.2}},\"type\":\"bar\"}],\"scattergeo\":[{\"type\":\"scattergeo\",\"marker\":{\"colorbar\":{\"outlinewidth\":0,\"ticks\":\"\"}}}],\"scatterpolar\":[{\"type\":\"scatterpolar\",\"marker\":{\"colorbar\":{\"outlinewidth\":0,\"ticks\":\"\"}}}],\"histogram\":[{\"marker\":{\"pattern\":{\"fillmode\":\"overlay\",\"size\":10,\"solidity\":0.2}},\"type\":\"histogram\"}],\"scattergl\":[{\"type\":\"scattergl\",\"marker\":{\"colorbar\":{\"outlinewidth\":0,\"ticks\":\"\"}}}],\"scatter3d\":[{\"type\":\"scatter3d\",\"line\":{\"colorbar\":{\"outlinewidth\":0,\"ticks\":\"\"}},\"marker\":{\"colorbar\":{\"outlinewidth\":0,\"ticks\":\"\"}}}],\"scattermapbox\":[{\"type\":\"scattermapbox\",\"marker\":{\"colorbar\":{\"outlinewidth\":0,\"ticks\":\"\"}}}],\"scatterternary\":[{\"type\":\"scatterternary\",\"marker\":{\"colorbar\":{\"outlinewidth\":0,\"ticks\":\"\"}}}],\"scattercarpet\":[{\"type\":\"scattercarpet\",\"marker\":{\"colorbar\":{\"outlinewidth\":0,\"ticks\":\"\"}}}],\"carpet\":[{\"aaxis\":{\"endlinecolor\":\"#2a3f5f\",\"gridcolor\":\"white\",\"linecolor\":\"white\",\"minorgridcolor\":\"white\",\"startlinecolor\":\"#2a3f5f\"},\"baxis\":{\"endlinecolor\":\"#2a3f5f\",\"gridcolor\":\"white\",\"linecolor\":\"white\",\"minorgridcolor\":\"white\",\"startlinecolor\":\"#2a3f5f\"},\"type\":\"carpet\"}],\"table\":[{\"cells\":{\"fill\":{\"color\":\"#EBF0F8\"},\"line\":{\"color\":\"white\"}},\"header\":{\"fill\":{\"color\":\"#C8D4E3\"},\"line\":{\"color\":\"white\"}},\"type\":\"table\"}],\"barpolar\":[{\"marker\":{\"line\":{\"color\":\"#E5ECF6\",\"width\":0.5},\"pattern\":{\"fillmode\":\"overlay\",\"size\":10,\"solidity\":0.2}},\"type\":\"barpolar\"}],\"pie\":[{\"automargin\":true,\"type\":\"pie\"}]},\"layout\":{\"autotypenumbers\":\"strict\",\"colorway\":[\"#636efa\",\"#EF553B\",\"#00cc96\",\"#ab63fa\",\"#FFA15A\",\"#19d3f3\",\"#FF6692\",\"#B6E880\",\"#FF97FF\",\"#FECB52\"],\"font\":{\"color\":\"#2a3f5f\"},\"hovermode\":\"closest\",\"hoverlabel\":{\"align\":\"left\"},\"paper_bgcolor\":\"white\",\"plot_bgcolor\":\"#E5ECF6\",\"polar\":{\"bgcolor\":\"#E5ECF6\",\"angularaxis\":{\"gridcolor\":\"white\",\"linecolor\":\"white\",\"ticks\":\"\"},\"radialaxis\":{\"gridcolor\":\"white\",\"linecolor\":\"white\",\"ticks\":\"\"}},\"ternary\":{\"bgcolor\":\"#E5ECF6\",\"aaxis\":{\"gridcolor\":\"white\",\"linecolor\":\"white\",\"ticks\":\"\"},\"baxis\":{\"gridcolor\":\"white\",\"linecolor\":\"white\",\"ticks\":\"\"},\"caxis\":{\"gridcolor\":\"white\",\"linecolor\":\"white\",\"ticks\":\"\"}},\"coloraxis\":{\"colorbar\":{\"outlinewidth\":0,\"ticks\":\"\"}},\"colorscale\":{\"sequential\":[[0.0,\"#0d0887\"],[0.1111111111111111,\"#46039f\"],[0.2222222222222222,\"#7201a8\"],[0.3333333333333333,\"#9c179e\"],[0.4444444444444444,\"#bd3786\"],[0.5555555555555556,\"#d8576b\"],[0.6666666666666666,\"#ed7953\"],[0.7777777777777778,\"#fb9f3a\"],[0.8888888888888888,\"#fdca26\"],[1.0,\"#f0f921\"]],\"sequentialminus\":[[0.0,\"#0d0887\"],[0.1111111111111111,\"#46039f\"],[0.2222222222222222,\"#7201a8\"],[0.3333333333333333,\"#9c179e\"],[0.4444444444444444,\"#bd3786\"],[0.5555555555555556,\"#d8576b\"],[0.6666666666666666,\"#ed7953\"],[0.7777777777777778,\"#fb9f3a\"],[0.8888888888888888,\"#fdca26\"],[1.0,\"#f0f921\"]],\"diverging\":[[0,\"#8e0152\"],[0.1,\"#c51b7d\"],[0.2,\"#de77ae\"],[0.3,\"#f1b6da\"],[0.4,\"#fde0ef\"],[0.5,\"#f7f7f7\"],[0.6,\"#e6f5d0\"],[0.7,\"#b8e186\"],[0.8,\"#7fbc41\"],[0.9,\"#4d9221\"],[1,\"#276419\"]]},\"xaxis\":{\"gridcolor\":\"white\",\"linecolor\":\"white\",\"ticks\":\"\",\"title\":{\"standoff\":15},\"zerolinecolor\":\"white\",\"automargin\":true,\"zerolinewidth\":2},\"yaxis\":{\"gridcolor\":\"white\",\"linecolor\":\"white\",\"ticks\":\"\",\"title\":{\"standoff\":15},\"zerolinecolor\":\"white\",\"automargin\":true,\"zerolinewidth\":2},\"scene\":{\"xaxis\":{\"backgroundcolor\":\"#E5ECF6\",\"gridcolor\":\"white\",\"linecolor\":\"white\",\"showbackground\":true,\"ticks\":\"\",\"zerolinecolor\":\"white\",\"gridwidth\":2},\"yaxis\":{\"backgroundcolor\":\"#E5ECF6\",\"gridcolor\":\"white\",\"linecolor\":\"white\",\"showbackground\":true,\"ticks\":\"\",\"zerolinecolor\":\"white\",\"gridwidth\":2},\"zaxis\":{\"backgroundcolor\":\"#E5ECF6\",\"gridcolor\":\"white\",\"linecolor\":\"white\",\"showbackground\":true,\"ticks\":\"\",\"zerolinecolor\":\"white\",\"gridwidth\":2}},\"shapedefaults\":{\"line\":{\"color\":\"#2a3f5f\"}},\"annotationdefaults\":{\"arrowcolor\":\"#2a3f5f\",\"arrowhead\":0,\"arrowwidth\":1},\"geo\":{\"bgcolor\":\"white\",\"landcolor\":\"#E5ECF6\",\"subunitcolor\":\"white\",\"showland\":true,\"showlakes\":true,\"lakecolor\":\"white\"},\"title\":{\"x\":0.05},\"mapbox\":{\"style\":\"light\"}}},\"xaxis\":{\"anchor\":\"y\",\"domain\":[0.0,1.0],\"title\":{\"text\":\"Feature_1\"}},\"yaxis\":{\"anchor\":\"x\",\"domain\":[0.0,1.0],\"title\":{\"text\":\"Feature_2\"}},\"coloraxis\":{\"colorbar\":{\"title\":{\"text\":\"Cluster\"}},\"colorscale\":[[0.0,\"#0d0887\"],[0.1111111111111111,\"#46039f\"],[0.2222222222222222,\"#7201a8\"],[0.3333333333333333,\"#9c179e\"],[0.4444444444444444,\"#bd3786\"],[0.5555555555555556,\"#d8576b\"],[0.6666666666666666,\"#ed7953\"],[0.7777777777777778,\"#fb9f3a\"],[0.8888888888888888,\"#fdca26\"],[1.0,\"#f0f921\"]]},\"legend\":{\"tracegroupgap\":0},\"title\":{\"text\":\"K-Means Clustering (2D)\"}},                        {\"responsive\": true}                    ).then(function(){\n",
       "                            \n",
       "var gd = document.getElementById('9cff30d3-7c63-461f-9e24-7fe1202e65ec');\n",
       "var x = new MutationObserver(function (mutations, observer) {{\n",
       "        var display = window.getComputedStyle(gd).display;\n",
       "        if (!display || display === 'none') {{\n",
       "            console.log([gd, 'removed!']);\n",
       "            Plotly.purge(gd);\n",
       "            observer.disconnect();\n",
       "        }}\n",
       "}});\n",
       "\n",
       "// Listen for the removal of the full notebook cells\n",
       "var notebookContainer = gd.closest('#notebook-container');\n",
       "if (notebookContainer) {{\n",
       "    x.observe(notebookContainer, {childList: true});\n",
       "}}\n",
       "\n",
       "// Listen for the clearing of the current output cell\n",
       "var outputEl = gd.closest('.output');\n",
       "if (outputEl) {{\n",
       "    x.observe(outputEl, {childList: true});\n",
       "}}\n",
       "\n",
       "                        })                };                });            </script>        </div>"
      ]
     },
     "metadata": {},
     "output_type": "display_data"
    },
    {
     "data": {
      "application/vnd.plotly.v1+json": {
       "config": {
        "plotlyServerURL": "https://plot.ly"
       },
       "data": [
        {
         "hovertemplate": "Feature_1=%{x}<br>Feature_2=%{y}<br>Cluster=%{marker.color}<extra></extra>",
         "legendgroup": "",
         "marker": {
          "color": [
           2,
           0,
           1,
           2,
           2,
           2,
           1,
           1,
           2,
           1,
           1,
           1,
           1,
           2,
           0,
           2,
           0,
           0,
           2,
           1,
           2,
           0,
           2,
           0,
           0,
           2,
           0,
           2,
           2,
           2,
           1,
           1,
           2,
           0,
           0,
           1,
           0,
           2,
           0,
           2,
           1,
           1,
           1,
           2,
           2,
           0,
           1,
           0,
           0,
           2,
           1,
           0,
           1,
           1,
           0,
           2,
           0,
           0,
           1,
           1,
           1,
           1,
           2,
           1,
           2,
           0,
           0,
           1,
           1,
           2,
           1,
           1,
           2,
           1,
           2,
           2,
           1,
           2,
           0,
           0,
           0,
           0,
           0,
           1,
           2,
           1,
           1,
           0,
           2,
           1,
           1,
           2,
           2,
           0,
           1,
           0,
           0,
           2,
           1,
           1,
           2,
           0,
           2,
           1,
           0,
           0,
           2,
           0,
           1,
           0,
           0,
           0,
           2,
           0,
           0,
           2,
           2,
           0,
           2,
           0,
           0,
           0,
           1,
           1,
           1,
           2,
           0,
           2,
           2,
           2,
           0,
           0,
           2,
           2,
           1,
           2,
           1,
           0,
           1,
           1,
           2,
           0,
           1,
           0,
           2,
           1,
           0,
           0,
           2,
           0,
           0,
           0,
           2,
           2,
           2,
           1,
           0,
           2,
           0,
           2,
           2,
           2,
           1,
           1,
           2,
           2,
           0,
           1,
           0,
           1,
           0,
           2,
           0,
           1,
           2,
           0,
           1,
           1,
           1,
           2,
           2,
           0,
           0,
           2,
           1,
           2,
           0,
           2,
           0,
           0,
           2,
           0,
           0,
           1,
           0,
           1,
           2,
           1,
           0,
           1,
           0,
           2,
           0,
           2,
           1,
           2,
           0,
           0,
           1,
           2,
           2,
           1,
           2,
           1,
           2,
           1,
           1,
           0,
           2,
           2,
           0,
           1,
           2,
           1,
           2,
           0,
           1,
           1,
           0,
           0,
           0,
           0,
           1,
           1,
           1,
           1,
           0,
           0,
           2,
           2,
           2,
           2,
           1,
           1,
           2,
           0,
           2,
           1,
           0,
           2,
           1,
           0,
           2,
           0,
           2,
           1,
           2,
           2,
           0,
           0,
           0,
           1,
           0,
           0,
           0,
           1,
           0,
           2,
           2,
           0,
           1,
           0,
           1,
           1,
           1,
           1,
           2,
           1,
           0,
           2,
           0,
           2,
           2,
           1,
           2,
           1,
           0,
           0,
           1,
           1,
           0,
           2,
           2,
           0,
           2,
           0,
           1,
           1,
           1,
           0
          ],
          "coloraxis": "coloraxis",
          "opacity": 0.8,
          "symbol": "circle"
         },
         "mode": "markers",
         "name": "",
         "orientation": "v",
         "showlegend": false,
         "type": "scatter",
         "x": [
          19,
          22,
          98,
          54,
          38,
          93,
          83,
          80,
          93,
          16,
          58,
          80,
          77,
          50,
          11,
          7,
          39,
          76,
          78,
          99,
          62,
          17,
          78,
          64,
          30,
          93,
          55,
          45,
          98,
          80,
          93,
          97,
          59,
          6,
          38,
          87,
          34,
          49,
          21,
          88,
          52,
          76,
          75,
          90,
          96,
          32,
          81,
          24,
          5,
          74,
          33,
          20,
          83,
          56,
          25,
          88,
          36,
          16,
          59,
          55,
          66,
          62,
          30,
          78,
          44,
          72,
          24,
          77,
          8,
          45,
          92,
          89,
          73,
          28,
          12,
          96,
          56,
          97,
          9,
          10,
          21,
          6,
          31,
          54,
          26,
          7,
          15,
          31,
          25,
          19,
          73,
          55,
          59,
          21,
          72,
          46,
          16,
          91,
          12,
          39,
          50,
          43,
          66,
          82,
          45,
          27,
          81,
          52,
          53,
          60,
          66,
          10,
          90,
          52,
          41,
          50,
          80,
          80,
          33,
          29,
          52,
          22,
          79,
          37,
          48,
          70,
          18,
          30,
          17,
          87,
          13,
          16,
          69,
          71,
          10,
          88,
          19,
          5,
          64,
          24,
          75,
          41,
          63,
          45,
          57,
          69,
          5,
          14,
          97,
          24,
          8,
          24,
          65,
          32,
          81,
          67,
          9,
          50,
          11,
          57,
          79,
          44,
          72,
          47,
          68,
          21,
          24,
          39,
          14,
          60,
          14,
          77,
          44,
          92,
          68,
          20,
          79,
          67,
          89,
          41,
          38,
          27,
          54,
          78,
          22,
          39,
          17,
          83,
          57,
          39,
          77,
          36,
          38,
          97,
          7,
          95,
          11,
          96,
          12,
          58,
          15,
          94,
          19,
          88,
          28,
          93,
          82,
          39,
          58,
          46,
          39,
          31,
          58,
          68,
          93,
          75,
          61,
          35,
          91,
          91,
          37,
          15,
          50,
          38,
          74,
          98,
          16,
          48,
          67,
          55,
          43,
          29,
          92,
          57,
          48,
          28,
          15,
          11,
          95,
          52,
          39,
          43,
          52,
          49,
          50,
          9,
          8,
          46,
          19,
          82,
          17,
          8,
          57,
          35,
          86,
          79,
          79,
          61,
          48,
          16,
          46,
          47,
          49,
          51,
          9,
          64,
          59,
          46,
          63,
          63,
          46,
          30,
          45,
          58,
          91,
          30,
          92,
          10,
          14,
          22,
          10,
          28,
          52,
          58,
          69,
          87,
          16,
          16,
          70,
          98,
          28,
          52,
          47,
          30,
          88,
          19,
          33,
          65,
          92,
          25
         ],
         "xaxis": "x",
         "y": [
          38,
          21,
          77,
          82,
          63,
          49,
          57,
          66,
          61,
          75,
          89,
          46,
          42,
          10,
          82,
          47,
          31,
          48,
          57,
          40,
          21,
          90,
          22,
          35,
          89,
          44,
          36,
          83,
          43,
          84,
          12,
          29,
          7,
          49,
          86,
          80,
          9,
          11,
          64,
          54,
          62,
          68,
          18,
          60,
          53,
          76,
          58,
          40,
          12,
          18,
          27,
          15,
          72,
          32,
          8,
          42,
          44,
          20,
          83,
          60,
          96,
          82,
          73,
          99,
          17,
          17,
          38,
          54,
          11,
          24,
          10,
          15,
          40,
          56,
          59,
          62,
          67,
          68,
          99,
          77,
          62,
          61,
          54,
          57,
          20,
          53,
          5,
          90,
          62,
          46,
          58,
          60,
          44,
          32,
          78,
          6,
          41,
          7,
          35,
          34,
          40,
          63,
          30,
          64,
          76,
          89,
          43,
          95,
          49,
          62,
          97,
          82,
          12,
          52,
          89,
          76,
          6,
          67,
          23,
          68,
          11,
          54,
          75,
          23,
          84,
          8,
          42,
          29,
          63,
          22,
          68,
          78,
          26,
          75,
          91,
          73,
          59,
          58,
          21,
          6,
          84,
          6,
          61,
          28,
          16,
          82,
          54,
          33,
          35,
          20,
          48,
          81,
          11,
          65,
          49,
          99,
          80,
          81,
          94,
          57,
          69,
          9,
          57,
          57,
          19,
          23,
          78,
          49,
          64,
          45,
          17,
          9,
          45,
          48,
          17,
          49,
          28,
          89,
          23,
          22,
          94,
          51,
          31,
          48,
          30,
          42,
          81,
          26,
          91,
          70,
          76,
          99,
          82,
          59,
          95,
          65,
          39,
          10,
          34,
          9,
          82,
          10,
          5,
          27,
          48,
          24,
          75,
          91,
          32,
          38,
          26,
          77,
          18,
          85,
          88,
          86,
          71,
          65,
          7,
          96,
          69,
          16,
          64,
          66,
          61,
          27,
          94,
          52,
          93,
          96,
          33,
          56,
          69,
          71,
          45,
          62,
          42,
          69,
          69,
          76,
          57,
          37,
          64,
          17,
          12,
          85,
          96,
          74,
          93,
          20,
          66,
          55,
          78,
          91,
          43,
          34,
          56,
          21,
          32,
          38,
          45,
          40,
          10,
          27,
          95,
          93,
          16,
          79,
          52,
          59,
          25,
          75,
          52,
          39,
          90,
          67,
          21,
          86,
          65,
          51,
          21,
          8,
          21,
          76,
          73,
          99,
          35,
          51,
          16,
          74,
          42,
          38,
          30,
          14,
          96,
          70,
          98,
          37,
          83,
          8
         ],
         "yaxis": "y"
        },
        {
         "marker": {
          "color": "red",
          "size": 10,
          "symbol": "diamond"
         },
         "mode": "markers",
         "name": "Centroids",
         "type": "scatter",
         "x": [
          30.942307692307693,
          58.46875,
          62.33
         ],
         "y": [
          55.23076923076923,
          55.583333333333336,
          43.95
         ]
        }
       ],
       "layout": {
        "coloraxis": {
         "colorbar": {
          "title": {
           "text": "Cluster"
          }
         },
         "colorscale": [
          [
           0,
           "#0d0887"
          ],
          [
           0.1111111111111111,
           "#46039f"
          ],
          [
           0.2222222222222222,
           "#7201a8"
          ],
          [
           0.3333333333333333,
           "#9c179e"
          ],
          [
           0.4444444444444444,
           "#bd3786"
          ],
          [
           0.5555555555555556,
           "#d8576b"
          ],
          [
           0.6666666666666666,
           "#ed7953"
          ],
          [
           0.7777777777777778,
           "#fb9f3a"
          ],
          [
           0.8888888888888888,
           "#fdca26"
          ],
          [
           1,
           "#f0f921"
          ]
         ]
        },
        "legend": {
         "tracegroupgap": 0
        },
        "template": {
         "data": {
          "bar": [
           {
            "error_x": {
             "color": "#2a3f5f"
            },
            "error_y": {
             "color": "#2a3f5f"
            },
            "marker": {
             "line": {
              "color": "#E5ECF6",
              "width": 0.5
             },
             "pattern": {
              "fillmode": "overlay",
              "size": 10,
              "solidity": 0.2
             }
            },
            "type": "bar"
           }
          ],
          "barpolar": [
           {
            "marker": {
             "line": {
              "color": "#E5ECF6",
              "width": 0.5
             },
             "pattern": {
              "fillmode": "overlay",
              "size": 10,
              "solidity": 0.2
             }
            },
            "type": "barpolar"
           }
          ],
          "carpet": [
           {
            "aaxis": {
             "endlinecolor": "#2a3f5f",
             "gridcolor": "white",
             "linecolor": "white",
             "minorgridcolor": "white",
             "startlinecolor": "#2a3f5f"
            },
            "baxis": {
             "endlinecolor": "#2a3f5f",
             "gridcolor": "white",
             "linecolor": "white",
             "minorgridcolor": "white",
             "startlinecolor": "#2a3f5f"
            },
            "type": "carpet"
           }
          ],
          "choropleth": [
           {
            "colorbar": {
             "outlinewidth": 0,
             "ticks": ""
            },
            "type": "choropleth"
           }
          ],
          "contour": [
           {
            "colorbar": {
             "outlinewidth": 0,
             "ticks": ""
            },
            "colorscale": [
             [
              0,
              "#0d0887"
             ],
             [
              0.1111111111111111,
              "#46039f"
             ],
             [
              0.2222222222222222,
              "#7201a8"
             ],
             [
              0.3333333333333333,
              "#9c179e"
             ],
             [
              0.4444444444444444,
              "#bd3786"
             ],
             [
              0.5555555555555556,
              "#d8576b"
             ],
             [
              0.6666666666666666,
              "#ed7953"
             ],
             [
              0.7777777777777778,
              "#fb9f3a"
             ],
             [
              0.8888888888888888,
              "#fdca26"
             ],
             [
              1,
              "#f0f921"
             ]
            ],
            "type": "contour"
           }
          ],
          "contourcarpet": [
           {
            "colorbar": {
             "outlinewidth": 0,
             "ticks": ""
            },
            "type": "contourcarpet"
           }
          ],
          "heatmap": [
           {
            "colorbar": {
             "outlinewidth": 0,
             "ticks": ""
            },
            "colorscale": [
             [
              0,
              "#0d0887"
             ],
             [
              0.1111111111111111,
              "#46039f"
             ],
             [
              0.2222222222222222,
              "#7201a8"
             ],
             [
              0.3333333333333333,
              "#9c179e"
             ],
             [
              0.4444444444444444,
              "#bd3786"
             ],
             [
              0.5555555555555556,
              "#d8576b"
             ],
             [
              0.6666666666666666,
              "#ed7953"
             ],
             [
              0.7777777777777778,
              "#fb9f3a"
             ],
             [
              0.8888888888888888,
              "#fdca26"
             ],
             [
              1,
              "#f0f921"
             ]
            ],
            "type": "heatmap"
           }
          ],
          "heatmapgl": [
           {
            "colorbar": {
             "outlinewidth": 0,
             "ticks": ""
            },
            "colorscale": [
             [
              0,
              "#0d0887"
             ],
             [
              0.1111111111111111,
              "#46039f"
             ],
             [
              0.2222222222222222,
              "#7201a8"
             ],
             [
              0.3333333333333333,
              "#9c179e"
             ],
             [
              0.4444444444444444,
              "#bd3786"
             ],
             [
              0.5555555555555556,
              "#d8576b"
             ],
             [
              0.6666666666666666,
              "#ed7953"
             ],
             [
              0.7777777777777778,
              "#fb9f3a"
             ],
             [
              0.8888888888888888,
              "#fdca26"
             ],
             [
              1,
              "#f0f921"
             ]
            ],
            "type": "heatmapgl"
           }
          ],
          "histogram": [
           {
            "marker": {
             "pattern": {
              "fillmode": "overlay",
              "size": 10,
              "solidity": 0.2
             }
            },
            "type": "histogram"
           }
          ],
          "histogram2d": [
           {
            "colorbar": {
             "outlinewidth": 0,
             "ticks": ""
            },
            "colorscale": [
             [
              0,
              "#0d0887"
             ],
             [
              0.1111111111111111,
              "#46039f"
             ],
             [
              0.2222222222222222,
              "#7201a8"
             ],
             [
              0.3333333333333333,
              "#9c179e"
             ],
             [
              0.4444444444444444,
              "#bd3786"
             ],
             [
              0.5555555555555556,
              "#d8576b"
             ],
             [
              0.6666666666666666,
              "#ed7953"
             ],
             [
              0.7777777777777778,
              "#fb9f3a"
             ],
             [
              0.8888888888888888,
              "#fdca26"
             ],
             [
              1,
              "#f0f921"
             ]
            ],
            "type": "histogram2d"
           }
          ],
          "histogram2dcontour": [
           {
            "colorbar": {
             "outlinewidth": 0,
             "ticks": ""
            },
            "colorscale": [
             [
              0,
              "#0d0887"
             ],
             [
              0.1111111111111111,
              "#46039f"
             ],
             [
              0.2222222222222222,
              "#7201a8"
             ],
             [
              0.3333333333333333,
              "#9c179e"
             ],
             [
              0.4444444444444444,
              "#bd3786"
             ],
             [
              0.5555555555555556,
              "#d8576b"
             ],
             [
              0.6666666666666666,
              "#ed7953"
             ],
             [
              0.7777777777777778,
              "#fb9f3a"
             ],
             [
              0.8888888888888888,
              "#fdca26"
             ],
             [
              1,
              "#f0f921"
             ]
            ],
            "type": "histogram2dcontour"
           }
          ],
          "mesh3d": [
           {
            "colorbar": {
             "outlinewidth": 0,
             "ticks": ""
            },
            "type": "mesh3d"
           }
          ],
          "parcoords": [
           {
            "line": {
             "colorbar": {
              "outlinewidth": 0,
              "ticks": ""
             }
            },
            "type": "parcoords"
           }
          ],
          "pie": [
           {
            "automargin": true,
            "type": "pie"
           }
          ],
          "scatter": [
           {
            "fillpattern": {
             "fillmode": "overlay",
             "size": 10,
             "solidity": 0.2
            },
            "type": "scatter"
           }
          ],
          "scatter3d": [
           {
            "line": {
             "colorbar": {
              "outlinewidth": 0,
              "ticks": ""
             }
            },
            "marker": {
             "colorbar": {
              "outlinewidth": 0,
              "ticks": ""
             }
            },
            "type": "scatter3d"
           }
          ],
          "scattercarpet": [
           {
            "marker": {
             "colorbar": {
              "outlinewidth": 0,
              "ticks": ""
             }
            },
            "type": "scattercarpet"
           }
          ],
          "scattergeo": [
           {
            "marker": {
             "colorbar": {
              "outlinewidth": 0,
              "ticks": ""
             }
            },
            "type": "scattergeo"
           }
          ],
          "scattergl": [
           {
            "marker": {
             "colorbar": {
              "outlinewidth": 0,
              "ticks": ""
             }
            },
            "type": "scattergl"
           }
          ],
          "scattermapbox": [
           {
            "marker": {
             "colorbar": {
              "outlinewidth": 0,
              "ticks": ""
             }
            },
            "type": "scattermapbox"
           }
          ],
          "scatterpolar": [
           {
            "marker": {
             "colorbar": {
              "outlinewidth": 0,
              "ticks": ""
             }
            },
            "type": "scatterpolar"
           }
          ],
          "scatterpolargl": [
           {
            "marker": {
             "colorbar": {
              "outlinewidth": 0,
              "ticks": ""
             }
            },
            "type": "scatterpolargl"
           }
          ],
          "scatterternary": [
           {
            "marker": {
             "colorbar": {
              "outlinewidth": 0,
              "ticks": ""
             }
            },
            "type": "scatterternary"
           }
          ],
          "surface": [
           {
            "colorbar": {
             "outlinewidth": 0,
             "ticks": ""
            },
            "colorscale": [
             [
              0,
              "#0d0887"
             ],
             [
              0.1111111111111111,
              "#46039f"
             ],
             [
              0.2222222222222222,
              "#7201a8"
             ],
             [
              0.3333333333333333,
              "#9c179e"
             ],
             [
              0.4444444444444444,
              "#bd3786"
             ],
             [
              0.5555555555555556,
              "#d8576b"
             ],
             [
              0.6666666666666666,
              "#ed7953"
             ],
             [
              0.7777777777777778,
              "#fb9f3a"
             ],
             [
              0.8888888888888888,
              "#fdca26"
             ],
             [
              1,
              "#f0f921"
             ]
            ],
            "type": "surface"
           }
          ],
          "table": [
           {
            "cells": {
             "fill": {
              "color": "#EBF0F8"
             },
             "line": {
              "color": "white"
             }
            },
            "header": {
             "fill": {
              "color": "#C8D4E3"
             },
             "line": {
              "color": "white"
             }
            },
            "type": "table"
           }
          ]
         },
         "layout": {
          "annotationdefaults": {
           "arrowcolor": "#2a3f5f",
           "arrowhead": 0,
           "arrowwidth": 1
          },
          "autotypenumbers": "strict",
          "coloraxis": {
           "colorbar": {
            "outlinewidth": 0,
            "ticks": ""
           }
          },
          "colorscale": {
           "diverging": [
            [
             0,
             "#8e0152"
            ],
            [
             0.1,
             "#c51b7d"
            ],
            [
             0.2,
             "#de77ae"
            ],
            [
             0.3,
             "#f1b6da"
            ],
            [
             0.4,
             "#fde0ef"
            ],
            [
             0.5,
             "#f7f7f7"
            ],
            [
             0.6,
             "#e6f5d0"
            ],
            [
             0.7,
             "#b8e186"
            ],
            [
             0.8,
             "#7fbc41"
            ],
            [
             0.9,
             "#4d9221"
            ],
            [
             1,
             "#276419"
            ]
           ],
           "sequential": [
            [
             0,
             "#0d0887"
            ],
            [
             0.1111111111111111,
             "#46039f"
            ],
            [
             0.2222222222222222,
             "#7201a8"
            ],
            [
             0.3333333333333333,
             "#9c179e"
            ],
            [
             0.4444444444444444,
             "#bd3786"
            ],
            [
             0.5555555555555556,
             "#d8576b"
            ],
            [
             0.6666666666666666,
             "#ed7953"
            ],
            [
             0.7777777777777778,
             "#fb9f3a"
            ],
            [
             0.8888888888888888,
             "#fdca26"
            ],
            [
             1,
             "#f0f921"
            ]
           ],
           "sequentialminus": [
            [
             0,
             "#0d0887"
            ],
            [
             0.1111111111111111,
             "#46039f"
            ],
            [
             0.2222222222222222,
             "#7201a8"
            ],
            [
             0.3333333333333333,
             "#9c179e"
            ],
            [
             0.4444444444444444,
             "#bd3786"
            ],
            [
             0.5555555555555556,
             "#d8576b"
            ],
            [
             0.6666666666666666,
             "#ed7953"
            ],
            [
             0.7777777777777778,
             "#fb9f3a"
            ],
            [
             0.8888888888888888,
             "#fdca26"
            ],
            [
             1,
             "#f0f921"
            ]
           ]
          },
          "colorway": [
           "#636efa",
           "#EF553B",
           "#00cc96",
           "#ab63fa",
           "#FFA15A",
           "#19d3f3",
           "#FF6692",
           "#B6E880",
           "#FF97FF",
           "#FECB52"
          ],
          "font": {
           "color": "#2a3f5f"
          },
          "geo": {
           "bgcolor": "white",
           "lakecolor": "white",
           "landcolor": "#E5ECF6",
           "showlakes": true,
           "showland": true,
           "subunitcolor": "white"
          },
          "hoverlabel": {
           "align": "left"
          },
          "hovermode": "closest",
          "mapbox": {
           "style": "light"
          },
          "paper_bgcolor": "white",
          "plot_bgcolor": "#E5ECF6",
          "polar": {
           "angularaxis": {
            "gridcolor": "white",
            "linecolor": "white",
            "ticks": ""
           },
           "bgcolor": "#E5ECF6",
           "radialaxis": {
            "gridcolor": "white",
            "linecolor": "white",
            "ticks": ""
           }
          },
          "scene": {
           "xaxis": {
            "backgroundcolor": "#E5ECF6",
            "gridcolor": "white",
            "gridwidth": 2,
            "linecolor": "white",
            "showbackground": true,
            "ticks": "",
            "zerolinecolor": "white"
           },
           "yaxis": {
            "backgroundcolor": "#E5ECF6",
            "gridcolor": "white",
            "gridwidth": 2,
            "linecolor": "white",
            "showbackground": true,
            "ticks": "",
            "zerolinecolor": "white"
           },
           "zaxis": {
            "backgroundcolor": "#E5ECF6",
            "gridcolor": "white",
            "gridwidth": 2,
            "linecolor": "white",
            "showbackground": true,
            "ticks": "",
            "zerolinecolor": "white"
           }
          },
          "shapedefaults": {
           "line": {
            "color": "#2a3f5f"
           }
          },
          "ternary": {
           "aaxis": {
            "gridcolor": "white",
            "linecolor": "white",
            "ticks": ""
           },
           "baxis": {
            "gridcolor": "white",
            "linecolor": "white",
            "ticks": ""
           },
           "bgcolor": "#E5ECF6",
           "caxis": {
            "gridcolor": "white",
            "linecolor": "white",
            "ticks": ""
           }
          },
          "title": {
           "x": 0.05
          },
          "xaxis": {
           "automargin": true,
           "gridcolor": "white",
           "linecolor": "white",
           "ticks": "",
           "title": {
            "standoff": 15
           },
           "zerolinecolor": "white",
           "zerolinewidth": 2
          },
          "yaxis": {
           "automargin": true,
           "gridcolor": "white",
           "linecolor": "white",
           "ticks": "",
           "title": {
            "standoff": 15
           },
           "zerolinecolor": "white",
           "zerolinewidth": 2
          }
         }
        },
        "title": {
         "text": "K-Means Clustering (2D) - Iteration 1"
        },
        "xaxis": {
         "anchor": "y",
         "domain": [
          0,
          1
         ],
         "title": {
          "text": "Feature_1"
         }
        },
        "yaxis": {
         "anchor": "x",
         "domain": [
          0,
          1
         ],
         "title": {
          "text": "Feature_2"
         }
        }
       }
      },
      "text/html": [
       "<div>                            <div id=\"e1690075-85ae-414f-be4e-9c566c6fdf4d\" class=\"plotly-graph-div\" style=\"height:525px; width:100%;\"></div>            <script type=\"text/javascript\">                require([\"plotly\"], function(Plotly) {                    window.PLOTLYENV=window.PLOTLYENV || {};                                    if (document.getElementById(\"e1690075-85ae-414f-be4e-9c566c6fdf4d\")) {                    Plotly.newPlot(                        \"e1690075-85ae-414f-be4e-9c566c6fdf4d\",                        [{\"hovertemplate\":\"Feature_1=%{x}<br>Feature_2=%{y}<br>Cluster=%{marker.color}<extra></extra>\",\"legendgroup\":\"\",\"marker\":{\"color\":[2,0,1,2,2,2,1,1,2,1,1,1,1,2,0,2,0,0,2,1,2,0,2,0,0,2,0,2,2,2,1,1,2,0,0,1,0,2,0,2,1,1,1,2,2,0,1,0,0,2,1,0,1,1,0,2,0,0,1,1,1,1,2,1,2,0,0,1,1,2,1,1,2,1,2,2,1,2,0,0,0,0,0,1,2,1,1,0,2,1,1,2,2,0,1,0,0,2,1,1,2,0,2,1,0,0,2,0,1,0,0,0,2,0,0,2,2,0,2,0,0,0,1,1,1,2,0,2,2,2,0,0,2,2,1,2,1,0,1,1,2,0,1,0,2,1,0,0,2,0,0,0,2,2,2,1,0,2,0,2,2,2,1,1,2,2,0,1,0,1,0,2,0,1,2,0,1,1,1,2,2,0,0,2,1,2,0,2,0,0,2,0,0,1,0,1,2,1,0,1,0,2,0,2,1,2,0,0,1,2,2,1,2,1,2,1,1,0,2,2,0,1,2,1,2,0,1,1,0,0,0,0,1,1,1,1,0,0,2,2,2,2,1,1,2,0,2,1,0,2,1,0,2,0,2,1,2,2,0,0,0,1,0,0,0,1,0,2,2,0,1,0,1,1,1,1,2,1,0,2,0,2,2,1,2,1,0,0,1,1,0,2,2,0,2,0,1,1,1,0],\"coloraxis\":\"coloraxis\",\"opacity\":0.8,\"symbol\":\"circle\"},\"mode\":\"markers\",\"name\":\"\",\"orientation\":\"v\",\"showlegend\":false,\"x\":[19,22,98,54,38,93,83,80,93,16,58,80,77,50,11,7,39,76,78,99,62,17,78,64,30,93,55,45,98,80,93,97,59,6,38,87,34,49,21,88,52,76,75,90,96,32,81,24,5,74,33,20,83,56,25,88,36,16,59,55,66,62,30,78,44,72,24,77,8,45,92,89,73,28,12,96,56,97,9,10,21,6,31,54,26,7,15,31,25,19,73,55,59,21,72,46,16,91,12,39,50,43,66,82,45,27,81,52,53,60,66,10,90,52,41,50,80,80,33,29,52,22,79,37,48,70,18,30,17,87,13,16,69,71,10,88,19,5,64,24,75,41,63,45,57,69,5,14,97,24,8,24,65,32,81,67,9,50,11,57,79,44,72,47,68,21,24,39,14,60,14,77,44,92,68,20,79,67,89,41,38,27,54,78,22,39,17,83,57,39,77,36,38,97,7,95,11,96,12,58,15,94,19,88,28,93,82,39,58,46,39,31,58,68,93,75,61,35,91,91,37,15,50,38,74,98,16,48,67,55,43,29,92,57,48,28,15,11,95,52,39,43,52,49,50,9,8,46,19,82,17,8,57,35,86,79,79,61,48,16,46,47,49,51,9,64,59,46,63,63,46,30,45,58,91,30,92,10,14,22,10,28,52,58,69,87,16,16,70,98,28,52,47,30,88,19,33,65,92,25],\"xaxis\":\"x\",\"y\":[38,21,77,82,63,49,57,66,61,75,89,46,42,10,82,47,31,48,57,40,21,90,22,35,89,44,36,83,43,84,12,29,7,49,86,80,9,11,64,54,62,68,18,60,53,76,58,40,12,18,27,15,72,32,8,42,44,20,83,60,96,82,73,99,17,17,38,54,11,24,10,15,40,56,59,62,67,68,99,77,62,61,54,57,20,53,5,90,62,46,58,60,44,32,78,6,41,7,35,34,40,63,30,64,76,89,43,95,49,62,97,82,12,52,89,76,6,67,23,68,11,54,75,23,84,8,42,29,63,22,68,78,26,75,91,73,59,58,21,6,84,6,61,28,16,82,54,33,35,20,48,81,11,65,49,99,80,81,94,57,69,9,57,57,19,23,78,49,64,45,17,9,45,48,17,49,28,89,23,22,94,51,31,48,30,42,81,26,91,70,76,99,82,59,95,65,39,10,34,9,82,10,5,27,48,24,75,91,32,38,26,77,18,85,88,86,71,65,7,96,69,16,64,66,61,27,94,52,93,96,33,56,69,71,45,62,42,69,69,76,57,37,64,17,12,85,96,74,93,20,66,55,78,91,43,34,56,21,32,38,45,40,10,27,95,93,16,79,52,59,25,75,52,39,90,67,21,86,65,51,21,8,21,76,73,99,35,51,16,74,42,38,30,14,96,70,98,37,83,8],\"yaxis\":\"y\",\"type\":\"scatter\"},{\"marker\":{\"color\":\"red\",\"size\":10,\"symbol\":\"diamond\"},\"mode\":\"markers\",\"name\":\"Centroids\",\"x\":[30.942307692307693,58.46875,62.33],\"y\":[55.23076923076923,55.583333333333336,43.95],\"type\":\"scatter\"}],                        {\"template\":{\"data\":{\"histogram2dcontour\":[{\"type\":\"histogram2dcontour\",\"colorbar\":{\"outlinewidth\":0,\"ticks\":\"\"},\"colorscale\":[[0.0,\"#0d0887\"],[0.1111111111111111,\"#46039f\"],[0.2222222222222222,\"#7201a8\"],[0.3333333333333333,\"#9c179e\"],[0.4444444444444444,\"#bd3786\"],[0.5555555555555556,\"#d8576b\"],[0.6666666666666666,\"#ed7953\"],[0.7777777777777778,\"#fb9f3a\"],[0.8888888888888888,\"#fdca26\"],[1.0,\"#f0f921\"]]}],\"choropleth\":[{\"type\":\"choropleth\",\"colorbar\":{\"outlinewidth\":0,\"ticks\":\"\"}}],\"histogram2d\":[{\"type\":\"histogram2d\",\"colorbar\":{\"outlinewidth\":0,\"ticks\":\"\"},\"colorscale\":[[0.0,\"#0d0887\"],[0.1111111111111111,\"#46039f\"],[0.2222222222222222,\"#7201a8\"],[0.3333333333333333,\"#9c179e\"],[0.4444444444444444,\"#bd3786\"],[0.5555555555555556,\"#d8576b\"],[0.6666666666666666,\"#ed7953\"],[0.7777777777777778,\"#fb9f3a\"],[0.8888888888888888,\"#fdca26\"],[1.0,\"#f0f921\"]]}],\"heatmap\":[{\"type\":\"heatmap\",\"colorbar\":{\"outlinewidth\":0,\"ticks\":\"\"},\"colorscale\":[[0.0,\"#0d0887\"],[0.1111111111111111,\"#46039f\"],[0.2222222222222222,\"#7201a8\"],[0.3333333333333333,\"#9c179e\"],[0.4444444444444444,\"#bd3786\"],[0.5555555555555556,\"#d8576b\"],[0.6666666666666666,\"#ed7953\"],[0.7777777777777778,\"#fb9f3a\"],[0.8888888888888888,\"#fdca26\"],[1.0,\"#f0f921\"]]}],\"heatmapgl\":[{\"type\":\"heatmapgl\",\"colorbar\":{\"outlinewidth\":0,\"ticks\":\"\"},\"colorscale\":[[0.0,\"#0d0887\"],[0.1111111111111111,\"#46039f\"],[0.2222222222222222,\"#7201a8\"],[0.3333333333333333,\"#9c179e\"],[0.4444444444444444,\"#bd3786\"],[0.5555555555555556,\"#d8576b\"],[0.6666666666666666,\"#ed7953\"],[0.7777777777777778,\"#fb9f3a\"],[0.8888888888888888,\"#fdca26\"],[1.0,\"#f0f921\"]]}],\"contourcarpet\":[{\"type\":\"contourcarpet\",\"colorbar\":{\"outlinewidth\":0,\"ticks\":\"\"}}],\"contour\":[{\"type\":\"contour\",\"colorbar\":{\"outlinewidth\":0,\"ticks\":\"\"},\"colorscale\":[[0.0,\"#0d0887\"],[0.1111111111111111,\"#46039f\"],[0.2222222222222222,\"#7201a8\"],[0.3333333333333333,\"#9c179e\"],[0.4444444444444444,\"#bd3786\"],[0.5555555555555556,\"#d8576b\"],[0.6666666666666666,\"#ed7953\"],[0.7777777777777778,\"#fb9f3a\"],[0.8888888888888888,\"#fdca26\"],[1.0,\"#f0f921\"]]}],\"surface\":[{\"type\":\"surface\",\"colorbar\":{\"outlinewidth\":0,\"ticks\":\"\"},\"colorscale\":[[0.0,\"#0d0887\"],[0.1111111111111111,\"#46039f\"],[0.2222222222222222,\"#7201a8\"],[0.3333333333333333,\"#9c179e\"],[0.4444444444444444,\"#bd3786\"],[0.5555555555555556,\"#d8576b\"],[0.6666666666666666,\"#ed7953\"],[0.7777777777777778,\"#fb9f3a\"],[0.8888888888888888,\"#fdca26\"],[1.0,\"#f0f921\"]]}],\"mesh3d\":[{\"type\":\"mesh3d\",\"colorbar\":{\"outlinewidth\":0,\"ticks\":\"\"}}],\"scatter\":[{\"fillpattern\":{\"fillmode\":\"overlay\",\"size\":10,\"solidity\":0.2},\"type\":\"scatter\"}],\"parcoords\":[{\"type\":\"parcoords\",\"line\":{\"colorbar\":{\"outlinewidth\":0,\"ticks\":\"\"}}}],\"scatterpolargl\":[{\"type\":\"scatterpolargl\",\"marker\":{\"colorbar\":{\"outlinewidth\":0,\"ticks\":\"\"}}}],\"bar\":[{\"error_x\":{\"color\":\"#2a3f5f\"},\"error_y\":{\"color\":\"#2a3f5f\"},\"marker\":{\"line\":{\"color\":\"#E5ECF6\",\"width\":0.5},\"pattern\":{\"fillmode\":\"overlay\",\"size\":10,\"solidity\":0.2}},\"type\":\"bar\"}],\"scattergeo\":[{\"type\":\"scattergeo\",\"marker\":{\"colorbar\":{\"outlinewidth\":0,\"ticks\":\"\"}}}],\"scatterpolar\":[{\"type\":\"scatterpolar\",\"marker\":{\"colorbar\":{\"outlinewidth\":0,\"ticks\":\"\"}}}],\"histogram\":[{\"marker\":{\"pattern\":{\"fillmode\":\"overlay\",\"size\":10,\"solidity\":0.2}},\"type\":\"histogram\"}],\"scattergl\":[{\"type\":\"scattergl\",\"marker\":{\"colorbar\":{\"outlinewidth\":0,\"ticks\":\"\"}}}],\"scatter3d\":[{\"type\":\"scatter3d\",\"line\":{\"colorbar\":{\"outlinewidth\":0,\"ticks\":\"\"}},\"marker\":{\"colorbar\":{\"outlinewidth\":0,\"ticks\":\"\"}}}],\"scattermapbox\":[{\"type\":\"scattermapbox\",\"marker\":{\"colorbar\":{\"outlinewidth\":0,\"ticks\":\"\"}}}],\"scatterternary\":[{\"type\":\"scatterternary\",\"marker\":{\"colorbar\":{\"outlinewidth\":0,\"ticks\":\"\"}}}],\"scattercarpet\":[{\"type\":\"scattercarpet\",\"marker\":{\"colorbar\":{\"outlinewidth\":0,\"ticks\":\"\"}}}],\"carpet\":[{\"aaxis\":{\"endlinecolor\":\"#2a3f5f\",\"gridcolor\":\"white\",\"linecolor\":\"white\",\"minorgridcolor\":\"white\",\"startlinecolor\":\"#2a3f5f\"},\"baxis\":{\"endlinecolor\":\"#2a3f5f\",\"gridcolor\":\"white\",\"linecolor\":\"white\",\"minorgridcolor\":\"white\",\"startlinecolor\":\"#2a3f5f\"},\"type\":\"carpet\"}],\"table\":[{\"cells\":{\"fill\":{\"color\":\"#EBF0F8\"},\"line\":{\"color\":\"white\"}},\"header\":{\"fill\":{\"color\":\"#C8D4E3\"},\"line\":{\"color\":\"white\"}},\"type\":\"table\"}],\"barpolar\":[{\"marker\":{\"line\":{\"color\":\"#E5ECF6\",\"width\":0.5},\"pattern\":{\"fillmode\":\"overlay\",\"size\":10,\"solidity\":0.2}},\"type\":\"barpolar\"}],\"pie\":[{\"automargin\":true,\"type\":\"pie\"}]},\"layout\":{\"autotypenumbers\":\"strict\",\"colorway\":[\"#636efa\",\"#EF553B\",\"#00cc96\",\"#ab63fa\",\"#FFA15A\",\"#19d3f3\",\"#FF6692\",\"#B6E880\",\"#FF97FF\",\"#FECB52\"],\"font\":{\"color\":\"#2a3f5f\"},\"hovermode\":\"closest\",\"hoverlabel\":{\"align\":\"left\"},\"paper_bgcolor\":\"white\",\"plot_bgcolor\":\"#E5ECF6\",\"polar\":{\"bgcolor\":\"#E5ECF6\",\"angularaxis\":{\"gridcolor\":\"white\",\"linecolor\":\"white\",\"ticks\":\"\"},\"radialaxis\":{\"gridcolor\":\"white\",\"linecolor\":\"white\",\"ticks\":\"\"}},\"ternary\":{\"bgcolor\":\"#E5ECF6\",\"aaxis\":{\"gridcolor\":\"white\",\"linecolor\":\"white\",\"ticks\":\"\"},\"baxis\":{\"gridcolor\":\"white\",\"linecolor\":\"white\",\"ticks\":\"\"},\"caxis\":{\"gridcolor\":\"white\",\"linecolor\":\"white\",\"ticks\":\"\"}},\"coloraxis\":{\"colorbar\":{\"outlinewidth\":0,\"ticks\":\"\"}},\"colorscale\":{\"sequential\":[[0.0,\"#0d0887\"],[0.1111111111111111,\"#46039f\"],[0.2222222222222222,\"#7201a8\"],[0.3333333333333333,\"#9c179e\"],[0.4444444444444444,\"#bd3786\"],[0.5555555555555556,\"#d8576b\"],[0.6666666666666666,\"#ed7953\"],[0.7777777777777778,\"#fb9f3a\"],[0.8888888888888888,\"#fdca26\"],[1.0,\"#f0f921\"]],\"sequentialminus\":[[0.0,\"#0d0887\"],[0.1111111111111111,\"#46039f\"],[0.2222222222222222,\"#7201a8\"],[0.3333333333333333,\"#9c179e\"],[0.4444444444444444,\"#bd3786\"],[0.5555555555555556,\"#d8576b\"],[0.6666666666666666,\"#ed7953\"],[0.7777777777777778,\"#fb9f3a\"],[0.8888888888888888,\"#fdca26\"],[1.0,\"#f0f921\"]],\"diverging\":[[0,\"#8e0152\"],[0.1,\"#c51b7d\"],[0.2,\"#de77ae\"],[0.3,\"#f1b6da\"],[0.4,\"#fde0ef\"],[0.5,\"#f7f7f7\"],[0.6,\"#e6f5d0\"],[0.7,\"#b8e186\"],[0.8,\"#7fbc41\"],[0.9,\"#4d9221\"],[1,\"#276419\"]]},\"xaxis\":{\"gridcolor\":\"white\",\"linecolor\":\"white\",\"ticks\":\"\",\"title\":{\"standoff\":15},\"zerolinecolor\":\"white\",\"automargin\":true,\"zerolinewidth\":2},\"yaxis\":{\"gridcolor\":\"white\",\"linecolor\":\"white\",\"ticks\":\"\",\"title\":{\"standoff\":15},\"zerolinecolor\":\"white\",\"automargin\":true,\"zerolinewidth\":2},\"scene\":{\"xaxis\":{\"backgroundcolor\":\"#E5ECF6\",\"gridcolor\":\"white\",\"linecolor\":\"white\",\"showbackground\":true,\"ticks\":\"\",\"zerolinecolor\":\"white\",\"gridwidth\":2},\"yaxis\":{\"backgroundcolor\":\"#E5ECF6\",\"gridcolor\":\"white\",\"linecolor\":\"white\",\"showbackground\":true,\"ticks\":\"\",\"zerolinecolor\":\"white\",\"gridwidth\":2},\"zaxis\":{\"backgroundcolor\":\"#E5ECF6\",\"gridcolor\":\"white\",\"linecolor\":\"white\",\"showbackground\":true,\"ticks\":\"\",\"zerolinecolor\":\"white\",\"gridwidth\":2}},\"shapedefaults\":{\"line\":{\"color\":\"#2a3f5f\"}},\"annotationdefaults\":{\"arrowcolor\":\"#2a3f5f\",\"arrowhead\":0,\"arrowwidth\":1},\"geo\":{\"bgcolor\":\"white\",\"landcolor\":\"#E5ECF6\",\"subunitcolor\":\"white\",\"showland\":true,\"showlakes\":true,\"lakecolor\":\"white\"},\"title\":{\"x\":0.05},\"mapbox\":{\"style\":\"light\"}}},\"xaxis\":{\"anchor\":\"y\",\"domain\":[0.0,1.0],\"title\":{\"text\":\"Feature_1\"}},\"yaxis\":{\"anchor\":\"x\",\"domain\":[0.0,1.0],\"title\":{\"text\":\"Feature_2\"}},\"coloraxis\":{\"colorbar\":{\"title\":{\"text\":\"Cluster\"}},\"colorscale\":[[0.0,\"#0d0887\"],[0.1111111111111111,\"#46039f\"],[0.2222222222222222,\"#7201a8\"],[0.3333333333333333,\"#9c179e\"],[0.4444444444444444,\"#bd3786\"],[0.5555555555555556,\"#d8576b\"],[0.6666666666666666,\"#ed7953\"],[0.7777777777777778,\"#fb9f3a\"],[0.8888888888888888,\"#fdca26\"],[1.0,\"#f0f921\"]]},\"legend\":{\"tracegroupgap\":0},\"title\":{\"text\":\"K-Means Clustering (2D) - Iteration 1\"}},                        {\"responsive\": true}                    ).then(function(){\n",
       "                            \n",
       "var gd = document.getElementById('e1690075-85ae-414f-be4e-9c566c6fdf4d');\n",
       "var x = new MutationObserver(function (mutations, observer) {{\n",
       "        var display = window.getComputedStyle(gd).display;\n",
       "        if (!display || display === 'none') {{\n",
       "            console.log([gd, 'removed!']);\n",
       "            Plotly.purge(gd);\n",
       "            observer.disconnect();\n",
       "        }}\n",
       "}});\n",
       "\n",
       "// Listen for the removal of the full notebook cells\n",
       "var notebookContainer = gd.closest('#notebook-container');\n",
       "if (notebookContainer) {{\n",
       "    x.observe(notebookContainer, {childList: true});\n",
       "}}\n",
       "\n",
       "// Listen for the clearing of the current output cell\n",
       "var outputEl = gd.closest('.output');\n",
       "if (outputEl) {{\n",
       "    x.observe(outputEl, {childList: true});\n",
       "}}\n",
       "\n",
       "                        })                };                });            </script>        </div>"
      ]
     },
     "metadata": {},
     "output_type": "display_data"
    },
    {
     "data": {
      "application/vnd.plotly.v1+json": {
       "config": {
        "plotlyServerURL": "https://plot.ly"
       },
       "data": [
        {
         "hovertemplate": "Feature_1=%{x}<br>Feature_2=%{y}<br>Cluster=%{marker.color}<extra></extra>",
         "legendgroup": "",
         "marker": {
          "color": [
           2,
           0,
           1,
           2,
           2,
           2,
           1,
           1,
           2,
           1,
           1,
           1,
           1,
           2,
           0,
           2,
           0,
           0,
           2,
           1,
           2,
           0,
           2,
           0,
           0,
           2,
           0,
           2,
           2,
           2,
           1,
           1,
           2,
           0,
           0,
           1,
           0,
           2,
           0,
           2,
           1,
           1,
           1,
           2,
           2,
           0,
           1,
           0,
           0,
           2,
           1,
           0,
           1,
           1,
           0,
           2,
           0,
           0,
           1,
           1,
           1,
           1,
           2,
           1,
           2,
           0,
           0,
           1,
           1,
           2,
           1,
           1,
           2,
           1,
           2,
           2,
           1,
           2,
           0,
           0,
           0,
           0,
           0,
           1,
           2,
           1,
           1,
           0,
           2,
           1,
           1,
           2,
           2,
           0,
           1,
           0,
           0,
           2,
           1,
           1,
           2,
           0,
           2,
           1,
           0,
           0,
           2,
           0,
           1,
           0,
           0,
           0,
           2,
           0,
           0,
           2,
           2,
           0,
           2,
           0,
           0,
           0,
           1,
           1,
           1,
           2,
           0,
           2,
           2,
           2,
           0,
           0,
           2,
           2,
           1,
           2,
           1,
           0,
           1,
           1,
           2,
           0,
           1,
           0,
           2,
           1,
           0,
           0,
           2,
           0,
           0,
           0,
           2,
           2,
           2,
           1,
           0,
           2,
           0,
           2,
           2,
           2,
           1,
           1,
           2,
           2,
           0,
           1,
           0,
           1,
           0,
           2,
           0,
           1,
           2,
           0,
           1,
           1,
           1,
           2,
           2,
           0,
           0,
           2,
           1,
           2,
           0,
           2,
           0,
           0,
           2,
           0,
           0,
           1,
           0,
           1,
           2,
           1,
           0,
           1,
           0,
           2,
           0,
           2,
           1,
           2,
           0,
           0,
           1,
           2,
           2,
           1,
           2,
           1,
           2,
           1,
           1,
           0,
           2,
           2,
           0,
           1,
           2,
           1,
           2,
           0,
           1,
           1,
           0,
           0,
           0,
           0,
           1,
           1,
           1,
           1,
           0,
           0,
           2,
           2,
           2,
           2,
           1,
           1,
           2,
           0,
           2,
           1,
           0,
           2,
           1,
           0,
           2,
           0,
           2,
           1,
           2,
           2,
           0,
           0,
           0,
           1,
           0,
           0,
           0,
           1,
           0,
           2,
           2,
           0,
           1,
           0,
           1,
           1,
           1,
           1,
           2,
           1,
           0,
           2,
           0,
           2,
           2,
           1,
           2,
           1,
           0,
           0,
           1,
           1,
           0,
           2,
           2,
           0,
           2,
           0,
           1,
           1,
           1,
           0
          ],
          "coloraxis": "coloraxis",
          "opacity": 0.8,
          "symbol": "circle"
         },
         "mode": "markers",
         "name": "",
         "orientation": "v",
         "showlegend": false,
         "type": "scatter",
         "x": [
          19,
          22,
          98,
          54,
          38,
          93,
          83,
          80,
          93,
          16,
          58,
          80,
          77,
          50,
          11,
          7,
          39,
          76,
          78,
          99,
          62,
          17,
          78,
          64,
          30,
          93,
          55,
          45,
          98,
          80,
          93,
          97,
          59,
          6,
          38,
          87,
          34,
          49,
          21,
          88,
          52,
          76,
          75,
          90,
          96,
          32,
          81,
          24,
          5,
          74,
          33,
          20,
          83,
          56,
          25,
          88,
          36,
          16,
          59,
          55,
          66,
          62,
          30,
          78,
          44,
          72,
          24,
          77,
          8,
          45,
          92,
          89,
          73,
          28,
          12,
          96,
          56,
          97,
          9,
          10,
          21,
          6,
          31,
          54,
          26,
          7,
          15,
          31,
          25,
          19,
          73,
          55,
          59,
          21,
          72,
          46,
          16,
          91,
          12,
          39,
          50,
          43,
          66,
          82,
          45,
          27,
          81,
          52,
          53,
          60,
          66,
          10,
          90,
          52,
          41,
          50,
          80,
          80,
          33,
          29,
          52,
          22,
          79,
          37,
          48,
          70,
          18,
          30,
          17,
          87,
          13,
          16,
          69,
          71,
          10,
          88,
          19,
          5,
          64,
          24,
          75,
          41,
          63,
          45,
          57,
          69,
          5,
          14,
          97,
          24,
          8,
          24,
          65,
          32,
          81,
          67,
          9,
          50,
          11,
          57,
          79,
          44,
          72,
          47,
          68,
          21,
          24,
          39,
          14,
          60,
          14,
          77,
          44,
          92,
          68,
          20,
          79,
          67,
          89,
          41,
          38,
          27,
          54,
          78,
          22,
          39,
          17,
          83,
          57,
          39,
          77,
          36,
          38,
          97,
          7,
          95,
          11,
          96,
          12,
          58,
          15,
          94,
          19,
          88,
          28,
          93,
          82,
          39,
          58,
          46,
          39,
          31,
          58,
          68,
          93,
          75,
          61,
          35,
          91,
          91,
          37,
          15,
          50,
          38,
          74,
          98,
          16,
          48,
          67,
          55,
          43,
          29,
          92,
          57,
          48,
          28,
          15,
          11,
          95,
          52,
          39,
          43,
          52,
          49,
          50,
          9,
          8,
          46,
          19,
          82,
          17,
          8,
          57,
          35,
          86,
          79,
          79,
          61,
          48,
          16,
          46,
          47,
          49,
          51,
          9,
          64,
          59,
          46,
          63,
          63,
          46,
          30,
          45,
          58,
          91,
          30,
          92,
          10,
          14,
          22,
          10,
          28,
          52,
          58,
          69,
          87,
          16,
          16,
          70,
          98,
          28,
          52,
          47,
          30,
          88,
          19,
          33,
          65,
          92,
          25
         ],
         "xaxis": "x",
         "y": [
          38,
          21,
          77,
          82,
          63,
          49,
          57,
          66,
          61,
          75,
          89,
          46,
          42,
          10,
          82,
          47,
          31,
          48,
          57,
          40,
          21,
          90,
          22,
          35,
          89,
          44,
          36,
          83,
          43,
          84,
          12,
          29,
          7,
          49,
          86,
          80,
          9,
          11,
          64,
          54,
          62,
          68,
          18,
          60,
          53,
          76,
          58,
          40,
          12,
          18,
          27,
          15,
          72,
          32,
          8,
          42,
          44,
          20,
          83,
          60,
          96,
          82,
          73,
          99,
          17,
          17,
          38,
          54,
          11,
          24,
          10,
          15,
          40,
          56,
          59,
          62,
          67,
          68,
          99,
          77,
          62,
          61,
          54,
          57,
          20,
          53,
          5,
          90,
          62,
          46,
          58,
          60,
          44,
          32,
          78,
          6,
          41,
          7,
          35,
          34,
          40,
          63,
          30,
          64,
          76,
          89,
          43,
          95,
          49,
          62,
          97,
          82,
          12,
          52,
          89,
          76,
          6,
          67,
          23,
          68,
          11,
          54,
          75,
          23,
          84,
          8,
          42,
          29,
          63,
          22,
          68,
          78,
          26,
          75,
          91,
          73,
          59,
          58,
          21,
          6,
          84,
          6,
          61,
          28,
          16,
          82,
          54,
          33,
          35,
          20,
          48,
          81,
          11,
          65,
          49,
          99,
          80,
          81,
          94,
          57,
          69,
          9,
          57,
          57,
          19,
          23,
          78,
          49,
          64,
          45,
          17,
          9,
          45,
          48,
          17,
          49,
          28,
          89,
          23,
          22,
          94,
          51,
          31,
          48,
          30,
          42,
          81,
          26,
          91,
          70,
          76,
          99,
          82,
          59,
          95,
          65,
          39,
          10,
          34,
          9,
          82,
          10,
          5,
          27,
          48,
          24,
          75,
          91,
          32,
          38,
          26,
          77,
          18,
          85,
          88,
          86,
          71,
          65,
          7,
          96,
          69,
          16,
          64,
          66,
          61,
          27,
          94,
          52,
          93,
          96,
          33,
          56,
          69,
          71,
          45,
          62,
          42,
          69,
          69,
          76,
          57,
          37,
          64,
          17,
          12,
          85,
          96,
          74,
          93,
          20,
          66,
          55,
          78,
          91,
          43,
          34,
          56,
          21,
          32,
          38,
          45,
          40,
          10,
          27,
          95,
          93,
          16,
          79,
          52,
          59,
          25,
          75,
          52,
          39,
          90,
          67,
          21,
          86,
          65,
          51,
          21,
          8,
          21,
          76,
          73,
          99,
          35,
          51,
          16,
          74,
          42,
          38,
          30,
          14,
          96,
          70,
          98,
          37,
          83,
          8
         ],
         "yaxis": "y"
        },
        {
         "marker": {
          "color": "red",
          "size": 10,
          "symbol": "diamond"
         },
         "mode": "markers",
         "name": "Centroids",
         "type": "scatter",
         "x": [
          30.942307692307693,
          58.46875,
          62.33
         ],
         "y": [
          55.23076923076923,
          55.583333333333336,
          43.95
         ]
        }
       ],
       "layout": {
        "coloraxis": {
         "colorbar": {
          "title": {
           "text": "Cluster"
          }
         },
         "colorscale": [
          [
           0,
           "#0d0887"
          ],
          [
           0.1111111111111111,
           "#46039f"
          ],
          [
           0.2222222222222222,
           "#7201a8"
          ],
          [
           0.3333333333333333,
           "#9c179e"
          ],
          [
           0.4444444444444444,
           "#bd3786"
          ],
          [
           0.5555555555555556,
           "#d8576b"
          ],
          [
           0.6666666666666666,
           "#ed7953"
          ],
          [
           0.7777777777777778,
           "#fb9f3a"
          ],
          [
           0.8888888888888888,
           "#fdca26"
          ],
          [
           1,
           "#f0f921"
          ]
         ]
        },
        "legend": {
         "tracegroupgap": 0
        },
        "template": {
         "data": {
          "bar": [
           {
            "error_x": {
             "color": "#2a3f5f"
            },
            "error_y": {
             "color": "#2a3f5f"
            },
            "marker": {
             "line": {
              "color": "#E5ECF6",
              "width": 0.5
             },
             "pattern": {
              "fillmode": "overlay",
              "size": 10,
              "solidity": 0.2
             }
            },
            "type": "bar"
           }
          ],
          "barpolar": [
           {
            "marker": {
             "line": {
              "color": "#E5ECF6",
              "width": 0.5
             },
             "pattern": {
              "fillmode": "overlay",
              "size": 10,
              "solidity": 0.2
             }
            },
            "type": "barpolar"
           }
          ],
          "carpet": [
           {
            "aaxis": {
             "endlinecolor": "#2a3f5f",
             "gridcolor": "white",
             "linecolor": "white",
             "minorgridcolor": "white",
             "startlinecolor": "#2a3f5f"
            },
            "baxis": {
             "endlinecolor": "#2a3f5f",
             "gridcolor": "white",
             "linecolor": "white",
             "minorgridcolor": "white",
             "startlinecolor": "#2a3f5f"
            },
            "type": "carpet"
           }
          ],
          "choropleth": [
           {
            "colorbar": {
             "outlinewidth": 0,
             "ticks": ""
            },
            "type": "choropleth"
           }
          ],
          "contour": [
           {
            "colorbar": {
             "outlinewidth": 0,
             "ticks": ""
            },
            "colorscale": [
             [
              0,
              "#0d0887"
             ],
             [
              0.1111111111111111,
              "#46039f"
             ],
             [
              0.2222222222222222,
              "#7201a8"
             ],
             [
              0.3333333333333333,
              "#9c179e"
             ],
             [
              0.4444444444444444,
              "#bd3786"
             ],
             [
              0.5555555555555556,
              "#d8576b"
             ],
             [
              0.6666666666666666,
              "#ed7953"
             ],
             [
              0.7777777777777778,
              "#fb9f3a"
             ],
             [
              0.8888888888888888,
              "#fdca26"
             ],
             [
              1,
              "#f0f921"
             ]
            ],
            "type": "contour"
           }
          ],
          "contourcarpet": [
           {
            "colorbar": {
             "outlinewidth": 0,
             "ticks": ""
            },
            "type": "contourcarpet"
           }
          ],
          "heatmap": [
           {
            "colorbar": {
             "outlinewidth": 0,
             "ticks": ""
            },
            "colorscale": [
             [
              0,
              "#0d0887"
             ],
             [
              0.1111111111111111,
              "#46039f"
             ],
             [
              0.2222222222222222,
              "#7201a8"
             ],
             [
              0.3333333333333333,
              "#9c179e"
             ],
             [
              0.4444444444444444,
              "#bd3786"
             ],
             [
              0.5555555555555556,
              "#d8576b"
             ],
             [
              0.6666666666666666,
              "#ed7953"
             ],
             [
              0.7777777777777778,
              "#fb9f3a"
             ],
             [
              0.8888888888888888,
              "#fdca26"
             ],
             [
              1,
              "#f0f921"
             ]
            ],
            "type": "heatmap"
           }
          ],
          "heatmapgl": [
           {
            "colorbar": {
             "outlinewidth": 0,
             "ticks": ""
            },
            "colorscale": [
             [
              0,
              "#0d0887"
             ],
             [
              0.1111111111111111,
              "#46039f"
             ],
             [
              0.2222222222222222,
              "#7201a8"
             ],
             [
              0.3333333333333333,
              "#9c179e"
             ],
             [
              0.4444444444444444,
              "#bd3786"
             ],
             [
              0.5555555555555556,
              "#d8576b"
             ],
             [
              0.6666666666666666,
              "#ed7953"
             ],
             [
              0.7777777777777778,
              "#fb9f3a"
             ],
             [
              0.8888888888888888,
              "#fdca26"
             ],
             [
              1,
              "#f0f921"
             ]
            ],
            "type": "heatmapgl"
           }
          ],
          "histogram": [
           {
            "marker": {
             "pattern": {
              "fillmode": "overlay",
              "size": 10,
              "solidity": 0.2
             }
            },
            "type": "histogram"
           }
          ],
          "histogram2d": [
           {
            "colorbar": {
             "outlinewidth": 0,
             "ticks": ""
            },
            "colorscale": [
             [
              0,
              "#0d0887"
             ],
             [
              0.1111111111111111,
              "#46039f"
             ],
             [
              0.2222222222222222,
              "#7201a8"
             ],
             [
              0.3333333333333333,
              "#9c179e"
             ],
             [
              0.4444444444444444,
              "#bd3786"
             ],
             [
              0.5555555555555556,
              "#d8576b"
             ],
             [
              0.6666666666666666,
              "#ed7953"
             ],
             [
              0.7777777777777778,
              "#fb9f3a"
             ],
             [
              0.8888888888888888,
              "#fdca26"
             ],
             [
              1,
              "#f0f921"
             ]
            ],
            "type": "histogram2d"
           }
          ],
          "histogram2dcontour": [
           {
            "colorbar": {
             "outlinewidth": 0,
             "ticks": ""
            },
            "colorscale": [
             [
              0,
              "#0d0887"
             ],
             [
              0.1111111111111111,
              "#46039f"
             ],
             [
              0.2222222222222222,
              "#7201a8"
             ],
             [
              0.3333333333333333,
              "#9c179e"
             ],
             [
              0.4444444444444444,
              "#bd3786"
             ],
             [
              0.5555555555555556,
              "#d8576b"
             ],
             [
              0.6666666666666666,
              "#ed7953"
             ],
             [
              0.7777777777777778,
              "#fb9f3a"
             ],
             [
              0.8888888888888888,
              "#fdca26"
             ],
             [
              1,
              "#f0f921"
             ]
            ],
            "type": "histogram2dcontour"
           }
          ],
          "mesh3d": [
           {
            "colorbar": {
             "outlinewidth": 0,
             "ticks": ""
            },
            "type": "mesh3d"
           }
          ],
          "parcoords": [
           {
            "line": {
             "colorbar": {
              "outlinewidth": 0,
              "ticks": ""
             }
            },
            "type": "parcoords"
           }
          ],
          "pie": [
           {
            "automargin": true,
            "type": "pie"
           }
          ],
          "scatter": [
           {
            "fillpattern": {
             "fillmode": "overlay",
             "size": 10,
             "solidity": 0.2
            },
            "type": "scatter"
           }
          ],
          "scatter3d": [
           {
            "line": {
             "colorbar": {
              "outlinewidth": 0,
              "ticks": ""
             }
            },
            "marker": {
             "colorbar": {
              "outlinewidth": 0,
              "ticks": ""
             }
            },
            "type": "scatter3d"
           }
          ],
          "scattercarpet": [
           {
            "marker": {
             "colorbar": {
              "outlinewidth": 0,
              "ticks": ""
             }
            },
            "type": "scattercarpet"
           }
          ],
          "scattergeo": [
           {
            "marker": {
             "colorbar": {
              "outlinewidth": 0,
              "ticks": ""
             }
            },
            "type": "scattergeo"
           }
          ],
          "scattergl": [
           {
            "marker": {
             "colorbar": {
              "outlinewidth": 0,
              "ticks": ""
             }
            },
            "type": "scattergl"
           }
          ],
          "scattermapbox": [
           {
            "marker": {
             "colorbar": {
              "outlinewidth": 0,
              "ticks": ""
             }
            },
            "type": "scattermapbox"
           }
          ],
          "scatterpolar": [
           {
            "marker": {
             "colorbar": {
              "outlinewidth": 0,
              "ticks": ""
             }
            },
            "type": "scatterpolar"
           }
          ],
          "scatterpolargl": [
           {
            "marker": {
             "colorbar": {
              "outlinewidth": 0,
              "ticks": ""
             }
            },
            "type": "scatterpolargl"
           }
          ],
          "scatterternary": [
           {
            "marker": {
             "colorbar": {
              "outlinewidth": 0,
              "ticks": ""
             }
            },
            "type": "scatterternary"
           }
          ],
          "surface": [
           {
            "colorbar": {
             "outlinewidth": 0,
             "ticks": ""
            },
            "colorscale": [
             [
              0,
              "#0d0887"
             ],
             [
              0.1111111111111111,
              "#46039f"
             ],
             [
              0.2222222222222222,
              "#7201a8"
             ],
             [
              0.3333333333333333,
              "#9c179e"
             ],
             [
              0.4444444444444444,
              "#bd3786"
             ],
             [
              0.5555555555555556,
              "#d8576b"
             ],
             [
              0.6666666666666666,
              "#ed7953"
             ],
             [
              0.7777777777777778,
              "#fb9f3a"
             ],
             [
              0.8888888888888888,
              "#fdca26"
             ],
             [
              1,
              "#f0f921"
             ]
            ],
            "type": "surface"
           }
          ],
          "table": [
           {
            "cells": {
             "fill": {
              "color": "#EBF0F8"
             },
             "line": {
              "color": "white"
             }
            },
            "header": {
             "fill": {
              "color": "#C8D4E3"
             },
             "line": {
              "color": "white"
             }
            },
            "type": "table"
           }
          ]
         },
         "layout": {
          "annotationdefaults": {
           "arrowcolor": "#2a3f5f",
           "arrowhead": 0,
           "arrowwidth": 1
          },
          "autotypenumbers": "strict",
          "coloraxis": {
           "colorbar": {
            "outlinewidth": 0,
            "ticks": ""
           }
          },
          "colorscale": {
           "diverging": [
            [
             0,
             "#8e0152"
            ],
            [
             0.1,
             "#c51b7d"
            ],
            [
             0.2,
             "#de77ae"
            ],
            [
             0.3,
             "#f1b6da"
            ],
            [
             0.4,
             "#fde0ef"
            ],
            [
             0.5,
             "#f7f7f7"
            ],
            [
             0.6,
             "#e6f5d0"
            ],
            [
             0.7,
             "#b8e186"
            ],
            [
             0.8,
             "#7fbc41"
            ],
            [
             0.9,
             "#4d9221"
            ],
            [
             1,
             "#276419"
            ]
           ],
           "sequential": [
            [
             0,
             "#0d0887"
            ],
            [
             0.1111111111111111,
             "#46039f"
            ],
            [
             0.2222222222222222,
             "#7201a8"
            ],
            [
             0.3333333333333333,
             "#9c179e"
            ],
            [
             0.4444444444444444,
             "#bd3786"
            ],
            [
             0.5555555555555556,
             "#d8576b"
            ],
            [
             0.6666666666666666,
             "#ed7953"
            ],
            [
             0.7777777777777778,
             "#fb9f3a"
            ],
            [
             0.8888888888888888,
             "#fdca26"
            ],
            [
             1,
             "#f0f921"
            ]
           ],
           "sequentialminus": [
            [
             0,
             "#0d0887"
            ],
            [
             0.1111111111111111,
             "#46039f"
            ],
            [
             0.2222222222222222,
             "#7201a8"
            ],
            [
             0.3333333333333333,
             "#9c179e"
            ],
            [
             0.4444444444444444,
             "#bd3786"
            ],
            [
             0.5555555555555556,
             "#d8576b"
            ],
            [
             0.6666666666666666,
             "#ed7953"
            ],
            [
             0.7777777777777778,
             "#fb9f3a"
            ],
            [
             0.8888888888888888,
             "#fdca26"
            ],
            [
             1,
             "#f0f921"
            ]
           ]
          },
          "colorway": [
           "#636efa",
           "#EF553B",
           "#00cc96",
           "#ab63fa",
           "#FFA15A",
           "#19d3f3",
           "#FF6692",
           "#B6E880",
           "#FF97FF",
           "#FECB52"
          ],
          "font": {
           "color": "#2a3f5f"
          },
          "geo": {
           "bgcolor": "white",
           "lakecolor": "white",
           "landcolor": "#E5ECF6",
           "showlakes": true,
           "showland": true,
           "subunitcolor": "white"
          },
          "hoverlabel": {
           "align": "left"
          },
          "hovermode": "closest",
          "mapbox": {
           "style": "light"
          },
          "paper_bgcolor": "white",
          "plot_bgcolor": "#E5ECF6",
          "polar": {
           "angularaxis": {
            "gridcolor": "white",
            "linecolor": "white",
            "ticks": ""
           },
           "bgcolor": "#E5ECF6",
           "radialaxis": {
            "gridcolor": "white",
            "linecolor": "white",
            "ticks": ""
           }
          },
          "scene": {
           "xaxis": {
            "backgroundcolor": "#E5ECF6",
            "gridcolor": "white",
            "gridwidth": 2,
            "linecolor": "white",
            "showbackground": true,
            "ticks": "",
            "zerolinecolor": "white"
           },
           "yaxis": {
            "backgroundcolor": "#E5ECF6",
            "gridcolor": "white",
            "gridwidth": 2,
            "linecolor": "white",
            "showbackground": true,
            "ticks": "",
            "zerolinecolor": "white"
           },
           "zaxis": {
            "backgroundcolor": "#E5ECF6",
            "gridcolor": "white",
            "gridwidth": 2,
            "linecolor": "white",
            "showbackground": true,
            "ticks": "",
            "zerolinecolor": "white"
           }
          },
          "shapedefaults": {
           "line": {
            "color": "#2a3f5f"
           }
          },
          "ternary": {
           "aaxis": {
            "gridcolor": "white",
            "linecolor": "white",
            "ticks": ""
           },
           "baxis": {
            "gridcolor": "white",
            "linecolor": "white",
            "ticks": ""
           },
           "bgcolor": "#E5ECF6",
           "caxis": {
            "gridcolor": "white",
            "linecolor": "white",
            "ticks": ""
           }
          },
          "title": {
           "x": 0.05
          },
          "xaxis": {
           "automargin": true,
           "gridcolor": "white",
           "linecolor": "white",
           "ticks": "",
           "title": {
            "standoff": 15
           },
           "zerolinecolor": "white",
           "zerolinewidth": 2
          },
          "yaxis": {
           "automargin": true,
           "gridcolor": "white",
           "linecolor": "white",
           "ticks": "",
           "title": {
            "standoff": 15
           },
           "zerolinecolor": "white",
           "zerolinewidth": 2
          }
         }
        },
        "title": {
         "text": "K-Means Clustering (2D) - Iteration 2"
        },
        "xaxis": {
         "anchor": "y",
         "domain": [
          0,
          1
         ],
         "title": {
          "text": "Feature_1"
         }
        },
        "yaxis": {
         "anchor": "x",
         "domain": [
          0,
          1
         ],
         "title": {
          "text": "Feature_2"
         }
        }
       }
      },
      "text/html": [
       "<div>                            <div id=\"5b516ff7-e037-4586-bbca-918c32deaac1\" class=\"plotly-graph-div\" style=\"height:525px; width:100%;\"></div>            <script type=\"text/javascript\">                require([\"plotly\"], function(Plotly) {                    window.PLOTLYENV=window.PLOTLYENV || {};                                    if (document.getElementById(\"5b516ff7-e037-4586-bbca-918c32deaac1\")) {                    Plotly.newPlot(                        \"5b516ff7-e037-4586-bbca-918c32deaac1\",                        [{\"hovertemplate\":\"Feature_1=%{x}<br>Feature_2=%{y}<br>Cluster=%{marker.color}<extra></extra>\",\"legendgroup\":\"\",\"marker\":{\"color\":[2,0,1,2,2,2,1,1,2,1,1,1,1,2,0,2,0,0,2,1,2,0,2,0,0,2,0,2,2,2,1,1,2,0,0,1,0,2,0,2,1,1,1,2,2,0,1,0,0,2,1,0,1,1,0,2,0,0,1,1,1,1,2,1,2,0,0,1,1,2,1,1,2,1,2,2,1,2,0,0,0,0,0,1,2,1,1,0,2,1,1,2,2,0,1,0,0,2,1,1,2,0,2,1,0,0,2,0,1,0,0,0,2,0,0,2,2,0,2,0,0,0,1,1,1,2,0,2,2,2,0,0,2,2,1,2,1,0,1,1,2,0,1,0,2,1,0,0,2,0,0,0,2,2,2,1,0,2,0,2,2,2,1,1,2,2,0,1,0,1,0,2,0,1,2,0,1,1,1,2,2,0,0,2,1,2,0,2,0,0,2,0,0,1,0,1,2,1,0,1,0,2,0,2,1,2,0,0,1,2,2,1,2,1,2,1,1,0,2,2,0,1,2,1,2,0,1,1,0,0,0,0,1,1,1,1,0,0,2,2,2,2,1,1,2,0,2,1,0,2,1,0,2,0,2,1,2,2,0,0,0,1,0,0,0,1,0,2,2,0,1,0,1,1,1,1,2,1,0,2,0,2,2,1,2,1,0,0,1,1,0,2,2,0,2,0,1,1,1,0],\"coloraxis\":\"coloraxis\",\"opacity\":0.8,\"symbol\":\"circle\"},\"mode\":\"markers\",\"name\":\"\",\"orientation\":\"v\",\"showlegend\":false,\"x\":[19,22,98,54,38,93,83,80,93,16,58,80,77,50,11,7,39,76,78,99,62,17,78,64,30,93,55,45,98,80,93,97,59,6,38,87,34,49,21,88,52,76,75,90,96,32,81,24,5,74,33,20,83,56,25,88,36,16,59,55,66,62,30,78,44,72,24,77,8,45,92,89,73,28,12,96,56,97,9,10,21,6,31,54,26,7,15,31,25,19,73,55,59,21,72,46,16,91,12,39,50,43,66,82,45,27,81,52,53,60,66,10,90,52,41,50,80,80,33,29,52,22,79,37,48,70,18,30,17,87,13,16,69,71,10,88,19,5,64,24,75,41,63,45,57,69,5,14,97,24,8,24,65,32,81,67,9,50,11,57,79,44,72,47,68,21,24,39,14,60,14,77,44,92,68,20,79,67,89,41,38,27,54,78,22,39,17,83,57,39,77,36,38,97,7,95,11,96,12,58,15,94,19,88,28,93,82,39,58,46,39,31,58,68,93,75,61,35,91,91,37,15,50,38,74,98,16,48,67,55,43,29,92,57,48,28,15,11,95,52,39,43,52,49,50,9,8,46,19,82,17,8,57,35,86,79,79,61,48,16,46,47,49,51,9,64,59,46,63,63,46,30,45,58,91,30,92,10,14,22,10,28,52,58,69,87,16,16,70,98,28,52,47,30,88,19,33,65,92,25],\"xaxis\":\"x\",\"y\":[38,21,77,82,63,49,57,66,61,75,89,46,42,10,82,47,31,48,57,40,21,90,22,35,89,44,36,83,43,84,12,29,7,49,86,80,9,11,64,54,62,68,18,60,53,76,58,40,12,18,27,15,72,32,8,42,44,20,83,60,96,82,73,99,17,17,38,54,11,24,10,15,40,56,59,62,67,68,99,77,62,61,54,57,20,53,5,90,62,46,58,60,44,32,78,6,41,7,35,34,40,63,30,64,76,89,43,95,49,62,97,82,12,52,89,76,6,67,23,68,11,54,75,23,84,8,42,29,63,22,68,78,26,75,91,73,59,58,21,6,84,6,61,28,16,82,54,33,35,20,48,81,11,65,49,99,80,81,94,57,69,9,57,57,19,23,78,49,64,45,17,9,45,48,17,49,28,89,23,22,94,51,31,48,30,42,81,26,91,70,76,99,82,59,95,65,39,10,34,9,82,10,5,27,48,24,75,91,32,38,26,77,18,85,88,86,71,65,7,96,69,16,64,66,61,27,94,52,93,96,33,56,69,71,45,62,42,69,69,76,57,37,64,17,12,85,96,74,93,20,66,55,78,91,43,34,56,21,32,38,45,40,10,27,95,93,16,79,52,59,25,75,52,39,90,67,21,86,65,51,21,8,21,76,73,99,35,51,16,74,42,38,30,14,96,70,98,37,83,8],\"yaxis\":\"y\",\"type\":\"scatter\"},{\"marker\":{\"color\":\"red\",\"size\":10,\"symbol\":\"diamond\"},\"mode\":\"markers\",\"name\":\"Centroids\",\"x\":[30.942307692307693,58.46875,62.33],\"y\":[55.23076923076923,55.583333333333336,43.95],\"type\":\"scatter\"}],                        {\"template\":{\"data\":{\"histogram2dcontour\":[{\"type\":\"histogram2dcontour\",\"colorbar\":{\"outlinewidth\":0,\"ticks\":\"\"},\"colorscale\":[[0.0,\"#0d0887\"],[0.1111111111111111,\"#46039f\"],[0.2222222222222222,\"#7201a8\"],[0.3333333333333333,\"#9c179e\"],[0.4444444444444444,\"#bd3786\"],[0.5555555555555556,\"#d8576b\"],[0.6666666666666666,\"#ed7953\"],[0.7777777777777778,\"#fb9f3a\"],[0.8888888888888888,\"#fdca26\"],[1.0,\"#f0f921\"]]}],\"choropleth\":[{\"type\":\"choropleth\",\"colorbar\":{\"outlinewidth\":0,\"ticks\":\"\"}}],\"histogram2d\":[{\"type\":\"histogram2d\",\"colorbar\":{\"outlinewidth\":0,\"ticks\":\"\"},\"colorscale\":[[0.0,\"#0d0887\"],[0.1111111111111111,\"#46039f\"],[0.2222222222222222,\"#7201a8\"],[0.3333333333333333,\"#9c179e\"],[0.4444444444444444,\"#bd3786\"],[0.5555555555555556,\"#d8576b\"],[0.6666666666666666,\"#ed7953\"],[0.7777777777777778,\"#fb9f3a\"],[0.8888888888888888,\"#fdca26\"],[1.0,\"#f0f921\"]]}],\"heatmap\":[{\"type\":\"heatmap\",\"colorbar\":{\"outlinewidth\":0,\"ticks\":\"\"},\"colorscale\":[[0.0,\"#0d0887\"],[0.1111111111111111,\"#46039f\"],[0.2222222222222222,\"#7201a8\"],[0.3333333333333333,\"#9c179e\"],[0.4444444444444444,\"#bd3786\"],[0.5555555555555556,\"#d8576b\"],[0.6666666666666666,\"#ed7953\"],[0.7777777777777778,\"#fb9f3a\"],[0.8888888888888888,\"#fdca26\"],[1.0,\"#f0f921\"]]}],\"heatmapgl\":[{\"type\":\"heatmapgl\",\"colorbar\":{\"outlinewidth\":0,\"ticks\":\"\"},\"colorscale\":[[0.0,\"#0d0887\"],[0.1111111111111111,\"#46039f\"],[0.2222222222222222,\"#7201a8\"],[0.3333333333333333,\"#9c179e\"],[0.4444444444444444,\"#bd3786\"],[0.5555555555555556,\"#d8576b\"],[0.6666666666666666,\"#ed7953\"],[0.7777777777777778,\"#fb9f3a\"],[0.8888888888888888,\"#fdca26\"],[1.0,\"#f0f921\"]]}],\"contourcarpet\":[{\"type\":\"contourcarpet\",\"colorbar\":{\"outlinewidth\":0,\"ticks\":\"\"}}],\"contour\":[{\"type\":\"contour\",\"colorbar\":{\"outlinewidth\":0,\"ticks\":\"\"},\"colorscale\":[[0.0,\"#0d0887\"],[0.1111111111111111,\"#46039f\"],[0.2222222222222222,\"#7201a8\"],[0.3333333333333333,\"#9c179e\"],[0.4444444444444444,\"#bd3786\"],[0.5555555555555556,\"#d8576b\"],[0.6666666666666666,\"#ed7953\"],[0.7777777777777778,\"#fb9f3a\"],[0.8888888888888888,\"#fdca26\"],[1.0,\"#f0f921\"]]}],\"surface\":[{\"type\":\"surface\",\"colorbar\":{\"outlinewidth\":0,\"ticks\":\"\"},\"colorscale\":[[0.0,\"#0d0887\"],[0.1111111111111111,\"#46039f\"],[0.2222222222222222,\"#7201a8\"],[0.3333333333333333,\"#9c179e\"],[0.4444444444444444,\"#bd3786\"],[0.5555555555555556,\"#d8576b\"],[0.6666666666666666,\"#ed7953\"],[0.7777777777777778,\"#fb9f3a\"],[0.8888888888888888,\"#fdca26\"],[1.0,\"#f0f921\"]]}],\"mesh3d\":[{\"type\":\"mesh3d\",\"colorbar\":{\"outlinewidth\":0,\"ticks\":\"\"}}],\"scatter\":[{\"fillpattern\":{\"fillmode\":\"overlay\",\"size\":10,\"solidity\":0.2},\"type\":\"scatter\"}],\"parcoords\":[{\"type\":\"parcoords\",\"line\":{\"colorbar\":{\"outlinewidth\":0,\"ticks\":\"\"}}}],\"scatterpolargl\":[{\"type\":\"scatterpolargl\",\"marker\":{\"colorbar\":{\"outlinewidth\":0,\"ticks\":\"\"}}}],\"bar\":[{\"error_x\":{\"color\":\"#2a3f5f\"},\"error_y\":{\"color\":\"#2a3f5f\"},\"marker\":{\"line\":{\"color\":\"#E5ECF6\",\"width\":0.5},\"pattern\":{\"fillmode\":\"overlay\",\"size\":10,\"solidity\":0.2}},\"type\":\"bar\"}],\"scattergeo\":[{\"type\":\"scattergeo\",\"marker\":{\"colorbar\":{\"outlinewidth\":0,\"ticks\":\"\"}}}],\"scatterpolar\":[{\"type\":\"scatterpolar\",\"marker\":{\"colorbar\":{\"outlinewidth\":0,\"ticks\":\"\"}}}],\"histogram\":[{\"marker\":{\"pattern\":{\"fillmode\":\"overlay\",\"size\":10,\"solidity\":0.2}},\"type\":\"histogram\"}],\"scattergl\":[{\"type\":\"scattergl\",\"marker\":{\"colorbar\":{\"outlinewidth\":0,\"ticks\":\"\"}}}],\"scatter3d\":[{\"type\":\"scatter3d\",\"line\":{\"colorbar\":{\"outlinewidth\":0,\"ticks\":\"\"}},\"marker\":{\"colorbar\":{\"outlinewidth\":0,\"ticks\":\"\"}}}],\"scattermapbox\":[{\"type\":\"scattermapbox\",\"marker\":{\"colorbar\":{\"outlinewidth\":0,\"ticks\":\"\"}}}],\"scatterternary\":[{\"type\":\"scatterternary\",\"marker\":{\"colorbar\":{\"outlinewidth\":0,\"ticks\":\"\"}}}],\"scattercarpet\":[{\"type\":\"scattercarpet\",\"marker\":{\"colorbar\":{\"outlinewidth\":0,\"ticks\":\"\"}}}],\"carpet\":[{\"aaxis\":{\"endlinecolor\":\"#2a3f5f\",\"gridcolor\":\"white\",\"linecolor\":\"white\",\"minorgridcolor\":\"white\",\"startlinecolor\":\"#2a3f5f\"},\"baxis\":{\"endlinecolor\":\"#2a3f5f\",\"gridcolor\":\"white\",\"linecolor\":\"white\",\"minorgridcolor\":\"white\",\"startlinecolor\":\"#2a3f5f\"},\"type\":\"carpet\"}],\"table\":[{\"cells\":{\"fill\":{\"color\":\"#EBF0F8\"},\"line\":{\"color\":\"white\"}},\"header\":{\"fill\":{\"color\":\"#C8D4E3\"},\"line\":{\"color\":\"white\"}},\"type\":\"table\"}],\"barpolar\":[{\"marker\":{\"line\":{\"color\":\"#E5ECF6\",\"width\":0.5},\"pattern\":{\"fillmode\":\"overlay\",\"size\":10,\"solidity\":0.2}},\"type\":\"barpolar\"}],\"pie\":[{\"automargin\":true,\"type\":\"pie\"}]},\"layout\":{\"autotypenumbers\":\"strict\",\"colorway\":[\"#636efa\",\"#EF553B\",\"#00cc96\",\"#ab63fa\",\"#FFA15A\",\"#19d3f3\",\"#FF6692\",\"#B6E880\",\"#FF97FF\",\"#FECB52\"],\"font\":{\"color\":\"#2a3f5f\"},\"hovermode\":\"closest\",\"hoverlabel\":{\"align\":\"left\"},\"paper_bgcolor\":\"white\",\"plot_bgcolor\":\"#E5ECF6\",\"polar\":{\"bgcolor\":\"#E5ECF6\",\"angularaxis\":{\"gridcolor\":\"white\",\"linecolor\":\"white\",\"ticks\":\"\"},\"radialaxis\":{\"gridcolor\":\"white\",\"linecolor\":\"white\",\"ticks\":\"\"}},\"ternary\":{\"bgcolor\":\"#E5ECF6\",\"aaxis\":{\"gridcolor\":\"white\",\"linecolor\":\"white\",\"ticks\":\"\"},\"baxis\":{\"gridcolor\":\"white\",\"linecolor\":\"white\",\"ticks\":\"\"},\"caxis\":{\"gridcolor\":\"white\",\"linecolor\":\"white\",\"ticks\":\"\"}},\"coloraxis\":{\"colorbar\":{\"outlinewidth\":0,\"ticks\":\"\"}},\"colorscale\":{\"sequential\":[[0.0,\"#0d0887\"],[0.1111111111111111,\"#46039f\"],[0.2222222222222222,\"#7201a8\"],[0.3333333333333333,\"#9c179e\"],[0.4444444444444444,\"#bd3786\"],[0.5555555555555556,\"#d8576b\"],[0.6666666666666666,\"#ed7953\"],[0.7777777777777778,\"#fb9f3a\"],[0.8888888888888888,\"#fdca26\"],[1.0,\"#f0f921\"]],\"sequentialminus\":[[0.0,\"#0d0887\"],[0.1111111111111111,\"#46039f\"],[0.2222222222222222,\"#7201a8\"],[0.3333333333333333,\"#9c179e\"],[0.4444444444444444,\"#bd3786\"],[0.5555555555555556,\"#d8576b\"],[0.6666666666666666,\"#ed7953\"],[0.7777777777777778,\"#fb9f3a\"],[0.8888888888888888,\"#fdca26\"],[1.0,\"#f0f921\"]],\"diverging\":[[0,\"#8e0152\"],[0.1,\"#c51b7d\"],[0.2,\"#de77ae\"],[0.3,\"#f1b6da\"],[0.4,\"#fde0ef\"],[0.5,\"#f7f7f7\"],[0.6,\"#e6f5d0\"],[0.7,\"#b8e186\"],[0.8,\"#7fbc41\"],[0.9,\"#4d9221\"],[1,\"#276419\"]]},\"xaxis\":{\"gridcolor\":\"white\",\"linecolor\":\"white\",\"ticks\":\"\",\"title\":{\"standoff\":15},\"zerolinecolor\":\"white\",\"automargin\":true,\"zerolinewidth\":2},\"yaxis\":{\"gridcolor\":\"white\",\"linecolor\":\"white\",\"ticks\":\"\",\"title\":{\"standoff\":15},\"zerolinecolor\":\"white\",\"automargin\":true,\"zerolinewidth\":2},\"scene\":{\"xaxis\":{\"backgroundcolor\":\"#E5ECF6\",\"gridcolor\":\"white\",\"linecolor\":\"white\",\"showbackground\":true,\"ticks\":\"\",\"zerolinecolor\":\"white\",\"gridwidth\":2},\"yaxis\":{\"backgroundcolor\":\"#E5ECF6\",\"gridcolor\":\"white\",\"linecolor\":\"white\",\"showbackground\":true,\"ticks\":\"\",\"zerolinecolor\":\"white\",\"gridwidth\":2},\"zaxis\":{\"backgroundcolor\":\"#E5ECF6\",\"gridcolor\":\"white\",\"linecolor\":\"white\",\"showbackground\":true,\"ticks\":\"\",\"zerolinecolor\":\"white\",\"gridwidth\":2}},\"shapedefaults\":{\"line\":{\"color\":\"#2a3f5f\"}},\"annotationdefaults\":{\"arrowcolor\":\"#2a3f5f\",\"arrowhead\":0,\"arrowwidth\":1},\"geo\":{\"bgcolor\":\"white\",\"landcolor\":\"#E5ECF6\",\"subunitcolor\":\"white\",\"showland\":true,\"showlakes\":true,\"lakecolor\":\"white\"},\"title\":{\"x\":0.05},\"mapbox\":{\"style\":\"light\"}}},\"xaxis\":{\"anchor\":\"y\",\"domain\":[0.0,1.0],\"title\":{\"text\":\"Feature_1\"}},\"yaxis\":{\"anchor\":\"x\",\"domain\":[0.0,1.0],\"title\":{\"text\":\"Feature_2\"}},\"coloraxis\":{\"colorbar\":{\"title\":{\"text\":\"Cluster\"}},\"colorscale\":[[0.0,\"#0d0887\"],[0.1111111111111111,\"#46039f\"],[0.2222222222222222,\"#7201a8\"],[0.3333333333333333,\"#9c179e\"],[0.4444444444444444,\"#bd3786\"],[0.5555555555555556,\"#d8576b\"],[0.6666666666666666,\"#ed7953\"],[0.7777777777777778,\"#fb9f3a\"],[0.8888888888888888,\"#fdca26\"],[1.0,\"#f0f921\"]]},\"legend\":{\"tracegroupgap\":0},\"title\":{\"text\":\"K-Means Clustering (2D) - Iteration 2\"}},                        {\"responsive\": true}                    ).then(function(){\n",
       "                            \n",
       "var gd = document.getElementById('5b516ff7-e037-4586-bbca-918c32deaac1');\n",
       "var x = new MutationObserver(function (mutations, observer) {{\n",
       "        var display = window.getComputedStyle(gd).display;\n",
       "        if (!display || display === 'none') {{\n",
       "            console.log([gd, 'removed!']);\n",
       "            Plotly.purge(gd);\n",
       "            observer.disconnect();\n",
       "        }}\n",
       "}});\n",
       "\n",
       "// Listen for the removal of the full notebook cells\n",
       "var notebookContainer = gd.closest('#notebook-container');\n",
       "if (notebookContainer) {{\n",
       "    x.observe(notebookContainer, {childList: true});\n",
       "}}\n",
       "\n",
       "// Listen for the clearing of the current output cell\n",
       "var outputEl = gd.closest('.output');\n",
       "if (outputEl) {{\n",
       "    x.observe(outputEl, {childList: true});\n",
       "}}\n",
       "\n",
       "                        })                };                });            </script>        </div>"
      ]
     },
     "metadata": {},
     "output_type": "display_data"
    },
    {
     "data": {
      "application/vnd.plotly.v1+json": {
       "config": {
        "plotlyServerURL": "https://plot.ly"
       },
       "data": [
        {
         "hovertemplate": "Feature_1=%{x}<br>Feature_2=%{y}<br>Cluster=%{marker.color}<extra></extra>",
         "legendgroup": "",
         "marker": {
          "color": [
           2,
           0,
           1,
           2,
           2,
           2,
           1,
           1,
           2,
           1,
           1,
           1,
           1,
           2,
           0,
           2,
           0,
           0,
           2,
           1,
           2,
           0,
           2,
           0,
           0,
           2,
           0,
           2,
           2,
           2,
           1,
           1,
           2,
           0,
           0,
           1,
           0,
           2,
           0,
           2,
           1,
           1,
           1,
           2,
           2,
           0,
           1,
           0,
           0,
           2,
           1,
           0,
           1,
           1,
           0,
           2,
           0,
           0,
           1,
           1,
           1,
           1,
           2,
           1,
           2,
           0,
           0,
           1,
           1,
           2,
           1,
           1,
           2,
           1,
           2,
           2,
           1,
           2,
           0,
           0,
           0,
           0,
           0,
           1,
           2,
           1,
           1,
           0,
           2,
           1,
           1,
           2,
           2,
           0,
           1,
           0,
           0,
           2,
           1,
           1,
           2,
           0,
           2,
           1,
           0,
           0,
           2,
           0,
           1,
           0,
           0,
           0,
           2,
           0,
           0,
           2,
           2,
           0,
           2,
           0,
           0,
           0,
           1,
           1,
           1,
           2,
           0,
           2,
           2,
           2,
           0,
           0,
           2,
           2,
           1,
           2,
           1,
           0,
           1,
           1,
           2,
           0,
           1,
           0,
           2,
           1,
           0,
           0,
           2,
           0,
           0,
           0,
           2,
           2,
           2,
           1,
           0,
           2,
           0,
           2,
           2,
           2,
           1,
           1,
           2,
           2,
           0,
           1,
           0,
           1,
           0,
           2,
           0,
           1,
           2,
           0,
           1,
           1,
           1,
           2,
           2,
           0,
           0,
           2,
           1,
           2,
           0,
           2,
           0,
           0,
           2,
           0,
           0,
           1,
           0,
           1,
           2,
           1,
           0,
           1,
           0,
           2,
           0,
           2,
           1,
           2,
           0,
           0,
           1,
           2,
           2,
           1,
           2,
           1,
           2,
           1,
           1,
           0,
           2,
           2,
           0,
           1,
           2,
           1,
           2,
           0,
           1,
           1,
           0,
           0,
           0,
           0,
           1,
           1,
           1,
           1,
           0,
           0,
           2,
           2,
           2,
           2,
           1,
           1,
           2,
           0,
           2,
           1,
           0,
           2,
           1,
           0,
           2,
           0,
           2,
           1,
           2,
           2,
           0,
           0,
           0,
           1,
           0,
           0,
           0,
           1,
           0,
           2,
           2,
           0,
           1,
           0,
           1,
           1,
           1,
           1,
           2,
           1,
           0,
           2,
           0,
           2,
           2,
           1,
           2,
           1,
           0,
           0,
           1,
           1,
           0,
           2,
           2,
           0,
           2,
           0,
           1,
           1,
           1,
           0
          ],
          "coloraxis": "coloraxis",
          "opacity": 0.8,
          "symbol": "circle"
         },
         "mode": "markers",
         "name": "",
         "orientation": "v",
         "showlegend": false,
         "type": "scatter",
         "x": [
          19,
          22,
          98,
          54,
          38,
          93,
          83,
          80,
          93,
          16,
          58,
          80,
          77,
          50,
          11,
          7,
          39,
          76,
          78,
          99,
          62,
          17,
          78,
          64,
          30,
          93,
          55,
          45,
          98,
          80,
          93,
          97,
          59,
          6,
          38,
          87,
          34,
          49,
          21,
          88,
          52,
          76,
          75,
          90,
          96,
          32,
          81,
          24,
          5,
          74,
          33,
          20,
          83,
          56,
          25,
          88,
          36,
          16,
          59,
          55,
          66,
          62,
          30,
          78,
          44,
          72,
          24,
          77,
          8,
          45,
          92,
          89,
          73,
          28,
          12,
          96,
          56,
          97,
          9,
          10,
          21,
          6,
          31,
          54,
          26,
          7,
          15,
          31,
          25,
          19,
          73,
          55,
          59,
          21,
          72,
          46,
          16,
          91,
          12,
          39,
          50,
          43,
          66,
          82,
          45,
          27,
          81,
          52,
          53,
          60,
          66,
          10,
          90,
          52,
          41,
          50,
          80,
          80,
          33,
          29,
          52,
          22,
          79,
          37,
          48,
          70,
          18,
          30,
          17,
          87,
          13,
          16,
          69,
          71,
          10,
          88,
          19,
          5,
          64,
          24,
          75,
          41,
          63,
          45,
          57,
          69,
          5,
          14,
          97,
          24,
          8,
          24,
          65,
          32,
          81,
          67,
          9,
          50,
          11,
          57,
          79,
          44,
          72,
          47,
          68,
          21,
          24,
          39,
          14,
          60,
          14,
          77,
          44,
          92,
          68,
          20,
          79,
          67,
          89,
          41,
          38,
          27,
          54,
          78,
          22,
          39,
          17,
          83,
          57,
          39,
          77,
          36,
          38,
          97,
          7,
          95,
          11,
          96,
          12,
          58,
          15,
          94,
          19,
          88,
          28,
          93,
          82,
          39,
          58,
          46,
          39,
          31,
          58,
          68,
          93,
          75,
          61,
          35,
          91,
          91,
          37,
          15,
          50,
          38,
          74,
          98,
          16,
          48,
          67,
          55,
          43,
          29,
          92,
          57,
          48,
          28,
          15,
          11,
          95,
          52,
          39,
          43,
          52,
          49,
          50,
          9,
          8,
          46,
          19,
          82,
          17,
          8,
          57,
          35,
          86,
          79,
          79,
          61,
          48,
          16,
          46,
          47,
          49,
          51,
          9,
          64,
          59,
          46,
          63,
          63,
          46,
          30,
          45,
          58,
          91,
          30,
          92,
          10,
          14,
          22,
          10,
          28,
          52,
          58,
          69,
          87,
          16,
          16,
          70,
          98,
          28,
          52,
          47,
          30,
          88,
          19,
          33,
          65,
          92,
          25
         ],
         "xaxis": "x",
         "y": [
          38,
          21,
          77,
          82,
          63,
          49,
          57,
          66,
          61,
          75,
          89,
          46,
          42,
          10,
          82,
          47,
          31,
          48,
          57,
          40,
          21,
          90,
          22,
          35,
          89,
          44,
          36,
          83,
          43,
          84,
          12,
          29,
          7,
          49,
          86,
          80,
          9,
          11,
          64,
          54,
          62,
          68,
          18,
          60,
          53,
          76,
          58,
          40,
          12,
          18,
          27,
          15,
          72,
          32,
          8,
          42,
          44,
          20,
          83,
          60,
          96,
          82,
          73,
          99,
          17,
          17,
          38,
          54,
          11,
          24,
          10,
          15,
          40,
          56,
          59,
          62,
          67,
          68,
          99,
          77,
          62,
          61,
          54,
          57,
          20,
          53,
          5,
          90,
          62,
          46,
          58,
          60,
          44,
          32,
          78,
          6,
          41,
          7,
          35,
          34,
          40,
          63,
          30,
          64,
          76,
          89,
          43,
          95,
          49,
          62,
          97,
          82,
          12,
          52,
          89,
          76,
          6,
          67,
          23,
          68,
          11,
          54,
          75,
          23,
          84,
          8,
          42,
          29,
          63,
          22,
          68,
          78,
          26,
          75,
          91,
          73,
          59,
          58,
          21,
          6,
          84,
          6,
          61,
          28,
          16,
          82,
          54,
          33,
          35,
          20,
          48,
          81,
          11,
          65,
          49,
          99,
          80,
          81,
          94,
          57,
          69,
          9,
          57,
          57,
          19,
          23,
          78,
          49,
          64,
          45,
          17,
          9,
          45,
          48,
          17,
          49,
          28,
          89,
          23,
          22,
          94,
          51,
          31,
          48,
          30,
          42,
          81,
          26,
          91,
          70,
          76,
          99,
          82,
          59,
          95,
          65,
          39,
          10,
          34,
          9,
          82,
          10,
          5,
          27,
          48,
          24,
          75,
          91,
          32,
          38,
          26,
          77,
          18,
          85,
          88,
          86,
          71,
          65,
          7,
          96,
          69,
          16,
          64,
          66,
          61,
          27,
          94,
          52,
          93,
          96,
          33,
          56,
          69,
          71,
          45,
          62,
          42,
          69,
          69,
          76,
          57,
          37,
          64,
          17,
          12,
          85,
          96,
          74,
          93,
          20,
          66,
          55,
          78,
          91,
          43,
          34,
          56,
          21,
          32,
          38,
          45,
          40,
          10,
          27,
          95,
          93,
          16,
          79,
          52,
          59,
          25,
          75,
          52,
          39,
          90,
          67,
          21,
          86,
          65,
          51,
          21,
          8,
          21,
          76,
          73,
          99,
          35,
          51,
          16,
          74,
          42,
          38,
          30,
          14,
          96,
          70,
          98,
          37,
          83,
          8
         ],
         "yaxis": "y"
        },
        {
         "marker": {
          "color": "red",
          "size": 10,
          "symbol": "diamond"
         },
         "mode": "markers",
         "name": "Centroids",
         "type": "scatter",
         "x": [
          30.942307692307693,
          58.46875,
          62.33
         ],
         "y": [
          55.23076923076923,
          55.583333333333336,
          43.95
         ]
        }
       ],
       "layout": {
        "coloraxis": {
         "colorbar": {
          "title": {
           "text": "Cluster"
          }
         },
         "colorscale": [
          [
           0,
           "#0d0887"
          ],
          [
           0.1111111111111111,
           "#46039f"
          ],
          [
           0.2222222222222222,
           "#7201a8"
          ],
          [
           0.3333333333333333,
           "#9c179e"
          ],
          [
           0.4444444444444444,
           "#bd3786"
          ],
          [
           0.5555555555555556,
           "#d8576b"
          ],
          [
           0.6666666666666666,
           "#ed7953"
          ],
          [
           0.7777777777777778,
           "#fb9f3a"
          ],
          [
           0.8888888888888888,
           "#fdca26"
          ],
          [
           1,
           "#f0f921"
          ]
         ]
        },
        "legend": {
         "tracegroupgap": 0
        },
        "template": {
         "data": {
          "bar": [
           {
            "error_x": {
             "color": "#2a3f5f"
            },
            "error_y": {
             "color": "#2a3f5f"
            },
            "marker": {
             "line": {
              "color": "#E5ECF6",
              "width": 0.5
             },
             "pattern": {
              "fillmode": "overlay",
              "size": 10,
              "solidity": 0.2
             }
            },
            "type": "bar"
           }
          ],
          "barpolar": [
           {
            "marker": {
             "line": {
              "color": "#E5ECF6",
              "width": 0.5
             },
             "pattern": {
              "fillmode": "overlay",
              "size": 10,
              "solidity": 0.2
             }
            },
            "type": "barpolar"
           }
          ],
          "carpet": [
           {
            "aaxis": {
             "endlinecolor": "#2a3f5f",
             "gridcolor": "white",
             "linecolor": "white",
             "minorgridcolor": "white",
             "startlinecolor": "#2a3f5f"
            },
            "baxis": {
             "endlinecolor": "#2a3f5f",
             "gridcolor": "white",
             "linecolor": "white",
             "minorgridcolor": "white",
             "startlinecolor": "#2a3f5f"
            },
            "type": "carpet"
           }
          ],
          "choropleth": [
           {
            "colorbar": {
             "outlinewidth": 0,
             "ticks": ""
            },
            "type": "choropleth"
           }
          ],
          "contour": [
           {
            "colorbar": {
             "outlinewidth": 0,
             "ticks": ""
            },
            "colorscale": [
             [
              0,
              "#0d0887"
             ],
             [
              0.1111111111111111,
              "#46039f"
             ],
             [
              0.2222222222222222,
              "#7201a8"
             ],
             [
              0.3333333333333333,
              "#9c179e"
             ],
             [
              0.4444444444444444,
              "#bd3786"
             ],
             [
              0.5555555555555556,
              "#d8576b"
             ],
             [
              0.6666666666666666,
              "#ed7953"
             ],
             [
              0.7777777777777778,
              "#fb9f3a"
             ],
             [
              0.8888888888888888,
              "#fdca26"
             ],
             [
              1,
              "#f0f921"
             ]
            ],
            "type": "contour"
           }
          ],
          "contourcarpet": [
           {
            "colorbar": {
             "outlinewidth": 0,
             "ticks": ""
            },
            "type": "contourcarpet"
           }
          ],
          "heatmap": [
           {
            "colorbar": {
             "outlinewidth": 0,
             "ticks": ""
            },
            "colorscale": [
             [
              0,
              "#0d0887"
             ],
             [
              0.1111111111111111,
              "#46039f"
             ],
             [
              0.2222222222222222,
              "#7201a8"
             ],
             [
              0.3333333333333333,
              "#9c179e"
             ],
             [
              0.4444444444444444,
              "#bd3786"
             ],
             [
              0.5555555555555556,
              "#d8576b"
             ],
             [
              0.6666666666666666,
              "#ed7953"
             ],
             [
              0.7777777777777778,
              "#fb9f3a"
             ],
             [
              0.8888888888888888,
              "#fdca26"
             ],
             [
              1,
              "#f0f921"
             ]
            ],
            "type": "heatmap"
           }
          ],
          "heatmapgl": [
           {
            "colorbar": {
             "outlinewidth": 0,
             "ticks": ""
            },
            "colorscale": [
             [
              0,
              "#0d0887"
             ],
             [
              0.1111111111111111,
              "#46039f"
             ],
             [
              0.2222222222222222,
              "#7201a8"
             ],
             [
              0.3333333333333333,
              "#9c179e"
             ],
             [
              0.4444444444444444,
              "#bd3786"
             ],
             [
              0.5555555555555556,
              "#d8576b"
             ],
             [
              0.6666666666666666,
              "#ed7953"
             ],
             [
              0.7777777777777778,
              "#fb9f3a"
             ],
             [
              0.8888888888888888,
              "#fdca26"
             ],
             [
              1,
              "#f0f921"
             ]
            ],
            "type": "heatmapgl"
           }
          ],
          "histogram": [
           {
            "marker": {
             "pattern": {
              "fillmode": "overlay",
              "size": 10,
              "solidity": 0.2
             }
            },
            "type": "histogram"
           }
          ],
          "histogram2d": [
           {
            "colorbar": {
             "outlinewidth": 0,
             "ticks": ""
            },
            "colorscale": [
             [
              0,
              "#0d0887"
             ],
             [
              0.1111111111111111,
              "#46039f"
             ],
             [
              0.2222222222222222,
              "#7201a8"
             ],
             [
              0.3333333333333333,
              "#9c179e"
             ],
             [
              0.4444444444444444,
              "#bd3786"
             ],
             [
              0.5555555555555556,
              "#d8576b"
             ],
             [
              0.6666666666666666,
              "#ed7953"
             ],
             [
              0.7777777777777778,
              "#fb9f3a"
             ],
             [
              0.8888888888888888,
              "#fdca26"
             ],
             [
              1,
              "#f0f921"
             ]
            ],
            "type": "histogram2d"
           }
          ],
          "histogram2dcontour": [
           {
            "colorbar": {
             "outlinewidth": 0,
             "ticks": ""
            },
            "colorscale": [
             [
              0,
              "#0d0887"
             ],
             [
              0.1111111111111111,
              "#46039f"
             ],
             [
              0.2222222222222222,
              "#7201a8"
             ],
             [
              0.3333333333333333,
              "#9c179e"
             ],
             [
              0.4444444444444444,
              "#bd3786"
             ],
             [
              0.5555555555555556,
              "#d8576b"
             ],
             [
              0.6666666666666666,
              "#ed7953"
             ],
             [
              0.7777777777777778,
              "#fb9f3a"
             ],
             [
              0.8888888888888888,
              "#fdca26"
             ],
             [
              1,
              "#f0f921"
             ]
            ],
            "type": "histogram2dcontour"
           }
          ],
          "mesh3d": [
           {
            "colorbar": {
             "outlinewidth": 0,
             "ticks": ""
            },
            "type": "mesh3d"
           }
          ],
          "parcoords": [
           {
            "line": {
             "colorbar": {
              "outlinewidth": 0,
              "ticks": ""
             }
            },
            "type": "parcoords"
           }
          ],
          "pie": [
           {
            "automargin": true,
            "type": "pie"
           }
          ],
          "scatter": [
           {
            "fillpattern": {
             "fillmode": "overlay",
             "size": 10,
             "solidity": 0.2
            },
            "type": "scatter"
           }
          ],
          "scatter3d": [
           {
            "line": {
             "colorbar": {
              "outlinewidth": 0,
              "ticks": ""
             }
            },
            "marker": {
             "colorbar": {
              "outlinewidth": 0,
              "ticks": ""
             }
            },
            "type": "scatter3d"
           }
          ],
          "scattercarpet": [
           {
            "marker": {
             "colorbar": {
              "outlinewidth": 0,
              "ticks": ""
             }
            },
            "type": "scattercarpet"
           }
          ],
          "scattergeo": [
           {
            "marker": {
             "colorbar": {
              "outlinewidth": 0,
              "ticks": ""
             }
            },
            "type": "scattergeo"
           }
          ],
          "scattergl": [
           {
            "marker": {
             "colorbar": {
              "outlinewidth": 0,
              "ticks": ""
             }
            },
            "type": "scattergl"
           }
          ],
          "scattermapbox": [
           {
            "marker": {
             "colorbar": {
              "outlinewidth": 0,
              "ticks": ""
             }
            },
            "type": "scattermapbox"
           }
          ],
          "scatterpolar": [
           {
            "marker": {
             "colorbar": {
              "outlinewidth": 0,
              "ticks": ""
             }
            },
            "type": "scatterpolar"
           }
          ],
          "scatterpolargl": [
           {
            "marker": {
             "colorbar": {
              "outlinewidth": 0,
              "ticks": ""
             }
            },
            "type": "scatterpolargl"
           }
          ],
          "scatterternary": [
           {
            "marker": {
             "colorbar": {
              "outlinewidth": 0,
              "ticks": ""
             }
            },
            "type": "scatterternary"
           }
          ],
          "surface": [
           {
            "colorbar": {
             "outlinewidth": 0,
             "ticks": ""
            },
            "colorscale": [
             [
              0,
              "#0d0887"
             ],
             [
              0.1111111111111111,
              "#46039f"
             ],
             [
              0.2222222222222222,
              "#7201a8"
             ],
             [
              0.3333333333333333,
              "#9c179e"
             ],
             [
              0.4444444444444444,
              "#bd3786"
             ],
             [
              0.5555555555555556,
              "#d8576b"
             ],
             [
              0.6666666666666666,
              "#ed7953"
             ],
             [
              0.7777777777777778,
              "#fb9f3a"
             ],
             [
              0.8888888888888888,
              "#fdca26"
             ],
             [
              1,
              "#f0f921"
             ]
            ],
            "type": "surface"
           }
          ],
          "table": [
           {
            "cells": {
             "fill": {
              "color": "#EBF0F8"
             },
             "line": {
              "color": "white"
             }
            },
            "header": {
             "fill": {
              "color": "#C8D4E3"
             },
             "line": {
              "color": "white"
             }
            },
            "type": "table"
           }
          ]
         },
         "layout": {
          "annotationdefaults": {
           "arrowcolor": "#2a3f5f",
           "arrowhead": 0,
           "arrowwidth": 1
          },
          "autotypenumbers": "strict",
          "coloraxis": {
           "colorbar": {
            "outlinewidth": 0,
            "ticks": ""
           }
          },
          "colorscale": {
           "diverging": [
            [
             0,
             "#8e0152"
            ],
            [
             0.1,
             "#c51b7d"
            ],
            [
             0.2,
             "#de77ae"
            ],
            [
             0.3,
             "#f1b6da"
            ],
            [
             0.4,
             "#fde0ef"
            ],
            [
             0.5,
             "#f7f7f7"
            ],
            [
             0.6,
             "#e6f5d0"
            ],
            [
             0.7,
             "#b8e186"
            ],
            [
             0.8,
             "#7fbc41"
            ],
            [
             0.9,
             "#4d9221"
            ],
            [
             1,
             "#276419"
            ]
           ],
           "sequential": [
            [
             0,
             "#0d0887"
            ],
            [
             0.1111111111111111,
             "#46039f"
            ],
            [
             0.2222222222222222,
             "#7201a8"
            ],
            [
             0.3333333333333333,
             "#9c179e"
            ],
            [
             0.4444444444444444,
             "#bd3786"
            ],
            [
             0.5555555555555556,
             "#d8576b"
            ],
            [
             0.6666666666666666,
             "#ed7953"
            ],
            [
             0.7777777777777778,
             "#fb9f3a"
            ],
            [
             0.8888888888888888,
             "#fdca26"
            ],
            [
             1,
             "#f0f921"
            ]
           ],
           "sequentialminus": [
            [
             0,
             "#0d0887"
            ],
            [
             0.1111111111111111,
             "#46039f"
            ],
            [
             0.2222222222222222,
             "#7201a8"
            ],
            [
             0.3333333333333333,
             "#9c179e"
            ],
            [
             0.4444444444444444,
             "#bd3786"
            ],
            [
             0.5555555555555556,
             "#d8576b"
            ],
            [
             0.6666666666666666,
             "#ed7953"
            ],
            [
             0.7777777777777778,
             "#fb9f3a"
            ],
            [
             0.8888888888888888,
             "#fdca26"
            ],
            [
             1,
             "#f0f921"
            ]
           ]
          },
          "colorway": [
           "#636efa",
           "#EF553B",
           "#00cc96",
           "#ab63fa",
           "#FFA15A",
           "#19d3f3",
           "#FF6692",
           "#B6E880",
           "#FF97FF",
           "#FECB52"
          ],
          "font": {
           "color": "#2a3f5f"
          },
          "geo": {
           "bgcolor": "white",
           "lakecolor": "white",
           "landcolor": "#E5ECF6",
           "showlakes": true,
           "showland": true,
           "subunitcolor": "white"
          },
          "hoverlabel": {
           "align": "left"
          },
          "hovermode": "closest",
          "mapbox": {
           "style": "light"
          },
          "paper_bgcolor": "white",
          "plot_bgcolor": "#E5ECF6",
          "polar": {
           "angularaxis": {
            "gridcolor": "white",
            "linecolor": "white",
            "ticks": ""
           },
           "bgcolor": "#E5ECF6",
           "radialaxis": {
            "gridcolor": "white",
            "linecolor": "white",
            "ticks": ""
           }
          },
          "scene": {
           "xaxis": {
            "backgroundcolor": "#E5ECF6",
            "gridcolor": "white",
            "gridwidth": 2,
            "linecolor": "white",
            "showbackground": true,
            "ticks": "",
            "zerolinecolor": "white"
           },
           "yaxis": {
            "backgroundcolor": "#E5ECF6",
            "gridcolor": "white",
            "gridwidth": 2,
            "linecolor": "white",
            "showbackground": true,
            "ticks": "",
            "zerolinecolor": "white"
           },
           "zaxis": {
            "backgroundcolor": "#E5ECF6",
            "gridcolor": "white",
            "gridwidth": 2,
            "linecolor": "white",
            "showbackground": true,
            "ticks": "",
            "zerolinecolor": "white"
           }
          },
          "shapedefaults": {
           "line": {
            "color": "#2a3f5f"
           }
          },
          "ternary": {
           "aaxis": {
            "gridcolor": "white",
            "linecolor": "white",
            "ticks": ""
           },
           "baxis": {
            "gridcolor": "white",
            "linecolor": "white",
            "ticks": ""
           },
           "bgcolor": "#E5ECF6",
           "caxis": {
            "gridcolor": "white",
            "linecolor": "white",
            "ticks": ""
           }
          },
          "title": {
           "x": 0.05
          },
          "xaxis": {
           "automargin": true,
           "gridcolor": "white",
           "linecolor": "white",
           "ticks": "",
           "title": {
            "standoff": 15
           },
           "zerolinecolor": "white",
           "zerolinewidth": 2
          },
          "yaxis": {
           "automargin": true,
           "gridcolor": "white",
           "linecolor": "white",
           "ticks": "",
           "title": {
            "standoff": 15
           },
           "zerolinecolor": "white",
           "zerolinewidth": 2
          }
         }
        },
        "title": {
         "text": "K-Means Clustering (2D) - Iteration 3"
        },
        "xaxis": {
         "anchor": "y",
         "domain": [
          0,
          1
         ],
         "title": {
          "text": "Feature_1"
         }
        },
        "yaxis": {
         "anchor": "x",
         "domain": [
          0,
          1
         ],
         "title": {
          "text": "Feature_2"
         }
        }
       }
      },
      "text/html": [
       "<div>                            <div id=\"5509d0e5-5d50-40b8-91a0-be1654ab3ce6\" class=\"plotly-graph-div\" style=\"height:525px; width:100%;\"></div>            <script type=\"text/javascript\">                require([\"plotly\"], function(Plotly) {                    window.PLOTLYENV=window.PLOTLYENV || {};                                    if (document.getElementById(\"5509d0e5-5d50-40b8-91a0-be1654ab3ce6\")) {                    Plotly.newPlot(                        \"5509d0e5-5d50-40b8-91a0-be1654ab3ce6\",                        [{\"hovertemplate\":\"Feature_1=%{x}<br>Feature_2=%{y}<br>Cluster=%{marker.color}<extra></extra>\",\"legendgroup\":\"\",\"marker\":{\"color\":[2,0,1,2,2,2,1,1,2,1,1,1,1,2,0,2,0,0,2,1,2,0,2,0,0,2,0,2,2,2,1,1,2,0,0,1,0,2,0,2,1,1,1,2,2,0,1,0,0,2,1,0,1,1,0,2,0,0,1,1,1,1,2,1,2,0,0,1,1,2,1,1,2,1,2,2,1,2,0,0,0,0,0,1,2,1,1,0,2,1,1,2,2,0,1,0,0,2,1,1,2,0,2,1,0,0,2,0,1,0,0,0,2,0,0,2,2,0,2,0,0,0,1,1,1,2,0,2,2,2,0,0,2,2,1,2,1,0,1,1,2,0,1,0,2,1,0,0,2,0,0,0,2,2,2,1,0,2,0,2,2,2,1,1,2,2,0,1,0,1,0,2,0,1,2,0,1,1,1,2,2,0,0,2,1,2,0,2,0,0,2,0,0,1,0,1,2,1,0,1,0,2,0,2,1,2,0,0,1,2,2,1,2,1,2,1,1,0,2,2,0,1,2,1,2,0,1,1,0,0,0,0,1,1,1,1,0,0,2,2,2,2,1,1,2,0,2,1,0,2,1,0,2,0,2,1,2,2,0,0,0,1,0,0,0,1,0,2,2,0,1,0,1,1,1,1,2,1,0,2,0,2,2,1,2,1,0,0,1,1,0,2,2,0,2,0,1,1,1,0],\"coloraxis\":\"coloraxis\",\"opacity\":0.8,\"symbol\":\"circle\"},\"mode\":\"markers\",\"name\":\"\",\"orientation\":\"v\",\"showlegend\":false,\"x\":[19,22,98,54,38,93,83,80,93,16,58,80,77,50,11,7,39,76,78,99,62,17,78,64,30,93,55,45,98,80,93,97,59,6,38,87,34,49,21,88,52,76,75,90,96,32,81,24,5,74,33,20,83,56,25,88,36,16,59,55,66,62,30,78,44,72,24,77,8,45,92,89,73,28,12,96,56,97,9,10,21,6,31,54,26,7,15,31,25,19,73,55,59,21,72,46,16,91,12,39,50,43,66,82,45,27,81,52,53,60,66,10,90,52,41,50,80,80,33,29,52,22,79,37,48,70,18,30,17,87,13,16,69,71,10,88,19,5,64,24,75,41,63,45,57,69,5,14,97,24,8,24,65,32,81,67,9,50,11,57,79,44,72,47,68,21,24,39,14,60,14,77,44,92,68,20,79,67,89,41,38,27,54,78,22,39,17,83,57,39,77,36,38,97,7,95,11,96,12,58,15,94,19,88,28,93,82,39,58,46,39,31,58,68,93,75,61,35,91,91,37,15,50,38,74,98,16,48,67,55,43,29,92,57,48,28,15,11,95,52,39,43,52,49,50,9,8,46,19,82,17,8,57,35,86,79,79,61,48,16,46,47,49,51,9,64,59,46,63,63,46,30,45,58,91,30,92,10,14,22,10,28,52,58,69,87,16,16,70,98,28,52,47,30,88,19,33,65,92,25],\"xaxis\":\"x\",\"y\":[38,21,77,82,63,49,57,66,61,75,89,46,42,10,82,47,31,48,57,40,21,90,22,35,89,44,36,83,43,84,12,29,7,49,86,80,9,11,64,54,62,68,18,60,53,76,58,40,12,18,27,15,72,32,8,42,44,20,83,60,96,82,73,99,17,17,38,54,11,24,10,15,40,56,59,62,67,68,99,77,62,61,54,57,20,53,5,90,62,46,58,60,44,32,78,6,41,7,35,34,40,63,30,64,76,89,43,95,49,62,97,82,12,52,89,76,6,67,23,68,11,54,75,23,84,8,42,29,63,22,68,78,26,75,91,73,59,58,21,6,84,6,61,28,16,82,54,33,35,20,48,81,11,65,49,99,80,81,94,57,69,9,57,57,19,23,78,49,64,45,17,9,45,48,17,49,28,89,23,22,94,51,31,48,30,42,81,26,91,70,76,99,82,59,95,65,39,10,34,9,82,10,5,27,48,24,75,91,32,38,26,77,18,85,88,86,71,65,7,96,69,16,64,66,61,27,94,52,93,96,33,56,69,71,45,62,42,69,69,76,57,37,64,17,12,85,96,74,93,20,66,55,78,91,43,34,56,21,32,38,45,40,10,27,95,93,16,79,52,59,25,75,52,39,90,67,21,86,65,51,21,8,21,76,73,99,35,51,16,74,42,38,30,14,96,70,98,37,83,8],\"yaxis\":\"y\",\"type\":\"scatter\"},{\"marker\":{\"color\":\"red\",\"size\":10,\"symbol\":\"diamond\"},\"mode\":\"markers\",\"name\":\"Centroids\",\"x\":[30.942307692307693,58.46875,62.33],\"y\":[55.23076923076923,55.583333333333336,43.95],\"type\":\"scatter\"}],                        {\"template\":{\"data\":{\"histogram2dcontour\":[{\"type\":\"histogram2dcontour\",\"colorbar\":{\"outlinewidth\":0,\"ticks\":\"\"},\"colorscale\":[[0.0,\"#0d0887\"],[0.1111111111111111,\"#46039f\"],[0.2222222222222222,\"#7201a8\"],[0.3333333333333333,\"#9c179e\"],[0.4444444444444444,\"#bd3786\"],[0.5555555555555556,\"#d8576b\"],[0.6666666666666666,\"#ed7953\"],[0.7777777777777778,\"#fb9f3a\"],[0.8888888888888888,\"#fdca26\"],[1.0,\"#f0f921\"]]}],\"choropleth\":[{\"type\":\"choropleth\",\"colorbar\":{\"outlinewidth\":0,\"ticks\":\"\"}}],\"histogram2d\":[{\"type\":\"histogram2d\",\"colorbar\":{\"outlinewidth\":0,\"ticks\":\"\"},\"colorscale\":[[0.0,\"#0d0887\"],[0.1111111111111111,\"#46039f\"],[0.2222222222222222,\"#7201a8\"],[0.3333333333333333,\"#9c179e\"],[0.4444444444444444,\"#bd3786\"],[0.5555555555555556,\"#d8576b\"],[0.6666666666666666,\"#ed7953\"],[0.7777777777777778,\"#fb9f3a\"],[0.8888888888888888,\"#fdca26\"],[1.0,\"#f0f921\"]]}],\"heatmap\":[{\"type\":\"heatmap\",\"colorbar\":{\"outlinewidth\":0,\"ticks\":\"\"},\"colorscale\":[[0.0,\"#0d0887\"],[0.1111111111111111,\"#46039f\"],[0.2222222222222222,\"#7201a8\"],[0.3333333333333333,\"#9c179e\"],[0.4444444444444444,\"#bd3786\"],[0.5555555555555556,\"#d8576b\"],[0.6666666666666666,\"#ed7953\"],[0.7777777777777778,\"#fb9f3a\"],[0.8888888888888888,\"#fdca26\"],[1.0,\"#f0f921\"]]}],\"heatmapgl\":[{\"type\":\"heatmapgl\",\"colorbar\":{\"outlinewidth\":0,\"ticks\":\"\"},\"colorscale\":[[0.0,\"#0d0887\"],[0.1111111111111111,\"#46039f\"],[0.2222222222222222,\"#7201a8\"],[0.3333333333333333,\"#9c179e\"],[0.4444444444444444,\"#bd3786\"],[0.5555555555555556,\"#d8576b\"],[0.6666666666666666,\"#ed7953\"],[0.7777777777777778,\"#fb9f3a\"],[0.8888888888888888,\"#fdca26\"],[1.0,\"#f0f921\"]]}],\"contourcarpet\":[{\"type\":\"contourcarpet\",\"colorbar\":{\"outlinewidth\":0,\"ticks\":\"\"}}],\"contour\":[{\"type\":\"contour\",\"colorbar\":{\"outlinewidth\":0,\"ticks\":\"\"},\"colorscale\":[[0.0,\"#0d0887\"],[0.1111111111111111,\"#46039f\"],[0.2222222222222222,\"#7201a8\"],[0.3333333333333333,\"#9c179e\"],[0.4444444444444444,\"#bd3786\"],[0.5555555555555556,\"#d8576b\"],[0.6666666666666666,\"#ed7953\"],[0.7777777777777778,\"#fb9f3a\"],[0.8888888888888888,\"#fdca26\"],[1.0,\"#f0f921\"]]}],\"surface\":[{\"type\":\"surface\",\"colorbar\":{\"outlinewidth\":0,\"ticks\":\"\"},\"colorscale\":[[0.0,\"#0d0887\"],[0.1111111111111111,\"#46039f\"],[0.2222222222222222,\"#7201a8\"],[0.3333333333333333,\"#9c179e\"],[0.4444444444444444,\"#bd3786\"],[0.5555555555555556,\"#d8576b\"],[0.6666666666666666,\"#ed7953\"],[0.7777777777777778,\"#fb9f3a\"],[0.8888888888888888,\"#fdca26\"],[1.0,\"#f0f921\"]]}],\"mesh3d\":[{\"type\":\"mesh3d\",\"colorbar\":{\"outlinewidth\":0,\"ticks\":\"\"}}],\"scatter\":[{\"fillpattern\":{\"fillmode\":\"overlay\",\"size\":10,\"solidity\":0.2},\"type\":\"scatter\"}],\"parcoords\":[{\"type\":\"parcoords\",\"line\":{\"colorbar\":{\"outlinewidth\":0,\"ticks\":\"\"}}}],\"scatterpolargl\":[{\"type\":\"scatterpolargl\",\"marker\":{\"colorbar\":{\"outlinewidth\":0,\"ticks\":\"\"}}}],\"bar\":[{\"error_x\":{\"color\":\"#2a3f5f\"},\"error_y\":{\"color\":\"#2a3f5f\"},\"marker\":{\"line\":{\"color\":\"#E5ECF6\",\"width\":0.5},\"pattern\":{\"fillmode\":\"overlay\",\"size\":10,\"solidity\":0.2}},\"type\":\"bar\"}],\"scattergeo\":[{\"type\":\"scattergeo\",\"marker\":{\"colorbar\":{\"outlinewidth\":0,\"ticks\":\"\"}}}],\"scatterpolar\":[{\"type\":\"scatterpolar\",\"marker\":{\"colorbar\":{\"outlinewidth\":0,\"ticks\":\"\"}}}],\"histogram\":[{\"marker\":{\"pattern\":{\"fillmode\":\"overlay\",\"size\":10,\"solidity\":0.2}},\"type\":\"histogram\"}],\"scattergl\":[{\"type\":\"scattergl\",\"marker\":{\"colorbar\":{\"outlinewidth\":0,\"ticks\":\"\"}}}],\"scatter3d\":[{\"type\":\"scatter3d\",\"line\":{\"colorbar\":{\"outlinewidth\":0,\"ticks\":\"\"}},\"marker\":{\"colorbar\":{\"outlinewidth\":0,\"ticks\":\"\"}}}],\"scattermapbox\":[{\"type\":\"scattermapbox\",\"marker\":{\"colorbar\":{\"outlinewidth\":0,\"ticks\":\"\"}}}],\"scatterternary\":[{\"type\":\"scatterternary\",\"marker\":{\"colorbar\":{\"outlinewidth\":0,\"ticks\":\"\"}}}],\"scattercarpet\":[{\"type\":\"scattercarpet\",\"marker\":{\"colorbar\":{\"outlinewidth\":0,\"ticks\":\"\"}}}],\"carpet\":[{\"aaxis\":{\"endlinecolor\":\"#2a3f5f\",\"gridcolor\":\"white\",\"linecolor\":\"white\",\"minorgridcolor\":\"white\",\"startlinecolor\":\"#2a3f5f\"},\"baxis\":{\"endlinecolor\":\"#2a3f5f\",\"gridcolor\":\"white\",\"linecolor\":\"white\",\"minorgridcolor\":\"white\",\"startlinecolor\":\"#2a3f5f\"},\"type\":\"carpet\"}],\"table\":[{\"cells\":{\"fill\":{\"color\":\"#EBF0F8\"},\"line\":{\"color\":\"white\"}},\"header\":{\"fill\":{\"color\":\"#C8D4E3\"},\"line\":{\"color\":\"white\"}},\"type\":\"table\"}],\"barpolar\":[{\"marker\":{\"line\":{\"color\":\"#E5ECF6\",\"width\":0.5},\"pattern\":{\"fillmode\":\"overlay\",\"size\":10,\"solidity\":0.2}},\"type\":\"barpolar\"}],\"pie\":[{\"automargin\":true,\"type\":\"pie\"}]},\"layout\":{\"autotypenumbers\":\"strict\",\"colorway\":[\"#636efa\",\"#EF553B\",\"#00cc96\",\"#ab63fa\",\"#FFA15A\",\"#19d3f3\",\"#FF6692\",\"#B6E880\",\"#FF97FF\",\"#FECB52\"],\"font\":{\"color\":\"#2a3f5f\"},\"hovermode\":\"closest\",\"hoverlabel\":{\"align\":\"left\"},\"paper_bgcolor\":\"white\",\"plot_bgcolor\":\"#E5ECF6\",\"polar\":{\"bgcolor\":\"#E5ECF6\",\"angularaxis\":{\"gridcolor\":\"white\",\"linecolor\":\"white\",\"ticks\":\"\"},\"radialaxis\":{\"gridcolor\":\"white\",\"linecolor\":\"white\",\"ticks\":\"\"}},\"ternary\":{\"bgcolor\":\"#E5ECF6\",\"aaxis\":{\"gridcolor\":\"white\",\"linecolor\":\"white\",\"ticks\":\"\"},\"baxis\":{\"gridcolor\":\"white\",\"linecolor\":\"white\",\"ticks\":\"\"},\"caxis\":{\"gridcolor\":\"white\",\"linecolor\":\"white\",\"ticks\":\"\"}},\"coloraxis\":{\"colorbar\":{\"outlinewidth\":0,\"ticks\":\"\"}},\"colorscale\":{\"sequential\":[[0.0,\"#0d0887\"],[0.1111111111111111,\"#46039f\"],[0.2222222222222222,\"#7201a8\"],[0.3333333333333333,\"#9c179e\"],[0.4444444444444444,\"#bd3786\"],[0.5555555555555556,\"#d8576b\"],[0.6666666666666666,\"#ed7953\"],[0.7777777777777778,\"#fb9f3a\"],[0.8888888888888888,\"#fdca26\"],[1.0,\"#f0f921\"]],\"sequentialminus\":[[0.0,\"#0d0887\"],[0.1111111111111111,\"#46039f\"],[0.2222222222222222,\"#7201a8\"],[0.3333333333333333,\"#9c179e\"],[0.4444444444444444,\"#bd3786\"],[0.5555555555555556,\"#d8576b\"],[0.6666666666666666,\"#ed7953\"],[0.7777777777777778,\"#fb9f3a\"],[0.8888888888888888,\"#fdca26\"],[1.0,\"#f0f921\"]],\"diverging\":[[0,\"#8e0152\"],[0.1,\"#c51b7d\"],[0.2,\"#de77ae\"],[0.3,\"#f1b6da\"],[0.4,\"#fde0ef\"],[0.5,\"#f7f7f7\"],[0.6,\"#e6f5d0\"],[0.7,\"#b8e186\"],[0.8,\"#7fbc41\"],[0.9,\"#4d9221\"],[1,\"#276419\"]]},\"xaxis\":{\"gridcolor\":\"white\",\"linecolor\":\"white\",\"ticks\":\"\",\"title\":{\"standoff\":15},\"zerolinecolor\":\"white\",\"automargin\":true,\"zerolinewidth\":2},\"yaxis\":{\"gridcolor\":\"white\",\"linecolor\":\"white\",\"ticks\":\"\",\"title\":{\"standoff\":15},\"zerolinecolor\":\"white\",\"automargin\":true,\"zerolinewidth\":2},\"scene\":{\"xaxis\":{\"backgroundcolor\":\"#E5ECF6\",\"gridcolor\":\"white\",\"linecolor\":\"white\",\"showbackground\":true,\"ticks\":\"\",\"zerolinecolor\":\"white\",\"gridwidth\":2},\"yaxis\":{\"backgroundcolor\":\"#E5ECF6\",\"gridcolor\":\"white\",\"linecolor\":\"white\",\"showbackground\":true,\"ticks\":\"\",\"zerolinecolor\":\"white\",\"gridwidth\":2},\"zaxis\":{\"backgroundcolor\":\"#E5ECF6\",\"gridcolor\":\"white\",\"linecolor\":\"white\",\"showbackground\":true,\"ticks\":\"\",\"zerolinecolor\":\"white\",\"gridwidth\":2}},\"shapedefaults\":{\"line\":{\"color\":\"#2a3f5f\"}},\"annotationdefaults\":{\"arrowcolor\":\"#2a3f5f\",\"arrowhead\":0,\"arrowwidth\":1},\"geo\":{\"bgcolor\":\"white\",\"landcolor\":\"#E5ECF6\",\"subunitcolor\":\"white\",\"showland\":true,\"showlakes\":true,\"lakecolor\":\"white\"},\"title\":{\"x\":0.05},\"mapbox\":{\"style\":\"light\"}}},\"xaxis\":{\"anchor\":\"y\",\"domain\":[0.0,1.0],\"title\":{\"text\":\"Feature_1\"}},\"yaxis\":{\"anchor\":\"x\",\"domain\":[0.0,1.0],\"title\":{\"text\":\"Feature_2\"}},\"coloraxis\":{\"colorbar\":{\"title\":{\"text\":\"Cluster\"}},\"colorscale\":[[0.0,\"#0d0887\"],[0.1111111111111111,\"#46039f\"],[0.2222222222222222,\"#7201a8\"],[0.3333333333333333,\"#9c179e\"],[0.4444444444444444,\"#bd3786\"],[0.5555555555555556,\"#d8576b\"],[0.6666666666666666,\"#ed7953\"],[0.7777777777777778,\"#fb9f3a\"],[0.8888888888888888,\"#fdca26\"],[1.0,\"#f0f921\"]]},\"legend\":{\"tracegroupgap\":0},\"title\":{\"text\":\"K-Means Clustering (2D) - Iteration 3\"}},                        {\"responsive\": true}                    ).then(function(){\n",
       "                            \n",
       "var gd = document.getElementById('5509d0e5-5d50-40b8-91a0-be1654ab3ce6');\n",
       "var x = new MutationObserver(function (mutations, observer) {{\n",
       "        var display = window.getComputedStyle(gd).display;\n",
       "        if (!display || display === 'none') {{\n",
       "            console.log([gd, 'removed!']);\n",
       "            Plotly.purge(gd);\n",
       "            observer.disconnect();\n",
       "        }}\n",
       "}});\n",
       "\n",
       "// Listen for the removal of the full notebook cells\n",
       "var notebookContainer = gd.closest('#notebook-container');\n",
       "if (notebookContainer) {{\n",
       "    x.observe(notebookContainer, {childList: true});\n",
       "}}\n",
       "\n",
       "// Listen for the clearing of the current output cell\n",
       "var outputEl = gd.closest('.output');\n",
       "if (outputEl) {{\n",
       "    x.observe(outputEl, {childList: true});\n",
       "}}\n",
       "\n",
       "                        })                };                });            </script>        </div>"
      ]
     },
     "metadata": {},
     "output_type": "display_data"
    },
    {
     "data": {
      "application/vnd.plotly.v1+json": {
       "config": {
        "plotlyServerURL": "https://plot.ly"
       },
       "data": [
        {
         "hovertemplate": "Feature_1=%{x}<br>Feature_2=%{y}<br>Cluster=%{marker.color}<extra></extra>",
         "legendgroup": "",
         "marker": {
          "color": [
           2,
           0,
           1,
           2,
           2,
           2,
           1,
           1,
           2,
           1,
           1,
           1,
           1,
           2,
           0,
           2,
           0,
           0,
           2,
           1,
           2,
           0,
           2,
           0,
           0,
           2,
           0,
           2,
           2,
           2,
           1,
           1,
           2,
           0,
           0,
           1,
           0,
           2,
           0,
           2,
           1,
           1,
           1,
           2,
           2,
           0,
           1,
           0,
           0,
           2,
           1,
           0,
           1,
           1,
           0,
           2,
           0,
           0,
           1,
           1,
           1,
           1,
           2,
           1,
           2,
           0,
           0,
           1,
           1,
           2,
           1,
           1,
           2,
           1,
           2,
           2,
           1,
           2,
           0,
           0,
           0,
           0,
           0,
           1,
           2,
           1,
           1,
           0,
           2,
           1,
           1,
           2,
           2,
           0,
           1,
           0,
           0,
           2,
           1,
           1,
           2,
           0,
           2,
           1,
           0,
           0,
           2,
           0,
           1,
           0,
           0,
           0,
           2,
           0,
           0,
           2,
           2,
           0,
           2,
           0,
           0,
           0,
           1,
           1,
           1,
           2,
           0,
           2,
           2,
           2,
           0,
           0,
           2,
           2,
           1,
           2,
           1,
           0,
           1,
           1,
           2,
           0,
           1,
           0,
           2,
           1,
           0,
           0,
           2,
           0,
           0,
           0,
           2,
           2,
           2,
           1,
           0,
           2,
           0,
           2,
           2,
           2,
           1,
           1,
           2,
           2,
           0,
           1,
           0,
           1,
           0,
           2,
           0,
           1,
           2,
           0,
           1,
           1,
           1,
           2,
           2,
           0,
           0,
           2,
           1,
           2,
           0,
           2,
           0,
           0,
           2,
           0,
           0,
           1,
           0,
           1,
           2,
           1,
           0,
           1,
           0,
           2,
           0,
           2,
           1,
           2,
           0,
           0,
           1,
           2,
           2,
           1,
           2,
           1,
           2,
           1,
           1,
           0,
           2,
           2,
           0,
           1,
           2,
           1,
           2,
           0,
           1,
           1,
           0,
           0,
           0,
           0,
           1,
           1,
           1,
           1,
           0,
           0,
           2,
           2,
           2,
           2,
           1,
           1,
           2,
           0,
           2,
           1,
           0,
           2,
           1,
           0,
           2,
           0,
           2,
           1,
           2,
           2,
           0,
           0,
           0,
           1,
           0,
           0,
           0,
           1,
           0,
           2,
           2,
           0,
           1,
           0,
           1,
           1,
           1,
           1,
           2,
           1,
           0,
           2,
           0,
           2,
           2,
           1,
           2,
           1,
           0,
           0,
           1,
           1,
           0,
           2,
           2,
           0,
           2,
           0,
           1,
           1,
           1,
           0
          ],
          "coloraxis": "coloraxis",
          "opacity": 0.8,
          "symbol": "circle"
         },
         "mode": "markers",
         "name": "",
         "orientation": "v",
         "showlegend": false,
         "type": "scatter",
         "x": [
          19,
          22,
          98,
          54,
          38,
          93,
          83,
          80,
          93,
          16,
          58,
          80,
          77,
          50,
          11,
          7,
          39,
          76,
          78,
          99,
          62,
          17,
          78,
          64,
          30,
          93,
          55,
          45,
          98,
          80,
          93,
          97,
          59,
          6,
          38,
          87,
          34,
          49,
          21,
          88,
          52,
          76,
          75,
          90,
          96,
          32,
          81,
          24,
          5,
          74,
          33,
          20,
          83,
          56,
          25,
          88,
          36,
          16,
          59,
          55,
          66,
          62,
          30,
          78,
          44,
          72,
          24,
          77,
          8,
          45,
          92,
          89,
          73,
          28,
          12,
          96,
          56,
          97,
          9,
          10,
          21,
          6,
          31,
          54,
          26,
          7,
          15,
          31,
          25,
          19,
          73,
          55,
          59,
          21,
          72,
          46,
          16,
          91,
          12,
          39,
          50,
          43,
          66,
          82,
          45,
          27,
          81,
          52,
          53,
          60,
          66,
          10,
          90,
          52,
          41,
          50,
          80,
          80,
          33,
          29,
          52,
          22,
          79,
          37,
          48,
          70,
          18,
          30,
          17,
          87,
          13,
          16,
          69,
          71,
          10,
          88,
          19,
          5,
          64,
          24,
          75,
          41,
          63,
          45,
          57,
          69,
          5,
          14,
          97,
          24,
          8,
          24,
          65,
          32,
          81,
          67,
          9,
          50,
          11,
          57,
          79,
          44,
          72,
          47,
          68,
          21,
          24,
          39,
          14,
          60,
          14,
          77,
          44,
          92,
          68,
          20,
          79,
          67,
          89,
          41,
          38,
          27,
          54,
          78,
          22,
          39,
          17,
          83,
          57,
          39,
          77,
          36,
          38,
          97,
          7,
          95,
          11,
          96,
          12,
          58,
          15,
          94,
          19,
          88,
          28,
          93,
          82,
          39,
          58,
          46,
          39,
          31,
          58,
          68,
          93,
          75,
          61,
          35,
          91,
          91,
          37,
          15,
          50,
          38,
          74,
          98,
          16,
          48,
          67,
          55,
          43,
          29,
          92,
          57,
          48,
          28,
          15,
          11,
          95,
          52,
          39,
          43,
          52,
          49,
          50,
          9,
          8,
          46,
          19,
          82,
          17,
          8,
          57,
          35,
          86,
          79,
          79,
          61,
          48,
          16,
          46,
          47,
          49,
          51,
          9,
          64,
          59,
          46,
          63,
          63,
          46,
          30,
          45,
          58,
          91,
          30,
          92,
          10,
          14,
          22,
          10,
          28,
          52,
          58,
          69,
          87,
          16,
          16,
          70,
          98,
          28,
          52,
          47,
          30,
          88,
          19,
          33,
          65,
          92,
          25
         ],
         "xaxis": "x",
         "y": [
          38,
          21,
          77,
          82,
          63,
          49,
          57,
          66,
          61,
          75,
          89,
          46,
          42,
          10,
          82,
          47,
          31,
          48,
          57,
          40,
          21,
          90,
          22,
          35,
          89,
          44,
          36,
          83,
          43,
          84,
          12,
          29,
          7,
          49,
          86,
          80,
          9,
          11,
          64,
          54,
          62,
          68,
          18,
          60,
          53,
          76,
          58,
          40,
          12,
          18,
          27,
          15,
          72,
          32,
          8,
          42,
          44,
          20,
          83,
          60,
          96,
          82,
          73,
          99,
          17,
          17,
          38,
          54,
          11,
          24,
          10,
          15,
          40,
          56,
          59,
          62,
          67,
          68,
          99,
          77,
          62,
          61,
          54,
          57,
          20,
          53,
          5,
          90,
          62,
          46,
          58,
          60,
          44,
          32,
          78,
          6,
          41,
          7,
          35,
          34,
          40,
          63,
          30,
          64,
          76,
          89,
          43,
          95,
          49,
          62,
          97,
          82,
          12,
          52,
          89,
          76,
          6,
          67,
          23,
          68,
          11,
          54,
          75,
          23,
          84,
          8,
          42,
          29,
          63,
          22,
          68,
          78,
          26,
          75,
          91,
          73,
          59,
          58,
          21,
          6,
          84,
          6,
          61,
          28,
          16,
          82,
          54,
          33,
          35,
          20,
          48,
          81,
          11,
          65,
          49,
          99,
          80,
          81,
          94,
          57,
          69,
          9,
          57,
          57,
          19,
          23,
          78,
          49,
          64,
          45,
          17,
          9,
          45,
          48,
          17,
          49,
          28,
          89,
          23,
          22,
          94,
          51,
          31,
          48,
          30,
          42,
          81,
          26,
          91,
          70,
          76,
          99,
          82,
          59,
          95,
          65,
          39,
          10,
          34,
          9,
          82,
          10,
          5,
          27,
          48,
          24,
          75,
          91,
          32,
          38,
          26,
          77,
          18,
          85,
          88,
          86,
          71,
          65,
          7,
          96,
          69,
          16,
          64,
          66,
          61,
          27,
          94,
          52,
          93,
          96,
          33,
          56,
          69,
          71,
          45,
          62,
          42,
          69,
          69,
          76,
          57,
          37,
          64,
          17,
          12,
          85,
          96,
          74,
          93,
          20,
          66,
          55,
          78,
          91,
          43,
          34,
          56,
          21,
          32,
          38,
          45,
          40,
          10,
          27,
          95,
          93,
          16,
          79,
          52,
          59,
          25,
          75,
          52,
          39,
          90,
          67,
          21,
          86,
          65,
          51,
          21,
          8,
          21,
          76,
          73,
          99,
          35,
          51,
          16,
          74,
          42,
          38,
          30,
          14,
          96,
          70,
          98,
          37,
          83,
          8
         ],
         "yaxis": "y"
        },
        {
         "marker": {
          "color": "red",
          "size": 10,
          "symbol": "diamond"
         },
         "mode": "markers",
         "name": "Centroids",
         "type": "scatter",
         "x": [
          30.942307692307693,
          58.46875,
          62.33
         ],
         "y": [
          55.23076923076923,
          55.583333333333336,
          43.95
         ]
        }
       ],
       "layout": {
        "coloraxis": {
         "colorbar": {
          "title": {
           "text": "Cluster"
          }
         },
         "colorscale": [
          [
           0,
           "#0d0887"
          ],
          [
           0.1111111111111111,
           "#46039f"
          ],
          [
           0.2222222222222222,
           "#7201a8"
          ],
          [
           0.3333333333333333,
           "#9c179e"
          ],
          [
           0.4444444444444444,
           "#bd3786"
          ],
          [
           0.5555555555555556,
           "#d8576b"
          ],
          [
           0.6666666666666666,
           "#ed7953"
          ],
          [
           0.7777777777777778,
           "#fb9f3a"
          ],
          [
           0.8888888888888888,
           "#fdca26"
          ],
          [
           1,
           "#f0f921"
          ]
         ]
        },
        "legend": {
         "tracegroupgap": 0
        },
        "template": {
         "data": {
          "bar": [
           {
            "error_x": {
             "color": "#2a3f5f"
            },
            "error_y": {
             "color": "#2a3f5f"
            },
            "marker": {
             "line": {
              "color": "#E5ECF6",
              "width": 0.5
             },
             "pattern": {
              "fillmode": "overlay",
              "size": 10,
              "solidity": 0.2
             }
            },
            "type": "bar"
           }
          ],
          "barpolar": [
           {
            "marker": {
             "line": {
              "color": "#E5ECF6",
              "width": 0.5
             },
             "pattern": {
              "fillmode": "overlay",
              "size": 10,
              "solidity": 0.2
             }
            },
            "type": "barpolar"
           }
          ],
          "carpet": [
           {
            "aaxis": {
             "endlinecolor": "#2a3f5f",
             "gridcolor": "white",
             "linecolor": "white",
             "minorgridcolor": "white",
             "startlinecolor": "#2a3f5f"
            },
            "baxis": {
             "endlinecolor": "#2a3f5f",
             "gridcolor": "white",
             "linecolor": "white",
             "minorgridcolor": "white",
             "startlinecolor": "#2a3f5f"
            },
            "type": "carpet"
           }
          ],
          "choropleth": [
           {
            "colorbar": {
             "outlinewidth": 0,
             "ticks": ""
            },
            "type": "choropleth"
           }
          ],
          "contour": [
           {
            "colorbar": {
             "outlinewidth": 0,
             "ticks": ""
            },
            "colorscale": [
             [
              0,
              "#0d0887"
             ],
             [
              0.1111111111111111,
              "#46039f"
             ],
             [
              0.2222222222222222,
              "#7201a8"
             ],
             [
              0.3333333333333333,
              "#9c179e"
             ],
             [
              0.4444444444444444,
              "#bd3786"
             ],
             [
              0.5555555555555556,
              "#d8576b"
             ],
             [
              0.6666666666666666,
              "#ed7953"
             ],
             [
              0.7777777777777778,
              "#fb9f3a"
             ],
             [
              0.8888888888888888,
              "#fdca26"
             ],
             [
              1,
              "#f0f921"
             ]
            ],
            "type": "contour"
           }
          ],
          "contourcarpet": [
           {
            "colorbar": {
             "outlinewidth": 0,
             "ticks": ""
            },
            "type": "contourcarpet"
           }
          ],
          "heatmap": [
           {
            "colorbar": {
             "outlinewidth": 0,
             "ticks": ""
            },
            "colorscale": [
             [
              0,
              "#0d0887"
             ],
             [
              0.1111111111111111,
              "#46039f"
             ],
             [
              0.2222222222222222,
              "#7201a8"
             ],
             [
              0.3333333333333333,
              "#9c179e"
             ],
             [
              0.4444444444444444,
              "#bd3786"
             ],
             [
              0.5555555555555556,
              "#d8576b"
             ],
             [
              0.6666666666666666,
              "#ed7953"
             ],
             [
              0.7777777777777778,
              "#fb9f3a"
             ],
             [
              0.8888888888888888,
              "#fdca26"
             ],
             [
              1,
              "#f0f921"
             ]
            ],
            "type": "heatmap"
           }
          ],
          "heatmapgl": [
           {
            "colorbar": {
             "outlinewidth": 0,
             "ticks": ""
            },
            "colorscale": [
             [
              0,
              "#0d0887"
             ],
             [
              0.1111111111111111,
              "#46039f"
             ],
             [
              0.2222222222222222,
              "#7201a8"
             ],
             [
              0.3333333333333333,
              "#9c179e"
             ],
             [
              0.4444444444444444,
              "#bd3786"
             ],
             [
              0.5555555555555556,
              "#d8576b"
             ],
             [
              0.6666666666666666,
              "#ed7953"
             ],
             [
              0.7777777777777778,
              "#fb9f3a"
             ],
             [
              0.8888888888888888,
              "#fdca26"
             ],
             [
              1,
              "#f0f921"
             ]
            ],
            "type": "heatmapgl"
           }
          ],
          "histogram": [
           {
            "marker": {
             "pattern": {
              "fillmode": "overlay",
              "size": 10,
              "solidity": 0.2
             }
            },
            "type": "histogram"
           }
          ],
          "histogram2d": [
           {
            "colorbar": {
             "outlinewidth": 0,
             "ticks": ""
            },
            "colorscale": [
             [
              0,
              "#0d0887"
             ],
             [
              0.1111111111111111,
              "#46039f"
             ],
             [
              0.2222222222222222,
              "#7201a8"
             ],
             [
              0.3333333333333333,
              "#9c179e"
             ],
             [
              0.4444444444444444,
              "#bd3786"
             ],
             [
              0.5555555555555556,
              "#d8576b"
             ],
             [
              0.6666666666666666,
              "#ed7953"
             ],
             [
              0.7777777777777778,
              "#fb9f3a"
             ],
             [
              0.8888888888888888,
              "#fdca26"
             ],
             [
              1,
              "#f0f921"
             ]
            ],
            "type": "histogram2d"
           }
          ],
          "histogram2dcontour": [
           {
            "colorbar": {
             "outlinewidth": 0,
             "ticks": ""
            },
            "colorscale": [
             [
              0,
              "#0d0887"
             ],
             [
              0.1111111111111111,
              "#46039f"
             ],
             [
              0.2222222222222222,
              "#7201a8"
             ],
             [
              0.3333333333333333,
              "#9c179e"
             ],
             [
              0.4444444444444444,
              "#bd3786"
             ],
             [
              0.5555555555555556,
              "#d8576b"
             ],
             [
              0.6666666666666666,
              "#ed7953"
             ],
             [
              0.7777777777777778,
              "#fb9f3a"
             ],
             [
              0.8888888888888888,
              "#fdca26"
             ],
             [
              1,
              "#f0f921"
             ]
            ],
            "type": "histogram2dcontour"
           }
          ],
          "mesh3d": [
           {
            "colorbar": {
             "outlinewidth": 0,
             "ticks": ""
            },
            "type": "mesh3d"
           }
          ],
          "parcoords": [
           {
            "line": {
             "colorbar": {
              "outlinewidth": 0,
              "ticks": ""
             }
            },
            "type": "parcoords"
           }
          ],
          "pie": [
           {
            "automargin": true,
            "type": "pie"
           }
          ],
          "scatter": [
           {
            "fillpattern": {
             "fillmode": "overlay",
             "size": 10,
             "solidity": 0.2
            },
            "type": "scatter"
           }
          ],
          "scatter3d": [
           {
            "line": {
             "colorbar": {
              "outlinewidth": 0,
              "ticks": ""
             }
            },
            "marker": {
             "colorbar": {
              "outlinewidth": 0,
              "ticks": ""
             }
            },
            "type": "scatter3d"
           }
          ],
          "scattercarpet": [
           {
            "marker": {
             "colorbar": {
              "outlinewidth": 0,
              "ticks": ""
             }
            },
            "type": "scattercarpet"
           }
          ],
          "scattergeo": [
           {
            "marker": {
             "colorbar": {
              "outlinewidth": 0,
              "ticks": ""
             }
            },
            "type": "scattergeo"
           }
          ],
          "scattergl": [
           {
            "marker": {
             "colorbar": {
              "outlinewidth": 0,
              "ticks": ""
             }
            },
            "type": "scattergl"
           }
          ],
          "scattermapbox": [
           {
            "marker": {
             "colorbar": {
              "outlinewidth": 0,
              "ticks": ""
             }
            },
            "type": "scattermapbox"
           }
          ],
          "scatterpolar": [
           {
            "marker": {
             "colorbar": {
              "outlinewidth": 0,
              "ticks": ""
             }
            },
            "type": "scatterpolar"
           }
          ],
          "scatterpolargl": [
           {
            "marker": {
             "colorbar": {
              "outlinewidth": 0,
              "ticks": ""
             }
            },
            "type": "scatterpolargl"
           }
          ],
          "scatterternary": [
           {
            "marker": {
             "colorbar": {
              "outlinewidth": 0,
              "ticks": ""
             }
            },
            "type": "scatterternary"
           }
          ],
          "surface": [
           {
            "colorbar": {
             "outlinewidth": 0,
             "ticks": ""
            },
            "colorscale": [
             [
              0,
              "#0d0887"
             ],
             [
              0.1111111111111111,
              "#46039f"
             ],
             [
              0.2222222222222222,
              "#7201a8"
             ],
             [
              0.3333333333333333,
              "#9c179e"
             ],
             [
              0.4444444444444444,
              "#bd3786"
             ],
             [
              0.5555555555555556,
              "#d8576b"
             ],
             [
              0.6666666666666666,
              "#ed7953"
             ],
             [
              0.7777777777777778,
              "#fb9f3a"
             ],
             [
              0.8888888888888888,
              "#fdca26"
             ],
             [
              1,
              "#f0f921"
             ]
            ],
            "type": "surface"
           }
          ],
          "table": [
           {
            "cells": {
             "fill": {
              "color": "#EBF0F8"
             },
             "line": {
              "color": "white"
             }
            },
            "header": {
             "fill": {
              "color": "#C8D4E3"
             },
             "line": {
              "color": "white"
             }
            },
            "type": "table"
           }
          ]
         },
         "layout": {
          "annotationdefaults": {
           "arrowcolor": "#2a3f5f",
           "arrowhead": 0,
           "arrowwidth": 1
          },
          "autotypenumbers": "strict",
          "coloraxis": {
           "colorbar": {
            "outlinewidth": 0,
            "ticks": ""
           }
          },
          "colorscale": {
           "diverging": [
            [
             0,
             "#8e0152"
            ],
            [
             0.1,
             "#c51b7d"
            ],
            [
             0.2,
             "#de77ae"
            ],
            [
             0.3,
             "#f1b6da"
            ],
            [
             0.4,
             "#fde0ef"
            ],
            [
             0.5,
             "#f7f7f7"
            ],
            [
             0.6,
             "#e6f5d0"
            ],
            [
             0.7,
             "#b8e186"
            ],
            [
             0.8,
             "#7fbc41"
            ],
            [
             0.9,
             "#4d9221"
            ],
            [
             1,
             "#276419"
            ]
           ],
           "sequential": [
            [
             0,
             "#0d0887"
            ],
            [
             0.1111111111111111,
             "#46039f"
            ],
            [
             0.2222222222222222,
             "#7201a8"
            ],
            [
             0.3333333333333333,
             "#9c179e"
            ],
            [
             0.4444444444444444,
             "#bd3786"
            ],
            [
             0.5555555555555556,
             "#d8576b"
            ],
            [
             0.6666666666666666,
             "#ed7953"
            ],
            [
             0.7777777777777778,
             "#fb9f3a"
            ],
            [
             0.8888888888888888,
             "#fdca26"
            ],
            [
             1,
             "#f0f921"
            ]
           ],
           "sequentialminus": [
            [
             0,
             "#0d0887"
            ],
            [
             0.1111111111111111,
             "#46039f"
            ],
            [
             0.2222222222222222,
             "#7201a8"
            ],
            [
             0.3333333333333333,
             "#9c179e"
            ],
            [
             0.4444444444444444,
             "#bd3786"
            ],
            [
             0.5555555555555556,
             "#d8576b"
            ],
            [
             0.6666666666666666,
             "#ed7953"
            ],
            [
             0.7777777777777778,
             "#fb9f3a"
            ],
            [
             0.8888888888888888,
             "#fdca26"
            ],
            [
             1,
             "#f0f921"
            ]
           ]
          },
          "colorway": [
           "#636efa",
           "#EF553B",
           "#00cc96",
           "#ab63fa",
           "#FFA15A",
           "#19d3f3",
           "#FF6692",
           "#B6E880",
           "#FF97FF",
           "#FECB52"
          ],
          "font": {
           "color": "#2a3f5f"
          },
          "geo": {
           "bgcolor": "white",
           "lakecolor": "white",
           "landcolor": "#E5ECF6",
           "showlakes": true,
           "showland": true,
           "subunitcolor": "white"
          },
          "hoverlabel": {
           "align": "left"
          },
          "hovermode": "closest",
          "mapbox": {
           "style": "light"
          },
          "paper_bgcolor": "white",
          "plot_bgcolor": "#E5ECF6",
          "polar": {
           "angularaxis": {
            "gridcolor": "white",
            "linecolor": "white",
            "ticks": ""
           },
           "bgcolor": "#E5ECF6",
           "radialaxis": {
            "gridcolor": "white",
            "linecolor": "white",
            "ticks": ""
           }
          },
          "scene": {
           "xaxis": {
            "backgroundcolor": "#E5ECF6",
            "gridcolor": "white",
            "gridwidth": 2,
            "linecolor": "white",
            "showbackground": true,
            "ticks": "",
            "zerolinecolor": "white"
           },
           "yaxis": {
            "backgroundcolor": "#E5ECF6",
            "gridcolor": "white",
            "gridwidth": 2,
            "linecolor": "white",
            "showbackground": true,
            "ticks": "",
            "zerolinecolor": "white"
           },
           "zaxis": {
            "backgroundcolor": "#E5ECF6",
            "gridcolor": "white",
            "gridwidth": 2,
            "linecolor": "white",
            "showbackground": true,
            "ticks": "",
            "zerolinecolor": "white"
           }
          },
          "shapedefaults": {
           "line": {
            "color": "#2a3f5f"
           }
          },
          "ternary": {
           "aaxis": {
            "gridcolor": "white",
            "linecolor": "white",
            "ticks": ""
           },
           "baxis": {
            "gridcolor": "white",
            "linecolor": "white",
            "ticks": ""
           },
           "bgcolor": "#E5ECF6",
           "caxis": {
            "gridcolor": "white",
            "linecolor": "white",
            "ticks": ""
           }
          },
          "title": {
           "x": 0.05
          },
          "xaxis": {
           "automargin": true,
           "gridcolor": "white",
           "linecolor": "white",
           "ticks": "",
           "title": {
            "standoff": 15
           },
           "zerolinecolor": "white",
           "zerolinewidth": 2
          },
          "yaxis": {
           "automargin": true,
           "gridcolor": "white",
           "linecolor": "white",
           "ticks": "",
           "title": {
            "standoff": 15
           },
           "zerolinecolor": "white",
           "zerolinewidth": 2
          }
         }
        },
        "title": {
         "text": "K-Means Clustering (2D) - Iteration 4"
        },
        "xaxis": {
         "anchor": "y",
         "domain": [
          0,
          1
         ],
         "title": {
          "text": "Feature_1"
         }
        },
        "yaxis": {
         "anchor": "x",
         "domain": [
          0,
          1
         ],
         "title": {
          "text": "Feature_2"
         }
        }
       }
      },
      "text/html": [
       "<div>                            <div id=\"cb7177b0-ed26-449d-b6e6-339ab5c9405a\" class=\"plotly-graph-div\" style=\"height:525px; width:100%;\"></div>            <script type=\"text/javascript\">                require([\"plotly\"], function(Plotly) {                    window.PLOTLYENV=window.PLOTLYENV || {};                                    if (document.getElementById(\"cb7177b0-ed26-449d-b6e6-339ab5c9405a\")) {                    Plotly.newPlot(                        \"cb7177b0-ed26-449d-b6e6-339ab5c9405a\",                        [{\"hovertemplate\":\"Feature_1=%{x}<br>Feature_2=%{y}<br>Cluster=%{marker.color}<extra></extra>\",\"legendgroup\":\"\",\"marker\":{\"color\":[2,0,1,2,2,2,1,1,2,1,1,1,1,2,0,2,0,0,2,1,2,0,2,0,0,2,0,2,2,2,1,1,2,0,0,1,0,2,0,2,1,1,1,2,2,0,1,0,0,2,1,0,1,1,0,2,0,0,1,1,1,1,2,1,2,0,0,1,1,2,1,1,2,1,2,2,1,2,0,0,0,0,0,1,2,1,1,0,2,1,1,2,2,0,1,0,0,2,1,1,2,0,2,1,0,0,2,0,1,0,0,0,2,0,0,2,2,0,2,0,0,0,1,1,1,2,0,2,2,2,0,0,2,2,1,2,1,0,1,1,2,0,1,0,2,1,0,0,2,0,0,0,2,2,2,1,0,2,0,2,2,2,1,1,2,2,0,1,0,1,0,2,0,1,2,0,1,1,1,2,2,0,0,2,1,2,0,2,0,0,2,0,0,1,0,1,2,1,0,1,0,2,0,2,1,2,0,0,1,2,2,1,2,1,2,1,1,0,2,2,0,1,2,1,2,0,1,1,0,0,0,0,1,1,1,1,0,0,2,2,2,2,1,1,2,0,2,1,0,2,1,0,2,0,2,1,2,2,0,0,0,1,0,0,0,1,0,2,2,0,1,0,1,1,1,1,2,1,0,2,0,2,2,1,2,1,0,0,1,1,0,2,2,0,2,0,1,1,1,0],\"coloraxis\":\"coloraxis\",\"opacity\":0.8,\"symbol\":\"circle\"},\"mode\":\"markers\",\"name\":\"\",\"orientation\":\"v\",\"showlegend\":false,\"x\":[19,22,98,54,38,93,83,80,93,16,58,80,77,50,11,7,39,76,78,99,62,17,78,64,30,93,55,45,98,80,93,97,59,6,38,87,34,49,21,88,52,76,75,90,96,32,81,24,5,74,33,20,83,56,25,88,36,16,59,55,66,62,30,78,44,72,24,77,8,45,92,89,73,28,12,96,56,97,9,10,21,6,31,54,26,7,15,31,25,19,73,55,59,21,72,46,16,91,12,39,50,43,66,82,45,27,81,52,53,60,66,10,90,52,41,50,80,80,33,29,52,22,79,37,48,70,18,30,17,87,13,16,69,71,10,88,19,5,64,24,75,41,63,45,57,69,5,14,97,24,8,24,65,32,81,67,9,50,11,57,79,44,72,47,68,21,24,39,14,60,14,77,44,92,68,20,79,67,89,41,38,27,54,78,22,39,17,83,57,39,77,36,38,97,7,95,11,96,12,58,15,94,19,88,28,93,82,39,58,46,39,31,58,68,93,75,61,35,91,91,37,15,50,38,74,98,16,48,67,55,43,29,92,57,48,28,15,11,95,52,39,43,52,49,50,9,8,46,19,82,17,8,57,35,86,79,79,61,48,16,46,47,49,51,9,64,59,46,63,63,46,30,45,58,91,30,92,10,14,22,10,28,52,58,69,87,16,16,70,98,28,52,47,30,88,19,33,65,92,25],\"xaxis\":\"x\",\"y\":[38,21,77,82,63,49,57,66,61,75,89,46,42,10,82,47,31,48,57,40,21,90,22,35,89,44,36,83,43,84,12,29,7,49,86,80,9,11,64,54,62,68,18,60,53,76,58,40,12,18,27,15,72,32,8,42,44,20,83,60,96,82,73,99,17,17,38,54,11,24,10,15,40,56,59,62,67,68,99,77,62,61,54,57,20,53,5,90,62,46,58,60,44,32,78,6,41,7,35,34,40,63,30,64,76,89,43,95,49,62,97,82,12,52,89,76,6,67,23,68,11,54,75,23,84,8,42,29,63,22,68,78,26,75,91,73,59,58,21,6,84,6,61,28,16,82,54,33,35,20,48,81,11,65,49,99,80,81,94,57,69,9,57,57,19,23,78,49,64,45,17,9,45,48,17,49,28,89,23,22,94,51,31,48,30,42,81,26,91,70,76,99,82,59,95,65,39,10,34,9,82,10,5,27,48,24,75,91,32,38,26,77,18,85,88,86,71,65,7,96,69,16,64,66,61,27,94,52,93,96,33,56,69,71,45,62,42,69,69,76,57,37,64,17,12,85,96,74,93,20,66,55,78,91,43,34,56,21,32,38,45,40,10,27,95,93,16,79,52,59,25,75,52,39,90,67,21,86,65,51,21,8,21,76,73,99,35,51,16,74,42,38,30,14,96,70,98,37,83,8],\"yaxis\":\"y\",\"type\":\"scatter\"},{\"marker\":{\"color\":\"red\",\"size\":10,\"symbol\":\"diamond\"},\"mode\":\"markers\",\"name\":\"Centroids\",\"x\":[30.942307692307693,58.46875,62.33],\"y\":[55.23076923076923,55.583333333333336,43.95],\"type\":\"scatter\"}],                        {\"template\":{\"data\":{\"histogram2dcontour\":[{\"type\":\"histogram2dcontour\",\"colorbar\":{\"outlinewidth\":0,\"ticks\":\"\"},\"colorscale\":[[0.0,\"#0d0887\"],[0.1111111111111111,\"#46039f\"],[0.2222222222222222,\"#7201a8\"],[0.3333333333333333,\"#9c179e\"],[0.4444444444444444,\"#bd3786\"],[0.5555555555555556,\"#d8576b\"],[0.6666666666666666,\"#ed7953\"],[0.7777777777777778,\"#fb9f3a\"],[0.8888888888888888,\"#fdca26\"],[1.0,\"#f0f921\"]]}],\"choropleth\":[{\"type\":\"choropleth\",\"colorbar\":{\"outlinewidth\":0,\"ticks\":\"\"}}],\"histogram2d\":[{\"type\":\"histogram2d\",\"colorbar\":{\"outlinewidth\":0,\"ticks\":\"\"},\"colorscale\":[[0.0,\"#0d0887\"],[0.1111111111111111,\"#46039f\"],[0.2222222222222222,\"#7201a8\"],[0.3333333333333333,\"#9c179e\"],[0.4444444444444444,\"#bd3786\"],[0.5555555555555556,\"#d8576b\"],[0.6666666666666666,\"#ed7953\"],[0.7777777777777778,\"#fb9f3a\"],[0.8888888888888888,\"#fdca26\"],[1.0,\"#f0f921\"]]}],\"heatmap\":[{\"type\":\"heatmap\",\"colorbar\":{\"outlinewidth\":0,\"ticks\":\"\"},\"colorscale\":[[0.0,\"#0d0887\"],[0.1111111111111111,\"#46039f\"],[0.2222222222222222,\"#7201a8\"],[0.3333333333333333,\"#9c179e\"],[0.4444444444444444,\"#bd3786\"],[0.5555555555555556,\"#d8576b\"],[0.6666666666666666,\"#ed7953\"],[0.7777777777777778,\"#fb9f3a\"],[0.8888888888888888,\"#fdca26\"],[1.0,\"#f0f921\"]]}],\"heatmapgl\":[{\"type\":\"heatmapgl\",\"colorbar\":{\"outlinewidth\":0,\"ticks\":\"\"},\"colorscale\":[[0.0,\"#0d0887\"],[0.1111111111111111,\"#46039f\"],[0.2222222222222222,\"#7201a8\"],[0.3333333333333333,\"#9c179e\"],[0.4444444444444444,\"#bd3786\"],[0.5555555555555556,\"#d8576b\"],[0.6666666666666666,\"#ed7953\"],[0.7777777777777778,\"#fb9f3a\"],[0.8888888888888888,\"#fdca26\"],[1.0,\"#f0f921\"]]}],\"contourcarpet\":[{\"type\":\"contourcarpet\",\"colorbar\":{\"outlinewidth\":0,\"ticks\":\"\"}}],\"contour\":[{\"type\":\"contour\",\"colorbar\":{\"outlinewidth\":0,\"ticks\":\"\"},\"colorscale\":[[0.0,\"#0d0887\"],[0.1111111111111111,\"#46039f\"],[0.2222222222222222,\"#7201a8\"],[0.3333333333333333,\"#9c179e\"],[0.4444444444444444,\"#bd3786\"],[0.5555555555555556,\"#d8576b\"],[0.6666666666666666,\"#ed7953\"],[0.7777777777777778,\"#fb9f3a\"],[0.8888888888888888,\"#fdca26\"],[1.0,\"#f0f921\"]]}],\"surface\":[{\"type\":\"surface\",\"colorbar\":{\"outlinewidth\":0,\"ticks\":\"\"},\"colorscale\":[[0.0,\"#0d0887\"],[0.1111111111111111,\"#46039f\"],[0.2222222222222222,\"#7201a8\"],[0.3333333333333333,\"#9c179e\"],[0.4444444444444444,\"#bd3786\"],[0.5555555555555556,\"#d8576b\"],[0.6666666666666666,\"#ed7953\"],[0.7777777777777778,\"#fb9f3a\"],[0.8888888888888888,\"#fdca26\"],[1.0,\"#f0f921\"]]}],\"mesh3d\":[{\"type\":\"mesh3d\",\"colorbar\":{\"outlinewidth\":0,\"ticks\":\"\"}}],\"scatter\":[{\"fillpattern\":{\"fillmode\":\"overlay\",\"size\":10,\"solidity\":0.2},\"type\":\"scatter\"}],\"parcoords\":[{\"type\":\"parcoords\",\"line\":{\"colorbar\":{\"outlinewidth\":0,\"ticks\":\"\"}}}],\"scatterpolargl\":[{\"type\":\"scatterpolargl\",\"marker\":{\"colorbar\":{\"outlinewidth\":0,\"ticks\":\"\"}}}],\"bar\":[{\"error_x\":{\"color\":\"#2a3f5f\"},\"error_y\":{\"color\":\"#2a3f5f\"},\"marker\":{\"line\":{\"color\":\"#E5ECF6\",\"width\":0.5},\"pattern\":{\"fillmode\":\"overlay\",\"size\":10,\"solidity\":0.2}},\"type\":\"bar\"}],\"scattergeo\":[{\"type\":\"scattergeo\",\"marker\":{\"colorbar\":{\"outlinewidth\":0,\"ticks\":\"\"}}}],\"scatterpolar\":[{\"type\":\"scatterpolar\",\"marker\":{\"colorbar\":{\"outlinewidth\":0,\"ticks\":\"\"}}}],\"histogram\":[{\"marker\":{\"pattern\":{\"fillmode\":\"overlay\",\"size\":10,\"solidity\":0.2}},\"type\":\"histogram\"}],\"scattergl\":[{\"type\":\"scattergl\",\"marker\":{\"colorbar\":{\"outlinewidth\":0,\"ticks\":\"\"}}}],\"scatter3d\":[{\"type\":\"scatter3d\",\"line\":{\"colorbar\":{\"outlinewidth\":0,\"ticks\":\"\"}},\"marker\":{\"colorbar\":{\"outlinewidth\":0,\"ticks\":\"\"}}}],\"scattermapbox\":[{\"type\":\"scattermapbox\",\"marker\":{\"colorbar\":{\"outlinewidth\":0,\"ticks\":\"\"}}}],\"scatterternary\":[{\"type\":\"scatterternary\",\"marker\":{\"colorbar\":{\"outlinewidth\":0,\"ticks\":\"\"}}}],\"scattercarpet\":[{\"type\":\"scattercarpet\",\"marker\":{\"colorbar\":{\"outlinewidth\":0,\"ticks\":\"\"}}}],\"carpet\":[{\"aaxis\":{\"endlinecolor\":\"#2a3f5f\",\"gridcolor\":\"white\",\"linecolor\":\"white\",\"minorgridcolor\":\"white\",\"startlinecolor\":\"#2a3f5f\"},\"baxis\":{\"endlinecolor\":\"#2a3f5f\",\"gridcolor\":\"white\",\"linecolor\":\"white\",\"minorgridcolor\":\"white\",\"startlinecolor\":\"#2a3f5f\"},\"type\":\"carpet\"}],\"table\":[{\"cells\":{\"fill\":{\"color\":\"#EBF0F8\"},\"line\":{\"color\":\"white\"}},\"header\":{\"fill\":{\"color\":\"#C8D4E3\"},\"line\":{\"color\":\"white\"}},\"type\":\"table\"}],\"barpolar\":[{\"marker\":{\"line\":{\"color\":\"#E5ECF6\",\"width\":0.5},\"pattern\":{\"fillmode\":\"overlay\",\"size\":10,\"solidity\":0.2}},\"type\":\"barpolar\"}],\"pie\":[{\"automargin\":true,\"type\":\"pie\"}]},\"layout\":{\"autotypenumbers\":\"strict\",\"colorway\":[\"#636efa\",\"#EF553B\",\"#00cc96\",\"#ab63fa\",\"#FFA15A\",\"#19d3f3\",\"#FF6692\",\"#B6E880\",\"#FF97FF\",\"#FECB52\"],\"font\":{\"color\":\"#2a3f5f\"},\"hovermode\":\"closest\",\"hoverlabel\":{\"align\":\"left\"},\"paper_bgcolor\":\"white\",\"plot_bgcolor\":\"#E5ECF6\",\"polar\":{\"bgcolor\":\"#E5ECF6\",\"angularaxis\":{\"gridcolor\":\"white\",\"linecolor\":\"white\",\"ticks\":\"\"},\"radialaxis\":{\"gridcolor\":\"white\",\"linecolor\":\"white\",\"ticks\":\"\"}},\"ternary\":{\"bgcolor\":\"#E5ECF6\",\"aaxis\":{\"gridcolor\":\"white\",\"linecolor\":\"white\",\"ticks\":\"\"},\"baxis\":{\"gridcolor\":\"white\",\"linecolor\":\"white\",\"ticks\":\"\"},\"caxis\":{\"gridcolor\":\"white\",\"linecolor\":\"white\",\"ticks\":\"\"}},\"coloraxis\":{\"colorbar\":{\"outlinewidth\":0,\"ticks\":\"\"}},\"colorscale\":{\"sequential\":[[0.0,\"#0d0887\"],[0.1111111111111111,\"#46039f\"],[0.2222222222222222,\"#7201a8\"],[0.3333333333333333,\"#9c179e\"],[0.4444444444444444,\"#bd3786\"],[0.5555555555555556,\"#d8576b\"],[0.6666666666666666,\"#ed7953\"],[0.7777777777777778,\"#fb9f3a\"],[0.8888888888888888,\"#fdca26\"],[1.0,\"#f0f921\"]],\"sequentialminus\":[[0.0,\"#0d0887\"],[0.1111111111111111,\"#46039f\"],[0.2222222222222222,\"#7201a8\"],[0.3333333333333333,\"#9c179e\"],[0.4444444444444444,\"#bd3786\"],[0.5555555555555556,\"#d8576b\"],[0.6666666666666666,\"#ed7953\"],[0.7777777777777778,\"#fb9f3a\"],[0.8888888888888888,\"#fdca26\"],[1.0,\"#f0f921\"]],\"diverging\":[[0,\"#8e0152\"],[0.1,\"#c51b7d\"],[0.2,\"#de77ae\"],[0.3,\"#f1b6da\"],[0.4,\"#fde0ef\"],[0.5,\"#f7f7f7\"],[0.6,\"#e6f5d0\"],[0.7,\"#b8e186\"],[0.8,\"#7fbc41\"],[0.9,\"#4d9221\"],[1,\"#276419\"]]},\"xaxis\":{\"gridcolor\":\"white\",\"linecolor\":\"white\",\"ticks\":\"\",\"title\":{\"standoff\":15},\"zerolinecolor\":\"white\",\"automargin\":true,\"zerolinewidth\":2},\"yaxis\":{\"gridcolor\":\"white\",\"linecolor\":\"white\",\"ticks\":\"\",\"title\":{\"standoff\":15},\"zerolinecolor\":\"white\",\"automargin\":true,\"zerolinewidth\":2},\"scene\":{\"xaxis\":{\"backgroundcolor\":\"#E5ECF6\",\"gridcolor\":\"white\",\"linecolor\":\"white\",\"showbackground\":true,\"ticks\":\"\",\"zerolinecolor\":\"white\",\"gridwidth\":2},\"yaxis\":{\"backgroundcolor\":\"#E5ECF6\",\"gridcolor\":\"white\",\"linecolor\":\"white\",\"showbackground\":true,\"ticks\":\"\",\"zerolinecolor\":\"white\",\"gridwidth\":2},\"zaxis\":{\"backgroundcolor\":\"#E5ECF6\",\"gridcolor\":\"white\",\"linecolor\":\"white\",\"showbackground\":true,\"ticks\":\"\",\"zerolinecolor\":\"white\",\"gridwidth\":2}},\"shapedefaults\":{\"line\":{\"color\":\"#2a3f5f\"}},\"annotationdefaults\":{\"arrowcolor\":\"#2a3f5f\",\"arrowhead\":0,\"arrowwidth\":1},\"geo\":{\"bgcolor\":\"white\",\"landcolor\":\"#E5ECF6\",\"subunitcolor\":\"white\",\"showland\":true,\"showlakes\":true,\"lakecolor\":\"white\"},\"title\":{\"x\":0.05},\"mapbox\":{\"style\":\"light\"}}},\"xaxis\":{\"anchor\":\"y\",\"domain\":[0.0,1.0],\"title\":{\"text\":\"Feature_1\"}},\"yaxis\":{\"anchor\":\"x\",\"domain\":[0.0,1.0],\"title\":{\"text\":\"Feature_2\"}},\"coloraxis\":{\"colorbar\":{\"title\":{\"text\":\"Cluster\"}},\"colorscale\":[[0.0,\"#0d0887\"],[0.1111111111111111,\"#46039f\"],[0.2222222222222222,\"#7201a8\"],[0.3333333333333333,\"#9c179e\"],[0.4444444444444444,\"#bd3786\"],[0.5555555555555556,\"#d8576b\"],[0.6666666666666666,\"#ed7953\"],[0.7777777777777778,\"#fb9f3a\"],[0.8888888888888888,\"#fdca26\"],[1.0,\"#f0f921\"]]},\"legend\":{\"tracegroupgap\":0},\"title\":{\"text\":\"K-Means Clustering (2D) - Iteration 4\"}},                        {\"responsive\": true}                    ).then(function(){\n",
       "                            \n",
       "var gd = document.getElementById('cb7177b0-ed26-449d-b6e6-339ab5c9405a');\n",
       "var x = new MutationObserver(function (mutations, observer) {{\n",
       "        var display = window.getComputedStyle(gd).display;\n",
       "        if (!display || display === 'none') {{\n",
       "            console.log([gd, 'removed!']);\n",
       "            Plotly.purge(gd);\n",
       "            observer.disconnect();\n",
       "        }}\n",
       "}});\n",
       "\n",
       "// Listen for the removal of the full notebook cells\n",
       "var notebookContainer = gd.closest('#notebook-container');\n",
       "if (notebookContainer) {{\n",
       "    x.observe(notebookContainer, {childList: true});\n",
       "}}\n",
       "\n",
       "// Listen for the clearing of the current output cell\n",
       "var outputEl = gd.closest('.output');\n",
       "if (outputEl) {{\n",
       "    x.observe(outputEl, {childList: true});\n",
       "}}\n",
       "\n",
       "                        })                };                });            </script>        </div>"
      ]
     },
     "metadata": {},
     "output_type": "display_data"
    },
    {
     "data": {
      "application/vnd.plotly.v1+json": {
       "config": {
        "plotlyServerURL": "https://plot.ly"
       },
       "data": [
        {
         "hovertemplate": "Feature_1=%{x}<br>Feature_2=%{y}<br>Cluster=%{marker.color}<extra></extra>",
         "legendgroup": "",
         "marker": {
          "color": [
           2,
           0,
           1,
           2,
           2,
           2,
           1,
           1,
           2,
           1,
           1,
           1,
           1,
           2,
           0,
           2,
           0,
           0,
           2,
           1,
           2,
           0,
           2,
           0,
           0,
           2,
           0,
           2,
           2,
           2,
           1,
           1,
           2,
           0,
           0,
           1,
           0,
           2,
           0,
           2,
           1,
           1,
           1,
           2,
           2,
           0,
           1,
           0,
           0,
           2,
           1,
           0,
           1,
           1,
           0,
           2,
           0,
           0,
           1,
           1,
           1,
           1,
           2,
           1,
           2,
           0,
           0,
           1,
           1,
           2,
           1,
           1,
           2,
           1,
           2,
           2,
           1,
           2,
           0,
           0,
           0,
           0,
           0,
           1,
           2,
           1,
           1,
           0,
           2,
           1,
           1,
           2,
           2,
           0,
           1,
           0,
           0,
           2,
           1,
           1,
           2,
           0,
           2,
           1,
           0,
           0,
           2,
           0,
           1,
           0,
           0,
           0,
           2,
           0,
           0,
           2,
           2,
           0,
           2,
           0,
           0,
           0,
           1,
           1,
           1,
           2,
           0,
           2,
           2,
           2,
           0,
           0,
           2,
           2,
           1,
           2,
           1,
           0,
           1,
           1,
           2,
           0,
           1,
           0,
           2,
           1,
           0,
           0,
           2,
           0,
           0,
           0,
           2,
           2,
           2,
           1,
           0,
           2,
           0,
           2,
           2,
           2,
           1,
           1,
           2,
           2,
           0,
           1,
           0,
           1,
           0,
           2,
           0,
           1,
           2,
           0,
           1,
           1,
           1,
           2,
           2,
           0,
           0,
           2,
           1,
           2,
           0,
           2,
           0,
           0,
           2,
           0,
           0,
           1,
           0,
           1,
           2,
           1,
           0,
           1,
           0,
           2,
           0,
           2,
           1,
           2,
           0,
           0,
           1,
           2,
           2,
           1,
           2,
           1,
           2,
           1,
           1,
           0,
           2,
           2,
           0,
           1,
           2,
           1,
           2,
           0,
           1,
           1,
           0,
           0,
           0,
           0,
           1,
           1,
           1,
           1,
           0,
           0,
           2,
           2,
           2,
           2,
           1,
           1,
           2,
           0,
           2,
           1,
           0,
           2,
           1,
           0,
           2,
           0,
           2,
           1,
           2,
           2,
           0,
           0,
           0,
           1,
           0,
           0,
           0,
           1,
           0,
           2,
           2,
           0,
           1,
           0,
           1,
           1,
           1,
           1,
           2,
           1,
           0,
           2,
           0,
           2,
           2,
           1,
           2,
           1,
           0,
           0,
           1,
           1,
           0,
           2,
           2,
           0,
           2,
           0,
           1,
           1,
           1,
           0
          ],
          "coloraxis": "coloraxis",
          "opacity": 0.8,
          "symbol": "circle"
         },
         "mode": "markers",
         "name": "",
         "orientation": "v",
         "showlegend": false,
         "type": "scatter",
         "x": [
          19,
          22,
          98,
          54,
          38,
          93,
          83,
          80,
          93,
          16,
          58,
          80,
          77,
          50,
          11,
          7,
          39,
          76,
          78,
          99,
          62,
          17,
          78,
          64,
          30,
          93,
          55,
          45,
          98,
          80,
          93,
          97,
          59,
          6,
          38,
          87,
          34,
          49,
          21,
          88,
          52,
          76,
          75,
          90,
          96,
          32,
          81,
          24,
          5,
          74,
          33,
          20,
          83,
          56,
          25,
          88,
          36,
          16,
          59,
          55,
          66,
          62,
          30,
          78,
          44,
          72,
          24,
          77,
          8,
          45,
          92,
          89,
          73,
          28,
          12,
          96,
          56,
          97,
          9,
          10,
          21,
          6,
          31,
          54,
          26,
          7,
          15,
          31,
          25,
          19,
          73,
          55,
          59,
          21,
          72,
          46,
          16,
          91,
          12,
          39,
          50,
          43,
          66,
          82,
          45,
          27,
          81,
          52,
          53,
          60,
          66,
          10,
          90,
          52,
          41,
          50,
          80,
          80,
          33,
          29,
          52,
          22,
          79,
          37,
          48,
          70,
          18,
          30,
          17,
          87,
          13,
          16,
          69,
          71,
          10,
          88,
          19,
          5,
          64,
          24,
          75,
          41,
          63,
          45,
          57,
          69,
          5,
          14,
          97,
          24,
          8,
          24,
          65,
          32,
          81,
          67,
          9,
          50,
          11,
          57,
          79,
          44,
          72,
          47,
          68,
          21,
          24,
          39,
          14,
          60,
          14,
          77,
          44,
          92,
          68,
          20,
          79,
          67,
          89,
          41,
          38,
          27,
          54,
          78,
          22,
          39,
          17,
          83,
          57,
          39,
          77,
          36,
          38,
          97,
          7,
          95,
          11,
          96,
          12,
          58,
          15,
          94,
          19,
          88,
          28,
          93,
          82,
          39,
          58,
          46,
          39,
          31,
          58,
          68,
          93,
          75,
          61,
          35,
          91,
          91,
          37,
          15,
          50,
          38,
          74,
          98,
          16,
          48,
          67,
          55,
          43,
          29,
          92,
          57,
          48,
          28,
          15,
          11,
          95,
          52,
          39,
          43,
          52,
          49,
          50,
          9,
          8,
          46,
          19,
          82,
          17,
          8,
          57,
          35,
          86,
          79,
          79,
          61,
          48,
          16,
          46,
          47,
          49,
          51,
          9,
          64,
          59,
          46,
          63,
          63,
          46,
          30,
          45,
          58,
          91,
          30,
          92,
          10,
          14,
          22,
          10,
          28,
          52,
          58,
          69,
          87,
          16,
          16,
          70,
          98,
          28,
          52,
          47,
          30,
          88,
          19,
          33,
          65,
          92,
          25
         ],
         "xaxis": "x",
         "y": [
          38,
          21,
          77,
          82,
          63,
          49,
          57,
          66,
          61,
          75,
          89,
          46,
          42,
          10,
          82,
          47,
          31,
          48,
          57,
          40,
          21,
          90,
          22,
          35,
          89,
          44,
          36,
          83,
          43,
          84,
          12,
          29,
          7,
          49,
          86,
          80,
          9,
          11,
          64,
          54,
          62,
          68,
          18,
          60,
          53,
          76,
          58,
          40,
          12,
          18,
          27,
          15,
          72,
          32,
          8,
          42,
          44,
          20,
          83,
          60,
          96,
          82,
          73,
          99,
          17,
          17,
          38,
          54,
          11,
          24,
          10,
          15,
          40,
          56,
          59,
          62,
          67,
          68,
          99,
          77,
          62,
          61,
          54,
          57,
          20,
          53,
          5,
          90,
          62,
          46,
          58,
          60,
          44,
          32,
          78,
          6,
          41,
          7,
          35,
          34,
          40,
          63,
          30,
          64,
          76,
          89,
          43,
          95,
          49,
          62,
          97,
          82,
          12,
          52,
          89,
          76,
          6,
          67,
          23,
          68,
          11,
          54,
          75,
          23,
          84,
          8,
          42,
          29,
          63,
          22,
          68,
          78,
          26,
          75,
          91,
          73,
          59,
          58,
          21,
          6,
          84,
          6,
          61,
          28,
          16,
          82,
          54,
          33,
          35,
          20,
          48,
          81,
          11,
          65,
          49,
          99,
          80,
          81,
          94,
          57,
          69,
          9,
          57,
          57,
          19,
          23,
          78,
          49,
          64,
          45,
          17,
          9,
          45,
          48,
          17,
          49,
          28,
          89,
          23,
          22,
          94,
          51,
          31,
          48,
          30,
          42,
          81,
          26,
          91,
          70,
          76,
          99,
          82,
          59,
          95,
          65,
          39,
          10,
          34,
          9,
          82,
          10,
          5,
          27,
          48,
          24,
          75,
          91,
          32,
          38,
          26,
          77,
          18,
          85,
          88,
          86,
          71,
          65,
          7,
          96,
          69,
          16,
          64,
          66,
          61,
          27,
          94,
          52,
          93,
          96,
          33,
          56,
          69,
          71,
          45,
          62,
          42,
          69,
          69,
          76,
          57,
          37,
          64,
          17,
          12,
          85,
          96,
          74,
          93,
          20,
          66,
          55,
          78,
          91,
          43,
          34,
          56,
          21,
          32,
          38,
          45,
          40,
          10,
          27,
          95,
          93,
          16,
          79,
          52,
          59,
          25,
          75,
          52,
          39,
          90,
          67,
          21,
          86,
          65,
          51,
          21,
          8,
          21,
          76,
          73,
          99,
          35,
          51,
          16,
          74,
          42,
          38,
          30,
          14,
          96,
          70,
          98,
          37,
          83,
          8
         ],
         "yaxis": "y"
        },
        {
         "marker": {
          "color": "red",
          "size": 10,
          "symbol": "diamond"
         },
         "mode": "markers",
         "name": "Centroids",
         "type": "scatter",
         "x": [
          30.942307692307693,
          58.46875,
          62.33
         ],
         "y": [
          55.23076923076923,
          55.583333333333336,
          43.95
         ]
        }
       ],
       "layout": {
        "coloraxis": {
         "colorbar": {
          "title": {
           "text": "Cluster"
          }
         },
         "colorscale": [
          [
           0,
           "#0d0887"
          ],
          [
           0.1111111111111111,
           "#46039f"
          ],
          [
           0.2222222222222222,
           "#7201a8"
          ],
          [
           0.3333333333333333,
           "#9c179e"
          ],
          [
           0.4444444444444444,
           "#bd3786"
          ],
          [
           0.5555555555555556,
           "#d8576b"
          ],
          [
           0.6666666666666666,
           "#ed7953"
          ],
          [
           0.7777777777777778,
           "#fb9f3a"
          ],
          [
           0.8888888888888888,
           "#fdca26"
          ],
          [
           1,
           "#f0f921"
          ]
         ]
        },
        "legend": {
         "tracegroupgap": 0
        },
        "template": {
         "data": {
          "bar": [
           {
            "error_x": {
             "color": "#2a3f5f"
            },
            "error_y": {
             "color": "#2a3f5f"
            },
            "marker": {
             "line": {
              "color": "#E5ECF6",
              "width": 0.5
             },
             "pattern": {
              "fillmode": "overlay",
              "size": 10,
              "solidity": 0.2
             }
            },
            "type": "bar"
           }
          ],
          "barpolar": [
           {
            "marker": {
             "line": {
              "color": "#E5ECF6",
              "width": 0.5
             },
             "pattern": {
              "fillmode": "overlay",
              "size": 10,
              "solidity": 0.2
             }
            },
            "type": "barpolar"
           }
          ],
          "carpet": [
           {
            "aaxis": {
             "endlinecolor": "#2a3f5f",
             "gridcolor": "white",
             "linecolor": "white",
             "minorgridcolor": "white",
             "startlinecolor": "#2a3f5f"
            },
            "baxis": {
             "endlinecolor": "#2a3f5f",
             "gridcolor": "white",
             "linecolor": "white",
             "minorgridcolor": "white",
             "startlinecolor": "#2a3f5f"
            },
            "type": "carpet"
           }
          ],
          "choropleth": [
           {
            "colorbar": {
             "outlinewidth": 0,
             "ticks": ""
            },
            "type": "choropleth"
           }
          ],
          "contour": [
           {
            "colorbar": {
             "outlinewidth": 0,
             "ticks": ""
            },
            "colorscale": [
             [
              0,
              "#0d0887"
             ],
             [
              0.1111111111111111,
              "#46039f"
             ],
             [
              0.2222222222222222,
              "#7201a8"
             ],
             [
              0.3333333333333333,
              "#9c179e"
             ],
             [
              0.4444444444444444,
              "#bd3786"
             ],
             [
              0.5555555555555556,
              "#d8576b"
             ],
             [
              0.6666666666666666,
              "#ed7953"
             ],
             [
              0.7777777777777778,
              "#fb9f3a"
             ],
             [
              0.8888888888888888,
              "#fdca26"
             ],
             [
              1,
              "#f0f921"
             ]
            ],
            "type": "contour"
           }
          ],
          "contourcarpet": [
           {
            "colorbar": {
             "outlinewidth": 0,
             "ticks": ""
            },
            "type": "contourcarpet"
           }
          ],
          "heatmap": [
           {
            "colorbar": {
             "outlinewidth": 0,
             "ticks": ""
            },
            "colorscale": [
             [
              0,
              "#0d0887"
             ],
             [
              0.1111111111111111,
              "#46039f"
             ],
             [
              0.2222222222222222,
              "#7201a8"
             ],
             [
              0.3333333333333333,
              "#9c179e"
             ],
             [
              0.4444444444444444,
              "#bd3786"
             ],
             [
              0.5555555555555556,
              "#d8576b"
             ],
             [
              0.6666666666666666,
              "#ed7953"
             ],
             [
              0.7777777777777778,
              "#fb9f3a"
             ],
             [
              0.8888888888888888,
              "#fdca26"
             ],
             [
              1,
              "#f0f921"
             ]
            ],
            "type": "heatmap"
           }
          ],
          "heatmapgl": [
           {
            "colorbar": {
             "outlinewidth": 0,
             "ticks": ""
            },
            "colorscale": [
             [
              0,
              "#0d0887"
             ],
             [
              0.1111111111111111,
              "#46039f"
             ],
             [
              0.2222222222222222,
              "#7201a8"
             ],
             [
              0.3333333333333333,
              "#9c179e"
             ],
             [
              0.4444444444444444,
              "#bd3786"
             ],
             [
              0.5555555555555556,
              "#d8576b"
             ],
             [
              0.6666666666666666,
              "#ed7953"
             ],
             [
              0.7777777777777778,
              "#fb9f3a"
             ],
             [
              0.8888888888888888,
              "#fdca26"
             ],
             [
              1,
              "#f0f921"
             ]
            ],
            "type": "heatmapgl"
           }
          ],
          "histogram": [
           {
            "marker": {
             "pattern": {
              "fillmode": "overlay",
              "size": 10,
              "solidity": 0.2
             }
            },
            "type": "histogram"
           }
          ],
          "histogram2d": [
           {
            "colorbar": {
             "outlinewidth": 0,
             "ticks": ""
            },
            "colorscale": [
             [
              0,
              "#0d0887"
             ],
             [
              0.1111111111111111,
              "#46039f"
             ],
             [
              0.2222222222222222,
              "#7201a8"
             ],
             [
              0.3333333333333333,
              "#9c179e"
             ],
             [
              0.4444444444444444,
              "#bd3786"
             ],
             [
              0.5555555555555556,
              "#d8576b"
             ],
             [
              0.6666666666666666,
              "#ed7953"
             ],
             [
              0.7777777777777778,
              "#fb9f3a"
             ],
             [
              0.8888888888888888,
              "#fdca26"
             ],
             [
              1,
              "#f0f921"
             ]
            ],
            "type": "histogram2d"
           }
          ],
          "histogram2dcontour": [
           {
            "colorbar": {
             "outlinewidth": 0,
             "ticks": ""
            },
            "colorscale": [
             [
              0,
              "#0d0887"
             ],
             [
              0.1111111111111111,
              "#46039f"
             ],
             [
              0.2222222222222222,
              "#7201a8"
             ],
             [
              0.3333333333333333,
              "#9c179e"
             ],
             [
              0.4444444444444444,
              "#bd3786"
             ],
             [
              0.5555555555555556,
              "#d8576b"
             ],
             [
              0.6666666666666666,
              "#ed7953"
             ],
             [
              0.7777777777777778,
              "#fb9f3a"
             ],
             [
              0.8888888888888888,
              "#fdca26"
             ],
             [
              1,
              "#f0f921"
             ]
            ],
            "type": "histogram2dcontour"
           }
          ],
          "mesh3d": [
           {
            "colorbar": {
             "outlinewidth": 0,
             "ticks": ""
            },
            "type": "mesh3d"
           }
          ],
          "parcoords": [
           {
            "line": {
             "colorbar": {
              "outlinewidth": 0,
              "ticks": ""
             }
            },
            "type": "parcoords"
           }
          ],
          "pie": [
           {
            "automargin": true,
            "type": "pie"
           }
          ],
          "scatter": [
           {
            "fillpattern": {
             "fillmode": "overlay",
             "size": 10,
             "solidity": 0.2
            },
            "type": "scatter"
           }
          ],
          "scatter3d": [
           {
            "line": {
             "colorbar": {
              "outlinewidth": 0,
              "ticks": ""
             }
            },
            "marker": {
             "colorbar": {
              "outlinewidth": 0,
              "ticks": ""
             }
            },
            "type": "scatter3d"
           }
          ],
          "scattercarpet": [
           {
            "marker": {
             "colorbar": {
              "outlinewidth": 0,
              "ticks": ""
             }
            },
            "type": "scattercarpet"
           }
          ],
          "scattergeo": [
           {
            "marker": {
             "colorbar": {
              "outlinewidth": 0,
              "ticks": ""
             }
            },
            "type": "scattergeo"
           }
          ],
          "scattergl": [
           {
            "marker": {
             "colorbar": {
              "outlinewidth": 0,
              "ticks": ""
             }
            },
            "type": "scattergl"
           }
          ],
          "scattermapbox": [
           {
            "marker": {
             "colorbar": {
              "outlinewidth": 0,
              "ticks": ""
             }
            },
            "type": "scattermapbox"
           }
          ],
          "scatterpolar": [
           {
            "marker": {
             "colorbar": {
              "outlinewidth": 0,
              "ticks": ""
             }
            },
            "type": "scatterpolar"
           }
          ],
          "scatterpolargl": [
           {
            "marker": {
             "colorbar": {
              "outlinewidth": 0,
              "ticks": ""
             }
            },
            "type": "scatterpolargl"
           }
          ],
          "scatterternary": [
           {
            "marker": {
             "colorbar": {
              "outlinewidth": 0,
              "ticks": ""
             }
            },
            "type": "scatterternary"
           }
          ],
          "surface": [
           {
            "colorbar": {
             "outlinewidth": 0,
             "ticks": ""
            },
            "colorscale": [
             [
              0,
              "#0d0887"
             ],
             [
              0.1111111111111111,
              "#46039f"
             ],
             [
              0.2222222222222222,
              "#7201a8"
             ],
             [
              0.3333333333333333,
              "#9c179e"
             ],
             [
              0.4444444444444444,
              "#bd3786"
             ],
             [
              0.5555555555555556,
              "#d8576b"
             ],
             [
              0.6666666666666666,
              "#ed7953"
             ],
             [
              0.7777777777777778,
              "#fb9f3a"
             ],
             [
              0.8888888888888888,
              "#fdca26"
             ],
             [
              1,
              "#f0f921"
             ]
            ],
            "type": "surface"
           }
          ],
          "table": [
           {
            "cells": {
             "fill": {
              "color": "#EBF0F8"
             },
             "line": {
              "color": "white"
             }
            },
            "header": {
             "fill": {
              "color": "#C8D4E3"
             },
             "line": {
              "color": "white"
             }
            },
            "type": "table"
           }
          ]
         },
         "layout": {
          "annotationdefaults": {
           "arrowcolor": "#2a3f5f",
           "arrowhead": 0,
           "arrowwidth": 1
          },
          "autotypenumbers": "strict",
          "coloraxis": {
           "colorbar": {
            "outlinewidth": 0,
            "ticks": ""
           }
          },
          "colorscale": {
           "diverging": [
            [
             0,
             "#8e0152"
            ],
            [
             0.1,
             "#c51b7d"
            ],
            [
             0.2,
             "#de77ae"
            ],
            [
             0.3,
             "#f1b6da"
            ],
            [
             0.4,
             "#fde0ef"
            ],
            [
             0.5,
             "#f7f7f7"
            ],
            [
             0.6,
             "#e6f5d0"
            ],
            [
             0.7,
             "#b8e186"
            ],
            [
             0.8,
             "#7fbc41"
            ],
            [
             0.9,
             "#4d9221"
            ],
            [
             1,
             "#276419"
            ]
           ],
           "sequential": [
            [
             0,
             "#0d0887"
            ],
            [
             0.1111111111111111,
             "#46039f"
            ],
            [
             0.2222222222222222,
             "#7201a8"
            ],
            [
             0.3333333333333333,
             "#9c179e"
            ],
            [
             0.4444444444444444,
             "#bd3786"
            ],
            [
             0.5555555555555556,
             "#d8576b"
            ],
            [
             0.6666666666666666,
             "#ed7953"
            ],
            [
             0.7777777777777778,
             "#fb9f3a"
            ],
            [
             0.8888888888888888,
             "#fdca26"
            ],
            [
             1,
             "#f0f921"
            ]
           ],
           "sequentialminus": [
            [
             0,
             "#0d0887"
            ],
            [
             0.1111111111111111,
             "#46039f"
            ],
            [
             0.2222222222222222,
             "#7201a8"
            ],
            [
             0.3333333333333333,
             "#9c179e"
            ],
            [
             0.4444444444444444,
             "#bd3786"
            ],
            [
             0.5555555555555556,
             "#d8576b"
            ],
            [
             0.6666666666666666,
             "#ed7953"
            ],
            [
             0.7777777777777778,
             "#fb9f3a"
            ],
            [
             0.8888888888888888,
             "#fdca26"
            ],
            [
             1,
             "#f0f921"
            ]
           ]
          },
          "colorway": [
           "#636efa",
           "#EF553B",
           "#00cc96",
           "#ab63fa",
           "#FFA15A",
           "#19d3f3",
           "#FF6692",
           "#B6E880",
           "#FF97FF",
           "#FECB52"
          ],
          "font": {
           "color": "#2a3f5f"
          },
          "geo": {
           "bgcolor": "white",
           "lakecolor": "white",
           "landcolor": "#E5ECF6",
           "showlakes": true,
           "showland": true,
           "subunitcolor": "white"
          },
          "hoverlabel": {
           "align": "left"
          },
          "hovermode": "closest",
          "mapbox": {
           "style": "light"
          },
          "paper_bgcolor": "white",
          "plot_bgcolor": "#E5ECF6",
          "polar": {
           "angularaxis": {
            "gridcolor": "white",
            "linecolor": "white",
            "ticks": ""
           },
           "bgcolor": "#E5ECF6",
           "radialaxis": {
            "gridcolor": "white",
            "linecolor": "white",
            "ticks": ""
           }
          },
          "scene": {
           "xaxis": {
            "backgroundcolor": "#E5ECF6",
            "gridcolor": "white",
            "gridwidth": 2,
            "linecolor": "white",
            "showbackground": true,
            "ticks": "",
            "zerolinecolor": "white"
           },
           "yaxis": {
            "backgroundcolor": "#E5ECF6",
            "gridcolor": "white",
            "gridwidth": 2,
            "linecolor": "white",
            "showbackground": true,
            "ticks": "",
            "zerolinecolor": "white"
           },
           "zaxis": {
            "backgroundcolor": "#E5ECF6",
            "gridcolor": "white",
            "gridwidth": 2,
            "linecolor": "white",
            "showbackground": true,
            "ticks": "",
            "zerolinecolor": "white"
           }
          },
          "shapedefaults": {
           "line": {
            "color": "#2a3f5f"
           }
          },
          "ternary": {
           "aaxis": {
            "gridcolor": "white",
            "linecolor": "white",
            "ticks": ""
           },
           "baxis": {
            "gridcolor": "white",
            "linecolor": "white",
            "ticks": ""
           },
           "bgcolor": "#E5ECF6",
           "caxis": {
            "gridcolor": "white",
            "linecolor": "white",
            "ticks": ""
           }
          },
          "title": {
           "x": 0.05
          },
          "xaxis": {
           "automargin": true,
           "gridcolor": "white",
           "linecolor": "white",
           "ticks": "",
           "title": {
            "standoff": 15
           },
           "zerolinecolor": "white",
           "zerolinewidth": 2
          },
          "yaxis": {
           "automargin": true,
           "gridcolor": "white",
           "linecolor": "white",
           "ticks": "",
           "title": {
            "standoff": 15
           },
           "zerolinecolor": "white",
           "zerolinewidth": 2
          }
         }
        },
        "title": {
         "text": "K-Means Clustering (2D) - Iteration 5"
        },
        "xaxis": {
         "anchor": "y",
         "domain": [
          0,
          1
         ],
         "title": {
          "text": "Feature_1"
         }
        },
        "yaxis": {
         "anchor": "x",
         "domain": [
          0,
          1
         ],
         "title": {
          "text": "Feature_2"
         }
        }
       }
      },
      "text/html": [
       "<div>                            <div id=\"0dc60185-b38c-46f7-8245-2c4d96893317\" class=\"plotly-graph-div\" style=\"height:525px; width:100%;\"></div>            <script type=\"text/javascript\">                require([\"plotly\"], function(Plotly) {                    window.PLOTLYENV=window.PLOTLYENV || {};                                    if (document.getElementById(\"0dc60185-b38c-46f7-8245-2c4d96893317\")) {                    Plotly.newPlot(                        \"0dc60185-b38c-46f7-8245-2c4d96893317\",                        [{\"hovertemplate\":\"Feature_1=%{x}<br>Feature_2=%{y}<br>Cluster=%{marker.color}<extra></extra>\",\"legendgroup\":\"\",\"marker\":{\"color\":[2,0,1,2,2,2,1,1,2,1,1,1,1,2,0,2,0,0,2,1,2,0,2,0,0,2,0,2,2,2,1,1,2,0,0,1,0,2,0,2,1,1,1,2,2,0,1,0,0,2,1,0,1,1,0,2,0,0,1,1,1,1,2,1,2,0,0,1,1,2,1,1,2,1,2,2,1,2,0,0,0,0,0,1,2,1,1,0,2,1,1,2,2,0,1,0,0,2,1,1,2,0,2,1,0,0,2,0,1,0,0,0,2,0,0,2,2,0,2,0,0,0,1,1,1,2,0,2,2,2,0,0,2,2,1,2,1,0,1,1,2,0,1,0,2,1,0,0,2,0,0,0,2,2,2,1,0,2,0,2,2,2,1,1,2,2,0,1,0,1,0,2,0,1,2,0,1,1,1,2,2,0,0,2,1,2,0,2,0,0,2,0,0,1,0,1,2,1,0,1,0,2,0,2,1,2,0,0,1,2,2,1,2,1,2,1,1,0,2,2,0,1,2,1,2,0,1,1,0,0,0,0,1,1,1,1,0,0,2,2,2,2,1,1,2,0,2,1,0,2,1,0,2,0,2,1,2,2,0,0,0,1,0,0,0,1,0,2,2,0,1,0,1,1,1,1,2,1,0,2,0,2,2,1,2,1,0,0,1,1,0,2,2,0,2,0,1,1,1,0],\"coloraxis\":\"coloraxis\",\"opacity\":0.8,\"symbol\":\"circle\"},\"mode\":\"markers\",\"name\":\"\",\"orientation\":\"v\",\"showlegend\":false,\"x\":[19,22,98,54,38,93,83,80,93,16,58,80,77,50,11,7,39,76,78,99,62,17,78,64,30,93,55,45,98,80,93,97,59,6,38,87,34,49,21,88,52,76,75,90,96,32,81,24,5,74,33,20,83,56,25,88,36,16,59,55,66,62,30,78,44,72,24,77,8,45,92,89,73,28,12,96,56,97,9,10,21,6,31,54,26,7,15,31,25,19,73,55,59,21,72,46,16,91,12,39,50,43,66,82,45,27,81,52,53,60,66,10,90,52,41,50,80,80,33,29,52,22,79,37,48,70,18,30,17,87,13,16,69,71,10,88,19,5,64,24,75,41,63,45,57,69,5,14,97,24,8,24,65,32,81,67,9,50,11,57,79,44,72,47,68,21,24,39,14,60,14,77,44,92,68,20,79,67,89,41,38,27,54,78,22,39,17,83,57,39,77,36,38,97,7,95,11,96,12,58,15,94,19,88,28,93,82,39,58,46,39,31,58,68,93,75,61,35,91,91,37,15,50,38,74,98,16,48,67,55,43,29,92,57,48,28,15,11,95,52,39,43,52,49,50,9,8,46,19,82,17,8,57,35,86,79,79,61,48,16,46,47,49,51,9,64,59,46,63,63,46,30,45,58,91,30,92,10,14,22,10,28,52,58,69,87,16,16,70,98,28,52,47,30,88,19,33,65,92,25],\"xaxis\":\"x\",\"y\":[38,21,77,82,63,49,57,66,61,75,89,46,42,10,82,47,31,48,57,40,21,90,22,35,89,44,36,83,43,84,12,29,7,49,86,80,9,11,64,54,62,68,18,60,53,76,58,40,12,18,27,15,72,32,8,42,44,20,83,60,96,82,73,99,17,17,38,54,11,24,10,15,40,56,59,62,67,68,99,77,62,61,54,57,20,53,5,90,62,46,58,60,44,32,78,6,41,7,35,34,40,63,30,64,76,89,43,95,49,62,97,82,12,52,89,76,6,67,23,68,11,54,75,23,84,8,42,29,63,22,68,78,26,75,91,73,59,58,21,6,84,6,61,28,16,82,54,33,35,20,48,81,11,65,49,99,80,81,94,57,69,9,57,57,19,23,78,49,64,45,17,9,45,48,17,49,28,89,23,22,94,51,31,48,30,42,81,26,91,70,76,99,82,59,95,65,39,10,34,9,82,10,5,27,48,24,75,91,32,38,26,77,18,85,88,86,71,65,7,96,69,16,64,66,61,27,94,52,93,96,33,56,69,71,45,62,42,69,69,76,57,37,64,17,12,85,96,74,93,20,66,55,78,91,43,34,56,21,32,38,45,40,10,27,95,93,16,79,52,59,25,75,52,39,90,67,21,86,65,51,21,8,21,76,73,99,35,51,16,74,42,38,30,14,96,70,98,37,83,8],\"yaxis\":\"y\",\"type\":\"scatter\"},{\"marker\":{\"color\":\"red\",\"size\":10,\"symbol\":\"diamond\"},\"mode\":\"markers\",\"name\":\"Centroids\",\"x\":[30.942307692307693,58.46875,62.33],\"y\":[55.23076923076923,55.583333333333336,43.95],\"type\":\"scatter\"}],                        {\"template\":{\"data\":{\"histogram2dcontour\":[{\"type\":\"histogram2dcontour\",\"colorbar\":{\"outlinewidth\":0,\"ticks\":\"\"},\"colorscale\":[[0.0,\"#0d0887\"],[0.1111111111111111,\"#46039f\"],[0.2222222222222222,\"#7201a8\"],[0.3333333333333333,\"#9c179e\"],[0.4444444444444444,\"#bd3786\"],[0.5555555555555556,\"#d8576b\"],[0.6666666666666666,\"#ed7953\"],[0.7777777777777778,\"#fb9f3a\"],[0.8888888888888888,\"#fdca26\"],[1.0,\"#f0f921\"]]}],\"choropleth\":[{\"type\":\"choropleth\",\"colorbar\":{\"outlinewidth\":0,\"ticks\":\"\"}}],\"histogram2d\":[{\"type\":\"histogram2d\",\"colorbar\":{\"outlinewidth\":0,\"ticks\":\"\"},\"colorscale\":[[0.0,\"#0d0887\"],[0.1111111111111111,\"#46039f\"],[0.2222222222222222,\"#7201a8\"],[0.3333333333333333,\"#9c179e\"],[0.4444444444444444,\"#bd3786\"],[0.5555555555555556,\"#d8576b\"],[0.6666666666666666,\"#ed7953\"],[0.7777777777777778,\"#fb9f3a\"],[0.8888888888888888,\"#fdca26\"],[1.0,\"#f0f921\"]]}],\"heatmap\":[{\"type\":\"heatmap\",\"colorbar\":{\"outlinewidth\":0,\"ticks\":\"\"},\"colorscale\":[[0.0,\"#0d0887\"],[0.1111111111111111,\"#46039f\"],[0.2222222222222222,\"#7201a8\"],[0.3333333333333333,\"#9c179e\"],[0.4444444444444444,\"#bd3786\"],[0.5555555555555556,\"#d8576b\"],[0.6666666666666666,\"#ed7953\"],[0.7777777777777778,\"#fb9f3a\"],[0.8888888888888888,\"#fdca26\"],[1.0,\"#f0f921\"]]}],\"heatmapgl\":[{\"type\":\"heatmapgl\",\"colorbar\":{\"outlinewidth\":0,\"ticks\":\"\"},\"colorscale\":[[0.0,\"#0d0887\"],[0.1111111111111111,\"#46039f\"],[0.2222222222222222,\"#7201a8\"],[0.3333333333333333,\"#9c179e\"],[0.4444444444444444,\"#bd3786\"],[0.5555555555555556,\"#d8576b\"],[0.6666666666666666,\"#ed7953\"],[0.7777777777777778,\"#fb9f3a\"],[0.8888888888888888,\"#fdca26\"],[1.0,\"#f0f921\"]]}],\"contourcarpet\":[{\"type\":\"contourcarpet\",\"colorbar\":{\"outlinewidth\":0,\"ticks\":\"\"}}],\"contour\":[{\"type\":\"contour\",\"colorbar\":{\"outlinewidth\":0,\"ticks\":\"\"},\"colorscale\":[[0.0,\"#0d0887\"],[0.1111111111111111,\"#46039f\"],[0.2222222222222222,\"#7201a8\"],[0.3333333333333333,\"#9c179e\"],[0.4444444444444444,\"#bd3786\"],[0.5555555555555556,\"#d8576b\"],[0.6666666666666666,\"#ed7953\"],[0.7777777777777778,\"#fb9f3a\"],[0.8888888888888888,\"#fdca26\"],[1.0,\"#f0f921\"]]}],\"surface\":[{\"type\":\"surface\",\"colorbar\":{\"outlinewidth\":0,\"ticks\":\"\"},\"colorscale\":[[0.0,\"#0d0887\"],[0.1111111111111111,\"#46039f\"],[0.2222222222222222,\"#7201a8\"],[0.3333333333333333,\"#9c179e\"],[0.4444444444444444,\"#bd3786\"],[0.5555555555555556,\"#d8576b\"],[0.6666666666666666,\"#ed7953\"],[0.7777777777777778,\"#fb9f3a\"],[0.8888888888888888,\"#fdca26\"],[1.0,\"#f0f921\"]]}],\"mesh3d\":[{\"type\":\"mesh3d\",\"colorbar\":{\"outlinewidth\":0,\"ticks\":\"\"}}],\"scatter\":[{\"fillpattern\":{\"fillmode\":\"overlay\",\"size\":10,\"solidity\":0.2},\"type\":\"scatter\"}],\"parcoords\":[{\"type\":\"parcoords\",\"line\":{\"colorbar\":{\"outlinewidth\":0,\"ticks\":\"\"}}}],\"scatterpolargl\":[{\"type\":\"scatterpolargl\",\"marker\":{\"colorbar\":{\"outlinewidth\":0,\"ticks\":\"\"}}}],\"bar\":[{\"error_x\":{\"color\":\"#2a3f5f\"},\"error_y\":{\"color\":\"#2a3f5f\"},\"marker\":{\"line\":{\"color\":\"#E5ECF6\",\"width\":0.5},\"pattern\":{\"fillmode\":\"overlay\",\"size\":10,\"solidity\":0.2}},\"type\":\"bar\"}],\"scattergeo\":[{\"type\":\"scattergeo\",\"marker\":{\"colorbar\":{\"outlinewidth\":0,\"ticks\":\"\"}}}],\"scatterpolar\":[{\"type\":\"scatterpolar\",\"marker\":{\"colorbar\":{\"outlinewidth\":0,\"ticks\":\"\"}}}],\"histogram\":[{\"marker\":{\"pattern\":{\"fillmode\":\"overlay\",\"size\":10,\"solidity\":0.2}},\"type\":\"histogram\"}],\"scattergl\":[{\"type\":\"scattergl\",\"marker\":{\"colorbar\":{\"outlinewidth\":0,\"ticks\":\"\"}}}],\"scatter3d\":[{\"type\":\"scatter3d\",\"line\":{\"colorbar\":{\"outlinewidth\":0,\"ticks\":\"\"}},\"marker\":{\"colorbar\":{\"outlinewidth\":0,\"ticks\":\"\"}}}],\"scattermapbox\":[{\"type\":\"scattermapbox\",\"marker\":{\"colorbar\":{\"outlinewidth\":0,\"ticks\":\"\"}}}],\"scatterternary\":[{\"type\":\"scatterternary\",\"marker\":{\"colorbar\":{\"outlinewidth\":0,\"ticks\":\"\"}}}],\"scattercarpet\":[{\"type\":\"scattercarpet\",\"marker\":{\"colorbar\":{\"outlinewidth\":0,\"ticks\":\"\"}}}],\"carpet\":[{\"aaxis\":{\"endlinecolor\":\"#2a3f5f\",\"gridcolor\":\"white\",\"linecolor\":\"white\",\"minorgridcolor\":\"white\",\"startlinecolor\":\"#2a3f5f\"},\"baxis\":{\"endlinecolor\":\"#2a3f5f\",\"gridcolor\":\"white\",\"linecolor\":\"white\",\"minorgridcolor\":\"white\",\"startlinecolor\":\"#2a3f5f\"},\"type\":\"carpet\"}],\"table\":[{\"cells\":{\"fill\":{\"color\":\"#EBF0F8\"},\"line\":{\"color\":\"white\"}},\"header\":{\"fill\":{\"color\":\"#C8D4E3\"},\"line\":{\"color\":\"white\"}},\"type\":\"table\"}],\"barpolar\":[{\"marker\":{\"line\":{\"color\":\"#E5ECF6\",\"width\":0.5},\"pattern\":{\"fillmode\":\"overlay\",\"size\":10,\"solidity\":0.2}},\"type\":\"barpolar\"}],\"pie\":[{\"automargin\":true,\"type\":\"pie\"}]},\"layout\":{\"autotypenumbers\":\"strict\",\"colorway\":[\"#636efa\",\"#EF553B\",\"#00cc96\",\"#ab63fa\",\"#FFA15A\",\"#19d3f3\",\"#FF6692\",\"#B6E880\",\"#FF97FF\",\"#FECB52\"],\"font\":{\"color\":\"#2a3f5f\"},\"hovermode\":\"closest\",\"hoverlabel\":{\"align\":\"left\"},\"paper_bgcolor\":\"white\",\"plot_bgcolor\":\"#E5ECF6\",\"polar\":{\"bgcolor\":\"#E5ECF6\",\"angularaxis\":{\"gridcolor\":\"white\",\"linecolor\":\"white\",\"ticks\":\"\"},\"radialaxis\":{\"gridcolor\":\"white\",\"linecolor\":\"white\",\"ticks\":\"\"}},\"ternary\":{\"bgcolor\":\"#E5ECF6\",\"aaxis\":{\"gridcolor\":\"white\",\"linecolor\":\"white\",\"ticks\":\"\"},\"baxis\":{\"gridcolor\":\"white\",\"linecolor\":\"white\",\"ticks\":\"\"},\"caxis\":{\"gridcolor\":\"white\",\"linecolor\":\"white\",\"ticks\":\"\"}},\"coloraxis\":{\"colorbar\":{\"outlinewidth\":0,\"ticks\":\"\"}},\"colorscale\":{\"sequential\":[[0.0,\"#0d0887\"],[0.1111111111111111,\"#46039f\"],[0.2222222222222222,\"#7201a8\"],[0.3333333333333333,\"#9c179e\"],[0.4444444444444444,\"#bd3786\"],[0.5555555555555556,\"#d8576b\"],[0.6666666666666666,\"#ed7953\"],[0.7777777777777778,\"#fb9f3a\"],[0.8888888888888888,\"#fdca26\"],[1.0,\"#f0f921\"]],\"sequentialminus\":[[0.0,\"#0d0887\"],[0.1111111111111111,\"#46039f\"],[0.2222222222222222,\"#7201a8\"],[0.3333333333333333,\"#9c179e\"],[0.4444444444444444,\"#bd3786\"],[0.5555555555555556,\"#d8576b\"],[0.6666666666666666,\"#ed7953\"],[0.7777777777777778,\"#fb9f3a\"],[0.8888888888888888,\"#fdca26\"],[1.0,\"#f0f921\"]],\"diverging\":[[0,\"#8e0152\"],[0.1,\"#c51b7d\"],[0.2,\"#de77ae\"],[0.3,\"#f1b6da\"],[0.4,\"#fde0ef\"],[0.5,\"#f7f7f7\"],[0.6,\"#e6f5d0\"],[0.7,\"#b8e186\"],[0.8,\"#7fbc41\"],[0.9,\"#4d9221\"],[1,\"#276419\"]]},\"xaxis\":{\"gridcolor\":\"white\",\"linecolor\":\"white\",\"ticks\":\"\",\"title\":{\"standoff\":15},\"zerolinecolor\":\"white\",\"automargin\":true,\"zerolinewidth\":2},\"yaxis\":{\"gridcolor\":\"white\",\"linecolor\":\"white\",\"ticks\":\"\",\"title\":{\"standoff\":15},\"zerolinecolor\":\"white\",\"automargin\":true,\"zerolinewidth\":2},\"scene\":{\"xaxis\":{\"backgroundcolor\":\"#E5ECF6\",\"gridcolor\":\"white\",\"linecolor\":\"white\",\"showbackground\":true,\"ticks\":\"\",\"zerolinecolor\":\"white\",\"gridwidth\":2},\"yaxis\":{\"backgroundcolor\":\"#E5ECF6\",\"gridcolor\":\"white\",\"linecolor\":\"white\",\"showbackground\":true,\"ticks\":\"\",\"zerolinecolor\":\"white\",\"gridwidth\":2},\"zaxis\":{\"backgroundcolor\":\"#E5ECF6\",\"gridcolor\":\"white\",\"linecolor\":\"white\",\"showbackground\":true,\"ticks\":\"\",\"zerolinecolor\":\"white\",\"gridwidth\":2}},\"shapedefaults\":{\"line\":{\"color\":\"#2a3f5f\"}},\"annotationdefaults\":{\"arrowcolor\":\"#2a3f5f\",\"arrowhead\":0,\"arrowwidth\":1},\"geo\":{\"bgcolor\":\"white\",\"landcolor\":\"#E5ECF6\",\"subunitcolor\":\"white\",\"showland\":true,\"showlakes\":true,\"lakecolor\":\"white\"},\"title\":{\"x\":0.05},\"mapbox\":{\"style\":\"light\"}}},\"xaxis\":{\"anchor\":\"y\",\"domain\":[0.0,1.0],\"title\":{\"text\":\"Feature_1\"}},\"yaxis\":{\"anchor\":\"x\",\"domain\":[0.0,1.0],\"title\":{\"text\":\"Feature_2\"}},\"coloraxis\":{\"colorbar\":{\"title\":{\"text\":\"Cluster\"}},\"colorscale\":[[0.0,\"#0d0887\"],[0.1111111111111111,\"#46039f\"],[0.2222222222222222,\"#7201a8\"],[0.3333333333333333,\"#9c179e\"],[0.4444444444444444,\"#bd3786\"],[0.5555555555555556,\"#d8576b\"],[0.6666666666666666,\"#ed7953\"],[0.7777777777777778,\"#fb9f3a\"],[0.8888888888888888,\"#fdca26\"],[1.0,\"#f0f921\"]]},\"legend\":{\"tracegroupgap\":0},\"title\":{\"text\":\"K-Means Clustering (2D) - Iteration 5\"}},                        {\"responsive\": true}                    ).then(function(){\n",
       "                            \n",
       "var gd = document.getElementById('0dc60185-b38c-46f7-8245-2c4d96893317');\n",
       "var x = new MutationObserver(function (mutations, observer) {{\n",
       "        var display = window.getComputedStyle(gd).display;\n",
       "        if (!display || display === 'none') {{\n",
       "            console.log([gd, 'removed!']);\n",
       "            Plotly.purge(gd);\n",
       "            observer.disconnect();\n",
       "        }}\n",
       "}});\n",
       "\n",
       "// Listen for the removal of the full notebook cells\n",
       "var notebookContainer = gd.closest('#notebook-container');\n",
       "if (notebookContainer) {{\n",
       "    x.observe(notebookContainer, {childList: true});\n",
       "}}\n",
       "\n",
       "// Listen for the clearing of the current output cell\n",
       "var outputEl = gd.closest('.output');\n",
       "if (outputEl) {{\n",
       "    x.observe(outputEl, {childList: true});\n",
       "}}\n",
       "\n",
       "                        })                };                });            </script>        </div>"
      ]
     },
     "metadata": {},
     "output_type": "display_data"
    }
   ],
   "source": [
    "# Plot the initial 2D scatter plot with centroids\n",
    "fig_2d = px.scatter(df, x='Feature_1', y='Feature_2', color='Cluster', opacity=0.8, title='K-Means Clustering (2D)', size_max=10)\n",
    "fig_2d.update_traces(marker=dict(symbol='circle'))\n",
    "\n",
    "# Add initial centroids to the 2D scatter plot\n",
    "fig_2d.add_trace(go.Scatter(\n",
    "    x=centroids_df['Feature_1'],\n",
    "    y=centroids_df['Feature_2'],\n",
    "    mode='markers',\n",
    "    marker=dict(color='red', symbol='diamond', size=10),\n",
    "    name='Centroids'\n",
    "))\n",
    "\n",
    "# Show the initial 2D plot\n",
    "fig_2d.show()\n",
    "\n",
    "# Perform iterations\n",
    "num_iterations = 5\n",
    "for iteration in range(1, num_iterations + 1):\n",
    "    # Assign data points to the nearest cluster\n",
    "    labels = kmeans.predict(data)\n",
    "    \n",
    "    # Update centroids\n",
    "    kmeans.cluster_centers_ = centroids = np.array([data[labels == i].mean(axis=0) for i in range(kmeans.n_clusters)])\n",
    "    \n",
    "    # Update DataFrame with new labels\n",
    "    df['Cluster'] = labels\n",
    "    \n",
    "    # Plot the updated 2D scatter plot with centroids\n",
    "    fig_2d = px.scatter(df, x='Feature_1', y='Feature_2', color='Cluster', opacity=0.8, title=f'K-Means Clustering (2D) - Iteration {iteration}', size_max=10)\n",
    "    fig_2d.update_traces(marker=dict(symbol='circle'))\n",
    "    \n",
    "    # Add updated centroids to the 2D scatter plot\n",
    "    fig_2d.add_trace(go.Scatter(\n",
    "        x=centroids[:, 0],\n",
    "        y=centroids[:, 1],\n",
    "        mode='markers',\n",
    "        marker=dict(color='red', symbol='diamond', size=10),\n",
    "        name='Centroids'\n",
    "    ))\n",
    "    \n",
    "    # Show the updated 2D plot\n",
    "    fig_2d.show()"
   ]
  },
  {
   "cell_type": "code",
   "execution_count": null,
   "id": "d9955b9d",
   "metadata": {},
   "outputs": [],
   "source": []
  }
 ],
 "metadata": {
  "kernelspec": {
   "display_name": "Python 3 (ipykernel)",
   "language": "python",
   "name": "python3"
  },
  "language_info": {
   "codemirror_mode": {
    "name": "ipython",
    "version": 3
   },
   "file_extension": ".py",
   "mimetype": "text/x-python",
   "name": "python",
   "nbconvert_exporter": "python",
   "pygments_lexer": "ipython3",
   "version": "3.11.5"
  }
 },
 "nbformat": 4,
 "nbformat_minor": 5
}
