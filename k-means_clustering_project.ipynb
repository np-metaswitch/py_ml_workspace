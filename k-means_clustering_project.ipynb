{
 "cells": [
  {
   "cell_type": "code",
   "execution_count": 50,
   "id": "0f75d54c",
   "metadata": {},
   "outputs": [
    {
     "name": "stdout",
     "output_type": "stream",
     "text": [
      "C:\\Users\\pedam\\Documents\\src_data\\configs.properties C:\\Users\\pedam\\Documents\\src_data\\kaggle.json\n"
     ]
    }
   ],
   "source": [
    "src_data_location = 'C:\\\\Users\\\\pedam\\\\Documents\\\\src_data'\n",
    "\n",
    "in_config_file = str(src_data_location+\"\\\\configs.properties\")\n",
    "kaggle_json = str(src_data_location+'\\\\kaggle.json')\n",
    "kaggle_datasets_fldr = str(src_data_location+'\\\\kaggle_datasets')\n",
    "print(in_config_file,kaggle_json)"
   ]
  },
  {
   "cell_type": "code",
   "execution_count": 51,
   "id": "9db3df20",
   "metadata": {},
   "outputs": [],
   "source": [
    "\n",
    "import json\n",
    "import os\n",
    "import csv\n",
    "import pandas as pd\n",
    "import numpy as np\n",
    "from kaggle.api.kaggle_api_extended import KaggleApi\n",
    "from zipfile import ZipFile\n",
    "from tabulate import tabulate"
   ]
  },
  {
   "cell_type": "code",
   "execution_count": 52,
   "id": "2ff9f272",
   "metadata": {},
   "outputs": [],
   "source": [
    "#Set kaggle api key \n",
    "\n",
    "with open(kaggle_json) as f:\n",
    "    kaggle_api_key = json.load(f)\n",
    "\n",
    "# Set Kaggle API key\n",
    "\n",
    "os.environ['KAGGLE_USERNAME'] = kaggle_api_key['username']\n",
    "os.environ['KAGGLE_KEY'] = kaggle_api_key['key']\n",
    "\n",
    "\n",
    "\n"
   ]
  },
  {
   "cell_type": "code",
   "execution_count": 53,
   "id": "774d17f4",
   "metadata": {},
   "outputs": [],
   "source": [
    "# kaggle_dataset = 'stefanoleone992/fifa-22-complete-player-dataset'\n",
    "\n",
    "# # Use Kaggle API to download the dataset\n",
    "# !kaggle datasets download -d {kaggle_dataset}\n",
    "# Use Kaggle API to download the dataset\n",
    "# api = KaggleApi()\n",
    "# api.authenticate()\n",
    "# api.dataset_download_files(dataset=kaggle_dataset, path='.', unzip=True)"
   ]
  },
  {
   "cell_type": "code",
   "execution_count": 54,
   "id": "f7d216dc",
   "metadata": {},
   "outputs": [
    {
     "name": "stdout",
     "output_type": "stream",
     "text": [
      "Files in the current directory: ['.ipynb_checkpoints', 'Clustering_Examples.ipynb', 'k-means_clustering_project.ipynb', 'LinearRegression_Notebook.ipynb', 'src_data', 'Unsupervised_Learning_Examples_ARM_Workout.ipynb']\n"
     ]
    }
   ],
   "source": [
    "# List the files in the current directory\n",
    "files = os.listdir('.')\n",
    "print(\"Files in the current directory:\", files)\n"
   ]
  },
  {
   "cell_type": "code",
   "execution_count": 55,
   "id": "1e733284",
   "metadata": {},
   "outputs": [
    {
     "name": "stdout",
     "output_type": "stream",
     "text": [
      "Files in the kaggle_datasets_fldr directory: ['Career Mode female player datasets - FIFA 16-22.xlsx', 'Career Mode player datasets - FIFA 15-22.xlsx', 'docProps', 'female_players_16.csv', 'female_players_17.csv', 'female_players_18.csv', 'female_players_19.csv', 'female_players_20.csv', 'female_players_21.csv', 'female_players_22.csv', 'fifa-22-complete-player-dataset.zip', 'players_15.csv', 'players_16.csv', 'players_17.csv', 'players_18.csv', 'players_19.csv', 'players_20.csv', 'players_21.csv', 'players_22.csv', 'xl', '[Content_Types].xml', '_rels']\n",
      "['female_players_16.csv', 'female_players_17.csv', 'female_players_18.csv', 'female_players_19.csv', 'female_players_20.csv', 'female_players_21.csv', 'female_players_22.csv', 'players_15.csv', 'players_16.csv', 'players_17.csv', 'players_18.csv', 'players_19.csv', 'players_20.csv', 'players_21.csv', 'players_22.csv']\n"
     ]
    }
   ],
   "source": [
    "files = os.listdir(kaggle_datasets_fldr)\n",
    "print(\"Files in the kaggle_datasets_fldr directory:\", files)\n",
    "\n",
    "# Explicitly extract the contents of the zip file\n",
    "zip_file_path = os.path.join(kaggle_datasets_fldr, files[0])\n",
    "with ZipFile(zip_file_path, 'r') as zip_ref:\n",
    "    zip_ref.extractall(kaggle_datasets_fldr)\n",
    "\n",
    "extracted_files = os.listdir(kaggle_datasets_fldr)\n",
    "#print(\"Files after extraction:\", extracted_files)\n",
    "\n",
    "csv_files = [file for file in extracted_files if file.endswith('.csv')]\n",
    "\n",
    "print(csv_files)   \n",
    "    "
   ]
  },
  {
   "cell_type": "code",
   "execution_count": 56,
   "id": "f98603da",
   "metadata": {},
   "outputs": [
    {
     "name": "stderr",
     "output_type": "stream",
     "text": [
      "C:\\Users\\pedam\\AppData\\Local\\Temp\\ipykernel_5256\\1571927680.py:5: DtypeWarning: Columns (104) have mixed types. Specify dtype option on import or set low_memory=False.\n",
      "  df = pd.read_csv(csv_file_path)\n",
      "C:\\Users\\pedam\\AppData\\Local\\Temp\\ipykernel_5256\\1571927680.py:5: DtypeWarning: Columns (104) have mixed types. Specify dtype option on import or set low_memory=False.\n",
      "  df = pd.read_csv(csv_file_path)\n",
      "C:\\Users\\pedam\\AppData\\Local\\Temp\\ipykernel_5256\\1571927680.py:5: DtypeWarning: Columns (81,82,83,84,85) have mixed types. Specify dtype option on import or set low_memory=False.\n",
      "  df = pd.read_csv(csv_file_path)\n",
      "C:\\Users\\pedam\\AppData\\Local\\Temp\\ipykernel_5256\\1571927680.py:5: DtypeWarning: Columns (25,108) have mixed types. Specify dtype option on import or set low_memory=False.\n",
      "  df = pd.read_csv(csv_file_path)\n"
     ]
    }
   ],
   "source": [
    " # Read each CSV file into a DataFrame and concatenate them\n",
    "dfs = []\n",
    "for csv_file in csv_files:\n",
    "    csv_file_path = os.path.join(kaggle_datasets_fldr, csv_file)\n",
    "    df = pd.read_csv(csv_file_path)\n",
    "    dfs.append(df)\n",
    "\n",
    "# Concatenate all DataFrames into a single DataFrame\n",
    "#final_df = pd.concat(dfs, ignore_index=True)\n",
    "\n",
    "# Print the first few rows of the concatenated DataFrame\n",
    "#print(\"Concatenated DataFrame:\")\n",
    "#print(final_df.head())\n"
   ]
  },
  {
   "cell_type": "code",
   "execution_count": 57,
   "id": "7f80c8bf",
   "metadata": {},
   "outputs": [
    {
     "data": {
      "text/plain": [
       "'players_22.csv'"
      ]
     },
     "execution_count": 57,
     "metadata": {},
     "output_type": "execute_result"
    }
   ],
   "source": [
    "csv_file"
   ]
  },
  {
   "cell_type": "code",
   "execution_count": 58,
   "id": "64c11b86",
   "metadata": {},
   "outputs": [],
   "source": [
    "csv_file_path = os.path.join(kaggle_datasets_fldr, csv_file)"
   ]
  },
  {
   "cell_type": "code",
   "execution_count": 59,
   "id": "146e8c8a",
   "metadata": {},
   "outputs": [
    {
     "name": "stderr",
     "output_type": "stream",
     "text": [
      "C:\\Users\\pedam\\AppData\\Local\\Temp\\ipykernel_5256\\1098609618.py:1: DtypeWarning: Columns (25,108) have mixed types. Specify dtype option on import or set low_memory=False.\n",
      "  players = pd.read_csv(csv_file_path, delimiter=',', quoting=csv.QUOTE_MINIMAL)\n"
     ]
    }
   ],
   "source": [
    "players = pd.read_csv(csv_file_path, delimiter=',', quoting=csv.QUOTE_MINIMAL)"
   ]
  },
  {
   "cell_type": "code",
   "execution_count": 60,
   "id": "c8c67ddc",
   "metadata": {},
   "outputs": [
    {
     "data": {
      "text/html": [
       "<div>\n",
       "<style scoped>\n",
       "    .dataframe tbody tr th:only-of-type {\n",
       "        vertical-align: middle;\n",
       "    }\n",
       "\n",
       "    .dataframe tbody tr th {\n",
       "        vertical-align: top;\n",
       "    }\n",
       "\n",
       "    .dataframe thead th {\n",
       "        text-align: right;\n",
       "    }\n",
       "</style>\n",
       "<table border=\"1\" class=\"dataframe\">\n",
       "  <thead>\n",
       "    <tr style=\"text-align: right;\">\n",
       "      <th></th>\n",
       "      <th>sofifa_id</th>\n",
       "      <th>player_url</th>\n",
       "      <th>short_name</th>\n",
       "      <th>long_name</th>\n",
       "      <th>player_positions</th>\n",
       "      <th>overall</th>\n",
       "      <th>potential</th>\n",
       "      <th>value_eur</th>\n",
       "      <th>wage_eur</th>\n",
       "      <th>age</th>\n",
       "      <th>...</th>\n",
       "      <th>lcb</th>\n",
       "      <th>cb</th>\n",
       "      <th>rcb</th>\n",
       "      <th>rb</th>\n",
       "      <th>gk</th>\n",
       "      <th>player_face_url</th>\n",
       "      <th>club_logo_url</th>\n",
       "      <th>club_flag_url</th>\n",
       "      <th>nation_logo_url</th>\n",
       "      <th>nation_flag_url</th>\n",
       "    </tr>\n",
       "  </thead>\n",
       "  <tbody>\n",
       "    <tr>\n",
       "      <th>0</th>\n",
       "      <td>158023</td>\n",
       "      <td>https://sofifa.com/player/158023/lionel-messi/...</td>\n",
       "      <td>L. Messi</td>\n",
       "      <td>Lionel Andrés Messi Cuccittini</td>\n",
       "      <td>RW, ST, CF</td>\n",
       "      <td>93</td>\n",
       "      <td>93</td>\n",
       "      <td>78000000.0</td>\n",
       "      <td>320000.0</td>\n",
       "      <td>34</td>\n",
       "      <td>...</td>\n",
       "      <td>50+3</td>\n",
       "      <td>50+3</td>\n",
       "      <td>50+3</td>\n",
       "      <td>61+3</td>\n",
       "      <td>19+3</td>\n",
       "      <td>https://cdn.sofifa.net/players/158/023/22_120.png</td>\n",
       "      <td>https://cdn.sofifa.net/teams/73/60.png</td>\n",
       "      <td>https://cdn.sofifa.net/flags/fr.png</td>\n",
       "      <td>https://cdn.sofifa.net/teams/1369/60.png</td>\n",
       "      <td>https://cdn.sofifa.net/flags/ar.png</td>\n",
       "    </tr>\n",
       "    <tr>\n",
       "      <th>1</th>\n",
       "      <td>188545</td>\n",
       "      <td>https://sofifa.com/player/188545/robert-lewand...</td>\n",
       "      <td>R. Lewandowski</td>\n",
       "      <td>Robert Lewandowski</td>\n",
       "      <td>ST</td>\n",
       "      <td>92</td>\n",
       "      <td>92</td>\n",
       "      <td>119500000.0</td>\n",
       "      <td>270000.0</td>\n",
       "      <td>32</td>\n",
       "      <td>...</td>\n",
       "      <td>60+3</td>\n",
       "      <td>60+3</td>\n",
       "      <td>60+3</td>\n",
       "      <td>61+3</td>\n",
       "      <td>19+3</td>\n",
       "      <td>https://cdn.sofifa.net/players/188/545/22_120.png</td>\n",
       "      <td>https://cdn.sofifa.net/teams/21/60.png</td>\n",
       "      <td>https://cdn.sofifa.net/flags/de.png</td>\n",
       "      <td>https://cdn.sofifa.net/teams/1353/60.png</td>\n",
       "      <td>https://cdn.sofifa.net/flags/pl.png</td>\n",
       "    </tr>\n",
       "    <tr>\n",
       "      <th>2</th>\n",
       "      <td>20801</td>\n",
       "      <td>https://sofifa.com/player/20801/c-ronaldo-dos-...</td>\n",
       "      <td>Cristiano Ronaldo</td>\n",
       "      <td>Cristiano Ronaldo dos Santos Aveiro</td>\n",
       "      <td>ST, LW</td>\n",
       "      <td>91</td>\n",
       "      <td>91</td>\n",
       "      <td>45000000.0</td>\n",
       "      <td>270000.0</td>\n",
       "      <td>36</td>\n",
       "      <td>...</td>\n",
       "      <td>53+3</td>\n",
       "      <td>53+3</td>\n",
       "      <td>53+3</td>\n",
       "      <td>60+3</td>\n",
       "      <td>20+3</td>\n",
       "      <td>https://cdn.sofifa.net/players/020/801/22_120.png</td>\n",
       "      <td>https://cdn.sofifa.net/teams/11/60.png</td>\n",
       "      <td>https://cdn.sofifa.net/flags/gb-eng.png</td>\n",
       "      <td>https://cdn.sofifa.net/teams/1354/60.png</td>\n",
       "      <td>https://cdn.sofifa.net/flags/pt.png</td>\n",
       "    </tr>\n",
       "    <tr>\n",
       "      <th>3</th>\n",
       "      <td>190871</td>\n",
       "      <td>https://sofifa.com/player/190871/neymar-da-sil...</td>\n",
       "      <td>Neymar Jr</td>\n",
       "      <td>Neymar da Silva Santos Júnior</td>\n",
       "      <td>LW, CAM</td>\n",
       "      <td>91</td>\n",
       "      <td>91</td>\n",
       "      <td>129000000.0</td>\n",
       "      <td>270000.0</td>\n",
       "      <td>29</td>\n",
       "      <td>...</td>\n",
       "      <td>50+3</td>\n",
       "      <td>50+3</td>\n",
       "      <td>50+3</td>\n",
       "      <td>62+3</td>\n",
       "      <td>20+3</td>\n",
       "      <td>https://cdn.sofifa.net/players/190/871/22_120.png</td>\n",
       "      <td>https://cdn.sofifa.net/teams/73/60.png</td>\n",
       "      <td>https://cdn.sofifa.net/flags/fr.png</td>\n",
       "      <td>NaN</td>\n",
       "      <td>https://cdn.sofifa.net/flags/br.png</td>\n",
       "    </tr>\n",
       "    <tr>\n",
       "      <th>4</th>\n",
       "      <td>192985</td>\n",
       "      <td>https://sofifa.com/player/192985/kevin-de-bruy...</td>\n",
       "      <td>K. De Bruyne</td>\n",
       "      <td>Kevin De Bruyne</td>\n",
       "      <td>CM, CAM</td>\n",
       "      <td>91</td>\n",
       "      <td>91</td>\n",
       "      <td>125500000.0</td>\n",
       "      <td>350000.0</td>\n",
       "      <td>30</td>\n",
       "      <td>...</td>\n",
       "      <td>69+3</td>\n",
       "      <td>69+3</td>\n",
       "      <td>69+3</td>\n",
       "      <td>75+3</td>\n",
       "      <td>21+3</td>\n",
       "      <td>https://cdn.sofifa.net/players/192/985/22_120.png</td>\n",
       "      <td>https://cdn.sofifa.net/teams/10/60.png</td>\n",
       "      <td>https://cdn.sofifa.net/flags/gb-eng.png</td>\n",
       "      <td>https://cdn.sofifa.net/teams/1325/60.png</td>\n",
       "      <td>https://cdn.sofifa.net/flags/be.png</td>\n",
       "    </tr>\n",
       "  </tbody>\n",
       "</table>\n",
       "<p>5 rows × 110 columns</p>\n",
       "</div>"
      ],
      "text/plain": [
       "   sofifa_id                                         player_url  \\\n",
       "0     158023  https://sofifa.com/player/158023/lionel-messi/...   \n",
       "1     188545  https://sofifa.com/player/188545/robert-lewand...   \n",
       "2      20801  https://sofifa.com/player/20801/c-ronaldo-dos-...   \n",
       "3     190871  https://sofifa.com/player/190871/neymar-da-sil...   \n",
       "4     192985  https://sofifa.com/player/192985/kevin-de-bruy...   \n",
       "\n",
       "          short_name                            long_name player_positions  \\\n",
       "0           L. Messi       Lionel Andrés Messi Cuccittini       RW, ST, CF   \n",
       "1     R. Lewandowski                   Robert Lewandowski               ST   \n",
       "2  Cristiano Ronaldo  Cristiano Ronaldo dos Santos Aveiro           ST, LW   \n",
       "3          Neymar Jr        Neymar da Silva Santos Júnior          LW, CAM   \n",
       "4       K. De Bruyne                      Kevin De Bruyne          CM, CAM   \n",
       "\n",
       "   overall  potential    value_eur  wage_eur  age  ...   lcb    cb   rcb  \\\n",
       "0       93         93   78000000.0  320000.0   34  ...  50+3  50+3  50+3   \n",
       "1       92         92  119500000.0  270000.0   32  ...  60+3  60+3  60+3   \n",
       "2       91         91   45000000.0  270000.0   36  ...  53+3  53+3  53+3   \n",
       "3       91         91  129000000.0  270000.0   29  ...  50+3  50+3  50+3   \n",
       "4       91         91  125500000.0  350000.0   30  ...  69+3  69+3  69+3   \n",
       "\n",
       "     rb    gk                                    player_face_url  \\\n",
       "0  61+3  19+3  https://cdn.sofifa.net/players/158/023/22_120.png   \n",
       "1  61+3  19+3  https://cdn.sofifa.net/players/188/545/22_120.png   \n",
       "2  60+3  20+3  https://cdn.sofifa.net/players/020/801/22_120.png   \n",
       "3  62+3  20+3  https://cdn.sofifa.net/players/190/871/22_120.png   \n",
       "4  75+3  21+3  https://cdn.sofifa.net/players/192/985/22_120.png   \n",
       "\n",
       "                            club_logo_url  \\\n",
       "0  https://cdn.sofifa.net/teams/73/60.png   \n",
       "1  https://cdn.sofifa.net/teams/21/60.png   \n",
       "2  https://cdn.sofifa.net/teams/11/60.png   \n",
       "3  https://cdn.sofifa.net/teams/73/60.png   \n",
       "4  https://cdn.sofifa.net/teams/10/60.png   \n",
       "\n",
       "                             club_flag_url  \\\n",
       "0      https://cdn.sofifa.net/flags/fr.png   \n",
       "1      https://cdn.sofifa.net/flags/de.png   \n",
       "2  https://cdn.sofifa.net/flags/gb-eng.png   \n",
       "3      https://cdn.sofifa.net/flags/fr.png   \n",
       "4  https://cdn.sofifa.net/flags/gb-eng.png   \n",
       "\n",
       "                            nation_logo_url  \\\n",
       "0  https://cdn.sofifa.net/teams/1369/60.png   \n",
       "1  https://cdn.sofifa.net/teams/1353/60.png   \n",
       "2  https://cdn.sofifa.net/teams/1354/60.png   \n",
       "3                                       NaN   \n",
       "4  https://cdn.sofifa.net/teams/1325/60.png   \n",
       "\n",
       "                       nation_flag_url  \n",
       "0  https://cdn.sofifa.net/flags/ar.png  \n",
       "1  https://cdn.sofifa.net/flags/pl.png  \n",
       "2  https://cdn.sofifa.net/flags/pt.png  \n",
       "3  https://cdn.sofifa.net/flags/br.png  \n",
       "4  https://cdn.sofifa.net/flags/be.png  \n",
       "\n",
       "[5 rows x 110 columns]"
      ]
     },
     "execution_count": 60,
     "metadata": {},
     "output_type": "execute_result"
    }
   ],
   "source": [
    "players.head()"
   ]
  },
  {
   "cell_type": "code",
   "execution_count": 61,
   "id": "aa0f6b77",
   "metadata": {},
   "outputs": [
    {
     "name": "stdout",
     "output_type": "stream",
     "text": [
      "+----+-------------+--------------------------------------------------------------------+-------------------+-------------------------------------+--------------------+-----------+-------------+-------------+------------+-------+------------+-------------+-------------+----------------+---------------------+------------------------+----------------+-----------------+----------------------+--------------------+---------------+-----------------------------+------------------+--------------------+------------------+-------------------+------------------------+------------------+-------------+---------------+----------------------------+-------------+-------------+-------------+----------------------+---------------------------------------------------------------------------------------------------------+---------------------------------------------------------------------------------------------------------------------------------+--------+------------+-----------+-------------+-------------+----------+----------------------+-----------------------+------------------------------+---------------------------+---------------------+-------------------+---------------+---------------------+----------------------+----------------------+-------------------------+-------------------------+--------------------+----------------------+--------------------+--------------------+-----------------+-----------------+------------------+--------------------+------------------------+---------------------------+-------------------------+--------------------+-----------------------+-----------------------+-------------------------------+-----------------------------+----------------------------+----------------------+------------------------+-----------------------+---------------------------+------------------------+---------------------+------+------+------+------+------+------+------+------+-------+-------+-------+------+-------+------+-------+------+-------+-------+-------+-------+-------+------+-------+------+-------+------+------+---------------------------------------------------+----------------------------------------+-----------------------------------------+------------------------------------------+-------------------------------------+\n",
      "|    |   sofifa_id | player_url                                                         | short_name        | long_name                           | player_positions   |   overall |   potential |   value_eur |   wage_eur |   age | dob        |   height_cm |   weight_kg |   club_team_id | club_name           | league_name            |   league_level | club_position   |   club_jersey_number |   club_loaned_from | club_joined   |   club_contract_valid_until |   nationality_id | nationality_name   |   nation_team_id | nation_position   |   nation_jersey_number | preferred_foot   |   weak_foot |   skill_moves |   international_reputation | work_rate   | body_type   | real_face   |   release_clause_eur | player_tags                                                                                             | player_traits                                                                                                                   |   pace |   shooting |   passing |   dribbling |   defending |   physic |   attacking_crossing |   attacking_finishing |   attacking_heading_accuracy |   attacking_short_passing |   attacking_volleys |   skill_dribbling |   skill_curve |   skill_fk_accuracy |   skill_long_passing |   skill_ball_control |   movement_acceleration |   movement_sprint_speed |   movement_agility |   movement_reactions |   movement_balance |   power_shot_power |   power_jumping |   power_stamina |   power_strength |   power_long_shots |   mentality_aggression |   mentality_interceptions |   mentality_positioning |   mentality_vision |   mentality_penalties |   mentality_composure |   defending_marking_awareness |   defending_standing_tackle |   defending_sliding_tackle |   goalkeeping_diving |   goalkeeping_handling |   goalkeeping_kicking |   goalkeeping_positioning |   goalkeeping_reflexes |   goalkeeping_speed | ls   | st   | rs   |   lw |   lf |   cf |   rf |   rw | lam   | cam   | ram   | lm   | lcm   | cm   | rcm   | rm   | lwb   | ldm   | cdm   | rdm   | rwb   | lb   | lcb   | cb   | rcb   | rb   | gk   | player_face_url                                   | club_logo_url                          | club_flag_url                           | nation_logo_url                          | nation_flag_url                     |\n",
      "|----+-------------+--------------------------------------------------------------------+-------------------+-------------------------------------+--------------------+-----------+-------------+-------------+------------+-------+------------+-------------+-------------+----------------+---------------------+------------------------+----------------+-----------------+----------------------+--------------------+---------------+-----------------------------+------------------+--------------------+------------------+-------------------+------------------------+------------------+-------------+---------------+----------------------------+-------------+-------------+-------------+----------------------+---------------------------------------------------------------------------------------------------------+---------------------------------------------------------------------------------------------------------------------------------+--------+------------+-----------+-------------+-------------+----------+----------------------+-----------------------+------------------------------+---------------------------+---------------------+-------------------+---------------+---------------------+----------------------+----------------------+-------------------------+-------------------------+--------------------+----------------------+--------------------+--------------------+-----------------+-----------------+------------------+--------------------+------------------------+---------------------------+-------------------------+--------------------+-----------------------+-----------------------+-------------------------------+-----------------------------+----------------------------+----------------------+------------------------+-----------------------+---------------------------+------------------------+---------------------+------+------+------+------+------+------+------+------+-------+-------+-------+------+-------+------+-------+------+-------+-------+-------+-------+-------+------+-------+------+-------+------+------+---------------------------------------------------+----------------------------------------+-----------------------------------------+------------------------------------------+-------------------------------------|\n",
      "|  0 |      158023 | https://sofifa.com/player/158023/lionel-messi/220002               | L. Messi          | Lionel Andrés Messi Cuccittini      | RW, ST, CF         |        93 |          93 |   7.8e+07   |     320000 |    34 | 1987-06-24 |         170 |          72 |             73 | Paris Saint-Germain | French Ligue 1         |              1 | RW              |                   30 |                nan | 2021-08-10    |                        2023 |               52 | Argentina          |             1369 | RW                |                     10 | Left             |           4 |             4 |                          5 | Medium/Low  | Unique      | Yes         |            1.443e+08 | #Dribbler, #Distance Shooter, #FK Specialist, #Acrobat, #Clinical Finisher, #Complete Forward           | Finesse Shot, Long Shot Taker (AI), Playmaker (AI), Outside Foot Shot, One Club Player, Chip Shot (AI), Technical Dribbler (AI) |     85 |         92 |        91 |          95 |          34 |       65 |                   85 |                    95 |                           70 |                        91 |                  88 |                96 |            93 |                  94 |                   91 |                   96 |                      91 |                      80 |                 91 |                   94 |                 95 |                 86 |              68 |              72 |               69 |                 94 |                     44 |                        40 |                      93 |                 95 |                    75 |                    96 |                            20 |                          35 |                         24 |                    6 |                     11 |                    15 |                        14 |                      8 |                 nan | 89+3 | 89+3 | 89+3 |   92 |   93 |   93 |   93 |   92 | 93    | 93    | 93    | 91+2 | 87+3  | 87+3 | 87+3  | 91+2 | 66+3  | 64+3  | 64+3  | 64+3  | 66+3  | 61+3 | 50+3  | 50+3 | 50+3  | 61+3 | 19+3 | https://cdn.sofifa.net/players/158/023/22_120.png | https://cdn.sofifa.net/teams/73/60.png | https://cdn.sofifa.net/flags/fr.png     | https://cdn.sofifa.net/teams/1369/60.png | https://cdn.sofifa.net/flags/ar.png |\n",
      "|  1 |      188545 | https://sofifa.com/player/188545/robert-lewandowski/220002         | R. Lewandowski    | Robert Lewandowski                  | ST                 |        92 |          92 |   1.195e+08 |     270000 |    32 | 1988-08-21 |         185 |          81 |             21 | FC Bayern München   | German 1. Bundesliga   |              1 | ST              |                    9 |                nan | 2014-07-01    |                        2023 |               37 | Poland             |             1353 | RS                |                      9 | Right            |           4 |             4 |                          5 | High/Medium | Unique      | Yes         |            1.972e+08 | #Aerial Threat, #Distance Shooter, #Clinical Finisher, #Complete Forward                                | Solid Player, Finesse Shot, Outside Foot Shot, Chip Shot (AI)                                                                   |     78 |         92 |        79 |          86 |          44 |       82 |                   71 |                    95 |                           90 |                        85 |                  89 |                85 |            79 |                  85 |                   70 |                   88 |                      77 |                      79 |                 77 |                   93 |                 82 |                 90 |              85 |              76 |               86 |                 87 |                     81 |                        49 |                      95 |                 81 |                    90 |                    88 |                            35 |                          42 |                         19 |                   15 |                      6 |                    12 |                         8 |                     10 |                 nan | 90+2 | 90+2 | 90+2 |   85 |   88 |   88 |   88 |   85 | 86+3  | 86+3  | 86+3  | 84+3 | 80+3  | 80+3 | 80+3  | 84+3 | 64+3  | 66+3  | 66+3  | 66+3  | 64+3  | 61+3 | 60+3  | 60+3 | 60+3  | 61+3 | 19+3 | https://cdn.sofifa.net/players/188/545/22_120.png | https://cdn.sofifa.net/teams/21/60.png | https://cdn.sofifa.net/flags/de.png     | https://cdn.sofifa.net/teams/1353/60.png | https://cdn.sofifa.net/flags/pl.png |\n",
      "|  2 |       20801 | https://sofifa.com/player/20801/c-ronaldo-dos-santos-aveiro/220002 | Cristiano Ronaldo | Cristiano Ronaldo dos Santos Aveiro | ST, LW             |        91 |          91 |   4.5e+07   |     270000 |    36 | 1985-02-05 |         187 |          83 |             11 | Manchester United   | English Premier League |              1 | ST              |                    7 |                nan | 2021-08-27    |                        2023 |               38 | Portugal           |             1354 | ST                |                      7 | Right            |           4 |             5 |                          5 | High/Low    | Unique      | Yes         |            8.33e+07  | #Aerial Threat, #Dribbler, #Distance Shooter, #Crosser, #Acrobat, #Clinical Finisher, #Complete Forward | Power Free-Kick, Flair, Long Shot Taker (AI), Speed Dribbler (AI), Outside Foot Shot                                            |     87 |         94 |        80 |          88 |          34 |       75 |                   87 |                    95 |                           90 |                        80 |                  86 |                88 |            81 |                  84 |                   77 |                   88 |                      85 |                      88 |                 86 |                   94 |                 74 |                 94 |              95 |              77 |               77 |                 93 |                     63 |                        29 |                      95 |                 76 |                    88 |                    95 |                            24 |                          32 |                         24 |                    7 |                     11 |                    15 |                        14 |                     11 |                 nan | 90+1 | 90+1 | 90+1 |   88 |   89 |   89 |   89 |   88 | 86+3  | 86+3  | 86+3  | 86+3 | 78+3  | 78+3 | 78+3  | 86+3 | 63+3  | 59+3  | 59+3  | 59+3  | 63+3  | 60+3 | 53+3  | 53+3 | 53+3  | 60+3 | 20+3 | https://cdn.sofifa.net/players/020/801/22_120.png | https://cdn.sofifa.net/teams/11/60.png | https://cdn.sofifa.net/flags/gb-eng.png | https://cdn.sofifa.net/teams/1354/60.png | https://cdn.sofifa.net/flags/pt.png |\n",
      "|  3 |      190871 | https://sofifa.com/player/190871/neymar-da-silva-santos-jr/220002  | Neymar Jr         | Neymar da Silva Santos Júnior       | LW, CAM            |        91 |          91 |   1.29e+08  |     270000 |    29 | 1992-02-05 |         175 |          68 |             73 | Paris Saint-Germain | French Ligue 1         |              1 | LW              |                   10 |                nan | 2017-08-03    |                        2025 |               54 | Brazil             |              nan | nan               |                    nan | Right            |           5 |             5 |                          5 | High/Medium | Unique      | Yes         |            2.387e+08 | #Speedster, #Dribbler, #Playmaker, #FK Specialist, #Acrobat, #Complete Midfielder                       | Injury Prone, Flair, Speed Dribbler (AI), Playmaker (AI), Outside Foot Shot, Technical Dribbler (AI)                            |     91 |         83 |        86 |          94 |          37 |       63 |                   85 |                    83 |                           63 |                        86 |                  86 |                95 |            88 |                  87 |                   81 |                   95 |                      93 |                      89 |                 96 |                   89 |                 84 |                 80 |              64 |              81 |               53 |                 81 |                     63 |                        37 |                      86 |                 90 |                    93 |                    93 |                            35 |                          32 |                         29 |                    9 |                      9 |                    15 |                        15 |                     11 |                 nan | 83+3 | 83+3 | 83+3 |   90 |   88 |   88 |   88 |   90 | 89+2  | 89+2  | 89+2  | 89+2 | 82+3  | 82+3 | 82+3  | 89+2 | 67+3  | 63+3  | 63+3  | 63+3  | 67+3  | 62+3 | 50+3  | 50+3 | 50+3  | 62+3 | 20+3 | https://cdn.sofifa.net/players/190/871/22_120.png | https://cdn.sofifa.net/teams/73/60.png | https://cdn.sofifa.net/flags/fr.png     | nan                                      | https://cdn.sofifa.net/flags/br.png |\n",
      "|  4 |      192985 | https://sofifa.com/player/192985/kevin-de-bruyne/220002            | K. De Bruyne      | Kevin De Bruyne                     | CM, CAM            |        91 |          91 |   1.255e+08 |     350000 |    30 | 1991-06-28 |         181 |          70 |             10 | Manchester City     | English Premier League |              1 | RCM             |                   17 |                nan | 2015-08-30    |                        2025 |                7 | Belgium            |             1325 | RCM               |                      7 | Right            |           5 |             4 |                          4 | High/High   | Unique      | Yes         |            2.322e+08 | #Dribbler, #Playmaker, #Engine, #Distance Shooter, #Crosser, #Complete Midfielder                       | Injury Prone, Leadership, Early Crosser, Long Passer (AI), Long Shot Taker (AI), Playmaker (AI), Outside Foot Shot              |     76 |         86 |        93 |          88 |          64 |       78 |                   94 |                    82 |                           55 |                        94 |                  82 |                88 |            85 |                  83 |                   93 |                   91 |                      76 |                      76 |                 79 |                   91 |                 78 |                 91 |              63 |              89 |               74 |                 91 |                     76 |                        66 |                      88 |                 94 |                    83 |                    89 |                            68 |                          65 |                         53 |                   15 |                     13 |                     5 |                        10 |                     13 |                 nan | 83+3 | 83+3 | 83+3 |   88 |   87 |   87 |   87 |   88 | 89+2  | 89+2  | 89+2  | 89+2 | 89+2  | 89+2 | 89+2  | 89+2 | 79+3  | 80+3  | 80+3  | 80+3  | 79+3  | 75+3 | 69+3  | 69+3 | 69+3  | 75+3 | 21+3 | https://cdn.sofifa.net/players/192/985/22_120.png | https://cdn.sofifa.net/teams/10/60.png | https://cdn.sofifa.net/flags/gb-eng.png | https://cdn.sofifa.net/teams/1325/60.png | https://cdn.sofifa.net/flags/be.png |\n",
      "+----+-------------+--------------------------------------------------------------------+-------------------+-------------------------------------+--------------------+-----------+-------------+-------------+------------+-------+------------+-------------+-------------+----------------+---------------------+------------------------+----------------+-----------------+----------------------+--------------------+---------------+-----------------------------+------------------+--------------------+------------------+-------------------+------------------------+------------------+-------------+---------------+----------------------------+-------------+-------------+-------------+----------------------+---------------------------------------------------------------------------------------------------------+---------------------------------------------------------------------------------------------------------------------------------+--------+------------+-----------+-------------+-------------+----------+----------------------+-----------------------+------------------------------+---------------------------+---------------------+-------------------+---------------+---------------------+----------------------+----------------------+-------------------------+-------------------------+--------------------+----------------------+--------------------+--------------------+-----------------+-----------------+------------------+--------------------+------------------------+---------------------------+-------------------------+--------------------+-----------------------+-----------------------+-------------------------------+-----------------------------+----------------------------+----------------------+------------------------+-----------------------+---------------------------+------------------------+---------------------+------+------+------+------+------+------+------+------+-------+-------+-------+------+-------+------+-------+------+-------+-------+-------+-------+-------+------+-------+------+-------+------+------+---------------------------------------------------+----------------------------------------+-----------------------------------------+------------------------------------------+-------------------------------------+\n"
     ]
    }
   ],
   "source": [
    "print(tabulate(players.head(), headers='keys', tablefmt='psql'))"
   ]
  },
  {
   "cell_type": "code",
   "execution_count": 96,
   "id": "b5388455",
   "metadata": {},
   "outputs": [],
   "source": [
    "features = [\"overall\",\"potential\",\"wage_eur\", \"value_eur\", \"age\"]\n",
    "players = players.dropna(subset = features) #drop all the rows with null values on the given features --set of colums"
   ]
  },
  {
   "cell_type": "code",
   "execution_count": 97,
   "id": "277e5006",
   "metadata": {},
   "outputs": [],
   "source": [
    "data = players[features].copy()"
   ]
  },
  {
   "cell_type": "code",
   "execution_count": 98,
   "id": "caf44aa5",
   "metadata": {},
   "outputs": [
    {
     "data": {
      "text/html": [
       "<div>\n",
       "<style scoped>\n",
       "    .dataframe tbody tr th:only-of-type {\n",
       "        vertical-align: middle;\n",
       "    }\n",
       "\n",
       "    .dataframe tbody tr th {\n",
       "        vertical-align: top;\n",
       "    }\n",
       "\n",
       "    .dataframe thead th {\n",
       "        text-align: right;\n",
       "    }\n",
       "</style>\n",
       "<table border=\"1\" class=\"dataframe\">\n",
       "  <thead>\n",
       "    <tr style=\"text-align: right;\">\n",
       "      <th></th>\n",
       "      <th>overall</th>\n",
       "      <th>potential</th>\n",
       "      <th>wage_eur</th>\n",
       "      <th>value_eur</th>\n",
       "      <th>age</th>\n",
       "    </tr>\n",
       "  </thead>\n",
       "  <tbody>\n",
       "    <tr>\n",
       "      <th>0</th>\n",
       "      <td>93</td>\n",
       "      <td>93</td>\n",
       "      <td>320000.0</td>\n",
       "      <td>78000000.0</td>\n",
       "      <td>34</td>\n",
       "    </tr>\n",
       "    <tr>\n",
       "      <th>1</th>\n",
       "      <td>92</td>\n",
       "      <td>92</td>\n",
       "      <td>270000.0</td>\n",
       "      <td>119500000.0</td>\n",
       "      <td>32</td>\n",
       "    </tr>\n",
       "    <tr>\n",
       "      <th>2</th>\n",
       "      <td>91</td>\n",
       "      <td>91</td>\n",
       "      <td>270000.0</td>\n",
       "      <td>45000000.0</td>\n",
       "      <td>36</td>\n",
       "    </tr>\n",
       "    <tr>\n",
       "      <th>3</th>\n",
       "      <td>91</td>\n",
       "      <td>91</td>\n",
       "      <td>270000.0</td>\n",
       "      <td>129000000.0</td>\n",
       "      <td>29</td>\n",
       "    </tr>\n",
       "    <tr>\n",
       "      <th>4</th>\n",
       "      <td>91</td>\n",
       "      <td>91</td>\n",
       "      <td>350000.0</td>\n",
       "      <td>125500000.0</td>\n",
       "      <td>30</td>\n",
       "    </tr>\n",
       "    <tr>\n",
       "      <th>...</th>\n",
       "      <td>...</td>\n",
       "      <td>...</td>\n",
       "      <td>...</td>\n",
       "      <td>...</td>\n",
       "      <td>...</td>\n",
       "    </tr>\n",
       "    <tr>\n",
       "      <th>19234</th>\n",
       "      <td>47</td>\n",
       "      <td>52</td>\n",
       "      <td>1000.0</td>\n",
       "      <td>70000.0</td>\n",
       "      <td>22</td>\n",
       "    </tr>\n",
       "    <tr>\n",
       "      <th>19235</th>\n",
       "      <td>47</td>\n",
       "      <td>59</td>\n",
       "      <td>500.0</td>\n",
       "      <td>110000.0</td>\n",
       "      <td>19</td>\n",
       "    </tr>\n",
       "    <tr>\n",
       "      <th>19236</th>\n",
       "      <td>47</td>\n",
       "      <td>55</td>\n",
       "      <td>500.0</td>\n",
       "      <td>100000.0</td>\n",
       "      <td>21</td>\n",
       "    </tr>\n",
       "    <tr>\n",
       "      <th>19237</th>\n",
       "      <td>47</td>\n",
       "      <td>60</td>\n",
       "      <td>500.0</td>\n",
       "      <td>110000.0</td>\n",
       "      <td>19</td>\n",
       "    </tr>\n",
       "    <tr>\n",
       "      <th>19238</th>\n",
       "      <td>47</td>\n",
       "      <td>60</td>\n",
       "      <td>500.0</td>\n",
       "      <td>110000.0</td>\n",
       "      <td>19</td>\n",
       "    </tr>\n",
       "  </tbody>\n",
       "</table>\n",
       "<p>19165 rows × 5 columns</p>\n",
       "</div>"
      ],
      "text/plain": [
       "       overall  potential  wage_eur    value_eur  age\n",
       "0           93         93  320000.0   78000000.0   34\n",
       "1           92         92  270000.0  119500000.0   32\n",
       "2           91         91  270000.0   45000000.0   36\n",
       "3           91         91  270000.0  129000000.0   29\n",
       "4           91         91  350000.0  125500000.0   30\n",
       "...        ...        ...       ...          ...  ...\n",
       "19234       47         52    1000.0      70000.0   22\n",
       "19235       47         59     500.0     110000.0   19\n",
       "19236       47         55     500.0     100000.0   21\n",
       "19237       47         60     500.0     110000.0   19\n",
       "19238       47         60     500.0     110000.0   19\n",
       "\n",
       "[19165 rows x 5 columns]"
      ]
     },
     "execution_count": 98,
     "metadata": {},
     "output_type": "execute_result"
    }
   ],
   "source": [
    "data"
   ]
  },
  {
   "cell_type": "code",
   "execution_count": 19,
   "id": "3882c15e",
   "metadata": {},
   "outputs": [],
   "source": [
    "# Steps used in the kmeans data processing the values.\n",
    "# 1. Scale the data -- we want the data to go from certain value to certain value,\n",
    "# with clustering we want every column to be treated equally, rescale the max value 1 to 10.\n",
    "# 2.Initialize random centroids\n",
    "# 3. Label each data point\n",
    "# 4. Update Centroids\n",
    "# 5. Repeat steps 3 and 4 until cetroids stop changing\n",
    "#####Refer the notebook more about scaling.\n",
    "\n"
   ]
  },
  {
   "cell_type": "code",
   "execution_count": 101,
   "id": "3ae72f7e",
   "metadata": {},
   "outputs": [],
   "source": [
    "data_cook = ((data - data.min())/(data.max() - data.min())) * 9 + 1\n"
   ]
  },
  {
   "cell_type": "code",
   "execution_count": 100,
   "id": "07d09ecf",
   "metadata": {},
   "outputs": [
    {
     "data": {
      "text/plain": [
       "overall             93.0\n",
       "potential           95.0\n",
       "wage_eur        350000.0\n",
       "value_eur    194000000.0\n",
       "age                 43.0\n",
       "dtype: float64"
      ]
     },
     "execution_count": 100,
     "metadata": {},
     "output_type": "execute_result"
    }
   ],
   "source": [
    "data.max()"
   ]
  },
  {
   "cell_type": "code",
   "execution_count": 102,
   "id": "15f09801",
   "metadata": {},
   "outputs": [
    {
     "data": {
      "text/html": [
       "<div>\n",
       "<style scoped>\n",
       "    .dataframe tbody tr th:only-of-type {\n",
       "        vertical-align: middle;\n",
       "    }\n",
       "\n",
       "    .dataframe tbody tr th {\n",
       "        vertical-align: top;\n",
       "    }\n",
       "\n",
       "    .dataframe thead th {\n",
       "        text-align: right;\n",
       "    }\n",
       "</style>\n",
       "<table border=\"1\" class=\"dataframe\">\n",
       "  <thead>\n",
       "    <tr style=\"text-align: right;\">\n",
       "      <th></th>\n",
       "      <th>overall</th>\n",
       "      <th>potential</th>\n",
       "      <th>wage_eur</th>\n",
       "      <th>value_eur</th>\n",
       "      <th>age</th>\n",
       "    </tr>\n",
       "  </thead>\n",
       "  <tbody>\n",
       "    <tr>\n",
       "      <th>0</th>\n",
       "      <td>10.000000</td>\n",
       "      <td>9.608696</td>\n",
       "      <td>9.227468</td>\n",
       "      <td>4.618307</td>\n",
       "      <td>7.000000</td>\n",
       "    </tr>\n",
       "    <tr>\n",
       "      <th>1</th>\n",
       "      <td>9.804348</td>\n",
       "      <td>9.413043</td>\n",
       "      <td>7.939914</td>\n",
       "      <td>6.543654</td>\n",
       "      <td>6.333333</td>\n",
       "    </tr>\n",
       "    <tr>\n",
       "      <th>2</th>\n",
       "      <td>9.608696</td>\n",
       "      <td>9.217391</td>\n",
       "      <td>7.939914</td>\n",
       "      <td>3.087308</td>\n",
       "      <td>7.666667</td>\n",
       "    </tr>\n",
       "    <tr>\n",
       "      <th>3</th>\n",
       "      <td>9.608696</td>\n",
       "      <td>9.217391</td>\n",
       "      <td>7.939914</td>\n",
       "      <td>6.984396</td>\n",
       "      <td>5.333333</td>\n",
       "    </tr>\n",
       "    <tr>\n",
       "      <th>4</th>\n",
       "      <td>9.608696</td>\n",
       "      <td>9.217391</td>\n",
       "      <td>10.000000</td>\n",
       "      <td>6.822018</td>\n",
       "      <td>5.666667</td>\n",
       "    </tr>\n",
       "    <tr>\n",
       "      <th>...</th>\n",
       "      <td>...</td>\n",
       "      <td>...</td>\n",
       "      <td>...</td>\n",
       "      <td>...</td>\n",
       "      <td>...</td>\n",
       "    </tr>\n",
       "    <tr>\n",
       "      <th>19234</th>\n",
       "      <td>1.000000</td>\n",
       "      <td>1.586957</td>\n",
       "      <td>1.012876</td>\n",
       "      <td>1.002830</td>\n",
       "      <td>3.000000</td>\n",
       "    </tr>\n",
       "    <tr>\n",
       "      <th>19235</th>\n",
       "      <td>1.000000</td>\n",
       "      <td>2.956522</td>\n",
       "      <td>1.000000</td>\n",
       "      <td>1.004686</td>\n",
       "      <td>2.000000</td>\n",
       "    </tr>\n",
       "    <tr>\n",
       "      <th>19236</th>\n",
       "      <td>1.000000</td>\n",
       "      <td>2.173913</td>\n",
       "      <td>1.000000</td>\n",
       "      <td>1.004222</td>\n",
       "      <td>2.666667</td>\n",
       "    </tr>\n",
       "    <tr>\n",
       "      <th>19237</th>\n",
       "      <td>1.000000</td>\n",
       "      <td>3.152174</td>\n",
       "      <td>1.000000</td>\n",
       "      <td>1.004686</td>\n",
       "      <td>2.000000</td>\n",
       "    </tr>\n",
       "    <tr>\n",
       "      <th>19238</th>\n",
       "      <td>1.000000</td>\n",
       "      <td>3.152174</td>\n",
       "      <td>1.000000</td>\n",
       "      <td>1.004686</td>\n",
       "      <td>2.000000</td>\n",
       "    </tr>\n",
       "  </tbody>\n",
       "</table>\n",
       "<p>19165 rows × 5 columns</p>\n",
       "</div>"
      ],
      "text/plain": [
       "         overall  potential   wage_eur  value_eur       age\n",
       "0      10.000000   9.608696   9.227468   4.618307  7.000000\n",
       "1       9.804348   9.413043   7.939914   6.543654  6.333333\n",
       "2       9.608696   9.217391   7.939914   3.087308  7.666667\n",
       "3       9.608696   9.217391   7.939914   6.984396  5.333333\n",
       "4       9.608696   9.217391  10.000000   6.822018  5.666667\n",
       "...          ...        ...        ...        ...       ...\n",
       "19234   1.000000   1.586957   1.012876   1.002830  3.000000\n",
       "19235   1.000000   2.956522   1.000000   1.004686  2.000000\n",
       "19236   1.000000   2.173913   1.000000   1.004222  2.666667\n",
       "19237   1.000000   3.152174   1.000000   1.004686  2.000000\n",
       "19238   1.000000   3.152174   1.000000   1.004686  2.000000\n",
       "\n",
       "[19165 rows x 5 columns]"
      ]
     },
     "execution_count": 102,
     "metadata": {},
     "output_type": "execute_result"
    }
   ],
   "source": [
    "data_cook"
   ]
  },
  {
   "cell_type": "code",
   "execution_count": 67,
   "id": "c162e1cc",
   "metadata": {},
   "outputs": [],
   "source": [
    "def random_centroids(data, k):    \n",
    "    centroids = []\n",
    "    for i in range(k):\n",
    "        centroid = data.apply(lambda x : float(x.sample()))\n",
    "        centroids.append(centroid)\n",
    "    return pd.concat(centroids, axis=1)"
   ]
  },
  {
   "cell_type": "code",
   "execution_count": 104,
   "id": "0fce1632",
   "metadata": {},
   "outputs": [
    {
     "name": "stderr",
     "output_type": "stream",
     "text": [
      "C:\\Users\\pedam\\AppData\\Local\\Temp\\ipykernel_5256\\1366337903.py:4: FutureWarning: Calling float on a single element Series is deprecated and will raise a TypeError in the future. Use float(ser.iloc[0]) instead\n",
      "  centroid = data.apply(lambda x : float(x.sample()))\n"
     ]
    }
   ],
   "source": [
    "centroids = random_centroids(data_cook, 3)"
   ]
  },
  {
   "cell_type": "code",
   "execution_count": 105,
   "id": "5526d901",
   "metadata": {},
   "outputs": [
    {
     "data": {
      "text/html": [
       "<div>\n",
       "<style scoped>\n",
       "    .dataframe tbody tr th:only-of-type {\n",
       "        vertical-align: middle;\n",
       "    }\n",
       "\n",
       "    .dataframe tbody tr th {\n",
       "        vertical-align: top;\n",
       "    }\n",
       "\n",
       "    .dataframe thead th {\n",
       "        text-align: right;\n",
       "    }\n",
       "</style>\n",
       "<table border=\"1\" class=\"dataframe\">\n",
       "  <thead>\n",
       "    <tr style=\"text-align: right;\">\n",
       "      <th></th>\n",
       "      <th>overall</th>\n",
       "      <th>potential</th>\n",
       "      <th>wage_eur</th>\n",
       "      <th>value_eur</th>\n",
       "      <th>age</th>\n",
       "    </tr>\n",
       "  </thead>\n",
       "  <tbody>\n",
       "    <tr>\n",
       "      <th>0</th>\n",
       "      <td>10.000000</td>\n",
       "      <td>9.608696</td>\n",
       "      <td>9.227468</td>\n",
       "      <td>4.618307</td>\n",
       "      <td>7.000000</td>\n",
       "    </tr>\n",
       "    <tr>\n",
       "      <th>1</th>\n",
       "      <td>9.804348</td>\n",
       "      <td>9.413043</td>\n",
       "      <td>7.939914</td>\n",
       "      <td>6.543654</td>\n",
       "      <td>6.333333</td>\n",
       "    </tr>\n",
       "    <tr>\n",
       "      <th>2</th>\n",
       "      <td>9.608696</td>\n",
       "      <td>9.217391</td>\n",
       "      <td>7.939914</td>\n",
       "      <td>3.087308</td>\n",
       "      <td>7.666667</td>\n",
       "    </tr>\n",
       "    <tr>\n",
       "      <th>3</th>\n",
       "      <td>9.608696</td>\n",
       "      <td>9.217391</td>\n",
       "      <td>7.939914</td>\n",
       "      <td>6.984396</td>\n",
       "      <td>5.333333</td>\n",
       "    </tr>\n",
       "    <tr>\n",
       "      <th>4</th>\n",
       "      <td>9.608696</td>\n",
       "      <td>9.217391</td>\n",
       "      <td>10.000000</td>\n",
       "      <td>6.822018</td>\n",
       "      <td>5.666667</td>\n",
       "    </tr>\n",
       "  </tbody>\n",
       "</table>\n",
       "</div>"
      ],
      "text/plain": [
       "     overall  potential   wage_eur  value_eur       age\n",
       "0  10.000000   9.608696   9.227468   4.618307  7.000000\n",
       "1   9.804348   9.413043   7.939914   6.543654  6.333333\n",
       "2   9.608696   9.217391   7.939914   3.087308  7.666667\n",
       "3   9.608696   9.217391   7.939914   6.984396  5.333333\n",
       "4   9.608696   9.217391  10.000000   6.822018  5.666667"
      ]
     },
     "execution_count": 105,
     "metadata": {},
     "output_type": "execute_result"
    }
   ],
   "source": [
    "data_cook.head()"
   ]
  },
  {
   "cell_type": "code",
   "execution_count": 106,
   "id": "bc2b33f9",
   "metadata": {},
   "outputs": [
    {
     "data": {
      "text/html": [
       "<div>\n",
       "<style scoped>\n",
       "    .dataframe tbody tr th:only-of-type {\n",
       "        vertical-align: middle;\n",
       "    }\n",
       "\n",
       "    .dataframe tbody tr th {\n",
       "        vertical-align: top;\n",
       "    }\n",
       "\n",
       "    .dataframe thead th {\n",
       "        text-align: right;\n",
       "    }\n",
       "</style>\n",
       "<table border=\"1\" class=\"dataframe\">\n",
       "  <thead>\n",
       "    <tr style=\"text-align: right;\">\n",
       "      <th></th>\n",
       "      <th>0</th>\n",
       "      <th>1</th>\n",
       "      <th>2</th>\n",
       "    </tr>\n",
       "  </thead>\n",
       "  <tbody>\n",
       "    <tr>\n",
       "      <th>overall</th>\n",
       "      <td>4.326087</td>\n",
       "      <td>2.760870</td>\n",
       "      <td>4.521739</td>\n",
       "    </tr>\n",
       "    <tr>\n",
       "      <th>potential</th>\n",
       "      <td>5.500000</td>\n",
       "      <td>6.282609</td>\n",
       "      <td>3.934783</td>\n",
       "    </tr>\n",
       "    <tr>\n",
       "      <th>wage_eur</th>\n",
       "      <td>1.012876</td>\n",
       "      <td>1.005150</td>\n",
       "      <td>1.038627</td>\n",
       "    </tr>\n",
       "    <tr>\n",
       "      <th>value_eur</th>\n",
       "      <td>1.012341</td>\n",
       "      <td>2.391400</td>\n",
       "      <td>1.042497</td>\n",
       "    </tr>\n",
       "    <tr>\n",
       "      <th>age</th>\n",
       "      <td>4.333333</td>\n",
       "      <td>2.666667</td>\n",
       "      <td>5.666667</td>\n",
       "    </tr>\n",
       "  </tbody>\n",
       "</table>\n",
       "</div>"
      ],
      "text/plain": [
       "                  0         1         2\n",
       "overall    4.326087  2.760870  4.521739\n",
       "potential  5.500000  6.282609  3.934783\n",
       "wage_eur   1.012876  1.005150  1.038627\n",
       "value_eur  1.012341  2.391400  1.042497\n",
       "age        4.333333  2.666667  5.666667"
      ]
     },
     "execution_count": 106,
     "metadata": {},
     "output_type": "execute_result"
    }
   ],
   "source": [
    "centroids"
   ]
  },
  {
   "cell_type": "code",
   "execution_count": 107,
   "id": "43a28966",
   "metadata": {},
   "outputs": [],
   "source": [
    "#formula for calculating  distance - from geomentry\n",
    "#Euclidean distance: it is one of the monst common distance measures \n",
    "\n",
    "#d(x1, x2) = square_root_of ((x11-x21)^2 + (x12-x22)^2 + (x13-x23)^2 ...+ (x1n-x2n)^2)\n",
    "\n",
    "#The expression np.sqrt(((data - centroids.iloc[:, 0]) ** 2).sum(axis=1)) \n",
    "#calculates the Euclidean distance between each data point in the dataset (data) \n",
    "# data - centroids.iloc[:, 0]: This subtracts the coordinates of the first centroid #\n",
    "#from each corresponding data point. It computes the differences along each dimension.\n",
    "#\n",
    "def get_labels(data, centroids):\n",
    "    distances = centroids.apply(lambda x: np.sqrt(((data - x) ** 2).sum(axis =1)))\n",
    "    return distances.idxmin(axis=1)"
   ]
  },
  {
   "cell_type": "code",
   "execution_count": 108,
   "id": "339781bc",
   "metadata": {},
   "outputs": [],
   "source": [
    "labels = get_labels(data_cook, centroids)"
   ]
  },
  {
   "cell_type": "code",
   "execution_count": 109,
   "id": "b686e12a",
   "metadata": {},
   "outputs": [
    {
     "data": {
      "text/plain": [
       "0    10302\n",
       "2     5247\n",
       "1     3616\n",
       "Name: count, dtype: int64"
      ]
     },
     "execution_count": 109,
     "metadata": {},
     "output_type": "execute_result"
    }
   ],
   "source": [
    "labels.value_counts()"
   ]
  },
  {
   "cell_type": "code",
   "execution_count": 111,
   "id": "53249874",
   "metadata": {},
   "outputs": [
    {
     "data": {
      "text/html": [
       "<div>\n",
       "<style scoped>\n",
       "    .dataframe tbody tr th:only-of-type {\n",
       "        vertical-align: middle;\n",
       "    }\n",
       "\n",
       "    .dataframe tbody tr th {\n",
       "        vertical-align: top;\n",
       "    }\n",
       "\n",
       "    .dataframe thead th {\n",
       "        text-align: right;\n",
       "    }\n",
       "</style>\n",
       "<table border=\"1\" class=\"dataframe\">\n",
       "  <thead>\n",
       "    <tr style=\"text-align: right;\">\n",
       "      <th></th>\n",
       "      <th>overall</th>\n",
       "      <th>potential</th>\n",
       "      <th>wage_eur</th>\n",
       "      <th>value_eur</th>\n",
       "      <th>age</th>\n",
       "    </tr>\n",
       "  </thead>\n",
       "  <tbody>\n",
       "    <tr>\n",
       "      <th>0</th>\n",
       "      <td>5.057468</td>\n",
       "      <td>5.659078</td>\n",
       "      <td>1.257774</td>\n",
       "      <td>1.169437</td>\n",
       "      <td>3.728797</td>\n",
       "    </tr>\n",
       "    <tr>\n",
       "      <th>1</th>\n",
       "      <td>3.001470</td>\n",
       "      <td>5.372404</td>\n",
       "      <td>1.036871</td>\n",
       "      <td>1.038019</td>\n",
       "      <td>2.030305</td>\n",
       "    </tr>\n",
       "    <tr>\n",
       "      <th>2</th>\n",
       "      <td>4.554301</td>\n",
       "      <td>4.245805</td>\n",
       "      <td>1.102102</td>\n",
       "      <td>1.035001</td>\n",
       "      <td>5.779367</td>\n",
       "    </tr>\n",
       "  </tbody>\n",
       "</table>\n",
       "</div>"
      ],
      "text/plain": [
       "    overall  potential  wage_eur  value_eur       age\n",
       "0  5.057468   5.659078  1.257774   1.169437  3.728797\n",
       "1  3.001470   5.372404  1.036871   1.038019  2.030305\n",
       "2  4.554301   4.245805  1.102102   1.035001  5.779367"
      ]
     },
     "execution_count": 111,
     "metadata": {},
     "output_type": "execute_result"
    }
   ],
   "source": [
    "data_cook.groupby(labels).apply(lambda x: np.exp(np.log(x).mean()))"
   ]
  },
  {
   "cell_type": "code",
   "execution_count": 112,
   "id": "8a54124c",
   "metadata": {},
   "outputs": [
    {
     "data": {
      "text/html": [
       "<div>\n",
       "<style scoped>\n",
       "    .dataframe tbody tr th:only-of-type {\n",
       "        vertical-align: middle;\n",
       "    }\n",
       "\n",
       "    .dataframe tbody tr th {\n",
       "        vertical-align: top;\n",
       "    }\n",
       "\n",
       "    .dataframe thead th {\n",
       "        text-align: right;\n",
       "    }\n",
       "</style>\n",
       "<table border=\"1\" class=\"dataframe\">\n",
       "  <thead>\n",
       "    <tr style=\"text-align: right;\">\n",
       "      <th></th>\n",
       "      <th>0</th>\n",
       "      <th>1</th>\n",
       "      <th>2</th>\n",
       "    </tr>\n",
       "  </thead>\n",
       "  <tbody>\n",
       "    <tr>\n",
       "      <th>overall</th>\n",
       "      <td>5.057468</td>\n",
       "      <td>3.001470</td>\n",
       "      <td>4.554301</td>\n",
       "    </tr>\n",
       "    <tr>\n",
       "      <th>potential</th>\n",
       "      <td>5.659078</td>\n",
       "      <td>5.372404</td>\n",
       "      <td>4.245805</td>\n",
       "    </tr>\n",
       "    <tr>\n",
       "      <th>wage_eur</th>\n",
       "      <td>1.257774</td>\n",
       "      <td>1.036871</td>\n",
       "      <td>1.102102</td>\n",
       "    </tr>\n",
       "    <tr>\n",
       "      <th>value_eur</th>\n",
       "      <td>1.169437</td>\n",
       "      <td>1.038019</td>\n",
       "      <td>1.035001</td>\n",
       "    </tr>\n",
       "    <tr>\n",
       "      <th>age</th>\n",
       "      <td>3.728797</td>\n",
       "      <td>2.030305</td>\n",
       "      <td>5.779367</td>\n",
       "    </tr>\n",
       "  </tbody>\n",
       "</table>\n",
       "</div>"
      ],
      "text/plain": [
       "                  0         1         2\n",
       "overall    5.057468  3.001470  4.554301\n",
       "potential  5.659078  5.372404  4.245805\n",
       "wage_eur   1.257774  1.036871  1.102102\n",
       "value_eur  1.169437  1.038019  1.035001\n",
       "age        3.728797  2.030305  5.779367"
      ]
     },
     "execution_count": 112,
     "metadata": {},
     "output_type": "execute_result"
    }
   ],
   "source": [
    "data_cook.groupby(labels).apply(lambda x: np.exp(np.log(x).mean())).T  #each column is centriod and each row is feature."
   ]
  },
  {
   "cell_type": "code",
   "execution_count": 113,
   "id": "0cef8609",
   "metadata": {},
   "outputs": [],
   "source": [
    "def new_centroids(data, labels, k):\n",
    "    return data.groupby(labels).apply(lambda x : np.exp(np.log(x).mean())).T"
   ]
  },
  {
   "cell_type": "code",
   "execution_count": 114,
   "id": "7fcb14f1",
   "metadata": {},
   "outputs": [
    {
     "data": {
      "text/html": [
       "<div>\n",
       "<style scoped>\n",
       "    .dataframe tbody tr th:only-of-type {\n",
       "        vertical-align: middle;\n",
       "    }\n",
       "\n",
       "    .dataframe tbody tr th {\n",
       "        vertical-align: top;\n",
       "    }\n",
       "\n",
       "    .dataframe thead th {\n",
       "        text-align: right;\n",
       "    }\n",
       "</style>\n",
       "<table border=\"1\" class=\"dataframe\">\n",
       "  <thead>\n",
       "    <tr style=\"text-align: right;\">\n",
       "      <th></th>\n",
       "      <th>overall</th>\n",
       "      <th>potential</th>\n",
       "      <th>wage_eur</th>\n",
       "      <th>value_eur</th>\n",
       "      <th>age</th>\n",
       "    </tr>\n",
       "  </thead>\n",
       "  <tbody>\n",
       "    <tr>\n",
       "      <th>0</th>\n",
       "      <td>4.326087</td>\n",
       "      <td>5.500000</td>\n",
       "      <td>1.012876</td>\n",
       "      <td>1.012341</td>\n",
       "      <td>4.333333</td>\n",
       "    </tr>\n",
       "    <tr>\n",
       "      <th>1</th>\n",
       "      <td>2.760870</td>\n",
       "      <td>6.282609</td>\n",
       "      <td>1.005150</td>\n",
       "      <td>2.391400</td>\n",
       "      <td>2.666667</td>\n",
       "    </tr>\n",
       "    <tr>\n",
       "      <th>2</th>\n",
       "      <td>4.521739</td>\n",
       "      <td>3.934783</td>\n",
       "      <td>1.038627</td>\n",
       "      <td>1.042497</td>\n",
       "      <td>5.666667</td>\n",
       "    </tr>\n",
       "  </tbody>\n",
       "</table>\n",
       "</div>"
      ],
      "text/plain": [
       "    overall  potential  wage_eur  value_eur       age\n",
       "0  4.326087   5.500000  1.012876   1.012341  4.333333\n",
       "1  2.760870   6.282609  1.005150   2.391400  2.666667\n",
       "2  4.521739   3.934783  1.038627   1.042497  5.666667"
      ]
     },
     "execution_count": 114,
     "metadata": {},
     "output_type": "execute_result"
    }
   ],
   "source": [
    "centroids.T"
   ]
  },
  {
   "cell_type": "code",
   "execution_count": 115,
   "id": "576c048d",
   "metadata": {},
   "outputs": [],
   "source": [
    "from sklearn.decomposition import PCA\n",
    "import matplotlib.pyplot as plt\n",
    "from IPython.display import clear_output"
   ]
  },
  {
   "cell_type": "code",
   "execution_count": 116,
   "id": "fe603198",
   "metadata": {},
   "outputs": [],
   "source": [
    "def plot_clusters(data, labels, centroids, iteration):\n",
    "    pca = PCA(n_components=2)\n",
    "    data_2d = pca.fit_transform(data)\n",
    "    centroids_2d = pca.transform(centroids.T)\n",
    "    clear_output(wait=True)\n",
    "    plt.title(f'Iteration {iteration}')  # Added a space for better formatting\n",
    "    plt.scatter(x=data_2d[:, 0], y=data_2d[:, 1], c=labels)\n",
    "    plt.scatter(x=centroids_2d[:, 0], y=centroids_2d[:, 1])  # Corrected variable name\n",
    "    plt.show()"
   ]
  },
  {
   "cell_type": "code",
   "execution_count": 121,
   "id": "2b05c342",
   "metadata": {},
   "outputs": [
    {
     "name": "stderr",
     "output_type": "stream",
     "text": [
      "C:\\Users\\pedam\\AppData\\Local\\Temp\\ipykernel_5256\\1366337903.py:4: FutureWarning: Calling float on a single element Series is deprecated and will raise a TypeError in the future. Use float(ser.iloc[0]) instead\n",
      "  centroid = data.apply(lambda x : float(x.sample()))\n"
     ]
    }
   ],
   "source": [
    "max_iterations=100\n",
    "k = 3\n",
    "centriods = random_centroids(data_cook,k)\n",
    "old_centroids = pd.DataFrame()\n",
    "iteration = 1\n",
    "\n",
    "# while iteration < max_iterations and not centroids.equals(old_centroids):\n",
    "#     old_centroids = centriods\n",
    "    \n",
    "#     labels = get_labels(data_cook, centroids)\n",
    "#     centroids = new_centroids(data_cook, labels, k)\n",
    "#     plot_clusters(data_cook, labels, centroids, iteration)\n",
    "#     iteration += 1\n",
    "\n"
   ]
  },
  {
   "cell_type": "code",
   "execution_count": 122,
   "id": "1edb1f94",
   "metadata": {},
   "outputs": [
    {
     "data": {
      "text/html": [
       "<div>\n",
       "<style scoped>\n",
       "    .dataframe tbody tr th:only-of-type {\n",
       "        vertical-align: middle;\n",
       "    }\n",
       "\n",
       "    .dataframe tbody tr th {\n",
       "        vertical-align: top;\n",
       "    }\n",
       "\n",
       "    .dataframe thead th {\n",
       "        text-align: right;\n",
       "    }\n",
       "</style>\n",
       "<table border=\"1\" class=\"dataframe\">\n",
       "  <thead>\n",
       "    <tr style=\"text-align: right;\">\n",
       "      <th></th>\n",
       "      <th>1</th>\n",
       "    </tr>\n",
       "  </thead>\n",
       "  <tbody>\n",
       "    <tr>\n",
       "      <th>overall</th>\n",
       "      <td>4.453679</td>\n",
       "    </tr>\n",
       "    <tr>\n",
       "      <th>potential</th>\n",
       "      <td>5.179908</td>\n",
       "    </tr>\n",
       "    <tr>\n",
       "      <th>wage_eur</th>\n",
       "      <td>1.169680</td>\n",
       "    </tr>\n",
       "    <tr>\n",
       "      <th>value_eur</th>\n",
       "      <td>1.105830</td>\n",
       "    </tr>\n",
       "    <tr>\n",
       "      <th>age</th>\n",
       "      <td>3.748522</td>\n",
       "    </tr>\n",
       "  </tbody>\n",
       "</table>\n",
       "</div>"
      ],
      "text/plain": [
       "                  1\n",
       "overall    4.453679\n",
       "potential  5.179908\n",
       "wage_eur   1.169680\n",
       "value_eur  1.105830\n",
       "age        3.748522"
      ]
     },
     "execution_count": 122,
     "metadata": {},
     "output_type": "execute_result"
    }
   ],
   "source": [
    "centroids"
   ]
  },
  {
   "cell_type": "code",
   "execution_count": null,
   "id": "3a80381f",
   "metadata": {},
   "outputs": [],
   "source": []
  }
 ],
 "metadata": {
  "kernelspec": {
   "display_name": "Python 3 (ipykernel)",
   "language": "python",
   "name": "python3"
  },
  "language_info": {
   "codemirror_mode": {
    "name": "ipython",
    "version": 3
   },
   "file_extension": ".py",
   "mimetype": "text/x-python",
   "name": "python",
   "nbconvert_exporter": "python",
   "pygments_lexer": "ipython3",
   "version": "3.11.5"
  }
 },
 "nbformat": 4,
 "nbformat_minor": 5
}
