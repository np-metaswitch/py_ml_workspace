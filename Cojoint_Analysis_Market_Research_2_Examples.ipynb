{
 "cells": [
  {
   "cell_type": "code",
   "execution_count": null,
   "id": "4e31c74f",
   "metadata": {},
   "outputs": [],
   "source": [
    "#Performing Co-joint analysis, for the most preferred attributes for the customers\n",
    "\n",
    "'''A tire manufacturing firm wants to undersstand the important attributes of the tire that contribute the sales. \n",
    "The company wants to venture into international markes. \n",
    "Before expansion, the company conducted as survey and the data are given in the following link:\n",
    "\n",
    "https://v8doc.sas.com/sashhtml/stat/chap65/sect45.htm . The attributes are:\n",
    "Brand - Threee bbrands of the tire.\n",
    "Price- Price band\n",
    "Life-Life in terms of kilometers converd\n",
    "Hazard -Potential hazard to the environment(Yes/No)'''\n",
    "\n",
    "\n"
   ]
  },
  {
   "cell_type": "code",
   "execution_count": null,
   "id": "fca400ac",
   "metadata": {},
   "outputs": [],
   "source": [
    "'''Conjoint analysis is a statistical technique used in marketing research to understand how customers \n",
    "make choices and what factors influence their decisions. It helps in determining the relative importance \n",
    "of different attributes and levels in a product or service.Let's consider an example where we want to analyze \n",
    "customer preferences for smartphones based on three attributes: Price, Screen Size, and Battery Life. \n",
    "Each attribute has different levels, and we want to find out the importance of each level.'''"
   ]
  },
  {
   "cell_type": "code",
   "execution_count": null,
   "id": "82a70ad7",
   "metadata": {},
   "outputs": [],
   "source": [
    "import pandas as pd\n",
    "import numpy as np\n",
    "import statsmodels.api as sm\n",
    "from tabulate import tabulate\n",
    "from doepy import build\n",
    "from sklearn.preprocessing import LabelEncoder"
   ]
  },
  {
   "cell_type": "code",
   "execution_count": null,
   "id": "59028a93",
   "metadata": {},
   "outputs": [],
   "source": [
    "# Sample Data\n",
    "data = {\n",
    "    'Price_Rupees': ['15000$', '10000$', '7500$', '10000$', '7500$', '10000$', '15000$', '10000$', '15000$', '7500$', '15000$', '15000$', '10000$', '7500$'],\n",
    "    'Battery_kmAh': ['4000 mAH', '5000 mAH', '5000 mAH', '4000 mAH', '4000 mAH', '5000 mAH', '5000 mAH', '5000 mAH', '4000 mAH', '5000 mAH', '4000 mAH', '5000 mAH', '4000 mAH', '4000 mAH'],\n",
    "    'RAM_gb': ['2GB', '3GB', '4GB', '4GB', '2GB', '2GB', '3GB', '2GB', '3GB', '2GB', '4GB', '4GB', '4GB', '3GB'],\n",
    "    'Storage_gb': ['32 GB', '32 GB', '32 GB', '64 GB', '32 GB', '64 GB', '64 GB', '32 GB', '32 GB', '64 GB', '64 GB', '32 GB', '32 GB', '64 GB'],\n",
    "    'Operating_System': ['Android','Android','Android','Android', 'IOS','IOS','IOS','Android','Android','Android','Android','IOS','IOS','IOS'],\n",
    "    'Camera': ['Two','Two','Two','Two','Two','Two','Two', 'Three', 'Three', 'Three', 'Three', 'Three', 'Three', 'Three']\n",
    "}\n",
    "\n",
    "\n",
    "column_names = data.keys()\n",
    "data_df = pd.DataFrame(data, columns=column_names)\n",
    "\n",
    "print(tabulate(data_df, headers='keys', tablefmt='psql',showindex=False))\n"
   ]
  },
  {
   "cell_type": "code",
   "execution_count": null,
   "id": "d71dad21",
   "metadata": {},
   "outputs": [],
   "source": [
    "# Manual Label Encoding\n",
    "column_names = data.keys()\n",
    "data_df = pd.DataFrame(data, columns=column_names)\n",
    "encoded_data_df = data_df\n",
    "\n",
    "# Manual Price Encoding into separate dataframe\n",
    "price_mapping = {'7500$': 1, '10000$': 2, '15000$': 3}\n",
    "encoded_data_df['Price_Rupees'] = data_df['Price_Rupees'].map(price_mapping)\n",
    "\n",
    "Battery_kmAh_mapping = {'5000 mAH': 1, '4000 mAH': 2}\n",
    "encoded_data_df['Battery_kmAh'] = data_df['Battery_kmAh'].map(Battery_kmAh_mapping)\n",
    "\n",
    "RAM_gb_mapping = {'2GB': 1, '3GB': 2, '4GB': 3}\n",
    "encoded_data_df['RAM_gb'] = data_df['RAM_gb'].map(RAM_gb_mapping)\n",
    "\n",
    "Storage_gb_mapping = {'32 GB': 1, '64 GB': 2}\n",
    "encoded_data_df['Storage_gb'] = data_df['Storage_gb'].map(Storage_gb_mapping)\n",
    "\n",
    "Operating_System_mapping = {'Android': 1, 'IOS': 2}\n",
    "encoded_data_df['Operating_System'] = data_df['Operating_System'].map(Operating_System_mapping)\n",
    "\n",
    "Camera_mapping = {'Two': 1, 'Three': 2}\n",
    "encoded_data_df['Camera'] = data_df['Camera'].map(Camera_mapping)\n",
    "\n",
    "print(tabulate(encoded_data_df, headers='keys', tablefmt='psql', showindex=False))\n",
    "Rating_mapping = {8: 1, 9: 2, 11: 3, 12: 4, 13:5}\n",
    "encoded_data_df['Choice_Card'] = encoded_data_df['Preference'].map(Rating_mapping)\n",
    "print(tabulate(encoded_data_df, headers='keys', tablefmt='psql', showindex=False))\n",
    "\n",
    "encoded_data_df['Preference'] = encoded_data_df.sum(axis=1)\n",
    "print(tabulate(encoded_data_df, headers='keys', tablefmt='psql', showindex=False))"
   ]
  },
  {
   "cell_type": "code",
   "execution_count": null,
   "id": "eaa4a4c6",
   "metadata": {},
   "outputs": [],
   "source": [
    "from doepy import build\n",
    "phonefull = build.full_fact( {\n",
    "    \n",
    "'Price_Rupees': [1, 2, 3],\n",
    "    'Battery_kmAh': [1,2],\n",
    "    'RAM_gb': [1,2,3],\n",
    "    'Storage_gb': [1,2],\n",
    "    'Operating_System': [1,2],\n",
    "    'Camera': [1,2] \n",
    "})\n",
    "\n",
    "phone = build.frac_fact_res( {\n",
    "    \n",
    "'Price_Rupees': [1, 2, 3],\n",
    "    'Battery_kmAh': [1,2],\n",
    "    'RAM_gb': [1,2,3],\n",
    "    'Storage_gb': [1,2],\n",
    "    'Operating_System': [1,2],\n",
    "    'Camera': [1,2] \n",
    "})\n"
   ]
  },
  {
   "cell_type": "code",
   "execution_count": 18,
   "id": "8b77963c",
   "metadata": {},
   "outputs": [
    {
     "name": "stdout",
     "output_type": "stream",
     "text": [
      "Original data types:\n",
      "Price             object\n",
      "Battery_Life      object\n",
      "Camera_Quality    object\n",
      "dtype: object\n",
      "Perfect Predictors: Index([], dtype='object')\n"
     ]
    },
    {
     "ename": "ValueError",
     "evalue": "Pandas data cast to numpy dtype of object. Check input data with np.asarray(data).",
     "output_type": "error",
     "traceback": [
      "\u001b[1;31m---------------------------------------------------------------------------\u001b[0m",
      "\u001b[1;31mValueError\u001b[0m                                Traceback (most recent call last)",
      "Cell \u001b[1;32mIn[18], line 35\u001b[0m\n\u001b[0;32m     33\u001b[0m \u001b[38;5;66;03m# Re-fit the model\u001b[39;00m\n\u001b[0;32m     34\u001b[0m X \u001b[38;5;241m=\u001b[39m sm\u001b[38;5;241m.\u001b[39madd_constant(profiles_numeric)\n\u001b[1;32m---> 35\u001b[0m model \u001b[38;5;241m=\u001b[39m sm\u001b[38;5;241m.\u001b[39mMNLogit(y, X)\n\u001b[0;32m     36\u001b[0m result \u001b[38;5;241m=\u001b[39m model\u001b[38;5;241m.\u001b[39mfit()\n\u001b[0;32m     37\u001b[0m \u001b[38;5;28mprint\u001b[39m(result\u001b[38;5;241m.\u001b[39msummary())\n",
      "File \u001b[1;32m~\\anaconda3\\Lib\\site-packages\\statsmodels\\discrete\\discrete_model.py:2988\u001b[0m, in \u001b[0;36mMNLogit.__init__\u001b[1;34m(self, endog, exog, check_rank, **kwargs)\u001b[0m\n\u001b[0;32m   2987\u001b[0m \u001b[38;5;28;01mdef\u001b[39;00m \u001b[38;5;21m__init__\u001b[39m(\u001b[38;5;28mself\u001b[39m, endog, exog, check_rank\u001b[38;5;241m=\u001b[39m\u001b[38;5;28;01mTrue\u001b[39;00m, \u001b[38;5;241m*\u001b[39m\u001b[38;5;241m*\u001b[39mkwargs):\n\u001b[1;32m-> 2988\u001b[0m     \u001b[38;5;28msuper\u001b[39m()\u001b[38;5;241m.\u001b[39m\u001b[38;5;21m__init__\u001b[39m(endog, exog, check_rank\u001b[38;5;241m=\u001b[39mcheck_rank, \u001b[38;5;241m*\u001b[39m\u001b[38;5;241m*\u001b[39mkwargs)\n\u001b[0;32m   2990\u001b[0m     \u001b[38;5;66;03m# Override cov_names since multivariate model\u001b[39;00m\n\u001b[0;32m   2991\u001b[0m     yname \u001b[38;5;241m=\u001b[39m \u001b[38;5;28mself\u001b[39m\u001b[38;5;241m.\u001b[39mendog_names\n",
      "File \u001b[1;32m~\\anaconda3\\Lib\\site-packages\\statsmodels\\discrete\\discrete_model.py:475\u001b[0m, in \u001b[0;36mBinaryModel.__init__\u001b[1;34m(self, endog, exog, offset, check_rank, **kwargs)\u001b[0m\n\u001b[0;32m    472\u001b[0m \u001b[38;5;28;01mdef\u001b[39;00m \u001b[38;5;21m__init__\u001b[39m(\u001b[38;5;28mself\u001b[39m, endog, exog, offset\u001b[38;5;241m=\u001b[39m\u001b[38;5;28;01mNone\u001b[39;00m, check_rank\u001b[38;5;241m=\u001b[39m\u001b[38;5;28;01mTrue\u001b[39;00m, \u001b[38;5;241m*\u001b[39m\u001b[38;5;241m*\u001b[39mkwargs):\n\u001b[0;32m    473\u001b[0m     \u001b[38;5;66;03m# unconditional check, requires no extra kwargs added by subclasses\u001b[39;00m\n\u001b[0;32m    474\u001b[0m     \u001b[38;5;28mself\u001b[39m\u001b[38;5;241m.\u001b[39m_check_kwargs(kwargs)\n\u001b[1;32m--> 475\u001b[0m     \u001b[38;5;28msuper\u001b[39m()\u001b[38;5;241m.\u001b[39m\u001b[38;5;21m__init__\u001b[39m(endog, exog, offset\u001b[38;5;241m=\u001b[39moffset, check_rank\u001b[38;5;241m=\u001b[39mcheck_rank,\n\u001b[0;32m    476\u001b[0m                      \u001b[38;5;241m*\u001b[39m\u001b[38;5;241m*\u001b[39mkwargs)\n\u001b[0;32m    477\u001b[0m     \u001b[38;5;28;01mif\u001b[39;00m \u001b[38;5;129;01mnot\u001b[39;00m \u001b[38;5;28missubclass\u001b[39m(\u001b[38;5;28mself\u001b[39m\u001b[38;5;241m.\u001b[39m\u001b[38;5;18m__class__\u001b[39m, MultinomialModel):\n\u001b[0;32m    478\u001b[0m         \u001b[38;5;28;01mif\u001b[39;00m \u001b[38;5;129;01mnot\u001b[39;00m np\u001b[38;5;241m.\u001b[39mall((\u001b[38;5;28mself\u001b[39m\u001b[38;5;241m.\u001b[39mendog \u001b[38;5;241m>\u001b[39m\u001b[38;5;241m=\u001b[39m \u001b[38;5;241m0\u001b[39m) \u001b[38;5;241m&\u001b[39m (\u001b[38;5;28mself\u001b[39m\u001b[38;5;241m.\u001b[39mendog \u001b[38;5;241m<\u001b[39m\u001b[38;5;241m=\u001b[39m \u001b[38;5;241m1\u001b[39m)):\n",
      "File \u001b[1;32m~\\anaconda3\\Lib\\site-packages\\statsmodels\\discrete\\discrete_model.py:185\u001b[0m, in \u001b[0;36mDiscreteModel.__init__\u001b[1;34m(self, endog, exog, check_rank, **kwargs)\u001b[0m\n\u001b[0;32m    183\u001b[0m \u001b[38;5;28;01mdef\u001b[39;00m \u001b[38;5;21m__init__\u001b[39m(\u001b[38;5;28mself\u001b[39m, endog, exog, check_rank\u001b[38;5;241m=\u001b[39m\u001b[38;5;28;01mTrue\u001b[39;00m, \u001b[38;5;241m*\u001b[39m\u001b[38;5;241m*\u001b[39mkwargs):\n\u001b[0;32m    184\u001b[0m     \u001b[38;5;28mself\u001b[39m\u001b[38;5;241m.\u001b[39m_check_rank \u001b[38;5;241m=\u001b[39m check_rank\n\u001b[1;32m--> 185\u001b[0m     \u001b[38;5;28msuper\u001b[39m()\u001b[38;5;241m.\u001b[39m\u001b[38;5;21m__init__\u001b[39m(endog, exog, \u001b[38;5;241m*\u001b[39m\u001b[38;5;241m*\u001b[39mkwargs)\n\u001b[0;32m    186\u001b[0m     \u001b[38;5;28mself\u001b[39m\u001b[38;5;241m.\u001b[39mraise_on_perfect_prediction \u001b[38;5;241m=\u001b[39m \u001b[38;5;28;01mFalse\u001b[39;00m  \u001b[38;5;66;03m# keep for backwards compat\u001b[39;00m\n\u001b[0;32m    187\u001b[0m     \u001b[38;5;28mself\u001b[39m\u001b[38;5;241m.\u001b[39mk_extra \u001b[38;5;241m=\u001b[39m \u001b[38;5;241m0\u001b[39m\n",
      "File \u001b[1;32m~\\anaconda3\\Lib\\site-packages\\statsmodels\\base\\model.py:270\u001b[0m, in \u001b[0;36mLikelihoodModel.__init__\u001b[1;34m(self, endog, exog, **kwargs)\u001b[0m\n\u001b[0;32m    269\u001b[0m \u001b[38;5;28;01mdef\u001b[39;00m \u001b[38;5;21m__init__\u001b[39m(\u001b[38;5;28mself\u001b[39m, endog, exog\u001b[38;5;241m=\u001b[39m\u001b[38;5;28;01mNone\u001b[39;00m, \u001b[38;5;241m*\u001b[39m\u001b[38;5;241m*\u001b[39mkwargs):\n\u001b[1;32m--> 270\u001b[0m     \u001b[38;5;28msuper\u001b[39m()\u001b[38;5;241m.\u001b[39m\u001b[38;5;21m__init__\u001b[39m(endog, exog, \u001b[38;5;241m*\u001b[39m\u001b[38;5;241m*\u001b[39mkwargs)\n\u001b[0;32m    271\u001b[0m     \u001b[38;5;28mself\u001b[39m\u001b[38;5;241m.\u001b[39minitialize()\n",
      "File \u001b[1;32m~\\anaconda3\\Lib\\site-packages\\statsmodels\\base\\model.py:95\u001b[0m, in \u001b[0;36mModel.__init__\u001b[1;34m(self, endog, exog, **kwargs)\u001b[0m\n\u001b[0;32m     93\u001b[0m missing \u001b[38;5;241m=\u001b[39m kwargs\u001b[38;5;241m.\u001b[39mpop(\u001b[38;5;124m'\u001b[39m\u001b[38;5;124mmissing\u001b[39m\u001b[38;5;124m'\u001b[39m, \u001b[38;5;124m'\u001b[39m\u001b[38;5;124mnone\u001b[39m\u001b[38;5;124m'\u001b[39m)\n\u001b[0;32m     94\u001b[0m hasconst \u001b[38;5;241m=\u001b[39m kwargs\u001b[38;5;241m.\u001b[39mpop(\u001b[38;5;124m'\u001b[39m\u001b[38;5;124mhasconst\u001b[39m\u001b[38;5;124m'\u001b[39m, \u001b[38;5;28;01mNone\u001b[39;00m)\n\u001b[1;32m---> 95\u001b[0m \u001b[38;5;28mself\u001b[39m\u001b[38;5;241m.\u001b[39mdata \u001b[38;5;241m=\u001b[39m \u001b[38;5;28mself\u001b[39m\u001b[38;5;241m.\u001b[39m_handle_data(endog, exog, missing, hasconst,\n\u001b[0;32m     96\u001b[0m                               \u001b[38;5;241m*\u001b[39m\u001b[38;5;241m*\u001b[39mkwargs)\n\u001b[0;32m     97\u001b[0m \u001b[38;5;28mself\u001b[39m\u001b[38;5;241m.\u001b[39mk_constant \u001b[38;5;241m=\u001b[39m \u001b[38;5;28mself\u001b[39m\u001b[38;5;241m.\u001b[39mdata\u001b[38;5;241m.\u001b[39mk_constant\n\u001b[0;32m     98\u001b[0m \u001b[38;5;28mself\u001b[39m\u001b[38;5;241m.\u001b[39mexog \u001b[38;5;241m=\u001b[39m \u001b[38;5;28mself\u001b[39m\u001b[38;5;241m.\u001b[39mdata\u001b[38;5;241m.\u001b[39mexog\n",
      "File \u001b[1;32m~\\anaconda3\\Lib\\site-packages\\statsmodels\\discrete\\discrete_model.py:707\u001b[0m, in \u001b[0;36mMultinomialModel._handle_data\u001b[1;34m(self, endog, exog, missing, hasconst, **kwargs)\u001b[0m\n\u001b[0;32m    704\u001b[0m     ynames \u001b[38;5;241m=\u001b[39m \u001b[38;5;28mdict\u001b[39m(\u001b[38;5;28mzip\u001b[39m(\u001b[38;5;28mrange\u001b[39m(endog_dummies\u001b[38;5;241m.\u001b[39mshape[\u001b[38;5;241m1\u001b[39m]), ynames))\n\u001b[0;32m    706\u001b[0m \u001b[38;5;28mself\u001b[39m\u001b[38;5;241m.\u001b[39m_ynames_map \u001b[38;5;241m=\u001b[39m ynames\n\u001b[1;32m--> 707\u001b[0m data \u001b[38;5;241m=\u001b[39m handle_data(endog_dummies, exog, missing, hasconst, \u001b[38;5;241m*\u001b[39m\u001b[38;5;241m*\u001b[39mkwargs)\n\u001b[0;32m    708\u001b[0m data\u001b[38;5;241m.\u001b[39mynames \u001b[38;5;241m=\u001b[39m yname  \u001b[38;5;66;03m# overwrite this to single endog name\u001b[39;00m\n\u001b[0;32m    709\u001b[0m data\u001b[38;5;241m.\u001b[39morig_endog \u001b[38;5;241m=\u001b[39m endog\n",
      "File \u001b[1;32m~\\anaconda3\\Lib\\site-packages\\statsmodels\\base\\data.py:675\u001b[0m, in \u001b[0;36mhandle_data\u001b[1;34m(endog, exog, missing, hasconst, **kwargs)\u001b[0m\n\u001b[0;32m    672\u001b[0m     exog \u001b[38;5;241m=\u001b[39m np\u001b[38;5;241m.\u001b[39masarray(exog)\n\u001b[0;32m    674\u001b[0m klass \u001b[38;5;241m=\u001b[39m handle_data_class_factory(endog, exog)\n\u001b[1;32m--> 675\u001b[0m \u001b[38;5;28;01mreturn\u001b[39;00m klass(endog, exog\u001b[38;5;241m=\u001b[39mexog, missing\u001b[38;5;241m=\u001b[39mmissing, hasconst\u001b[38;5;241m=\u001b[39mhasconst,\n\u001b[0;32m    676\u001b[0m              \u001b[38;5;241m*\u001b[39m\u001b[38;5;241m*\u001b[39mkwargs)\n",
      "File \u001b[1;32m~\\anaconda3\\Lib\\site-packages\\statsmodels\\base\\data.py:84\u001b[0m, in \u001b[0;36mModelData.__init__\u001b[1;34m(self, endog, exog, missing, hasconst, **kwargs)\u001b[0m\n\u001b[0;32m     82\u001b[0m     \u001b[38;5;28mself\u001b[39m\u001b[38;5;241m.\u001b[39morig_endog \u001b[38;5;241m=\u001b[39m endog\n\u001b[0;32m     83\u001b[0m     \u001b[38;5;28mself\u001b[39m\u001b[38;5;241m.\u001b[39morig_exog \u001b[38;5;241m=\u001b[39m exog\n\u001b[1;32m---> 84\u001b[0m     \u001b[38;5;28mself\u001b[39m\u001b[38;5;241m.\u001b[39mendog, \u001b[38;5;28mself\u001b[39m\u001b[38;5;241m.\u001b[39mexog \u001b[38;5;241m=\u001b[39m \u001b[38;5;28mself\u001b[39m\u001b[38;5;241m.\u001b[39m_convert_endog_exog(endog, exog)\n\u001b[0;32m     86\u001b[0m \u001b[38;5;28mself\u001b[39m\u001b[38;5;241m.\u001b[39mconst_idx \u001b[38;5;241m=\u001b[39m \u001b[38;5;28;01mNone\u001b[39;00m\n\u001b[0;32m     87\u001b[0m \u001b[38;5;28mself\u001b[39m\u001b[38;5;241m.\u001b[39mk_constant \u001b[38;5;241m=\u001b[39m \u001b[38;5;241m0\u001b[39m\n",
      "File \u001b[1;32m~\\anaconda3\\Lib\\site-packages\\statsmodels\\base\\data.py:509\u001b[0m, in \u001b[0;36mPandasData._convert_endog_exog\u001b[1;34m(self, endog, exog)\u001b[0m\n\u001b[0;32m    507\u001b[0m exog \u001b[38;5;241m=\u001b[39m exog \u001b[38;5;28;01mif\u001b[39;00m exog \u001b[38;5;129;01mis\u001b[39;00m \u001b[38;5;28;01mNone\u001b[39;00m \u001b[38;5;28;01melse\u001b[39;00m np\u001b[38;5;241m.\u001b[39masarray(exog)\n\u001b[0;32m    508\u001b[0m \u001b[38;5;28;01mif\u001b[39;00m endog\u001b[38;5;241m.\u001b[39mdtype \u001b[38;5;241m==\u001b[39m \u001b[38;5;28mobject\u001b[39m \u001b[38;5;129;01mor\u001b[39;00m exog \u001b[38;5;129;01mis\u001b[39;00m \u001b[38;5;129;01mnot\u001b[39;00m \u001b[38;5;28;01mNone\u001b[39;00m \u001b[38;5;129;01mand\u001b[39;00m exog\u001b[38;5;241m.\u001b[39mdtype \u001b[38;5;241m==\u001b[39m \u001b[38;5;28mobject\u001b[39m:\n\u001b[1;32m--> 509\u001b[0m     \u001b[38;5;28;01mraise\u001b[39;00m \u001b[38;5;167;01mValueError\u001b[39;00m(\u001b[38;5;124m\"\u001b[39m\u001b[38;5;124mPandas data cast to numpy dtype of object. \u001b[39m\u001b[38;5;124m\"\u001b[39m\n\u001b[0;32m    510\u001b[0m                      \u001b[38;5;124m\"\u001b[39m\u001b[38;5;124mCheck input data with np.asarray(data).\u001b[39m\u001b[38;5;124m\"\u001b[39m)\n\u001b[0;32m    511\u001b[0m \u001b[38;5;28;01mreturn\u001b[39;00m \u001b[38;5;28msuper\u001b[39m(PandasData, \u001b[38;5;28mself\u001b[39m)\u001b[38;5;241m.\u001b[39m_convert_endog_exog(endog, exog)\n",
      "\u001b[1;31mValueError\u001b[0m: Pandas data cast to numpy dtype of object. Check input data with np.asarray(data)."
     ]
    }
   ],
   "source": [
    "import pandas as pd\n",
    "import statsmodels.api as sm\n",
    "import itertools\n",
    "\n",
    "# Define the attributes and levels\n",
    "attributes = {\n",
    "    'Price': ['$500', '$700', '$900'],\n",
    "    'Battery_Life': ['12 hours', '18 hours'],\n",
    "    'Camera_Quality': ['12 MP', '20 MP']\n",
    "}\n",
    "\n",
    "# Generate profiles\n",
    "profiles = pd.DataFrame(list(itertools.product(*attributes.values())), columns=attributes.keys())\n",
    "\n",
    "print(\"Original data types:\")\n",
    "print(profiles.dtypes)\n",
    "\n",
    "# Simulate survey responses (you would replace this with your actual survey data)\n",
    "survey_data = [\n",
    "    {'Price': '$500', 'Battery_Life': '12 hours', 'Camera_Quality': '12 MP', 'Choice': 1},\n",
    "    {'Price': '$700', 'Battery_Life': '18 hours', 'Camera_Quality': '20 MP', 'Choice': 2},\n",
    "    {'Price': '$900', 'Battery_Life': '12 hours', 'Camera_Quality': '20 MP', 'Choice': 3},\n",
    "    # Add more survey responses as needed\n",
    "]\n",
    "\n",
    "# Check for perfect predictors\n",
    "perfect_predictors = profiles_numeric.columns[profiles_numeric.var() == 0]\n",
    "print(\"Perfect Predictors:\", perfect_predictors)\n",
    "\n",
    "# Drop perfect predictors if any\n",
    "profiles_numeric = profiles_numeric.drop(columns=perfect_predictors)\n",
    "\n",
    "# Re-fit the model\n",
    "X = sm.add_constant(profiles_numeric)\n",
    "model = sm.MNLogit(y, X)\n",
    "result = model.fit()\n",
    "print(result.summary())\n",
    "\n",
    "\n"
   ]
  },
  {
   "cell_type": "code",
   "execution_count": null,
   "id": "3fe6fd13",
   "metadata": {},
   "outputs": [],
   "source": []
  }
 ],
 "metadata": {
  "kernelspec": {
   "display_name": "Python 3 (ipykernel)",
   "language": "python",
   "name": "python3"
  },
  "language_info": {
   "codemirror_mode": {
    "name": "ipython",
    "version": 3
   },
   "file_extension": ".py",
   "mimetype": "text/x-python",
   "name": "python",
   "nbconvert_exporter": "python",
   "pygments_lexer": "ipython3",
   "version": "3.11.5"
  }
 },
 "nbformat": 4,
 "nbformat_minor": 5
}
